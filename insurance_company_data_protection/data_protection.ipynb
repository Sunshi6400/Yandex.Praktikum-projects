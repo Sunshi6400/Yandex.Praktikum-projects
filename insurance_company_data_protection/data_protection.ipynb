{
 "cells": [
  {
   "cell_type": "markdown",
   "metadata": {},
   "source": [
    "# Разработка алгоритма преобразования данных страховой компании\n",
    "\n",
    "Цель проекта:\n",
    "\n",
    "> Разработать алгоритм преобразования исходных данных, позволяющий, ограничить непосредственный доступ \"сторонних лиц\" к информации, а также сохранить качество моделей машинного обучения. "
   ]
  },
  {
   "cell_type": "markdown",
   "metadata": {},
   "source": [
    "Звучит крайне увлекательно, хоть, на первый взгляд, и совершенно не понятно. Особенно в области \"защиты\" данных посредством преобразований. \n",
    "\n",
    "Так или иначе - приступим. Заведем отдельную строку для импорта библиотек и посмотрим на имеющиеся у нас данные."
   ]
  },
  {
   "cell_type": "markdown",
   "metadata": {},
   "source": [
    "### Импорт библиотек"
   ]
  },
  {
   "cell_type": "code",
   "execution_count": 1,
   "metadata": {},
   "outputs": [],
   "source": [
    "import pandas as pd\n",
    "import numpy as np\n",
    "import random\n",
    "from random import randint\n",
    "\n",
    "import matplotlib.pyplot as plt\n",
    "\n",
    "from sklearn.linear_model import LinearRegression\n",
    "\n",
    "from sklearn.metrics import mean_squared_error,r2_score\n",
    "\n",
    "from sklearn.model_selection import cross_val_predict"
   ]
  },
  {
   "cell_type": "markdown",
   "metadata": {},
   "source": [
    "## 1. Загрузка данных"
   ]
  },
  {
   "cell_type": "code",
   "execution_count": 2,
   "metadata": {},
   "outputs": [
    {
     "data": {
      "text/html": [
       "<div>\n",
       "<style scoped>\n",
       "    .dataframe tbody tr th:only-of-type {\n",
       "        vertical-align: middle;\n",
       "    }\n",
       "\n",
       "    .dataframe tbody tr th {\n",
       "        vertical-align: top;\n",
       "    }\n",
       "\n",
       "    .dataframe thead th {\n",
       "        text-align: right;\n",
       "    }\n",
       "</style>\n",
       "<table border=\"1\" class=\"dataframe\">\n",
       "  <thead>\n",
       "    <tr style=\"text-align: right;\">\n",
       "      <th></th>\n",
       "      <th>Пол</th>\n",
       "      <th>Возраст</th>\n",
       "      <th>Зарплата</th>\n",
       "      <th>Члены семьи</th>\n",
       "      <th>Страховые выплаты</th>\n",
       "    </tr>\n",
       "  </thead>\n",
       "  <tbody>\n",
       "    <tr>\n",
       "      <td>0</td>\n",
       "      <td>1</td>\n",
       "      <td>41.0</td>\n",
       "      <td>49600.0</td>\n",
       "      <td>1</td>\n",
       "      <td>0</td>\n",
       "    </tr>\n",
       "    <tr>\n",
       "      <td>1</td>\n",
       "      <td>0</td>\n",
       "      <td>46.0</td>\n",
       "      <td>38000.0</td>\n",
       "      <td>1</td>\n",
       "      <td>1</td>\n",
       "    </tr>\n",
       "    <tr>\n",
       "      <td>2</td>\n",
       "      <td>0</td>\n",
       "      <td>29.0</td>\n",
       "      <td>21000.0</td>\n",
       "      <td>0</td>\n",
       "      <td>0</td>\n",
       "    </tr>\n",
       "    <tr>\n",
       "      <td>3</td>\n",
       "      <td>0</td>\n",
       "      <td>21.0</td>\n",
       "      <td>41700.0</td>\n",
       "      <td>2</td>\n",
       "      <td>0</td>\n",
       "    </tr>\n",
       "    <tr>\n",
       "      <td>4</td>\n",
       "      <td>1</td>\n",
       "      <td>28.0</td>\n",
       "      <td>26100.0</td>\n",
       "      <td>0</td>\n",
       "      <td>0</td>\n",
       "    </tr>\n",
       "  </tbody>\n",
       "</table>\n",
       "</div>"
      ],
      "text/plain": [
       "   Пол  Возраст  Зарплата  Члены семьи  Страховые выплаты\n",
       "0    1     41.0   49600.0            1                  0\n",
       "1    0     46.0   38000.0            1                  1\n",
       "2    0     29.0   21000.0            0                  0\n",
       "3    0     21.0   41700.0            2                  0\n",
       "4    1     28.0   26100.0            0                  0"
      ]
     },
     "execution_count": 2,
     "metadata": {},
     "output_type": "execute_result"
    }
   ],
   "source": [
    "ins_data = pd.read_csv(\"/datasets/insurance.csv\")\n",
    "ins_data.head()"
   ]
  },
  {
   "cell_type": "code",
   "execution_count": 3,
   "metadata": {},
   "outputs": [
    {
     "name": "stdout",
     "output_type": "stream",
     "text": [
      "<class 'pandas.core.frame.DataFrame'>\n",
      "RangeIndex: 5000 entries, 0 to 4999\n",
      "Data columns (total 5 columns):\n",
      "Пол                  5000 non-null int64\n",
      "Возраст              5000 non-null float64\n",
      "Зарплата             5000 non-null float64\n",
      "Члены семьи          5000 non-null int64\n",
      "Страховые выплаты    5000 non-null int64\n",
      "dtypes: float64(2), int64(3)\n",
      "memory usage: 195.4 KB\n"
     ]
    }
   ],
   "source": [
    "ins_data.info()"
   ]
  },
  {
   "cell_type": "markdown",
   "metadata": {},
   "source": [
    "4 входных признака:\n",
    "- пол (0, 1)\n",
    "- возраст \n",
    "- зарплата\n",
    "- число членов семьи (от 0 и выше)\n",
    "\n",
    "Целевой признак:\n",
    "- количество страховых выплат за последние 5 лет (обращений или выплат?)"
   ]
  },
  {
   "cell_type": "markdown",
   "metadata": {},
   "source": [
    "### Анализ исходных данных\n",
    "\n",
    "В первую очередь, нам необходимо определить характер решаемой задачи - это задача регрессии или классификации. С точки зрения исходных данных (распределения значений признаков приведены на гистограммах, расположенных ниже), безусловно, нам следует решать рассматриваемую задачу как задачу регрессии - т.к. целевой признак (пусть и дискретный) принимает целых 6 различных вариантов значений обращения за страховыми выплатами - от 0 до 5 с шагом 1. \n",
    "\n",
    "Теоретически, мы можем превратить эту задачу в задачу классификации - разделить объекты на 2 группы по целевому признаку - обращался за выплатой (там будут 0) и не обращался за выплатой (там будут значения 1-5). Однако, раз задачи \"оптимизации\" модели и всего проекта в целом не стоит, обратимся к алгоритмам регрессии. "
   ]
  },
  {
   "cell_type": "code",
   "execution_count": 4,
   "metadata": {
    "scrolled": false
   },
   "outputs": [
    {
     "data": {
      "image/png": "[encoded data removed]",
      "text/plain": [
       "<Figure size 576x288 with 1 Axes>"
      ]
     },
     "metadata": {
      "needs_background": "light"
     },
     "output_type": "display_data"
    },
    {
     "data": {
      "image/png": "[encoded data removed]",
      "text/plain": [
       "<Figure size 576x288 with 1 Axes>"
      ]
     },
     "metadata": {
      "needs_background": "light"
     },
     "output_type": "display_data"
    },
    {
     "data": {
      "image/png": "[encoded data removed]",
      "text/plain": [
       "<Figure size 576x288 with 1 Axes>"
      ]
     },
     "metadata": {
      "needs_background": "light"
     },
     "output_type": "display_data"
    },
    {
     "data": {
      "image/png": "[encoded data removed]",
      "text/plain": [
       "<Figure size 576x288 with 1 Axes>"
      ]
     },
     "metadata": {
      "needs_background": "light"
     },
     "output_type": "display_data"
    },
    {
     "data": {
      "image/png": "[encoded data removed]",
      "text/plain": [
       "<Figure size 576x288 with 1 Axes>"
      ]
     },
     "metadata": {
      "needs_background": "light"
     },
     "output_type": "display_data"
    }
   ],
   "source": [
    "for column in ins_data.columns:\n",
    "    plt.figure(figsize = (8,4))\n",
    "    plt.hist(ins_data[column])\n",
    "    plt.title(column, fontsize = 16)\n",
    "    plt.show()"
   ]
  },
  {
   "cell_type": "markdown",
   "metadata": {},
   "source": [
    "Один из важных критериев \"корректной\" предобработки данных заключается в необходимости СОХРАНЕНИЯ характера распределения значений \"предобрабатываемых\" признаков - полагаю, что этой логикой мы можем воспользоваться и в нашем случае. \n",
    "\n",
    "Пробежавшись \"по верхам\" по возможным способам защиты данных и основным критериям, предъявляемым к методам защиты, я сформулировал следующие требования к реализуемому алгоритму:\n",
    "\n",
    "1) Для кодирования мы будем использовать метод шифрования с помощью ключа. Соответственно, для расшифровки данных нам потребуется ключ, который будет каждый раз генерироваться случайным образом - для предотвращения его возможной компрометации; \n",
    "\n",
    "2) сложность шифрования должна быть таковой, чтобы единственным способом \"наверняка\" получить доступ к информации, был перебор по всем имеющимся значениям, причем реализация данного способа не должна быть технически ВОЗМОЖНА с учетом существующих вычислительных мощностей (и т.д.). Обобщая - вариантов ВОЗМОЖНОГО ключа должно быть БОЛЬШЕ, чем можно будет БЫСТРО вычислить (подобрать) на существующем \"железе\";\n",
    "\n",
    "3) Объем закодированных данных не должен существенно отличаться от объема ИСХОДНЫХ данных. В нашем случае, более того, число объектов и ФОРМА датасета у закодированных и исходных данных должна совпадать (4 столбца-признака, 5000 строк). "
   ]
  },
  {
   "cell_type": "markdown",
   "metadata": {},
   "source": [
    "Тем не менее, пока по-прежнему мало что понятно. Но и это мы исправим! Вперёд!"
   ]
  },
  {
   "cell_type": "markdown",
   "metadata": {},
   "source": [
    "## 2. Умножение матриц"
   ]
  },
  {
   "cell_type": "markdown",
   "metadata": {},
   "source": [
    "А пока займемся умножением матриц в соответствии с заданием.\n",
    "\n",
    "Нам необходимо умножить матрицу признаков на обратимую матрицу и узнать, изменятся ли показатели качества модели линейной регрессии. Как говорил мой дед - \"Я твой дед\". Если не можешь ответить на вопрос - экспериментируй. \n",
    "\n",
    "НАЙДЕМ ответ на поставленный вопрос. План действий следующий:\n",
    "- получить обратимую матрицу (какую-нибудь) соответствующего размера. Соответствующий размер - такой, чтобы после умножения матрицу на матрицу, получить матрицу \"преобразованных\" признаков того же размера, что и исходная (5000 на 4). \n",
    "\n",
    "$$ (a × c) @ (c × b) = (a × b) $$\n",
    "\n",
    "- А учитывая тот факт, что размеры матрицы-произведения должны совпадать с размерами матрицы признаков (5000 × 4), очевидно, что $b = c = 4$. Искомая обратимая матрица будет размерами 4 × 4. Обратимая матрица - всегда квадратная (!)\n",
    "\n",
    "> Проверку обратимости матрицы выполним с помощью np.linalg.inv()\n",
    "\n",
    "Разделим датасет на \"фичи\" и целевой признак."
   ]
  },
  {
   "cell_type": "code",
   "execution_count": 5,
   "metadata": {
    "scrolled": true
   },
   "outputs": [
    {
     "data": {
      "text/plain": [
       "(5000, 4)"
      ]
     },
     "execution_count": 5,
     "metadata": {},
     "output_type": "execute_result"
    }
   ],
   "source": [
    "features = ins_data.drop(['Страховые выплаты'], axis = 1)\n",
    "target = ins_data['Страховые выплаты']\n",
    "features.shape"
   ]
  },
  {
   "cell_type": "markdown",
   "metadata": {},
   "source": [
    "Сгенерируем матрицу и проверим её на обратимость."
   ]
  },
  {
   "cell_type": "code",
   "execution_count": 6,
   "metadata": {
    "scrolled": true
   },
   "outputs": [
    {
     "name": "stdout",
     "output_type": "stream",
     "text": [
      "Обратимая матрица получена\n",
      "[[1, 9, 4, 4], [3, 4, 4, 6], [2, 1, 1, 2], [8, 7, 5, 7]]\n"
     ]
    }
   ],
   "source": [
    "n = len(features.columns)\n",
    "\n",
    "matrix = [[random.randint(0, 9) for r in range(n)] for s in range(n)]\n",
    "\n",
    "try:\n",
    "    matrix_inv = np.linalg.inv(matrix)\n",
    "    print(\"Обратимая матрица получена\")\n",
    "    print(matrix)\n",
    "except LinAlgError:\n",
    "    print(\"Сгенерирована НЕобратимая матрица. Запустите генератор-матриц ещё раз.\")"
   ]
  },
  {
   "cell_type": "code",
   "execution_count": 7,
   "metadata": {},
   "outputs": [],
   "source": [
    "matrix_mult = matrix"
   ]
  },
  {
   "cell_type": "markdown",
   "metadata": {},
   "source": [
    "Качество модели будем сверять на основании показателя MSE.\n",
    "\n",
    "Но в первую очередь, нам необходимо её подготовить, обучить и с помощью \"cross_val_predict\" получить значения предсказаний для всего датасета в целом - вместо того, чтобы самостоятельно дробить его на части и много раз \"обучать - предсказывать\". Для ускорения работы нашел в документации параметр \"n_jobs\", который позволяет использовать более одного процессора для расчетов (1 - один процессор, -1 - все процессоры)."
   ]
  },
  {
   "cell_type": "code",
   "execution_count": 8,
   "metadata": {},
   "outputs": [],
   "source": [
    "model = LinearRegression()\n",
    "predictions = cross_val_predict(model, features, target, cv = 5, n_jobs = -1)"
   ]
  },
  {
   "cell_type": "code",
   "execution_count": 9,
   "metadata": {},
   "outputs": [
    {
     "data": {
      "text/plain": [
       "0.12357754506264323"
      ]
     },
     "execution_count": 9,
     "metadata": {},
     "output_type": "execute_result"
    }
   ],
   "source": [
    "MSE = mean_squared_error(target, predictions)\n",
    "MSE"
   ]
  },
  {
   "cell_type": "markdown",
   "metadata": {},
   "source": [
    "Значение MSE для признаков без изменения получили - теперь преобразуем признаки с помощью \"домножения\" на обратимую матрицу и посмотрим на значение MSE после этого."
   ]
  },
  {
   "cell_type": "code",
   "execution_count": 10,
   "metadata": {},
   "outputs": [
    {
     "data": {
      "text/plain": [
       "array([[1.00e+00, 4.10e+01, 4.96e+04, 1.00e+00],\n",
       "       [0.00e+00, 4.60e+01, 3.80e+04, 1.00e+00],\n",
       "       [0.00e+00, 2.90e+01, 2.10e+04, 0.00e+00],\n",
       "       ...,\n",
       "       [0.00e+00, 2.00e+01, 3.39e+04, 2.00e+00],\n",
       "       [1.00e+00, 2.20e+01, 3.27e+04, 3.00e+00],\n",
       "       [1.00e+00, 2.80e+01, 4.06e+04, 1.00e+00]])"
      ]
     },
     "execution_count": 10,
     "metadata": {},
     "output_type": "execute_result"
    }
   ],
   "source": [
    "features_np = np.array(features)\n",
    "features_np"
   ]
  },
  {
   "cell_type": "code",
   "execution_count": 11,
   "metadata": {},
   "outputs": [
    {
     "data": {
      "text/plain": [
       "array([[99332., 49780., 49773., 99457.],\n",
       "       [76146., 38191., 38189., 76283.],\n",
       "       [42087., 21116., 21116., 42174.],\n",
       "       ...,\n",
       "       [67876., 33994., 33990., 67934.],\n",
       "       [65491., 32818., 32807., 65557.],\n",
       "       [81293., 40728., 40721., 81379.]])"
      ]
     },
     "execution_count": 11,
     "metadata": {},
     "output_type": "execute_result"
    }
   ],
   "source": [
    "features_transf_np = features_np.dot(matrix_mult)\n",
    "features_transf_np"
   ]
  },
  {
   "cell_type": "markdown",
   "metadata": {},
   "source": [
    "Посмотрим на распределения признаков после перемноженяия (для личного интереса)."
   ]
  },
  {
   "cell_type": "code",
   "execution_count": 12,
   "metadata": {},
   "outputs": [
    {
     "data": {
      "image/png": "[encoded data removed]",
      "text/plain": [
       "<Figure size 576x288 with 1 Axes>"
      ]
     },
     "metadata": {
      "needs_background": "light"
     },
     "output_type": "display_data"
    },
    {
     "data": {
      "image/png": "[encoded data removed]",
      "text/plain": [
       "<Figure size 576x288 with 1 Axes>"
      ]
     },
     "metadata": {
      "needs_background": "light"
     },
     "output_type": "display_data"
    },
    {
     "data": {
      "image/png": "[encoded data removed]",
      "text/plain": [
       "<Figure size 576x288 with 1 Axes>"
      ]
     },
     "metadata": {
      "needs_background": "light"
     },
     "output_type": "display_data"
    },
    {
     "data": {
      "image/png": "[encoded data removed]",
      "text/plain": [
       "<Figure size 576x288 with 1 Axes>"
      ]
     },
     "metadata": {
      "needs_background": "light"
     },
     "output_type": "display_data"
    },
    {
     "data": {
      "text/html": [
       "<div>\n",
       "<style scoped>\n",
       "    .dataframe tbody tr th:only-of-type {\n",
       "        vertical-align: middle;\n",
       "    }\n",
       "\n",
       "    .dataframe tbody tr th {\n",
       "        vertical-align: top;\n",
       "    }\n",
       "\n",
       "    .dataframe thead th {\n",
       "        text-align: right;\n",
       "    }\n",
       "</style>\n",
       "<table border=\"1\" class=\"dataframe\">\n",
       "  <thead>\n",
       "    <tr style=\"text-align: right;\">\n",
       "      <th></th>\n",
       "      <th>Пол</th>\n",
       "      <th>Возраст</th>\n",
       "      <th>Зарплата</th>\n",
       "      <th>Члены семьи</th>\n",
       "    </tr>\n",
       "  </thead>\n",
       "  <tbody>\n",
       "    <tr>\n",
       "      <td>0</td>\n",
       "      <td>99332.0</td>\n",
       "      <td>49780.0</td>\n",
       "      <td>49773.0</td>\n",
       "      <td>99457.0</td>\n",
       "    </tr>\n",
       "    <tr>\n",
       "      <td>1</td>\n",
       "      <td>76146.0</td>\n",
       "      <td>38191.0</td>\n",
       "      <td>38189.0</td>\n",
       "      <td>76283.0</td>\n",
       "    </tr>\n",
       "    <tr>\n",
       "      <td>2</td>\n",
       "      <td>42087.0</td>\n",
       "      <td>21116.0</td>\n",
       "      <td>21116.0</td>\n",
       "      <td>42174.0</td>\n",
       "    </tr>\n",
       "    <tr>\n",
       "      <td>3</td>\n",
       "      <td>83479.0</td>\n",
       "      <td>41798.0</td>\n",
       "      <td>41794.0</td>\n",
       "      <td>83540.0</td>\n",
       "    </tr>\n",
       "    <tr>\n",
       "      <td>4</td>\n",
       "      <td>52285.0</td>\n",
       "      <td>26221.0</td>\n",
       "      <td>26216.0</td>\n",
       "      <td>52372.0</td>\n",
       "    </tr>\n",
       "    <tr>\n",
       "      <td>...</td>\n",
       "      <td>...</td>\n",
       "      <td>...</td>\n",
       "      <td>...</td>\n",
       "      <td>...</td>\n",
       "    </tr>\n",
       "    <tr>\n",
       "      <td>4995</td>\n",
       "      <td>71500.0</td>\n",
       "      <td>35826.0</td>\n",
       "      <td>35822.0</td>\n",
       "      <td>71582.0</td>\n",
       "    </tr>\n",
       "    <tr>\n",
       "      <td>4996</td>\n",
       "      <td>104910.0</td>\n",
       "      <td>52543.0</td>\n",
       "      <td>52541.0</td>\n",
       "      <td>105011.0</td>\n",
       "    </tr>\n",
       "    <tr>\n",
       "      <td>4997</td>\n",
       "      <td>67876.0</td>\n",
       "      <td>33994.0</td>\n",
       "      <td>33990.0</td>\n",
       "      <td>67934.0</td>\n",
       "    </tr>\n",
       "    <tr>\n",
       "      <td>4998</td>\n",
       "      <td>65491.0</td>\n",
       "      <td>32818.0</td>\n",
       "      <td>32807.0</td>\n",
       "      <td>65557.0</td>\n",
       "    </tr>\n",
       "    <tr>\n",
       "      <td>4999</td>\n",
       "      <td>81293.0</td>\n",
       "      <td>40728.0</td>\n",
       "      <td>40721.0</td>\n",
       "      <td>81379.0</td>\n",
       "    </tr>\n",
       "  </tbody>\n",
       "</table>\n",
       "<p>5000 rows × 4 columns</p>\n",
       "</div>"
      ],
      "text/plain": [
       "           Пол  Возраст  Зарплата  Члены семьи\n",
       "0      99332.0  49780.0   49773.0      99457.0\n",
       "1      76146.0  38191.0   38189.0      76283.0\n",
       "2      42087.0  21116.0   21116.0      42174.0\n",
       "3      83479.0  41798.0   41794.0      83540.0\n",
       "4      52285.0  26221.0   26216.0      52372.0\n",
       "...        ...      ...       ...          ...\n",
       "4995   71500.0  35826.0   35822.0      71582.0\n",
       "4996  104910.0  52543.0   52541.0     105011.0\n",
       "4997   67876.0  33994.0   33990.0      67934.0\n",
       "4998   65491.0  32818.0   32807.0      65557.0\n",
       "4999   81293.0  40728.0   40721.0      81379.0\n",
       "\n",
       "[5000 rows x 4 columns]"
      ]
     },
     "execution_count": 12,
     "metadata": {},
     "output_type": "execute_result"
    }
   ],
   "source": [
    "features_transf_df = pd.DataFrame(data = features_transf_np, columns = features.columns)\n",
    "\n",
    "for column in features_transf_df.columns:\n",
    "    plt.figure(figsize = (8,4))\n",
    "    plt.hist(features_transf_df[column])\n",
    "    plt.title(column, fontsize = 16)\n",
    "    plt.show()\n",
    "    \n",
    "features_transf_df"
   ]
  },
  {
   "cell_type": "markdown",
   "metadata": {},
   "source": [
    "#### Новость с пометкой \"Молния\"!!!\n",
    "\n",
    "После перемножения, распределения значений ВСЕХ признаков \"магическим образом\" стали \"нормальными\", причем по форме они близки друг к другу как 2 капли воды. Особенно занимательно это осознавать в отношении признака \"Пол\", поскольку ему \"удалось\" превратиться из распределения \"в 2 столбца\" (М и Ж) в \"полноценный\" признак.\n",
    "\n",
    "Проверим, как отразится это \"изменение на процессе прогнозирования значений.\n",
    "\n",
    "Обучим модель заново и с помощью кросс-валидации найдем предсказания для всего датасета."
   ]
  },
  {
   "cell_type": "code",
   "execution_count": 13,
   "metadata": {},
   "outputs": [],
   "source": [
    "model_transf = LinearRegression()\n",
    "predictions_transf = cross_val_predict(model_transf, features_transf_df, target, cv = 5, n_jobs = -1)"
   ]
  },
  {
   "cell_type": "code",
   "execution_count": 14,
   "metadata": {},
   "outputs": [
    {
     "data": {
      "text/plain": [
       "0.12357754506264357"
      ]
     },
     "execution_count": 14,
     "metadata": {},
     "output_type": "execute_result"
    }
   ],
   "source": [
    "MSE_transf = mean_squared_error(target, predictions_transf)\n",
    "MSE_transf"
   ]
  },
  {
   "cell_type": "code",
   "execution_count": 15,
   "metadata": {},
   "outputs": [
    {
     "name": "stdout",
     "output_type": "stream",
     "text": [
      "Разница между значениями MSE для исходного и преобразованного датасетов составляет: -3.3306690738754696e-16\n"
     ]
    }
   ],
   "source": [
    "print(\"Разница между значениями MSE для исходного и преобразованного датасетов составляет:\", MSE - MSE_transf)"
   ]
  },
  {
   "cell_type": "markdown",
   "metadata": {},
   "source": [
    "*Амаяк Акопян has entered the chat.*\n",
    "\n",
    "> Ловкость рук и никакого мошенства!\n",
    "\n",
    "*Амаяк Акопян has left the chat.*"
   ]
  },
  {
   "cell_type": "markdown",
   "metadata": {},
   "source": [
    "Неожиданная и пока совершенно непонятная ситуация. Модели, обученные на исходном и преобразованном с помощью обратимой матрицы датасетах, обладают идентичным качеством прогнозирования (с точностью до 15 знака после запятой). \n",
    "\n",
    "По-прежему мало что понимая, мы можем ответить на поставленный ранее вопрос.\n",
    "\n",
    "> Нет, не изменится. \n",
    "\n",
    "Но остается ещё один неразрешенный момент:\n",
    "\n",
    ">... как связаны параметры линейной регрессии в исходной задаче и в преобразованной?\n",
    "\n",
    "Чтобы ответить на него нам необходимо определить значения параметров $w$ и $w_0$ (вектор весов и величина сдвига) для обеих полученных моделей.\n",
    "\n",
    "Воспользуемся формулой для нахождения вектора весов $w$ + свободного члена $w_0$ (элемент №0):\n",
    "\n",
    "$$w = (X^T X)^{-1} X^T y$$\n",
    "\n",
    "где\n",
    "\n",
    "- $X$ — матрица признаков (нулевой столбец состоит из единиц)\n",
    "\n",
    "- $y$ — вектор целевого признака"
   ]
  },
  {
   "cell_type": "code",
   "execution_count": 16,
   "metadata": {},
   "outputs": [],
   "source": [
    "X = np.concatenate((np.ones((features.shape[0], 1)), features), axis=1)\n",
    "y = target\n",
    "w = np.linalg.inv(X.T.dot(X)).dot(X.T).dot(target)\n",
    "\n",
    "columns_list = ['w0', 'w1', 'w2', 'w3', 'w4']\n",
    "w_compar = pd.DataFrame(data = [], columns = columns_list)\n",
    "w_compar.loc[0] = w"
   ]
  },
  {
   "cell_type": "code",
   "execution_count": 17,
   "metadata": {},
   "outputs": [
    {
     "data": {
      "text/html": [
       "<div>\n",
       "<style scoped>\n",
       "    .dataframe tbody tr th:only-of-type {\n",
       "        vertical-align: middle;\n",
       "    }\n",
       "\n",
       "    .dataframe tbody tr th {\n",
       "        vertical-align: top;\n",
       "    }\n",
       "\n",
       "    .dataframe thead th {\n",
       "        text-align: right;\n",
       "    }\n",
       "</style>\n",
       "<table border=\"1\" class=\"dataframe\">\n",
       "  <thead>\n",
       "    <tr style=\"text-align: right;\">\n",
       "      <th></th>\n",
       "      <th>w0</th>\n",
       "      <th>w1</th>\n",
       "      <th>w2</th>\n",
       "      <th>w3</th>\n",
       "      <th>w4</th>\n",
       "    </tr>\n",
       "  </thead>\n",
       "  <tbody>\n",
       "    <tr>\n",
       "      <td>0</td>\n",
       "      <td>-0.938236</td>\n",
       "      <td>0.007926</td>\n",
       "      <td>0.035708</td>\n",
       "      <td>-1.700805e-07</td>\n",
       "      <td>-0.013568</td>\n",
       "    </tr>\n",
       "    <tr>\n",
       "      <td>1</td>\n",
       "      <td>-0.938235</td>\n",
       "      <td>-0.009706</td>\n",
       "      <td>-0.006875</td>\n",
       "      <td>1.346727e-02</td>\n",
       "      <td>0.006409</td>\n",
       "    </tr>\n",
       "  </tbody>\n",
       "</table>\n",
       "</div>"
      ],
      "text/plain": [
       "         w0        w1        w2            w3        w4\n",
       "0 -0.938236  0.007926  0.035708 -1.700805e-07 -0.013568\n",
       "1 -0.938235 -0.009706 -0.006875  1.346727e-02  0.006409"
      ]
     },
     "execution_count": 17,
     "metadata": {},
     "output_type": "execute_result"
    }
   ],
   "source": [
    "X_transf = np.concatenate((np.ones((features_transf_np.shape[0], 1)), features_transf_np), axis=1)\n",
    "y = target\n",
    "w_transf = np.linalg.inv(X_transf.T.dot(X_transf)).dot(X_transf.T).dot(target)\n",
    "\n",
    "w_compar.loc[1] = w_transf\n",
    "w_compar"
   ]
  },
  {
   "cell_type": "markdown",
   "metadata": {},
   "source": [
    "Первое, что следует отметить - это равенство значений сдвига для полученных моделей. Следовательно мы можем помыслить следующее - для \"облака распределения значений\" высокого порядка (которое уже невозможно визуально воспроизвести) - для 4 входных признаков, преобразование значений посредством домножения на обратимую матрицу приводит к изменению НАКЛОНА описывающей кривой (изменение весов признаков) относительно \"нулевой\" плоскости (опять же, существующей только в нашей голове), однако РАССТОЯНИЕ (он же сдвиг) относительно оси ЦЕЛЕВОГО признака для соответствующей кривой не меняется. \n",
    "\n",
    "Кроме того, следует отметить, что домножение матрицы на обратимую матрицу позволил существенно СНИЗИТЬ разброс значений весов - так, если для исходной матрицы вес признака №3 был в 10 000 - 100 000 раз меньше остальных (сказывается существенная разница между исходными значениями признаков - возраст с диапазоном 0 - 100 и зарплата, измеряемая десятками тысяч), то для преобразованной матрицы вес 3-го признака находится примерно на том же уровне, что и у всех остальных."
   ]
  },
  {
   "cell_type": "markdown",
   "metadata": {},
   "source": [
    "Вероятно также, что вектор весов модели, обученной на преобразованных данных, равен произведению вектора весов \"исходной\" модели и используемой \"обратимой матрицы\". Это можно сделать с помощью математики, однако, если есть возможность воспользоваться \"аппаратными мозгами\" - почему бы и нет."
   ]
  },
  {
   "cell_type": "code",
   "execution_count": 18,
   "metadata": {},
   "outputs": [
    {
     "data": {
      "text/html": [
       "<div>\n",
       "<style scoped>\n",
       "    .dataframe tbody tr th:only-of-type {\n",
       "        vertical-align: middle;\n",
       "    }\n",
       "\n",
       "    .dataframe tbody tr th {\n",
       "        vertical-align: top;\n",
       "    }\n",
       "\n",
       "    .dataframe thead th {\n",
       "        text-align: right;\n",
       "    }\n",
       "</style>\n",
       "<table border=\"1\" class=\"dataframe\">\n",
       "  <thead>\n",
       "    <tr style=\"text-align: right;\">\n",
       "      <th></th>\n",
       "      <th>w1</th>\n",
       "      <th>w2</th>\n",
       "      <th>w3</th>\n",
       "      <th>w4</th>\n",
       "    </tr>\n",
       "  </thead>\n",
       "  <tbody>\n",
       "    <tr>\n",
       "      <td>0</td>\n",
       "      <td>0.007926</td>\n",
       "      <td>0.035708</td>\n",
       "      <td>-1.700805e-07</td>\n",
       "      <td>-0.013568</td>\n",
       "    </tr>\n",
       "    <tr>\n",
       "      <td>1</td>\n",
       "      <td>-0.009706</td>\n",
       "      <td>-0.006875</td>\n",
       "      <td>1.346727e-02</td>\n",
       "      <td>0.006409</td>\n",
       "    </tr>\n",
       "    <tr>\n",
       "      <td>2</td>\n",
       "      <td>0.006509</td>\n",
       "      <td>0.119192</td>\n",
       "      <td>1.066980e-01</td>\n",
       "      <td>0.150979</td>\n",
       "    </tr>\n",
       "  </tbody>\n",
       "</table>\n",
       "</div>"
      ],
      "text/plain": [
       "         w1        w2            w3        w4\n",
       "0  0.007926  0.035708 -1.700805e-07 -0.013568\n",
       "1 -0.009706 -0.006875  1.346727e-02  0.006409\n",
       "2  0.006509  0.119192  1.066980e-01  0.150979"
      ]
     },
     "execution_count": 18,
     "metadata": {},
     "output_type": "execute_result"
    }
   ],
   "source": [
    "w_compar_no_w0 = w_compar.drop(['w0'], axis = 1)\n",
    "w_no_w0 = w_compar_no_w0.loc[0].values\n",
    "w_compar_no_w0.loc[2] = w_no_w0.dot(matrix_mult)\n",
    "w_compar_no_w0"
   ]
  },
  {
   "cell_type": "markdown",
   "metadata": {},
   "source": [
    "Увы, но наше последнее предположение оказалось неверным. Но мы не отчаиваемся и воспользуемся секретным приемом. МАТЕМАТИКОЙ!"
   ]
  },
  {
   "cell_type": "markdown",
   "metadata": {},
   "source": [
    "### 2.1 Взаимосвязь между векторами весов\n",
    "\n",
    "Добавим математики и аналитических моментов в происходящее.\n",
    "\n",
    "Для исходной матрицы признаков, вектор весов (которому соответствует минимальное значение функции потерь), определяется по формуле:\n",
    "\n",
    "$$w = (X^T X)^{-1} X^T y$$\n",
    "\n",
    "В свою очередь, если мы домножаем матрицу признаков $X$ на обратимую (квадратную) матрицу $P$, тогда формула приобретает следующий вид:\n",
    "\n",
    "$$w_1 = ((XP)^T XP)^{-1} (XP)^T y$$\n",
    "\n",
    "Поскольку мы ищем взаимосвязь между значениями, найдем отношение $w_1$ к $w$:\n",
    "\n",
    "$$ \\frac{w_1}{w} = \\frac{((XP)^T XP)^{-1} (XP)^T y}{(X^T X)^{-1} X^T y} = \\frac{(P^T X^T X P)^{-1} P^T X^T y}{(X^T X)^{-1} X^T y} = \\frac{(P^T)^{-1} (X^T X)^{-1} (P)^{-1} P^T X^T y}{(X^T X)^{-1} X^T y} = (P^T)^{-1} (P)^{-1} P^T = P^{-1} $$\n",
    "\n",
    "Таким образом:\n",
    "$$ w_1 = P^{-1} w $$"
   ]
  },
  {
   "cell_type": "markdown",
   "metadata": {},
   "source": [
    "Проверим наши расчеты МАТЕМАТИЧЕСКИ!"
   ]
  },
  {
   "cell_type": "code",
   "execution_count": 19,
   "metadata": {},
   "outputs": [],
   "source": [
    "w_first = w_compar_no_w0.loc[0].values\n",
    "w_scnd = w_compar_no_w0.loc[1].values"
   ]
  },
  {
   "cell_type": "code",
   "execution_count": 20,
   "metadata": {},
   "outputs": [
    {
     "data": {
      "text/html": [
       "<div>\n",
       "<style scoped>\n",
       "    .dataframe tbody tr th:only-of-type {\n",
       "        vertical-align: middle;\n",
       "    }\n",
       "\n",
       "    .dataframe tbody tr th {\n",
       "        vertical-align: top;\n",
       "    }\n",
       "\n",
       "    .dataframe thead th {\n",
       "        text-align: right;\n",
       "    }\n",
       "</style>\n",
       "<table border=\"1\" class=\"dataframe\">\n",
       "  <thead>\n",
       "    <tr style=\"text-align: right;\">\n",
       "      <th></th>\n",
       "      <th>w1</th>\n",
       "      <th>w2</th>\n",
       "      <th>w3</th>\n",
       "      <th>w4</th>\n",
       "    </tr>\n",
       "  </thead>\n",
       "  <tbody>\n",
       "    <tr>\n",
       "      <td>0</td>\n",
       "      <td>0.007926</td>\n",
       "      <td>0.035708</td>\n",
       "      <td>-1.700805e-07</td>\n",
       "      <td>-0.013568</td>\n",
       "    </tr>\n",
       "    <tr>\n",
       "      <td>1</td>\n",
       "      <td>-0.009706</td>\n",
       "      <td>-0.006875</td>\n",
       "      <td>1.346727e-02</td>\n",
       "      <td>0.006409</td>\n",
       "    </tr>\n",
       "    <tr>\n",
       "      <td>2</td>\n",
       "      <td>0.006509</td>\n",
       "      <td>0.119192</td>\n",
       "      <td>1.066980e-01</td>\n",
       "      <td>0.150979</td>\n",
       "    </tr>\n",
       "    <tr>\n",
       "      <td>3</td>\n",
       "      <td>-0.009706</td>\n",
       "      <td>-0.006875</td>\n",
       "      <td>1.346727e-02</td>\n",
       "      <td>0.006409</td>\n",
       "    </tr>\n",
       "  </tbody>\n",
       "</table>\n",
       "</div>"
      ],
      "text/plain": [
       "         w1        w2            w3        w4\n",
       "0  0.007926  0.035708 -1.700805e-07 -0.013568\n",
       "1 -0.009706 -0.006875  1.346727e-02  0.006409\n",
       "2  0.006509  0.119192  1.066980e-01  0.150979\n",
       "3 -0.009706 -0.006875  1.346727e-02  0.006409"
      ]
     },
     "execution_count": 20,
     "metadata": {},
     "output_type": "execute_result"
    }
   ],
   "source": [
    "matrix_np = np.array(matrix)\n",
    "w_scnd_calc = np.linalg.inv(matrix_np).dot(w_first)\n",
    "w_compar_no_w0.loc[3] = w_scnd_calc\n",
    "w_compar_no_w0"
   ]
  },
  {
   "cell_type": "markdown",
   "metadata": {},
   "source": [
    "Ведь я ещё не говорил в этом проекте \"Бинго!\"?\n",
    "\n",
    "БИНГО!\n",
    "\n",
    "Соотношение между значениями найдено.\n",
    "\n",
    "$$ w_1 = P^{-1} w $$\n",
    "\n",
    "где $P$ - обратимая матрица, на которую умножается матрица признаков $w$."
   ]
  },
  {
   "cell_type": "markdown",
   "metadata": {},
   "source": [
    "Следующий момент - нужно понять, почему равны значения сдвига. Обратимся к формулам получения вектора предсказаний.\n",
    "\n",
    "$$ A_1 = X w + w_0 $$\n",
    "\n",
    "$$ A_2 = X_1 w_1 + w_{01} = X P P^{-1} w + w_{01} = X w + w_{01} $$\n",
    "\n",
    "Таким образом, равенство предсказаний моделей возможно только при равенстве свободных членов, т.к. часть модели, связанная с матрицей признаков, идентична для обеих моделей. "
   ]
  },
  {
   "cell_type": "markdown",
   "metadata": {},
   "source": [
    "## 3. Алгоритм преобразования"
   ]
  },
  {
   "cell_type": "markdown",
   "metadata": {},
   "source": [
    "> Предложите алгоритм преобразования данных для решения задачи. Обоснуйте, почему качество линейной регрессии не поменяется."
   ]
  },
  {
   "cell_type": "markdown",
   "metadata": {},
   "source": [
    "**Обоснование**\n",
    "\n",
    "Как мы поняли, домножение матрицы признаков на обратимую матрицу не приводит к изменению качества предсказаний модели машинного обучения. \n",
    "\n",
    "Однако, обращаясь к приведенным ранее принципам защиты информации:\n",
    "\n",
    "> 2) сложность шифрования должна быть таковой, чтобы единственным способом \"наверняка\" получить доступ к информации, был перебор по всем имеющимся значениям, причем реализация данного способа не должна быть технически ВОЗМОЖНА с учетом существующих вычислительных мощностей (и т.д.). Обобщая - вариантов ВОЗМОЖНОГО ключа должно быть БОЛЬШЕ, чем можно будет БЫСТРО вычислить (подобрать) на существующем \"железе\";\n",
    "\n",
    "> 3) Объем закодированных данных не должен существенно отличаться от объема ИСХОДНЫХ данных. В нашем случае, более того, число объектов и ФОРМА датасета у закодированных и исходных данных должна совпадать (4 столбца-признака, 5000 строк).\n",
    "\n",
    "Мы можем попробовать посчитать примерное время, за которое может быть подобран ключ на среднестатистическом компьютере (у нас будут \"русские хакеры\" со среднестатистическим 8-ядерным компьютером). \n",
    "\n",
    "Итак, математика!\n",
    "\n",
    "1. Количество вариантов матрицы размером 4 х 4 при варьировании каждого значения в диапазоне от 0 до 9 составляет $10^{16}$. \n",
    "2. Мощность современного \"среднего компьютера\" по данным википедии (да, да, я знаю - брать информацию из википедии - не самый лучший вариант) составляет 0.1 терафлопс или $10^{11}$ операций в секунду. Не знаю, это относится к 1 ядру или ко всем 8, но предположу, что только к 1. Следовательно, наш среднестатистический \"хакерский\" компьютер может выполнять $8 × 10^{11}$ операций в секунду. \n",
    "3. Следовательно, для того, что бы подобрать ключ ему потребуется: \n",
    "$$ 10^{16}\\;/\\;(8 × 10^{11}) = 12 500\\;секунд\\;или\\;примерно\\;3.5\\;часа$$\n",
    "\n",
    "Выглядит неплохо, однако, если мы предположим работу в \"крупной компании\" с \"большими объемами\" (и ценностью) данных, нам необходимо увеличить данное значение ТАК, чтобы вероятность разгадки была \"КРАЙНЕ МАЛА\"."
   ]
  },
  {
   "cell_type": "markdown",
   "metadata": {},
   "source": [
    "Вероятно, нам удастся этого достичь, если мы добавим ЕЩЁ одну матрицу в процесс кодирования. И будет у нас эдакий КЛЮЧ + КЛЮЧ (Двойной ключ, вау!). Для этого мы можем генерировать матрицу 8 на 4 и резать её на 2. Умножать 2 матрицу признаков 2 раза. В таком случае, число вариантов вырастает до 10 в 32 степени, а значит время вычислений улетает в потолок и становится равным 1+ млрд. лет при использовании метода \"перебора значений\". + добавляется такой критерий как ПОСЛЕДОВАТЕЛЬНОСТЬ использования ключей => это ещё дополнительное удвоение.\n",
    "\n",
    "Однако, мы к настоящему моменту не знаем, сработает ли данный подход - потому, проверим его."
   ]
  },
  {
   "cell_type": "code",
   "execution_count": 21,
   "metadata": {},
   "outputs": [
    {
     "name": "stdout",
     "output_type": "stream",
     "text": [
      "Обратимые матрицы получены.\n",
      "[[4, 8, 0, 6], [4, 5, 5, 6], [1, 3, 2, 1], [2, 8, 8, 5]]\n",
      "[[0, 9, 0, 7], [8, 8, 6, 8], [2, 3, 7, 4], [9, 2, 1, 9]]\n"
     ]
    }
   ],
   "source": [
    "n = len(features.columns)\n",
    "\n",
    "matrix_doubled = [[random.randint(0, 9) for r in range(n)] for s in range(2*n)]\n",
    "matrix_1 = matrix_doubled[:4]\n",
    "matrix_2 = matrix_doubled[4:]\n",
    "\n",
    "try:\n",
    "    key_matrix_1 = np.linalg.inv(matrix_1)\n",
    "    key_matrix_2 = np.linalg.inv(matrix_2)\n",
    "    \n",
    "    print(\"Обратимые матрицы получены.\")\n",
    "    print(matrix_1)\n",
    "    print(matrix_2)\n",
    "except LinAlgError:\n",
    "    print(\"Сгенерирована 1 или 2 НЕобратимые матрицы. Запустите генератор-матриц ещё раз.\")"
   ]
  },
  {
   "cell_type": "markdown",
   "metadata": {},
   "source": [
    "Пара обратимых матриц получены. Умножаем матрицу признаков на эти матрицы (сначала на 1ю, потом на 2ю)."
   ]
  },
  {
   "cell_type": "code",
   "execution_count": 22,
   "metadata": {},
   "outputs": [
    {
     "data": {
      "text/plain": [
       "array([[1839707., 2038051., 1639874., 2386923.],\n",
       "       [1410909., 1562854., 1257375., 1830687.],\n",
       "       [ 780016.,  863987.,  695059., 1012118.],\n",
       "       ...,\n",
       "       [1256630., 1392192., 1120338., 1630350.],\n",
       "       [1212681., 1343426., 1081043., 1573335.],\n",
       "       [1505355., 1667712., 1341951., 1953077.]])"
      ]
     },
     "execution_count": 22,
     "metadata": {},
     "output_type": "execute_result"
    }
   ],
   "source": [
    "features_double_transf = features_np.dot(matrix_1).dot(matrix_2)\n",
    "features_double_transf"
   ]
  },
  {
   "cell_type": "code",
   "execution_count": 23,
   "metadata": {
    "scrolled": true
   },
   "outputs": [
    {
     "data": {
      "text/plain": [
       "array([[1839707., 2038051., 1639874., 2386923.],\n",
       "       [1410909., 1562854., 1257375., 1830687.],\n",
       "       [ 780016.,  863987.,  695059., 1012118.],\n",
       "       ...,\n",
       "       [1256630., 1392192., 1120338., 1630350.],\n",
       "       [1212681., 1343426., 1081043., 1573335.],\n",
       "       [1505355., 1667712., 1341951., 1953077.]])"
      ]
     },
     "execution_count": 23,
     "metadata": {},
     "output_type": "execute_result"
    }
   ],
   "source": [
    "features_double_transf = features_np.dot(matrix_1).dot(matrix_2)\n",
    "features_double_transf"
   ]
  },
  {
   "cell_type": "code",
   "execution_count": 24,
   "metadata": {},
   "outputs": [],
   "source": [
    "model_double_transf = LinearRegression()\n",
    "predictions_double_transf = cross_val_predict(model_double_transf,\n",
    "                                              features_double_transf, target, cv = 5, n_jobs = -1)"
   ]
  },
  {
   "cell_type": "code",
   "execution_count": 25,
   "metadata": {},
   "outputs": [
    {
     "data": {
      "text/plain": [
       "0.12357754506264505"
      ]
     },
     "execution_count": 25,
     "metadata": {},
     "output_type": "execute_result"
    }
   ],
   "source": [
    "MSE_double_transf = mean_squared_error(target, predictions_double_transf)\n",
    "MSE_double_transf"
   ]
  },
  {
   "cell_type": "markdown",
   "metadata": {},
   "source": [
    "Победа! Даже двойное перемножение не сказалось на качестве модели. \n",
    "\n",
    "Соберем полученные функции, мысли и результаты в \"конечный\" алгоритм, которые позволит закодировать исходные данные.\n",
    "\n",
    "В качестве входного значения получаем - 2 датасета с признаками и целевым признаком. \n",
    "\n",
    "На выходе:\n",
    "- преобразованный датасет;\n",
    "- ключи расшифровки (обратные к полученным матрицы) с учетом последовательности применения (сначала вторая, потом первая);\n",
    "- показатель качества модели линейной регрессии для исходных данных;\n",
    "- показатель качества модели для преобразованных данных.\n",
    "\n",
    "В качестве критерия качества воспользуемся $R^2$ вместо $MSE$."
   ]
  },
  {
   "cell_type": "markdown",
   "metadata": {},
   "source": [
    "## 4. Проверка алгоритма"
   ]
  },
  {
   "cell_type": "markdown",
   "metadata": {},
   "source": [
    "Как мы помним, порядок умножения крайне важен, т.к. при его несоблюдении, вместо восстановления значений, мы можем получить следующее:"
   ]
  },
  {
   "cell_type": "code",
   "execution_count": 26,
   "metadata": {},
   "outputs": [
    {
     "data": {
      "text/html": [
       "<div>\n",
       "<style scoped>\n",
       "    .dataframe tbody tr th:only-of-type {\n",
       "        vertical-align: middle;\n",
       "    }\n",
       "\n",
       "    .dataframe tbody tr th {\n",
       "        vertical-align: top;\n",
       "    }\n",
       "\n",
       "    .dataframe thead th {\n",
       "        text-align: right;\n",
       "    }\n",
       "</style>\n",
       "<table border=\"1\" class=\"dataframe\">\n",
       "  <thead>\n",
       "    <tr style=\"text-align: right;\">\n",
       "      <th></th>\n",
       "      <th>0</th>\n",
       "      <th>1</th>\n",
       "      <th>2</th>\n",
       "      <th>3</th>\n",
       "    </tr>\n",
       "  </thead>\n",
       "  <tbody>\n",
       "    <tr>\n",
       "      <td>0</td>\n",
       "      <td>-8989.0</td>\n",
       "      <td>102513.0</td>\n",
       "      <td>-44730.0</td>\n",
       "      <td>-78753.0</td>\n",
       "    </tr>\n",
       "    <tr>\n",
       "      <td>1</td>\n",
       "      <td>-6889.0</td>\n",
       "      <td>78625.0</td>\n",
       "      <td>-34336.0</td>\n",
       "      <td>-60391.0</td>\n",
       "    </tr>\n",
       "    <tr>\n",
       "      <td>2</td>\n",
       "      <td>-3808.0</td>\n",
       "      <td>43469.0</td>\n",
       "      <td>-18990.0</td>\n",
       "      <td>-33385.0</td>\n",
       "    </tr>\n",
       "    <tr>\n",
       "      <td>3</td>\n",
       "      <td>-7554.0</td>\n",
       "      <td>86104.0</td>\n",
       "      <td>-37541.0</td>\n",
       "      <td>-66158.0</td>\n",
       "    </tr>\n",
       "    <tr>\n",
       "      <td>4</td>\n",
       "      <td>-4732.0</td>\n",
       "      <td>53983.0</td>\n",
       "      <td>-23568.0</td>\n",
       "      <td>-41466.0</td>\n",
       "    </tr>\n",
       "    <tr>\n",
       "      <td>...</td>\n",
       "      <td>...</td>\n",
       "      <td>...</td>\n",
       "      <td>...</td>\n",
       "      <td>...</td>\n",
       "    </tr>\n",
       "    <tr>\n",
       "      <td>4995</td>\n",
       "      <td>-6469.0</td>\n",
       "      <td>73780.0</td>\n",
       "      <td>-32188.0</td>\n",
       "      <td>-56681.0</td>\n",
       "    </tr>\n",
       "    <tr>\n",
       "      <td>4996</td>\n",
       "      <td>-9493.0</td>\n",
       "      <td>108233.0</td>\n",
       "      <td>-47205.0</td>\n",
       "      <td>-83155.0</td>\n",
       "    </tr>\n",
       "    <tr>\n",
       "      <td>4997</td>\n",
       "      <td>-6142.0</td>\n",
       "      <td>70019.0</td>\n",
       "      <td>-30534.0</td>\n",
       "      <td>-53797.0</td>\n",
       "    </tr>\n",
       "    <tr>\n",
       "      <td>4998</td>\n",
       "      <td>-5927.0</td>\n",
       "      <td>67574.0</td>\n",
       "      <td>-29474.0</td>\n",
       "      <td>-51916.0</td>\n",
       "    </tr>\n",
       "    <tr>\n",
       "      <td>4999</td>\n",
       "      <td>-7357.0</td>\n",
       "      <td>83880.0</td>\n",
       "      <td>-36588.0</td>\n",
       "      <td>-64443.0</td>\n",
       "    </tr>\n",
       "  </tbody>\n",
       "</table>\n",
       "<p>5000 rows × 4 columns</p>\n",
       "</div>"
      ],
      "text/plain": [
       "           0         1        2        3\n",
       "0    -8989.0  102513.0 -44730.0 -78753.0\n",
       "1    -6889.0   78625.0 -34336.0 -60391.0\n",
       "2    -3808.0   43469.0 -18990.0 -33385.0\n",
       "3    -7554.0   86104.0 -37541.0 -66158.0\n",
       "4    -4732.0   53983.0 -23568.0 -41466.0\n",
       "...      ...       ...      ...      ...\n",
       "4995 -6469.0   73780.0 -32188.0 -56681.0\n",
       "4996 -9493.0  108233.0 -47205.0 -83155.0\n",
       "4997 -6142.0   70019.0 -30534.0 -53797.0\n",
       "4998 -5927.0   67574.0 -29474.0 -51916.0\n",
       "4999 -7357.0   83880.0 -36588.0 -64443.0\n",
       "\n",
       "[5000 rows x 4 columns]"
      ]
     },
     "execution_count": 26,
     "metadata": {},
     "output_type": "execute_result"
    }
   ],
   "source": [
    "round(pd.DataFrame(data = (features_double_transf @ key_matrix_1 @ key_matrix_2)))"
   ]
  },
  {
   "cell_type": "markdown",
   "metadata": {},
   "source": [
    "Вместо:"
   ]
  },
  {
   "cell_type": "code",
   "execution_count": 27,
   "metadata": {
    "scrolled": false
   },
   "outputs": [
    {
     "data": {
      "text/html": [
       "<div>\n",
       "<style scoped>\n",
       "    .dataframe tbody tr th:only-of-type {\n",
       "        vertical-align: middle;\n",
       "    }\n",
       "\n",
       "    .dataframe tbody tr th {\n",
       "        vertical-align: top;\n",
       "    }\n",
       "\n",
       "    .dataframe thead th {\n",
       "        text-align: right;\n",
       "    }\n",
       "</style>\n",
       "<table border=\"1\" class=\"dataframe\">\n",
       "  <thead>\n",
       "    <tr style=\"text-align: right;\">\n",
       "      <th></th>\n",
       "      <th>0</th>\n",
       "      <th>1</th>\n",
       "      <th>2</th>\n",
       "      <th>3</th>\n",
       "    </tr>\n",
       "  </thead>\n",
       "  <tbody>\n",
       "    <tr>\n",
       "      <td>0</td>\n",
       "      <td>1.0</td>\n",
       "      <td>41.0</td>\n",
       "      <td>49600.0</td>\n",
       "      <td>1.0</td>\n",
       "    </tr>\n",
       "    <tr>\n",
       "      <td>1</td>\n",
       "      <td>-0.0</td>\n",
       "      <td>46.0</td>\n",
       "      <td>38000.0</td>\n",
       "      <td>1.0</td>\n",
       "    </tr>\n",
       "    <tr>\n",
       "      <td>2</td>\n",
       "      <td>-0.0</td>\n",
       "      <td>29.0</td>\n",
       "      <td>21000.0</td>\n",
       "      <td>-0.0</td>\n",
       "    </tr>\n",
       "    <tr>\n",
       "      <td>3</td>\n",
       "      <td>-0.0</td>\n",
       "      <td>21.0</td>\n",
       "      <td>41700.0</td>\n",
       "      <td>2.0</td>\n",
       "    </tr>\n",
       "    <tr>\n",
       "      <td>4</td>\n",
       "      <td>1.0</td>\n",
       "      <td>28.0</td>\n",
       "      <td>26100.0</td>\n",
       "      <td>-0.0</td>\n",
       "    </tr>\n",
       "    <tr>\n",
       "      <td>...</td>\n",
       "      <td>...</td>\n",
       "      <td>...</td>\n",
       "      <td>...</td>\n",
       "      <td>...</td>\n",
       "    </tr>\n",
       "    <tr>\n",
       "      <td>4995</td>\n",
       "      <td>-0.0</td>\n",
       "      <td>28.0</td>\n",
       "      <td>35700.0</td>\n",
       "      <td>2.0</td>\n",
       "    </tr>\n",
       "    <tr>\n",
       "      <td>4996</td>\n",
       "      <td>-0.0</td>\n",
       "      <td>34.0</td>\n",
       "      <td>52400.0</td>\n",
       "      <td>1.0</td>\n",
       "    </tr>\n",
       "    <tr>\n",
       "      <td>4997</td>\n",
       "      <td>-0.0</td>\n",
       "      <td>20.0</td>\n",
       "      <td>33900.0</td>\n",
       "      <td>2.0</td>\n",
       "    </tr>\n",
       "    <tr>\n",
       "      <td>4998</td>\n",
       "      <td>1.0</td>\n",
       "      <td>22.0</td>\n",
       "      <td>32700.0</td>\n",
       "      <td>3.0</td>\n",
       "    </tr>\n",
       "    <tr>\n",
       "      <td>4999</td>\n",
       "      <td>1.0</td>\n",
       "      <td>28.0</td>\n",
       "      <td>40600.0</td>\n",
       "      <td>1.0</td>\n",
       "    </tr>\n",
       "  </tbody>\n",
       "</table>\n",
       "<p>5000 rows × 4 columns</p>\n",
       "</div>"
      ],
      "text/plain": [
       "        0     1        2    3\n",
       "0     1.0  41.0  49600.0  1.0\n",
       "1    -0.0  46.0  38000.0  1.0\n",
       "2    -0.0  29.0  21000.0 -0.0\n",
       "3    -0.0  21.0  41700.0  2.0\n",
       "4     1.0  28.0  26100.0 -0.0\n",
       "...   ...   ...      ...  ...\n",
       "4995 -0.0  28.0  35700.0  2.0\n",
       "4996 -0.0  34.0  52400.0  1.0\n",
       "4997 -0.0  20.0  33900.0  2.0\n",
       "4998  1.0  22.0  32700.0  3.0\n",
       "4999  1.0  28.0  40600.0  1.0\n",
       "\n",
       "[5000 rows x 4 columns]"
      ]
     },
     "execution_count": 27,
     "metadata": {},
     "output_type": "execute_result"
    }
   ],
   "source": [
    "round(pd.DataFrame(data = (features_double_transf @ key_matrix_2 @ key_matrix_1)))"
   ]
  },
  {
   "cell_type": "markdown",
   "metadata": {},
   "source": [
    "В нашем случае округление значений до целочисленных имеет смысл, т.к. в противном случае вместо 2 полов, закодированных как 0 и 1, мы можем получить множество промежуточных значений вида $1.25 * 10^{-12}$, вызванные погрешностями процессов кодирования и декодирования.\n",
    "\n",
    "Напишем алгоритм кодировки."
   ]
  },
  {
   "cell_type": "code",
   "execution_count": 28,
   "metadata": {},
   "outputs": [],
   "source": [
    "def coder(features, target):\n",
    "    \n",
    "    n = len(features.columns)\n",
    "    matrix_doubled = [[random.randint(0, 9) for r in range(n)] for s in range(2*n)]\n",
    "    matrix_1 = matrix_doubled[:4]\n",
    "    matrix_2 = matrix_doubled[4:]\n",
    "\n",
    "    try:\n",
    "        \n",
    "        # здесь нет ошибки, т.к. на выход будет подаваться сначала обратная матрица\n",
    "        # для второй кодирующей матрицы, и только потом для первой.\n",
    "        \n",
    "        key_matrix_2 = np.linalg.inv(matrix_1)\n",
    "        key_matrix_1 = np.linalg.inv(matrix_2)\n",
    "    except LinAlgError:\n",
    "        print(\"Ошибка при генерации ключей. Перезапустите кодировщик.\")\n",
    "    \n",
    "    features_coded = features @ matrix_1 @ matrix_2\n",
    "    \n",
    "    model = LinearRegression()\n",
    "    predictions = cross_val_predict(model, features, target, cv = 5, n_jobs = -1)\n",
    "    r_2_score = r2_score(target, predictions)\n",
    "    \n",
    "    model_coded = LinearRegression()\n",
    "    predictions_coded = cross_val_predict(model_coded, features_coded, target, cv = 5, n_jobs = -1)\n",
    "    r_2_score_coded = r2_score(target, predictions_coded)\n",
    "    \n",
    "    return features_coded , key_matrix_1, key_matrix_2, r_2_score, r_2_score_coded\n",
    "    \n",
    "coded_data = []\n",
    "key_1 = []\n",
    "key_2 = []\n",
    "\n",
    "r_2 = 0 \n",
    "r_2_score = 0\n",
    "\n",
    "coded_data, key_1, key_2, r_2, r_2_score = coder(features, target)"
   ]
  },
  {
   "cell_type": "markdown",
   "metadata": {},
   "source": [
    "Посмотрим, что получилось на выходе."
   ]
  },
  {
   "cell_type": "code",
   "execution_count": 29,
   "metadata": {},
   "outputs": [
    {
     "data": {
      "text/html": [
       "<div>\n",
       "<style scoped>\n",
       "    .dataframe tbody tr th:only-of-type {\n",
       "        vertical-align: middle;\n",
       "    }\n",
       "\n",
       "    .dataframe tbody tr th {\n",
       "        vertical-align: top;\n",
       "    }\n",
       "\n",
       "    .dataframe thead th {\n",
       "        text-align: right;\n",
       "    }\n",
       "</style>\n",
       "<table border=\"1\" class=\"dataframe\">\n",
       "  <thead>\n",
       "    <tr style=\"text-align: right;\">\n",
       "      <th></th>\n",
       "      <th>0</th>\n",
       "      <th>1</th>\n",
       "      <th>2</th>\n",
       "      <th>3</th>\n",
       "    </tr>\n",
       "  </thead>\n",
       "  <tbody>\n",
       "    <tr>\n",
       "      <td>0</td>\n",
       "      <td>1092376.0</td>\n",
       "      <td>5461854.0</td>\n",
       "      <td>1191794.0</td>\n",
       "      <td>4766802.0</td>\n",
       "    </tr>\n",
       "    <tr>\n",
       "      <td>1</td>\n",
       "      <td>837300.0</td>\n",
       "      <td>4186427.0</td>\n",
       "      <td>913531.0</td>\n",
       "      <td>3653733.0</td>\n",
       "    </tr>\n",
       "    <tr>\n",
       "      <td>2</td>\n",
       "      <td>462812.0</td>\n",
       "      <td>2313973.0</td>\n",
       "      <td>504957.0</td>\n",
       "      <td>2019567.0</td>\n",
       "    </tr>\n",
       "    <tr>\n",
       "      <td>3</td>\n",
       "      <td>918012.0</td>\n",
       "      <td>4590127.0</td>\n",
       "      <td>1001519.0</td>\n",
       "      <td>4005933.0</td>\n",
       "    </tr>\n",
       "    <tr>\n",
       "      <td>4</td>\n",
       "      <td>575000.0</td>\n",
       "      <td>2874948.0</td>\n",
       "      <td>627352.0</td>\n",
       "      <td>2509128.0</td>\n",
       "    </tr>\n",
       "    <tr>\n",
       "      <td>...</td>\n",
       "      <td>...</td>\n",
       "      <td>...</td>\n",
       "      <td>...</td>\n",
       "      <td>...</td>\n",
       "    </tr>\n",
       "    <tr>\n",
       "      <td>4995</td>\n",
       "      <td>786208.0</td>\n",
       "      <td>3931086.0</td>\n",
       "      <td>857750.0</td>\n",
       "      <td>3430794.0</td>\n",
       "    </tr>\n",
       "    <tr>\n",
       "      <td>4996</td>\n",
       "      <td>1153764.0</td>\n",
       "      <td>5768783.0</td>\n",
       "      <td>1258735.0</td>\n",
       "      <td>5034657.0</td>\n",
       "    </tr>\n",
       "    <tr>\n",
       "      <td>4997</td>\n",
       "      <td>746384.0</td>\n",
       "      <td>3731990.0</td>\n",
       "      <td>814286.0</td>\n",
       "      <td>3257010.0</td>\n",
       "    </tr>\n",
       "    <tr>\n",
       "      <td>4998</td>\n",
       "      <td>720068.0</td>\n",
       "      <td>3600501.0</td>\n",
       "      <td>785593.0</td>\n",
       "      <td>3142215.0</td>\n",
       "    </tr>\n",
       "    <tr>\n",
       "      <td>4999</td>\n",
       "      <td>894012.0</td>\n",
       "      <td>4470073.0</td>\n",
       "      <td>975365.0</td>\n",
       "      <td>3901203.0</td>\n",
       "    </tr>\n",
       "  </tbody>\n",
       "</table>\n",
       "<p>5000 rows × 4 columns</p>\n",
       "</div>"
      ],
      "text/plain": [
       "              0          1          2          3\n",
       "0     1092376.0  5461854.0  1191794.0  4766802.0\n",
       "1      837300.0  4186427.0   913531.0  3653733.0\n",
       "2      462812.0  2313973.0   504957.0  2019567.0\n",
       "3      918012.0  4590127.0  1001519.0  4005933.0\n",
       "4      575000.0  2874948.0   627352.0  2509128.0\n",
       "...         ...        ...        ...        ...\n",
       "4995   786208.0  3931086.0   857750.0  3430794.0\n",
       "4996  1153764.0  5768783.0  1258735.0  5034657.0\n",
       "4997   746384.0  3731990.0   814286.0  3257010.0\n",
       "4998   720068.0  3600501.0   785593.0  3142215.0\n",
       "4999   894012.0  4470073.0   975365.0  3901203.0\n",
       "\n",
       "[5000 rows x 4 columns]"
      ]
     },
     "execution_count": 29,
     "metadata": {},
     "output_type": "execute_result"
    }
   ],
   "source": [
    "coded_data"
   ]
  },
  {
   "cell_type": "markdown",
   "metadata": {},
   "source": [
    "Выглядит внушительно и совершенно непонятно."
   ]
  },
  {
   "cell_type": "code",
   "execution_count": 30,
   "metadata": {},
   "outputs": [
    {
     "data": {
      "text/plain": [
       "(0.4238701651189615, 0.4238701651191713)"
      ]
     },
     "execution_count": 30,
     "metadata": {},
     "output_type": "execute_result"
    }
   ],
   "source": [
    "r_2, r_2_score"
   ]
  },
  {
   "cell_type": "markdown",
   "metadata": {},
   "source": [
    "Значения R2 хоть и \"КРАЙНЕ МАЛЫ!\", тем не менее, они при этом всём и крайне близки друг к другу. Первый расхождения - на 12 знаке после запятой. В нашем случае такой точности вполне достаточно. \n",
    "\n",
    "Проверим теперь возможность декодирования датасета в обратную сторону."
   ]
  },
  {
   "cell_type": "code",
   "execution_count": 31,
   "metadata": {},
   "outputs": [],
   "source": [
    "keys = [key_1, key_2]\n",
    "\n",
    "def decoder(coded_features, key_list):\n",
    "    decoded_features = coded_features\n",
    "    for key in key_list:\n",
    "        decoded_features = decoded_features @ key\n",
    "    \n",
    "    decoded_features_int = decoded_features\n",
    "    return decoded_features_int"
   ]
  },
  {
   "cell_type": "code",
   "execution_count": 32,
   "metadata": {},
   "outputs": [
    {
     "data": {
      "text/html": [
       "<div>\n",
       "<style scoped>\n",
       "    .dataframe tbody tr th:only-of-type {\n",
       "        vertical-align: middle;\n",
       "    }\n",
       "\n",
       "    .dataframe tbody tr th {\n",
       "        vertical-align: top;\n",
       "    }\n",
       "\n",
       "    .dataframe thead th {\n",
       "        text-align: right;\n",
       "    }\n",
       "</style>\n",
       "<table border=\"1\" class=\"dataframe\">\n",
       "  <thead>\n",
       "    <tr style=\"text-align: right;\">\n",
       "      <th></th>\n",
       "      <th>Пол</th>\n",
       "      <th>Возраст</th>\n",
       "      <th>Зарплата</th>\n",
       "      <th>Члены семьи</th>\n",
       "    </tr>\n",
       "  </thead>\n",
       "  <tbody>\n",
       "    <tr>\n",
       "      <td>0</td>\n",
       "      <td>1.0</td>\n",
       "      <td>41.0</td>\n",
       "      <td>49600.0</td>\n",
       "      <td>1.0</td>\n",
       "    </tr>\n",
       "    <tr>\n",
       "      <td>1</td>\n",
       "      <td>0.0</td>\n",
       "      <td>46.0</td>\n",
       "      <td>38000.0</td>\n",
       "      <td>1.0</td>\n",
       "    </tr>\n",
       "    <tr>\n",
       "      <td>2</td>\n",
       "      <td>0.0</td>\n",
       "      <td>29.0</td>\n",
       "      <td>21000.0</td>\n",
       "      <td>0.0</td>\n",
       "    </tr>\n",
       "    <tr>\n",
       "      <td>3</td>\n",
       "      <td>0.0</td>\n",
       "      <td>21.0</td>\n",
       "      <td>41700.0</td>\n",
       "      <td>2.0</td>\n",
       "    </tr>\n",
       "    <tr>\n",
       "      <td>4</td>\n",
       "      <td>1.0</td>\n",
       "      <td>28.0</td>\n",
       "      <td>26100.0</td>\n",
       "      <td>0.0</td>\n",
       "    </tr>\n",
       "    <tr>\n",
       "      <td>...</td>\n",
       "      <td>...</td>\n",
       "      <td>...</td>\n",
       "      <td>...</td>\n",
       "      <td>...</td>\n",
       "    </tr>\n",
       "    <tr>\n",
       "      <td>4995</td>\n",
       "      <td>0.0</td>\n",
       "      <td>28.0</td>\n",
       "      <td>35700.0</td>\n",
       "      <td>2.0</td>\n",
       "    </tr>\n",
       "    <tr>\n",
       "      <td>4996</td>\n",
       "      <td>0.0</td>\n",
       "      <td>34.0</td>\n",
       "      <td>52400.0</td>\n",
       "      <td>1.0</td>\n",
       "    </tr>\n",
       "    <tr>\n",
       "      <td>4997</td>\n",
       "      <td>0.0</td>\n",
       "      <td>20.0</td>\n",
       "      <td>33900.0</td>\n",
       "      <td>2.0</td>\n",
       "    </tr>\n",
       "    <tr>\n",
       "      <td>4998</td>\n",
       "      <td>1.0</td>\n",
       "      <td>22.0</td>\n",
       "      <td>32700.0</td>\n",
       "      <td>3.0</td>\n",
       "    </tr>\n",
       "    <tr>\n",
       "      <td>4999</td>\n",
       "      <td>1.0</td>\n",
       "      <td>28.0</td>\n",
       "      <td>40600.0</td>\n",
       "      <td>1.0</td>\n",
       "    </tr>\n",
       "  </tbody>\n",
       "</table>\n",
       "<p>5000 rows × 4 columns</p>\n",
       "</div>"
      ],
      "text/plain": [
       "      Пол  Возраст  Зарплата  Члены семьи\n",
       "0     1.0     41.0   49600.0          1.0\n",
       "1     0.0     46.0   38000.0          1.0\n",
       "2     0.0     29.0   21000.0          0.0\n",
       "3     0.0     21.0   41700.0          2.0\n",
       "4     1.0     28.0   26100.0          0.0\n",
       "...   ...      ...       ...          ...\n",
       "4995  0.0     28.0   35700.0          2.0\n",
       "4996  0.0     34.0   52400.0          1.0\n",
       "4997  0.0     20.0   33900.0          2.0\n",
       "4998  1.0     22.0   32700.0          3.0\n",
       "4999  1.0     28.0   40600.0          1.0\n",
       "\n",
       "[5000 rows x 4 columns]"
      ]
     },
     "execution_count": 32,
     "metadata": {},
     "output_type": "execute_result"
    }
   ],
   "source": [
    "back_to_features = decoder(coded_data, keys)\n",
    "back_to_features.columns = features.columns\n",
    "back_to_features = abs(back_to_features.round(0))\n",
    "back_to_features"
   ]
  },
  {
   "cell_type": "markdown",
   "metadata": {},
   "source": [
    "На первый взгляд - очень похоже, что восстановление прошло успешно. Проверим, совпадают ли данные "
   ]
  },
  {
   "cell_type": "code",
   "execution_count": 33,
   "metadata": {},
   "outputs": [
    {
     "name": "stdout",
     "output_type": "stream",
     "text": [
      "0.0    5000\n",
      "Name: Пол, dtype: int64\n",
      "0.0    5000\n",
      "Name: Возраст, dtype: int64\n",
      " 0.000000e+00    4960\n",
      " 3.637979e-12      35\n",
      "-7.275958e-12       3\n",
      " 7.275958e-12       2\n",
      "Name: Зарплата, dtype: int64\n",
      "0.0    5000\n",
      "Name: Члены семьи, dtype: int64\n"
     ]
    }
   ],
   "source": [
    "delta = features - back_to_features\n",
    "for column in delta.columns:\n",
    "    print(delta[column].value_counts())"
   ]
  },
  {
   "cell_type": "markdown",
   "metadata": {},
   "source": [
    "Погрешности обнаружены в столбце №2 - \"Возраст\". \n",
    "Из 5000 значений 40 восстановлены \"криво\", с отклонением $10^{-12}$. Полагаю, такая точность на таком массиве данных (99.2%) допустима. \n",
    "\n",
    "> Спасибо за внимание!"
   ]
  }
 ],
 "metadata": {
  "kernelspec": {
   "display_name": "Python 3",
   "language": "python",
   "name": "python3"
  },
  "language_info": {
   "codemirror_mode": {
    "name": "ipython",
    "version": 3
   },
   "file_extension": ".py",
   "mimetype": "text/x-python",
   "name": "python",
   "nbconvert_exporter": "python",
   "pygments_lexer": "ipython3",
   "version": "3.8.3"
  }
 },
 "nbformat": 4,
 "nbformat_minor": 2
}
