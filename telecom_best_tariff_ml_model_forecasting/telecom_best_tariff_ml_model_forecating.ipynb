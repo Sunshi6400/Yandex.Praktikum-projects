{
 "cells": [
  {
   "cell_type": "markdown",
   "metadata": {},
   "source": [
    "# Разработка рекомендательной модели машинного обучения"
   ]
  },
  {
   "cell_type": "markdown",
   "metadata": {},
   "source": [
    "В вашем распоряжении данные о поведении клиентов, которые уже перешли на эти тарифы (из проекта курса «Статистический анализ данных»). Нужно построить модель для задачи классификации, которая выберет подходящий тариф. Предобработка данных не понадобится — вы её уже сделали.\n",
    "\n",
    "Постройте модель с максимально большим значением *accuracy*. Чтобы сдать проект успешно, нужно довести долю правильных ответов по крайней мере до 0.75. Проверьте *accuracy* на тестовой выборке самостоятельно.\n"
   ]
  },
  {
   "cell_type": "markdown",
   "metadata": {},
   "source": [
    "## 1. Исследование данных"
   ]
  },
  {
   "cell_type": "markdown",
   "metadata": {},
   "source": [
    "Для начала подтянем библиотеки :)"
   ]
  },
  {
   "cell_type": "code",
   "execution_count": 1,
   "metadata": {},
   "outputs": [],
   "source": [
    "from sklearn.tree import DecisionTreeClassifier\n",
    "from sklearn.ensemble import RandomForestClassifier\n",
    "from sklearn.linear_model import LogisticRegression\n",
    "\n",
    "from sklearn.metrics import accuracy_score\n",
    "\n",
    "from sklearn.model_selection import train_test_split\n",
    "\n",
    "import pandas as pd"
   ]
  },
  {
   "cell_type": "code",
   "execution_count": 2,
   "metadata": {},
   "outputs": [
    {
     "data": {
      "text/html": [
       "<div>\n",
       "<style scoped>\n",
       "    .dataframe tbody tr th:only-of-type {\n",
       "        vertical-align: middle;\n",
       "    }\n",
       "\n",
       "    .dataframe tbody tr th {\n",
       "        vertical-align: top;\n",
       "    }\n",
       "\n",
       "    .dataframe thead th {\n",
       "        text-align: right;\n",
       "    }\n",
       "</style>\n",
       "<table border=\"1\" class=\"dataframe\">\n",
       "  <thead>\n",
       "    <tr style=\"text-align: right;\">\n",
       "      <th></th>\n",
       "      <th>calls</th>\n",
       "      <th>minutes</th>\n",
       "      <th>messages</th>\n",
       "      <th>mb_used</th>\n",
       "      <th>is_ultra</th>\n",
       "    </tr>\n",
       "  </thead>\n",
       "  <tbody>\n",
       "    <tr>\n",
       "      <td>0</td>\n",
       "      <td>40.0</td>\n",
       "      <td>311.90</td>\n",
       "      <td>83.0</td>\n",
       "      <td>19915.42</td>\n",
       "      <td>0</td>\n",
       "    </tr>\n",
       "    <tr>\n",
       "      <td>1</td>\n",
       "      <td>85.0</td>\n",
       "      <td>516.75</td>\n",
       "      <td>56.0</td>\n",
       "      <td>22696.96</td>\n",
       "      <td>0</td>\n",
       "    </tr>\n",
       "    <tr>\n",
       "      <td>2</td>\n",
       "      <td>77.0</td>\n",
       "      <td>467.66</td>\n",
       "      <td>86.0</td>\n",
       "      <td>21060.45</td>\n",
       "      <td>0</td>\n",
       "    </tr>\n",
       "    <tr>\n",
       "      <td>3</td>\n",
       "      <td>106.0</td>\n",
       "      <td>745.53</td>\n",
       "      <td>81.0</td>\n",
       "      <td>8437.39</td>\n",
       "      <td>1</td>\n",
       "    </tr>\n",
       "    <tr>\n",
       "      <td>4</td>\n",
       "      <td>66.0</td>\n",
       "      <td>418.74</td>\n",
       "      <td>1.0</td>\n",
       "      <td>14502.75</td>\n",
       "      <td>0</td>\n",
       "    </tr>\n",
       "  </tbody>\n",
       "</table>\n",
       "</div>"
      ],
      "text/plain": [
       "   calls  minutes  messages   mb_used  is_ultra\n",
       "0   40.0   311.90      83.0  19915.42         0\n",
       "1   85.0   516.75      56.0  22696.96         0\n",
       "2   77.0   467.66      86.0  21060.45         0\n",
       "3  106.0   745.53      81.0   8437.39         1\n",
       "4   66.0   418.74       1.0  14502.75         0"
      ]
     },
     "execution_count": 2,
     "metadata": {},
     "output_type": "execute_result"
    }
   ],
   "source": [
    "users_data = pd.read_csv(\"/datasets/users_behavior.csv\")\n",
    "users_data.head()"
   ]
  },
  {
   "cell_type": "markdown",
   "metadata": {},
   "source": [
    "5 столбцов, длительность звонков, количество минут, сообщений, мегабайт (потраченных за месяц) и принадлежность к тарифу \"Смарт\" или \"Ультра\"."
   ]
  },
  {
   "cell_type": "markdown",
   "metadata": {},
   "source": [
    "## 2. Подготовка данных"
   ]
  },
  {
   "cell_type": "markdown",
   "metadata": {},
   "source": [
    "60% данных - обучающая выборка, 20% - валидационная, 20% - тестовая. "
   ]
  },
  {
   "cell_type": "code",
   "execution_count": 3,
   "metadata": {},
   "outputs": [
    {
     "name": "stdout",
     "output_type": "stream",
     "text": [
      "(1928, 5)\n",
      "(643, 5)\n",
      "(643, 5)\n"
     ]
    }
   ],
   "source": [
    "users_train, users_valid_test = train_test_split(users_data, test_size=0.4, random_state=12345)\n",
    "users_valid, users_test = train_test_split(users_valid_test, test_size=0.5, random_state=12345)\n",
    "print(users_train.shape)\n",
    "print(users_valid.shape)\n",
    "print(users_test.shape)"
   ]
  },
  {
   "cell_type": "markdown",
   "metadata": {},
   "source": [
    "60-20-20%. Разделение готово. Теперь нарежем полученные выборки на датасеты с параметрами и целевым параметром (принадлежностью к тому или иному тарифному плану - ведь нас интересует именно возможность такой классификации). "
   ]
  },
  {
   "cell_type": "code",
   "execution_count": 4,
   "metadata": {},
   "outputs": [],
   "source": [
    "features_train = users_train.drop(['is_ultra'], axis = 1)\n",
    "target_train = users_train['is_ultra']\n",
    "\n",
    "features_valid = users_valid.drop(['is_ultra'], axis = 1)\n",
    "target_valid = users_valid['is_ultra']\n",
    "\n",
    "features_test = users_test.drop(['is_ultra'], axis = 1)\n",
    "target_test = users_test['is_ultra']"
   ]
  },
  {
   "cell_type": "markdown",
   "metadata": {},
   "source": [
    "## 3. Обучение и валидация моделей"
   ]
  },
  {
   "cell_type": "markdown",
   "metadata": {},
   "source": [
    "Начнем с классифицирующего древа. Проверим влияние глубины древа (как гиперпараметра) на accuracy на валидационной выборке. Сделаем шаг в 1 единицу (можем себе позволить!). Диапазон варьирования - от 2 до 50 уровней. "
   ]
  },
  {
   "cell_type": "code",
   "execution_count": 5,
   "metadata": {},
   "outputs": [
    {
     "name": "stdout",
     "output_type": "stream",
     "text": [
      "Наилучшее значение accuracy, равное 0.7853810264385692 зафиксировано для глубины дерева, равной 3\n"
     ]
    }
   ],
   "source": [
    "max_accuracy_tree = 0\n",
    "max_tree_depth = 0\n",
    "for i in range (2, 51, 1):\n",
    "    model_tree = DecisionTreeClassifier(random_state=12345, max_depth = i)\n",
    "    model_tree.fit(features_train, target_train)\n",
    "    predictions_tree = model_tree.predict(features_valid)\n",
    "    accuracy_tree = accuracy_score(target_valid, predictions_tree)\n",
    "    if max_accuracy_tree < accuracy_tree:\n",
    "        max_accuracy_tree = accuracy_tree\n",
    "        max_tree_depth = i\n",
    "              \n",
    "print(\"Наилучшее значение accuracy, равное\", max_accuracy_tree, \"зафиксировано для глубины дерева, равной\", max_tree_depth)"
   ]
  },
  {
   "cell_type": "markdown",
   "metadata": {},
   "source": [
    "Оказывается не нужно было \"глубоко\" смотреть - наилучший результат получен для древа глубиной 3. Переходим к изучению модели случайных деревьев."
   ]
  },
  {
   "cell_type": "code",
   "execution_count": 6,
   "metadata": {},
   "outputs": [
    {
     "name": "stdout",
     "output_type": "stream",
     "text": [
      "Наилучшее значение accuracy, равное 0.7947122861586314 зафиксировано для числа деревьев, равного 23\n"
     ]
    }
   ],
   "source": [
    "max_accuracy_forest = 0\n",
    "max_forest_estimators_number = 0\n",
    "for i in range (2, 51, 1):\n",
    "    model_forest = RandomForestClassifier(random_state=12345, n_estimators = i)\n",
    "    model_forest.fit(features_train, target_train)\n",
    "    predictions_forest = model_forest.predict(features_valid)\n",
    "    accuracy_forest = accuracy_score(target_valid, predictions_forest)\n",
    "    if max_accuracy_forest < accuracy_forest:\n",
    "        max_accuracy_forest = accuracy_forest\n",
    "        max_forest_estimators_number = i\n",
    "              \n",
    "print(\"Наилучшее значение accuracy, равное\", max_accuracy_forest,\n",
    "      \"зафиксировано для числа деревьев, равного\", max_forest_estimators_number)"
   ]
  },
  {
   "cell_type": "markdown",
   "metadata": {},
   "source": [
    "Налицо куда большая длительность обучения и валидации модели по данному алгоритму. Наилучший результат (надо сказать, не намного лучший чем у решающего древа), получен для 23 случайных деревьев. Переходим к логистической регрессии."
   ]
  },
  {
   "cell_type": "code",
   "execution_count": 7,
   "metadata": {},
   "outputs": [
    {
     "name": "stdout",
     "output_type": "stream",
     "text": [
      "Для модели на основе алгоритма логистической регрессии, значение accuracy равно 0.7589424572317263\n"
     ]
    },
    {
     "name": "stderr",
     "output_type": "stream",
     "text": [
      "/opt/conda/lib/python3.7/site-packages/sklearn/linear_model/logistic.py:432: FutureWarning: Default solver will be changed to 'lbfgs' in 0.22. Specify a solver to silence this warning.\n",
      "  FutureWarning)\n"
     ]
    }
   ],
   "source": [
    "model_log_reg = LogisticRegression()\n",
    "model_log_reg.fit(features_train, target_train)\n",
    "predictions_log_reg = model_log_reg.predict(features_valid)\n",
    "accuracy_log_reg = accuracy_score(target_valid, predictions_log_reg)\n",
    "print(\"Для модели на основе алгоритма логистической регрессии, значение accuracy равно\", accuracy_log_reg)"
   ]
  },
  {
   "cell_type": "markdown",
   "metadata": {},
   "source": [
    "Минимальное значение accuracy получено для модели, обученной по алгоритму логистической регрессии. Целесообразность его дальнейшего использования сомнительна."
   ]
  },
  {
   "cell_type": "markdown",
   "metadata": {},
   "source": [
    "Таким образом, у нас есть победитель - модель решающего древа с максимальной глубиной = 3. Для наших целей модели, обученной по данному алгоритму более чем достаточно, т.к. она сочетает в себе достаточно высокую accuracy (на имеющихся данных) и высокую скорость, в отличие от алгоритма с 23 (!) деревьями и логистической регрессией. \n",
    "\n",
    "Для \"леса\" accuracy не намного выше (~0.01), а длительность намного выше, что, в реальных условиях может быть куда губительней, нежели потеря 1% accuracy предсказания.\n",
    "\n",
    "\n",
    "Модель, обученная по алгоритму логистической регрессии, на валидационных данных позволяет получить accuracy чуть большую 0.75 при скорости, сопоставимой с решающим древом. Как следствие, данный вариант модели выпадает из \"конкуренции\"."
   ]
  },
  {
   "cell_type": "markdown",
   "metadata": {},
   "source": [
    "## 4. Тестирование модели"
   ]
  },
  {
   "cell_type": "code",
   "execution_count": 8,
   "metadata": {},
   "outputs": [
    {
     "data": {
      "text/plain": [
       "0.776049766718507"
      ]
     },
     "execution_count": 8,
     "metadata": {},
     "output_type": "execute_result"
    }
   ],
   "source": [
    "features_full = pd.concat([features_train,features_valid])\n",
    "target_full = pd.concat([target_train,target_valid])\n",
    "\n",
    "model_tree_final = DecisionTreeClassifier(random_state=12345, max_depth = 3)\n",
    "model_tree_final.fit(features_full, target_full)\n",
    "predictions = model_tree_final.predict(features_test)\n",
    "accuracy = accuracy_score(target_test, predictions)\n",
    "accuracy"
   ]
  },
  {
   "cell_type": "markdown",
   "metadata": {},
   "source": [
    "На тестовой выборке мы получили accuracy более 0.75 - почти 0.78. Рубеж взят :)"
   ]
  },
  {
   "cell_type": "code",
   "execution_count": null,
   "metadata": {},
   "outputs": [],
   "source": []
  }
 ],
 "metadata": {
  "kernelspec": {
   "display_name": "Python 3",
   "language": "python",
   "name": "python3"
  },
  "language_info": {
   "codemirror_mode": {
    "name": "ipython",
    "version": 3
   },
   "file_extension": ".py",
   "mimetype": "text/x-python",
   "name": "python",
   "nbconvert_exporter": "python",
   "pygments_lexer": "ipython3",
   "version": "3.8.3"
  }
 },
 "nbformat": 4,
 "nbformat_minor": 2
}
