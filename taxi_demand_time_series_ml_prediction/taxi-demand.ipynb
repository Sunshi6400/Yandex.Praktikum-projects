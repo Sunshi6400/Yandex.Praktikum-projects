{
 "cells": [
  {
   "cell_type": "markdown",
   "metadata": {},
   "source": [
    "# Прогнозирование заказов такси \n",
    "\n",
    "## Цель проекта:\n",
    "\n",
    "Разработать модель прогнозирования количества заказов такси на следующий час на основании исторических данных о заказах такси в аэропортах. \n",
    "\n",
    "Метрика качества - RMSE, значение метрики должно быть меньше 48."
   ]
  },
  {
   "cell_type": "markdown",
   "metadata": {},
   "source": [
    "### Библиотеки"
   ]
  },
  {
   "cell_type": "code",
   "execution_count": 1,
   "metadata": {},
   "outputs": [],
   "source": [
    "import time\n",
    "\n",
    "import pandas as pd\n",
    "\n",
    "import matplotlib.pyplot as plt \n",
    "\n",
    "from sklearn.model_selection import train_test_split\n",
    "from sklearn.ensemble import RandomForestRegressor\n",
    "from sklearn.metrics import mean_squared_error\n",
    "from sklearn.linear_model import LinearRegression\n",
    "\n",
    "from statsmodels.tsa.seasonal import seasonal_decompose\n",
    "\n",
    "import lightgbm as lgb"
   ]
  },
  {
   "cell_type": "markdown",
   "metadata": {},
   "source": [
    "# 0. Предварительный взгляд на данные"
   ]
  },
  {
   "cell_type": "code",
   "execution_count": 2,
   "metadata": {},
   "outputs": [
    {
     "data": {
      "text/html": [
       "<div>\n",
       "<style scoped>\n",
       "    .dataframe tbody tr th:only-of-type {\n",
       "        vertical-align: middle;\n",
       "    }\n",
       "\n",
       "    .dataframe tbody tr th {\n",
       "        vertical-align: top;\n",
       "    }\n",
       "\n",
       "    .dataframe thead th {\n",
       "        text-align: right;\n",
       "    }\n",
       "</style>\n",
       "<table border=\"1\" class=\"dataframe\">\n",
       "  <thead>\n",
       "    <tr style=\"text-align: right;\">\n",
       "      <th></th>\n",
       "      <th>num_orders</th>\n",
       "    </tr>\n",
       "    <tr>\n",
       "      <th>datetime</th>\n",
       "      <th></th>\n",
       "    </tr>\n",
       "  </thead>\n",
       "  <tbody>\n",
       "    <tr>\n",
       "      <td>2018-03-01 00:00:00</td>\n",
       "      <td>9</td>\n",
       "    </tr>\n",
       "    <tr>\n",
       "      <td>2018-03-01 00:10:00</td>\n",
       "      <td>14</td>\n",
       "    </tr>\n",
       "    <tr>\n",
       "      <td>2018-03-01 00:20:00</td>\n",
       "      <td>28</td>\n",
       "    </tr>\n",
       "    <tr>\n",
       "      <td>2018-03-01 00:30:00</td>\n",
       "      <td>20</td>\n",
       "    </tr>\n",
       "    <tr>\n",
       "      <td>2018-03-01 00:40:00</td>\n",
       "      <td>32</td>\n",
       "    </tr>\n",
       "    <tr>\n",
       "      <td>...</td>\n",
       "      <td>...</td>\n",
       "    </tr>\n",
       "    <tr>\n",
       "      <td>2018-08-31 23:10:00</td>\n",
       "      <td>32</td>\n",
       "    </tr>\n",
       "    <tr>\n",
       "      <td>2018-08-31 23:20:00</td>\n",
       "      <td>24</td>\n",
       "    </tr>\n",
       "    <tr>\n",
       "      <td>2018-08-31 23:30:00</td>\n",
       "      <td>27</td>\n",
       "    </tr>\n",
       "    <tr>\n",
       "      <td>2018-08-31 23:40:00</td>\n",
       "      <td>39</td>\n",
       "    </tr>\n",
       "    <tr>\n",
       "      <td>2018-08-31 23:50:00</td>\n",
       "      <td>53</td>\n",
       "    </tr>\n",
       "  </tbody>\n",
       "</table>\n",
       "<p>26496 rows × 1 columns</p>\n",
       "</div>"
      ],
      "text/plain": [
       "                     num_orders\n",
       "datetime                       \n",
       "2018-03-01 00:00:00           9\n",
       "2018-03-01 00:10:00          14\n",
       "2018-03-01 00:20:00          28\n",
       "2018-03-01 00:30:00          20\n",
       "2018-03-01 00:40:00          32\n",
       "...                         ...\n",
       "2018-08-31 23:10:00          32\n",
       "2018-08-31 23:20:00          24\n",
       "2018-08-31 23:30:00          27\n",
       "2018-08-31 23:40:00          39\n",
       "2018-08-31 23:50:00          53\n",
       "\n",
       "[26496 rows x 1 columns]"
      ]
     },
     "execution_count": 2,
     "metadata": {},
     "output_type": "execute_result"
    }
   ],
   "source": [
    "# taxi_time_ser = pd.read_csv('/datasets/taxi.csv', index_col = [0], parse_dates = [0])\n",
    "taxi_time_ser = pd.read_csv('taxi.csv', index_col = [0], parse_dates = [0])\n",
    "taxi_time_ser"
   ]
  },
  {
   "cell_type": "code",
   "execution_count": 3,
   "metadata": {},
   "outputs": [
    {
     "name": "stdout",
     "output_type": "stream",
     "text": [
      "<class 'pandas.core.frame.DataFrame'>\n",
      "DatetimeIndex: 26496 entries, 2018-03-01 00:00:00 to 2018-08-31 23:50:00\n",
      "Data columns (total 1 columns):\n",
      "num_orders    26496 non-null int64\n",
      "dtypes: int64(1)\n",
      "memory usage: 414.0 KB\n"
     ]
    }
   ],
   "source": [
    "taxi_time_ser.info()"
   ]
  },
  {
   "cell_type": "markdown",
   "metadata": {},
   "source": [
    "26+ тысяч значений. Пропусков сходу не видно. У нас в наличии значения с 1 марта по 31 августа 2018 года. Уточним - когда отсортируем. \n",
    "\n",
    "Значения целевого признака - количественные, стало быть перед нами задача регрессии. Отлично.\n",
    "\n",
    "Теперь к данным!"
   ]
  },
  {
   "cell_type": "markdown",
   "metadata": {},
   "source": [
    "# 1-2. Подготовка и анализ данных"
   ]
  },
  {
   "cell_type": "markdown",
   "metadata": {},
   "source": [
    "Проверим временной ряд на монотонность."
   ]
  },
  {
   "cell_type": "code",
   "execution_count": 4,
   "metadata": {},
   "outputs": [
    {
     "name": "stdout",
     "output_type": "stream",
     "text": [
      "True\n"
     ]
    }
   ],
   "source": [
    "print(taxi_time_ser.index.is_monotonic)"
   ]
  },
  {
   "cell_type": "markdown",
   "metadata": {},
   "source": [
    "Супер, ничего переставлять местами не нужно. У нас точно 6 месяцев значений. \n",
    "\n",
    "Посмотрим на распределение значений целевого признака - для общего развития."
   ]
  },
  {
   "cell_type": "code",
   "execution_count": 5,
   "metadata": {},
   "outputs": [
    {
     "data": {
      "text/plain": [
       "<matplotlib.axes._subplots.AxesSubplot at 0x25ebd6134c8>"
      ]
     },
     "execution_count": 5,
     "metadata": {},
     "output_type": "execute_result"
    },
    {
     "data": {
      "image/png": "[encoded data removed]",
      "text/plain": [
       "<Figure size 432x288 with 1 Axes>"
      ]
     },
     "metadata": {
      "needs_background": "light"
     },
     "output_type": "display_data"
    }
   ],
   "source": [
    "taxi_time_ser['num_orders'].hist(bins = 120)"
   ]
  },
  {
   "cell_type": "markdown",
   "metadata": {},
   "source": [
    "Перед нами нормальное распределение с крайне длинным \"хвостом\" справа - в сторону повышенных значений. Звучит (и выглядит) весьма \"статистически\" :) В другой ситуации \"хвосту\" бы не поздоровилось - но не в нашем случае. Временной ряд, все-таки.\n",
    "\n",
    "Ресемплируем с масштабом в 1 час."
   ]
  },
  {
   "cell_type": "code",
   "execution_count": 6,
   "metadata": {},
   "outputs": [],
   "source": [
    "taxi_hour = taxi_time_ser.resample('1H').mean()"
   ]
  },
  {
   "cell_type": "code",
   "execution_count": 7,
   "metadata": {},
   "outputs": [
    {
     "data": {
      "text/plain": [
       "array([[<matplotlib.axes._subplots.AxesSubplot object at 0x0000025EBD6136C8>]],\n",
       "      dtype=object)"
      ]
     },
     "execution_count": 7,
     "metadata": {},
     "output_type": "execute_result"
    },
    {
     "data": {
      "image/png": "[encoded data removed]",
      "text/plain": [
       "<Figure size 432x288 with 1 Axes>"
      ]
     },
     "metadata": {
      "needs_background": "light"
     },
     "output_type": "display_data"
    }
   ],
   "source": [
    "taxi_hour.hist(bins = 80)"
   ]
  },
  {
   "cell_type": "markdown",
   "metadata": {},
   "source": [
    "Ресемплирование на 1 час по среднему значению, наверняка не привело к изменению среднего значений (ведь среднее средних - тоже самое, по итогу), хотя размах распределения, очевидно изменился. \n",
    "\n",
    "Построим временной ряд."
   ]
  },
  {
   "cell_type": "code",
   "execution_count": 8,
   "metadata": {},
   "outputs": [
    {
     "data": {
      "text/plain": [
       "<matplotlib.axes._subplots.AxesSubplot at 0x25ebdc42c88>"
      ]
     },
     "execution_count": 8,
     "metadata": {},
     "output_type": "execute_result"
    },
    {
     "data": {
      "image/png": "[encoded data removed]",
      "text/plain": [
       "<Figure size 432x288 with 1 Axes>"
      ]
     },
     "metadata": {
      "needs_background": "light"
     },
     "output_type": "display_data"
    }
   ],
   "source": [
    "taxi_hour.plot()"
   ]
  },
  {
   "cell_type": "markdown",
   "metadata": {},
   "source": [
    "Хотел тут написать про нестационарность ряда и т.п., но перед этим, пожалуй, убедимся в этом с помощью разделения на сезонность, тренд и шум."
   ]
  },
  {
   "cell_type": "code",
   "execution_count": 9,
   "metadata": {},
   "outputs": [
    {
     "data": {
      "text/plain": [
       "<matplotlib.axes._subplots.AxesSubplot at 0x25ebdf6d408>"
      ]
     },
     "execution_count": 9,
     "metadata": {},
     "output_type": "execute_result"
    },
    {
     "data": {
      "image/png": "[encoded data removed]",
      "text/plain": [
       "<Figure size 432x288 with 1 Axes>"
      ]
     },
     "metadata": {
      "needs_background": "light"
     },
     "output_type": "display_data"
    },
    {
     "data": {
      "image/png": "[encoded data removed]",
      "text/plain": [
       "<Figure size 432x288 with 1 Axes>"
      ]
     },
     "metadata": {
      "needs_background": "light"
     },
     "output_type": "display_data"
    },
    {
     "data": {
      "image/png": "[encoded data removed]",
      "text/plain": [
       "<Figure size 432x288 with 1 Axes>"
      ]
     },
     "metadata": {
      "needs_background": "light"
     },
     "output_type": "display_data"
    }
   ],
   "source": [
    "decomposed = seasonal_decompose(taxi_hour)\n",
    "decomposed.trend.plot()\n",
    "decomposed.seasonal.plot()\n",
    "decomposed.resid.plot() "
   ]
  },
  {
   "cell_type": "markdown",
   "metadata": {},
   "source": [
    "Тренд на повышение числа заявок на такси к лету очевиден и неоспорим. Сезонность пролетает \"мимо\", вероятно, в связи с недостаточным объемом данных - у нас всего полгода. А в меньшем масштабе мы и не смотрим.\n",
    "\n",
    "И тем не менее, перед нами нестационарный временной ряд - среднее меняется в зависимости от времени, впрочем как и стандартное отклонение."
   ]
  },
  {
   "cell_type": "markdown",
   "metadata": {},
   "source": [
    "Напишем функцию для подготовки данных и вычленения признаков. Воспользуемся кодом, который мы писали в тренажере. Он вполне подойдет. Здесь нам предстоит найти некий промежуточный вариант между количеством признаков, длительностью обучения, сложностью модели и значением целевой метрики. \n",
    "\n",
    "Но сперва - функция \"создания признаков\"."
   ]
  },
  {
   "cell_type": "code",
   "execution_count": 10,
   "metadata": {},
   "outputs": [],
   "source": [
    "def make_features(data, max_lag, rolling_mean_size):\n",
    "    data_new = data.copy()\n",
    "    data_new['year'] = data_new.index.year\n",
    "    data_new['month'] = data_new.index.month\n",
    "    data_new['day'] = data_new.index.day\n",
    "    data_new['dayofweek'] = data_new.index.dayofweek\n",
    "    \n",
    "    for lag in range(1, max_lag + 1):\n",
    "        data_new['lag_{}'.format(lag)] = data_new['num_orders'].shift(lag)\n",
    "    \n",
    "    data_new['rolling_mean'] = data_new['num_orders'].shift().rolling(rolling_mean_size).mean()\n",
    "    \n",
    "    return data_new.dropna()"
   ]
  },
  {
   "cell_type": "markdown",
   "metadata": {},
   "source": [
    "Функция готова, воспользуемся ей в разделе \"обучение\"."
   ]
  },
  {
   "cell_type": "markdown",
   "metadata": {},
   "source": [
    "# 3. Обучение"
   ]
  },
  {
   "cell_type": "markdown",
   "metadata": {},
   "source": [
    "Сравнивать с целью получения наилучшего значения метрики будем модели 2 типов - градиентный бустинг на деревьях и обычную линейную регрессию. Бустинг - на майкрософтовском LGBM."
   ]
  },
  {
   "cell_type": "markdown",
   "metadata": {},
   "source": [
    "Обучение моделей будем проводить на 4 датасетах - этого, на мой взгляд, будет достаточно, чтобы как минимум предположить направление изменения значения метрики, в зависимости от числа \"лагов\" и размера скользящей рамки.\n",
    "\n",
    "1. Лаг = 3, рамка = 4\n",
    "2. Лаг = 8, рамка = 4\n",
    "3. Лаг = 3, рамка = 10\n",
    "4. Лаг = 8, рамка = 10\n",
    "\n",
    "Нарежем датасетов с соответствующими номерами для последующего обучения."
   ]
  },
  {
   "cell_type": "code",
   "execution_count": 11,
   "metadata": {},
   "outputs": [
    {
     "name": "stdout",
     "output_type": "stream",
     "text": [
      "(4412, 9) (4408, 14) (4406, 9) (4406, 14)\n"
     ]
    }
   ],
   "source": [
    "taxi_f1 = make_features(taxi_hour, 3, 4)\n",
    "taxi_f2 = make_features(taxi_hour, 8, 4)\n",
    "taxi_f3 = make_features(taxi_hour, 3, 10)\n",
    "taxi_f4 = make_features(taxi_hour, 8, 10)\n",
    "\n",
    "print(taxi_f1.shape, taxi_f2.shape, taxi_f3.shape, taxi_f4.shape)"
   ]
  },
  {
   "cell_type": "markdown",
   "metadata": {},
   "source": [
    "Думаю я, думаю и никак не могу понять - стоит ли в данном случае делать валидационную выборку, на основании которой я смогу определять наилучшую модель, с точки зрения метрики RMSE. \n",
    "\n",
    "И я придумал следующий план. Да, валидационная выборка нужна. Она составит ещё 10% от общего объема данных, следовательно итоговое соотношение train-valid-test будет равно 80-10-10. После подбора гиперпараметров лучшей модели и перехода к тестированию, я повторно обучу модель с лучшими гиперпараметрами на выборке train+valid, тем самым не потеряв никаких данных."
   ]
  },
  {
   "cell_type": "markdown",
   "metadata": {},
   "source": [
    "А поскольку нам по такой логике предстоит ещё делить датасеты на признаки и целевой признак, а также на train-valid-test, напишем функцию, автоматизирующую сам процесс."
   ]
  },
  {
   "cell_type": "code",
   "execution_count": 12,
   "metadata": {},
   "outputs": [],
   "source": [
    "def train_valid_test_ft(data, target_name, valid_size, test_size):\n",
    "    \n",
    "    data_features = data.drop([target_name], axis = 1)\n",
    "    data_target = data[target_name]\n",
    "    \n",
    "    vt_size = valid_size + test_size\n",
    "    \n",
    "    (features_train, features_valid_test,\n",
    "     target_train, target_valid_test) = train_test_split(data_features, data_target, \n",
    "                                                         test_size = vt_size, shuffle = False)\n",
    "    ratio = test_size / vt_size\n",
    "    \n",
    "    (features_valid, features_test,\n",
    "     target_valid, target_test) = train_test_split(features_valid_test, target_valid_test, \n",
    "                                                   test_size = ratio, shuffle = False)\n",
    "    \n",
    "    return features_train, features_valid, features_test, target_train, target_valid, target_test"
   ]
  },
  {
   "cell_type": "markdown",
   "metadata": {},
   "source": [
    "\"Разделом\" датасетов будем заниматься непосредственно перед обучением моделей. А пока выставим параметры LightGBM."
   ]
  },
  {
   "cell_type": "markdown",
   "metadata": {},
   "source": [
    "### LightGBM - градиентный бустинг на деревьях"
   ]
  },
  {
   "cell_type": "markdown",
   "metadata": {},
   "source": [
    "Модель взял из предшествующего проекта."
   ]
  },
  {
   "cell_type": "code",
   "execution_count": 13,
   "metadata": {},
   "outputs": [],
   "source": [
    "def model_parameters(data, depth, l_rate, leaves):\n",
    "    \n",
    "    evals_result = {}\n",
    "    parameters_gbdt = {'objective': 'regression',\n",
    "                       'metric': 'rmse',\n",
    "                       'boosting': 'gbdt',\n",
    "                        'num_leaves': leaves,\n",
    "                        'device_type' : 'cpu',\n",
    "                        'num_threads' : 8,\n",
    "                        'force_row_wise' : True,\n",
    "                        'learning_rate' : l_rate,\n",
    "                        'max_depth' : depth\n",
    "                      }\n",
    "    \n",
    "    start_time = time.time()\n",
    "    \n",
    "    (features_train, features_valid,\n",
    "     features_test, target_train,\n",
    "     target_valid, target_test) = train_valid_test_ft(data, 'num_orders', 0.1, 0.1)\n",
    "    \n",
    "    train_data = lgb.Dataset(features_train, label = target_train, free_raw_data = False)\n",
    "    valid_data = lgb.Dataset(features_valid, label = target_valid, free_raw_data = False)\n",
    "    \n",
    "    best_model = lgb.train(parameters_gbdt, train_data, 5000,\n",
    "                               valid_sets = valid_data, early_stopping_rounds = 20,\n",
    "                               evals_result = evals_result,\n",
    "                               verbose_eval = False\n",
    "                              )\n",
    "    worktime = time.time() - start_time\n",
    "    iterations = best_model.best_iteration\n",
    "    rmse = best_model.best_score['valid_0']['rmse']\n",
    "\n",
    "    return worktime, iterations, rmse"
   ]
  },
  {
   "cell_type": "markdown",
   "metadata": {},
   "source": [
    "Приступим. Начнем с первого датасета."
   ]
  },
  {
   "cell_type": "markdown",
   "metadata": {},
   "source": [
    "Теперь подбираем гиперпараметры. Функцию я также \"приватизировал\" из прошлого проекта."
   ]
  },
  {
   "cell_type": "code",
   "execution_count": 14,
   "metadata": {},
   "outputs": [],
   "source": [
    "def hyper_finder(data, bottom_d, top_d, step_d, bottom_r, top_r, step_r):\n",
    "    \n",
    "    final_table = pd.DataFrame(data = [], columns = ['max_depth', 'learning_rate', 'leaves_num',\n",
    "                                                     'iterations', 'time, s', 'rmse'])\n",
    "    i = 0\n",
    "    \n",
    "    for depth in range(bottom_d, top_d + 1, step_d):\n",
    "        for rate in range(bottom_r, top_r + 1, step_r):\n",
    "               \n",
    "                \n",
    "            max_depth = depth\n",
    "            learning_rate = float(rate / 100)\n",
    "                \n",
    "            worktime, iterations, rmse = model_parameters(data, max_depth, learning_rate, 31)\n",
    "            \n",
    "            final_table.loc[i, 'max_depth'] = max_depth\n",
    "            final_table.loc[i, 'learning_rate'] = learning_rate\n",
    "            final_table.loc[i, 'iterations'] = iterations\n",
    "            final_table.loc[i, 'leaves_num'] = 31\n",
    "            final_table.loc[i, 'time, s'] = worktime\n",
    "            final_table.loc[i, 'rmse'] = rmse\n",
    "            i += 1\n",
    "            \n",
    "    return final_table.sort_values(by=['rmse'])"
   ]
  },
  {
   "cell_type": "code",
   "execution_count": 15,
   "metadata": {
    "scrolled": true
   },
   "outputs": [
    {
     "name": "stdout",
     "output_type": "stream",
     "text": [
      "Wall time: 14.3 s\n"
     ]
    },
    {
     "data": {
      "text/html": [
       "<div>\n",
       "<style scoped>\n",
       "    .dataframe tbody tr th:only-of-type {\n",
       "        vertical-align: middle;\n",
       "    }\n",
       "\n",
       "    .dataframe tbody tr th {\n",
       "        vertical-align: top;\n",
       "    }\n",
       "\n",
       "    .dataframe thead th {\n",
       "        text-align: right;\n",
       "    }\n",
       "</style>\n",
       "<table border=\"1\" class=\"dataframe\">\n",
       "  <thead>\n",
       "    <tr style=\"text-align: right;\">\n",
       "      <th></th>\n",
       "      <th>max_depth</th>\n",
       "      <th>learning_rate</th>\n",
       "      <th>leaves_num</th>\n",
       "      <th>iterations</th>\n",
       "      <th>time, s</th>\n",
       "      <th>rmse</th>\n",
       "    </tr>\n",
       "  </thead>\n",
       "  <tbody>\n",
       "    <tr>\n",
       "      <td>1</td>\n",
       "      <td>2</td>\n",
       "      <td>0.1</td>\n",
       "      <td>31</td>\n",
       "      <td>218</td>\n",
       "      <td>0.156581</td>\n",
       "      <td>6.87601</td>\n",
       "    </tr>\n",
       "    <tr>\n",
       "      <td>2</td>\n",
       "      <td>2</td>\n",
       "      <td>0.15</td>\n",
       "      <td>31</td>\n",
       "      <td>196</td>\n",
       "      <td>0.158577</td>\n",
       "      <td>6.87885</td>\n",
       "    </tr>\n",
       "    <tr>\n",
       "      <td>0</td>\n",
       "      <td>2</td>\n",
       "      <td>0.05</td>\n",
       "      <td>31</td>\n",
       "      <td>429</td>\n",
       "      <td>0.213427</td>\n",
       "      <td>6.88782</td>\n",
       "    </tr>\n",
       "    <tr>\n",
       "      <td>4</td>\n",
       "      <td>2</td>\n",
       "      <td>0.25</td>\n",
       "      <td>31</td>\n",
       "      <td>74</td>\n",
       "      <td>0.135639</td>\n",
       "      <td>6.89834</td>\n",
       "    </tr>\n",
       "    <tr>\n",
       "      <td>5</td>\n",
       "      <td>2</td>\n",
       "      <td>0.3</td>\n",
       "      <td>31</td>\n",
       "      <td>57</td>\n",
       "      <td>0.0977404</td>\n",
       "      <td>6.91546</td>\n",
       "    </tr>\n",
       "  </tbody>\n",
       "</table>\n",
       "</div>"
      ],
      "text/plain": [
       "  max_depth learning_rate leaves_num iterations    time, s     rmse\n",
       "1         2           0.1         31        218   0.156581  6.87601\n",
       "2         2          0.15         31        196   0.158577  6.87885\n",
       "0         2          0.05         31        429   0.213427  6.88782\n",
       "4         2          0.25         31         74   0.135639  6.89834\n",
       "5         2           0.3         31         57  0.0977404  6.91546"
      ]
     },
     "execution_count": 15,
     "metadata": {},
     "output_type": "execute_result"
    }
   ],
   "source": [
    "%%time\n",
    "hyper_finder(taxi_f1, 2, 52, 5, 5, 35, 5)[:5]"
   ]
  },
  {
   "cell_type": "code",
   "execution_count": 16,
   "metadata": {},
   "outputs": [
    {
     "name": "stdout",
     "output_type": "stream",
     "text": [
      "Wall time: 13 s\n"
     ]
    },
    {
     "data": {
      "text/html": [
       "<div>\n",
       "<style scoped>\n",
       "    .dataframe tbody tr th:only-of-type {\n",
       "        vertical-align: middle;\n",
       "    }\n",
       "\n",
       "    .dataframe tbody tr th {\n",
       "        vertical-align: top;\n",
       "    }\n",
       "\n",
       "    .dataframe thead th {\n",
       "        text-align: right;\n",
       "    }\n",
       "</style>\n",
       "<table border=\"1\" class=\"dataframe\">\n",
       "  <thead>\n",
       "    <tr style=\"text-align: right;\">\n",
       "      <th></th>\n",
       "      <th>max_depth</th>\n",
       "      <th>learning_rate</th>\n",
       "      <th>leaves_num</th>\n",
       "      <th>iterations</th>\n",
       "      <th>time, s</th>\n",
       "      <th>rmse</th>\n",
       "    </tr>\n",
       "  </thead>\n",
       "  <tbody>\n",
       "    <tr>\n",
       "      <td>5</td>\n",
       "      <td>2</td>\n",
       "      <td>0.1</td>\n",
       "      <td>31</td>\n",
       "      <td>218</td>\n",
       "      <td>0.158801</td>\n",
       "      <td>6.87601</td>\n",
       "    </tr>\n",
       "    <tr>\n",
       "      <td>10</td>\n",
       "      <td>2</td>\n",
       "      <td>0.15</td>\n",
       "      <td>31</td>\n",
       "      <td>196</td>\n",
       "      <td>0.148012</td>\n",
       "      <td>6.87885</td>\n",
       "    </tr>\n",
       "    <tr>\n",
       "      <td>20</td>\n",
       "      <td>3</td>\n",
       "      <td>0.14</td>\n",
       "      <td>31</td>\n",
       "      <td>93</td>\n",
       "      <td>0.134981</td>\n",
       "      <td>6.88393</td>\n",
       "    </tr>\n",
       "    <tr>\n",
       "      <td>1</td>\n",
       "      <td>2</td>\n",
       "      <td>0.06</td>\n",
       "      <td>31</td>\n",
       "      <td>369</td>\n",
       "      <td>0.235371</td>\n",
       "      <td>6.88497</td>\n",
       "    </tr>\n",
       "    <tr>\n",
       "      <td>13</td>\n",
       "      <td>3</td>\n",
       "      <td>0.07</td>\n",
       "      <td>31</td>\n",
       "      <td>222</td>\n",
       "      <td>0.251926</td>\n",
       "      <td>6.88614</td>\n",
       "    </tr>\n",
       "  </tbody>\n",
       "</table>\n",
       "</div>"
      ],
      "text/plain": [
       "   max_depth learning_rate leaves_num iterations   time, s     rmse\n",
       "5          2           0.1         31        218  0.158801  6.87601\n",
       "10         2          0.15         31        196  0.148012  6.87885\n",
       "20         3          0.14         31         93  0.134981  6.88393\n",
       "1          2          0.06         31        369  0.235371  6.88497\n",
       "13         3          0.07         31        222  0.251926  6.88614"
      ]
     },
     "execution_count": 16,
     "metadata": {},
     "output_type": "execute_result"
    }
   ],
   "source": [
    "%%time\n",
    "f1_results = hyper_finder(taxi_f1, 2, 7, 1, 5, 15, 1)[:5]\n",
    "f1_results"
   ]
  },
  {
   "cell_type": "markdown",
   "metadata": {},
   "source": [
    "UPD. \n",
    "\n",
    "Я тут обнаружил, что для имеющихся данных при использовании модели градиентного бустинга, наблюдаются \"перепады\" в значениях гиперпараметров для \"лучшей\" метрики. Поэтому, я решил оставить оценку модели только с точки зрения RMSE. Да, время - второй после точности (а в некоторых случаях и первый) критерий \"успешности\" модели. Однако, поскольку у нас наблюдается \"нестабильность\" времени выполнения кода - по неизвестной мне причине, я принял решение \"стабилизироваться\" за счет RMSE. Такие дела."
   ]
  },
  {
   "cell_type": "markdown",
   "metadata": {},
   "source": [
    "Проверим, как влияют на значение RMSE число листьев у модели. Функцию подбора я также взял из предшествующего проекта."
   ]
  },
  {
   "cell_type": "code",
   "execution_count": 17,
   "metadata": {},
   "outputs": [],
   "source": [
    "def leaf_finder(data, depth, l_rate, bottom, top, step):\n",
    "    final_table = pd.DataFrame(data = [], columns = ['max_depth', 'learning_rate', 'leaves_num',\n",
    "                                                     'iterations', 'time, s', 'rmse'])\n",
    "    i = 0\n",
    "    \n",
    "    for leaf in range(bottom, top+1, step):\n",
    "         \n",
    "            worktime, iterations, rmse = model_parameters(data, depth, l_rate, leaf)\n",
    "\n",
    "            final_table.loc[i, 'max_depth'] = depth\n",
    "            final_table.loc[i, 'learning_rate'] = l_rate\n",
    "            final_table.loc[i, 'leaves_num'] = leaf\n",
    "            final_table.loc[i, 'iterations'] = iterations\n",
    "            final_table.loc[i, 'time, s'] = worktime\n",
    "            final_table.loc[i, 'rmse'] = rmse\n",
    "            i += 1\n",
    "            \n",
    "    return final_table.sort_values(by=['rmse'])"
   ]
  },
  {
   "cell_type": "code",
   "execution_count": 18,
   "metadata": {},
   "outputs": [
    {
     "name": "stdout",
     "output_type": "stream",
     "text": [
      "Wall time: 4.8 s\n"
     ]
    },
    {
     "data": {
      "text/html": [
       "<div>\n",
       "<style scoped>\n",
       "    .dataframe tbody tr th:only-of-type {\n",
       "        vertical-align: middle;\n",
       "    }\n",
       "\n",
       "    .dataframe tbody tr th {\n",
       "        vertical-align: top;\n",
       "    }\n",
       "\n",
       "    .dataframe thead th {\n",
       "        text-align: right;\n",
       "    }\n",
       "</style>\n",
       "<table border=\"1\" class=\"dataframe\">\n",
       "  <thead>\n",
       "    <tr style=\"text-align: right;\">\n",
       "      <th></th>\n",
       "      <th>max_depth</th>\n",
       "      <th>learning_rate</th>\n",
       "      <th>leaves_num</th>\n",
       "      <th>iterations</th>\n",
       "      <th>time, s</th>\n",
       "      <th>rmse</th>\n",
       "    </tr>\n",
       "  </thead>\n",
       "  <tbody>\n",
       "    <tr>\n",
       "      <td>0</td>\n",
       "      <td>2</td>\n",
       "      <td>0.1</td>\n",
       "      <td>31</td>\n",
       "      <td>218</td>\n",
       "      <td>0.159976</td>\n",
       "      <td>6.87601</td>\n",
       "    </tr>\n",
       "    <tr>\n",
       "      <td>28</td>\n",
       "      <td>2</td>\n",
       "      <td>0.1</td>\n",
       "      <td>311</td>\n",
       "      <td>218</td>\n",
       "      <td>0.185523</td>\n",
       "      <td>6.87601</td>\n",
       "    </tr>\n",
       "    <tr>\n",
       "      <td>27</td>\n",
       "      <td>2</td>\n",
       "      <td>0.1</td>\n",
       "      <td>301</td>\n",
       "      <td>218</td>\n",
       "      <td>0.16855</td>\n",
       "      <td>6.87601</td>\n",
       "    </tr>\n",
       "    <tr>\n",
       "      <td>26</td>\n",
       "      <td>2</td>\n",
       "      <td>0.1</td>\n",
       "      <td>291</td>\n",
       "      <td>218</td>\n",
       "      <td>0.139627</td>\n",
       "      <td>6.87601</td>\n",
       "    </tr>\n",
       "    <tr>\n",
       "      <td>25</td>\n",
       "      <td>2</td>\n",
       "      <td>0.1</td>\n",
       "      <td>281</td>\n",
       "      <td>218</td>\n",
       "      <td>0.136634</td>\n",
       "      <td>6.87601</td>\n",
       "    </tr>\n",
       "  </tbody>\n",
       "</table>\n",
       "</div>"
      ],
      "text/plain": [
       "   max_depth learning_rate leaves_num iterations   time, s     rmse\n",
       "0          2           0.1         31        218  0.159976  6.87601\n",
       "28         2           0.1        311        218  0.185523  6.87601\n",
       "27         2           0.1        301        218   0.16855  6.87601\n",
       "26         2           0.1        291        218  0.139627  6.87601\n",
       "25         2           0.1        281        218  0.136634  6.87601"
      ]
     },
     "execution_count": 18,
     "metadata": {},
     "output_type": "execute_result"
    }
   ],
   "source": [
    "%%time\n",
    "f1_results_leaf = leaf_finder(taxi_f1, \n",
    "                              f1_results.iloc[0,0],\n",
    "                              f1_results.iloc[0,1],\n",
    "                              31, 331, 10)[:5]\n",
    "f1_results_leaf"
   ]
  },
  {
   "cell_type": "markdown",
   "metadata": {},
   "source": [
    "Как выяснилось, значение RMSE в нашем случае не зависит от числа \"листочков\". Время - да, но не RMSE. А учитывая, что время обучения-работы модели составляет порядка 0.1 секунды (в рамках \"анаконды\" на личном ПК) + крайне сильно \"колеблется\" в зависимости от внешних условий (каких именно - я пока не выяснил) + текст, приведенный выше в UPD., на этот критерий в нашем случае я не обращаю внимания. Специально."
   ]
  },
  {
   "cell_type": "markdown",
   "metadata": {},
   "source": [
    "Учитывая, что нам предстоит работать с 4-мя датасетами, чтобы сократить число ячеек и \"ручной работы\", напишем функцию, которая соберет в конечную таблицу гиперпараметры ЛУЧШИХ с точки зрения RMSE моделей.\n",
    "\n",
    "На выходе мы получим таблицу из 4 строчек, содержащую гиперпараметры моделей + значения RMSE моделей, обученных на различных датасетах. Так мы сможем установить влияние размера \"скользящего окна\", а также \"предшествующих значений\" на потенциальную точность прогнозирования временных рядов с помощью ML."
   ]
  },
  {
   "cell_type": "code",
   "execution_count": 19,
   "metadata": {},
   "outputs": [],
   "source": [
    "def feature_tester(data_list, bottom_d, top_d, step_d, bottom_r, top_r, step_r):\n",
    "    \n",
    "    bottom_d_new = 0\n",
    "    top_d_new = 0\n",
    "    step_d_new = 0\n",
    "    bottom_r_new = 0 \n",
    "    top_r_new = 0\n",
    "    step_r_new = 0\n",
    "    \n",
    "#     диапазон \"поиска значений гиперпараметров\" у всех датасетов одинаковый\n",
    "    ready = pd.DataFrame(data = [])\n",
    "    \n",
    "    for i, feature_set in enumerate(data_list):\n",
    "        results_1 = hyper_finder(feature_set, bottom_d, top_d, step_d, bottom_r, top_r, step_r)[:1]\n",
    "        \n",
    "#         print(results_1)\n",
    "\n",
    "#         Перемещаем \"границу\" поиска - проверяем крайнее нижнее условие\n",
    "\n",
    "        if results_1.iloc[0, 0] == bottom_d:\n",
    "            top_d_new = bottom_d + step_d\n",
    "            bottom_d_new = bottom_d\n",
    "        else:\n",
    "            bottom_d_new = results_1.iloc[0, 0] - step_d\n",
    "            top_d_new = results_1.iloc[0, 0] + step_d\n",
    "            \n",
    "        if results_1.iloc[0, 1] == bottom_r / 100:\n",
    "            top_r_new = int(bottom_r + step_r)\n",
    "            bottom_r_new = bottom_r\n",
    "        else:\n",
    "            bottom_r_new = int(results_1.iloc[0, 1] * 100 - step_r)\n",
    "            top_r_new = int(results_1.iloc[0, 1] * 100 + step_r)\n",
    "        \n",
    "        step_d_new = 1\n",
    "        step_r_new = 1\n",
    "        \n",
    "        results_2 = hyper_finder(feature_set, bottom_d_new, top_d_new, step_d_new, \n",
    "                                 bottom_r_new, top_r_new, step_r_new)[:1]\n",
    "        ready = ready.append(results_2)\n",
    "        \n",
    "#         print(results_2)\n",
    "   \n",
    "    \n",
    "    return ready.reset_index(drop = True)"
   ]
  },
  {
   "cell_type": "code",
   "execution_count": 20,
   "metadata": {},
   "outputs": [
    {
     "name": "stdout",
     "output_type": "stream",
     "text": [
      "Wall time: 1min 40s\n"
     ]
    },
    {
     "data": {
      "text/html": [
       "<div>\n",
       "<style scoped>\n",
       "    .dataframe tbody tr th:only-of-type {\n",
       "        vertical-align: middle;\n",
       "    }\n",
       "\n",
       "    .dataframe tbody tr th {\n",
       "        vertical-align: top;\n",
       "    }\n",
       "\n",
       "    .dataframe thead th {\n",
       "        text-align: right;\n",
       "    }\n",
       "</style>\n",
       "<table border=\"1\" class=\"dataframe\">\n",
       "  <thead>\n",
       "    <tr style=\"text-align: right;\">\n",
       "      <th></th>\n",
       "      <th>max_depth</th>\n",
       "      <th>learning_rate</th>\n",
       "      <th>leaves_num</th>\n",
       "      <th>iterations</th>\n",
       "      <th>time, s</th>\n",
       "      <th>rmse</th>\n",
       "    </tr>\n",
       "  </thead>\n",
       "  <tbody>\n",
       "    <tr>\n",
       "      <td>0</td>\n",
       "      <td>2</td>\n",
       "      <td>0.1</td>\n",
       "      <td>31</td>\n",
       "      <td>218</td>\n",
       "      <td>0.178761</td>\n",
       "      <td>6.87601</td>\n",
       "    </tr>\n",
       "    <tr>\n",
       "      <td>1</td>\n",
       "      <td>29</td>\n",
       "      <td>0.09</td>\n",
       "      <td>31</td>\n",
       "      <td>110</td>\n",
       "      <td>0.324134</td>\n",
       "      <td>6.43532</td>\n",
       "    </tr>\n",
       "    <tr>\n",
       "      <td>2</td>\n",
       "      <td>3</td>\n",
       "      <td>0.34</td>\n",
       "      <td>31</td>\n",
       "      <td>37</td>\n",
       "      <td>0.0703971</td>\n",
       "      <td>6.96402</td>\n",
       "    </tr>\n",
       "    <tr>\n",
       "      <td>3</td>\n",
       "      <td>14</td>\n",
       "      <td>0.24</td>\n",
       "      <td>31</td>\n",
       "      <td>48</td>\n",
       "      <td>0.182028</td>\n",
       "      <td>6.46669</td>\n",
       "    </tr>\n",
       "  </tbody>\n",
       "</table>\n",
       "</div>"
      ],
      "text/plain": [
       "  max_depth learning_rate leaves_num iterations    time, s     rmse\n",
       "0         2           0.1         31        218   0.178761  6.87601\n",
       "1        29          0.09         31        110   0.324134  6.43532\n",
       "2         3          0.34         31         37  0.0703971  6.96402\n",
       "3        14          0.24         31         48   0.182028  6.46669"
      ]
     },
     "execution_count": 20,
     "metadata": {},
     "output_type": "execute_result"
    }
   ],
   "source": [
    "%%time\n",
    "f_list = [taxi_f1, taxi_f2, taxi_f3, taxi_f4]\n",
    "\n",
    "feature_tester(f_list, 2, 52, 5, 5, 35, 5)"
   ]
  },
  {
   "cell_type": "markdown",
   "metadata": {},
   "source": [
    "Готово. Но не до конца. Теперь, я вижу, что подбирать стоит не только гиперпараметры, но и способ создания признаков. Напишем новую функцию, которая найдет нам НАИЛУЧШИЙ способ \"создания признаков\". "
   ]
  },
  {
   "cell_type": "code",
   "execution_count": 24,
   "metadata": {},
   "outputs": [],
   "source": [
    "def features_create_finder(data, lag_bottom, lag_top, shape_bottom, shape_top):\n",
    "    \n",
    "    dict_lag_shape = {}\n",
    "    f_list = []\n",
    "    i = 0\n",
    "    results = pd.DataFrame(data = [])\n",
    "    \n",
    "    for lag in range(lag_bottom, lag_top + 1, 1):\n",
    "        for shape in range(shape_bottom, shape_top + 1, 1):\n",
    "            dict_lag_shape[i] = str(lag) + '-' + str(shape)\n",
    "            feature = make_features(data, lag, shape)\n",
    "            f_list.append(feature)\n",
    "                        \n",
    "            i += 1\n",
    "            \n",
    "    results = feature_tester(f_list, 2, 52, 5, 5, 35, 5).sort_values(by = 'rmse')\n",
    "    best_lag_shape = dict_lag_shape.get(int(results.index[0]))\n",
    "           \n",
    "    return best_lag_shape, results"
   ]
  },
  {
   "cell_type": "code",
   "execution_count": 25,
   "metadata": {
    "scrolled": true
   },
   "outputs": [
    {
     "name": "stdout",
     "output_type": "stream",
     "text": [
      "Wall time: 10min 35s\n"
     ]
    }
   ],
   "source": [
    "%%time\n",
    "results_gbdt = pd.DataFrame(data = [])\n",
    "best_lag_shape, results_gbdt = features_create_finder(taxi_hour, 1, 5, 1, 5)"
   ]
  },
  {
   "cell_type": "code",
   "execution_count": 26,
   "metadata": {},
   "outputs": [
    {
     "data": {
      "text/plain": [
       "'5-2'"
      ]
     },
     "execution_count": 26,
     "metadata": {},
     "output_type": "execute_result"
    }
   ],
   "source": [
    "best_lag_shape"
   ]
  },
  {
   "cell_type": "code",
   "execution_count": 27,
   "metadata": {
    "scrolled": false
   },
   "outputs": [
    {
     "data": {
      "text/html": [
       "<div>\n",
       "<style scoped>\n",
       "    .dataframe tbody tr th:only-of-type {\n",
       "        vertical-align: middle;\n",
       "    }\n",
       "\n",
       "    .dataframe tbody tr th {\n",
       "        vertical-align: top;\n",
       "    }\n",
       "\n",
       "    .dataframe thead th {\n",
       "        text-align: right;\n",
       "    }\n",
       "</style>\n",
       "<table border=\"1\" class=\"dataframe\">\n",
       "  <thead>\n",
       "    <tr style=\"text-align: right;\">\n",
       "      <th></th>\n",
       "      <th>max_depth</th>\n",
       "      <th>learning_rate</th>\n",
       "      <th>leaves_num</th>\n",
       "      <th>iterations</th>\n",
       "      <th>time, s</th>\n",
       "      <th>rmse</th>\n",
       "    </tr>\n",
       "  </thead>\n",
       "  <tbody>\n",
       "    <tr>\n",
       "      <td>21</td>\n",
       "      <td>2</td>\n",
       "      <td>0.27</td>\n",
       "      <td>31</td>\n",
       "      <td>93</td>\n",
       "      <td>0.126854</td>\n",
       "      <td>6.70667</td>\n",
       "    </tr>\n",
       "    <tr>\n",
       "      <td>22</td>\n",
       "      <td>8</td>\n",
       "      <td>0.1</td>\n",
       "      <td>31</td>\n",
       "      <td>50</td>\n",
       "      <td>0.186574</td>\n",
       "      <td>6.76629</td>\n",
       "    </tr>\n",
       "    <tr>\n",
       "      <td>23</td>\n",
       "      <td>2</td>\n",
       "      <td>0.34</td>\n",
       "      <td>31</td>\n",
       "      <td>69</td>\n",
       "      <td>0.115693</td>\n",
       "      <td>6.77279</td>\n",
       "    </tr>\n",
       "    <tr>\n",
       "      <td>17</td>\n",
       "      <td>3</td>\n",
       "      <td>0.17</td>\n",
       "      <td>31</td>\n",
       "      <td>73</td>\n",
       "      <td>0.133636</td>\n",
       "      <td>6.7736</td>\n",
       "    </tr>\n",
       "    <tr>\n",
       "      <td>18</td>\n",
       "      <td>3</td>\n",
       "      <td>0.29</td>\n",
       "      <td>31</td>\n",
       "      <td>72</td>\n",
       "      <td>0.132675</td>\n",
       "      <td>6.77948</td>\n",
       "    </tr>\n",
       "  </tbody>\n",
       "</table>\n",
       "</div>"
      ],
      "text/plain": [
       "   max_depth learning_rate leaves_num iterations   time, s     rmse\n",
       "21         2          0.27         31         93  0.126854  6.70667\n",
       "22         8           0.1         31         50  0.186574  6.76629\n",
       "23         2          0.34         31         69  0.115693  6.77279\n",
       "17         3          0.17         31         73  0.133636   6.7736\n",
       "18         3          0.29         31         72  0.132675  6.77948"
      ]
     },
     "execution_count": 27,
     "metadata": {},
     "output_type": "execute_result"
    }
   ],
   "source": [
    "results_gbdt.head()"
   ]
  },
  {
   "cell_type": "markdown",
   "metadata": {},
   "source": [
    "Наименьшее значение RMSE получено для датасета со значением лага, равного 5 и рамки скользящего среднего в 2 единицы. Мы \"уперлись\" в потолок - нам необходимо расширить диапазон проверки для лага в сторону 5+. Для рамки, напротив, можем сократить диапазон вдвое - с 5 до 3. Сделаем это и посмотрим, что получилось."
   ]
  },
  {
   "cell_type": "code",
   "execution_count": 28,
   "metadata": {
    "scrolled": true
   },
   "outputs": [
    {
     "name": "stdout",
     "output_type": "stream",
     "text": [
      "Wall time: 24min 31s\n"
     ]
    }
   ],
   "source": [
    "%%time\n",
    "results_gbdt = pd.DataFrame(data = [])\n",
    "best_lag_shape_gbdt, results_gbdt = features_create_finder(taxi_hour, 5, 15, 1, 3)"
   ]
  },
  {
   "cell_type": "code",
   "execution_count": 29,
   "metadata": {},
   "outputs": [
    {
     "data": {
      "text/plain": [
       "'14-2'"
      ]
     },
     "execution_count": 29,
     "metadata": {},
     "output_type": "execute_result"
    }
   ],
   "source": [
    "best_lag_shape_gbdt"
   ]
  },
  {
   "cell_type": "code",
   "execution_count": 30,
   "metadata": {},
   "outputs": [
    {
     "data": {
      "text/html": [
       "<div>\n",
       "<style scoped>\n",
       "    .dataframe tbody tr th:only-of-type {\n",
       "        vertical-align: middle;\n",
       "    }\n",
       "\n",
       "    .dataframe tbody tr th {\n",
       "        vertical-align: top;\n",
       "    }\n",
       "\n",
       "    .dataframe thead th {\n",
       "        text-align: right;\n",
       "    }\n",
       "</style>\n",
       "<table border=\"1\" class=\"dataframe\">\n",
       "  <thead>\n",
       "    <tr style=\"text-align: right;\">\n",
       "      <th></th>\n",
       "      <th>max_depth</th>\n",
       "      <th>learning_rate</th>\n",
       "      <th>leaves_num</th>\n",
       "      <th>iterations</th>\n",
       "      <th>time, s</th>\n",
       "      <th>rmse</th>\n",
       "    </tr>\n",
       "  </thead>\n",
       "  <tbody>\n",
       "    <tr>\n",
       "      <td>28</td>\n",
       "      <td>9</td>\n",
       "      <td>0.1</td>\n",
       "      <td>31</td>\n",
       "      <td>191</td>\n",
       "      <td>0.500991</td>\n",
       "      <td>5.96087</td>\n",
       "    </tr>\n",
       "    <tr>\n",
       "      <td>31</td>\n",
       "      <td>9</td>\n",
       "      <td>0.1</td>\n",
       "      <td>31</td>\n",
       "      <td>88</td>\n",
       "      <td>0.401079</td>\n",
       "      <td>5.97252</td>\n",
       "    </tr>\n",
       "    <tr>\n",
       "      <td>32</td>\n",
       "      <td>9</td>\n",
       "      <td>0.09</td>\n",
       "      <td>31</td>\n",
       "      <td>145</td>\n",
       "      <td>0.634432</td>\n",
       "      <td>5.98767</td>\n",
       "    </tr>\n",
       "    <tr>\n",
       "      <td>29</td>\n",
       "      <td>12</td>\n",
       "      <td>0.1</td>\n",
       "      <td>31</td>\n",
       "      <td>102</td>\n",
       "      <td>0.284984</td>\n",
       "      <td>5.99542</td>\n",
       "    </tr>\n",
       "    <tr>\n",
       "      <td>23</td>\n",
       "      <td>5</td>\n",
       "      <td>0.17</td>\n",
       "      <td>31</td>\n",
       "      <td>86</td>\n",
       "      <td>0.198984</td>\n",
       "      <td>5.99978</td>\n",
       "    </tr>\n",
       "  </tbody>\n",
       "</table>\n",
       "</div>"
      ],
      "text/plain": [
       "   max_depth learning_rate leaves_num iterations   time, s     rmse\n",
       "28         9           0.1         31        191  0.500991  5.96087\n",
       "31         9           0.1         31         88  0.401079  5.97252\n",
       "32         9          0.09         31        145  0.634432  5.98767\n",
       "29        12           0.1         31        102  0.284984  5.99542\n",
       "23         5          0.17         31         86  0.198984  5.99978"
      ]
     },
     "execution_count": 30,
     "metadata": {},
     "output_type": "execute_result"
    }
   ],
   "source": [
    "results_gbdt.head()"
   ]
  },
  {
   "cell_type": "markdown",
   "metadata": {},
   "source": [
    "Как мы видим, мы смогли ещё немного повысить точность прогнозирования, однако добиться этого удалось лишь путем почти 4 кратного повышения времени обучения и работы - с 0.1 до 0.4 секунд. Учитывая, что мозг человека может задерживать внимание примерно на 0.6 секунд на ЦВЕТНОМ (!) изображении, первый вариант выглядел несколько предпочительней. Хотя, конечно, здесь нужно уточнять вопрос у заказчика - что нам важнее - точность прогнозирования или сроки. Вероятно, если речь идет о прогнозировании спроса на такси - точность нам, всё же, важнее. Чего стоят несколько секунд компьюетрного времени и мощности в сравнении с 3 работниками, которые будут ВЫНУЖДЕНЫ остаться без заказов вследствие недостаточно точного прогнозирования? Правильно, ничего. Простой, почти всегда = убыткам. Следовательно, СЛЕДУЕТ двигаться далее в направлении повышения точности за счёт повышения числа ЛАГ-ПРИЗНАКОВ. Но этим будет заниматься кто-то другой. В рамках проекта нам более чем достаточно точности в 6 RMSE. \n",
    "\n",
    "Зафиксируем в финальной таблице и отправимся в \"случайный лес\"."
   ]
  },
  {
   "cell_type": "code",
   "execution_count": 31,
   "metadata": {},
   "outputs": [
    {
     "data": {
      "text/html": [
       "<div>\n",
       "<style scoped>\n",
       "    .dataframe tbody tr th:only-of-type {\n",
       "        vertical-align: middle;\n",
       "    }\n",
       "\n",
       "    .dataframe tbody tr th {\n",
       "        vertical-align: top;\n",
       "    }\n",
       "\n",
       "    .dataframe thead th {\n",
       "        text-align: right;\n",
       "    }\n",
       "</style>\n",
       "<table border=\"1\" class=\"dataframe\">\n",
       "  <thead>\n",
       "    <tr style=\"text-align: right;\">\n",
       "      <th></th>\n",
       "      <th>max_depth</th>\n",
       "      <th>learning_rate</th>\n",
       "      <th>leaves_num</th>\n",
       "      <th>iterations</th>\n",
       "      <th>time, s</th>\n",
       "      <th>rmse</th>\n",
       "      <th>lag_shape</th>\n",
       "    </tr>\n",
       "  </thead>\n",
       "  <tbody>\n",
       "    <tr>\n",
       "      <td>0</td>\n",
       "      <td>9</td>\n",
       "      <td>0.1</td>\n",
       "      <td>31</td>\n",
       "      <td>191</td>\n",
       "      <td>0.500991</td>\n",
       "      <td>5.96087</td>\n",
       "      <td>14-2</td>\n",
       "    </tr>\n",
       "  </tbody>\n",
       "</table>\n",
       "</div>"
      ],
      "text/plain": [
       "  max_depth learning_rate leaves_num iterations   time, s     rmse lag_shape\n",
       "0         9           0.1         31        191  0.500991  5.96087      14-2"
      ]
     },
     "execution_count": 31,
     "metadata": {},
     "output_type": "execute_result"
    }
   ],
   "source": [
    "test_table = pd.DataFrame(data = results_gbdt[:1]).reset_index(drop = True)\n",
    "test_table['lag_shape'] = best_lag_shape_gbdt\n",
    "test_table"
   ]
  },
  {
   "cell_type": "markdown",
   "metadata": {},
   "source": [
    "### Случайный лес"
   ]
  },
  {
   "cell_type": "markdown",
   "metadata": {},
   "source": [
    "Составим функцию, которая позволит нам перебирать основные гиперпараметры, а также функцию, которая будет перебирать датасеты и находить лучшее сочетание датасет-гиперпараметры модели ML."
   ]
  },
  {
   "cell_type": "code",
   "execution_count": 32,
   "metadata": {},
   "outputs": [],
   "source": [
    "def rnd_forest_hyper(data, bottom_es, top_es, step_es, bottom_d, top_d, step_d):\n",
    "    \n",
    "    table = pd.DataFrame(data = [], columns = ['max_depth', 'estimators', 'time, s', 'rmse'])\n",
    "    i = 0\n",
    "    \n",
    "    for estimators in range(bottom_es, top_es, step_es):\n",
    "        for depth in range(bottom_d, top_d, step_d):\n",
    "            \n",
    "#             нарежем данные\n",
    "\n",
    "            (features_train, features_valid,\n",
    "             features_test, target_train, \n",
    "             target_valid, target_test) = train_valid_test_ft(data, 'num_orders', 0.1, 0.1)\n",
    "            \n",
    "            start_time = time.time()\n",
    "    \n",
    "            model = RandomForestRegressor(n_estimators = estimators, max_depth = depth, random_state = 11111)\n",
    "            model.fit(features_train, target_train)\n",
    "            \n",
    "            pred_valid = model.predict(features_valid)\n",
    "            rmse = mean_squared_error(target_valid, pred_valid) ** 0.5\n",
    "            \n",
    "            worktime = time.time() - start_time\n",
    "            \n",
    "            table.loc[i, 'max_depth'] = depth\n",
    "            table.loc[i, 'estimators'] = estimators\n",
    "            table.loc[i, 'time, s'] = worktime\n",
    "            table.loc[i, 'rmse'] = rmse\n",
    "            \n",
    "#             print(i)\n",
    "            \n",
    "            i += 1\n",
    "            \n",
    "    return table.sort_values(by=['rmse'])"
   ]
  },
  {
   "cell_type": "code",
   "execution_count": 33,
   "metadata": {
    "scrolled": true
   },
   "outputs": [
    {
     "name": "stdout",
     "output_type": "stream",
     "text": [
      "Wall time: 35 s\n"
     ]
    },
    {
     "data": {
      "text/html": [
       "<div>\n",
       "<style scoped>\n",
       "    .dataframe tbody tr th:only-of-type {\n",
       "        vertical-align: middle;\n",
       "    }\n",
       "\n",
       "    .dataframe tbody tr th {\n",
       "        vertical-align: top;\n",
       "    }\n",
       "\n",
       "    .dataframe thead th {\n",
       "        text-align: right;\n",
       "    }\n",
       "</style>\n",
       "<table border=\"1\" class=\"dataframe\">\n",
       "  <thead>\n",
       "    <tr style=\"text-align: right;\">\n",
       "      <th></th>\n",
       "      <th>max_depth</th>\n",
       "      <th>estimators</th>\n",
       "      <th>time, s</th>\n",
       "      <th>rmse</th>\n",
       "    </tr>\n",
       "  </thead>\n",
       "  <tbody>\n",
       "    <tr>\n",
       "      <td>61</td>\n",
       "      <td>7</td>\n",
       "      <td>32</td>\n",
       "      <td>0.311478</td>\n",
       "      <td>7.11908</td>\n",
       "    </tr>\n",
       "    <tr>\n",
       "      <td>71</td>\n",
       "      <td>7</td>\n",
       "      <td>37</td>\n",
       "      <td>0.345077</td>\n",
       "      <td>7.13028</td>\n",
       "    </tr>\n",
       "    <tr>\n",
       "      <td>81</td>\n",
       "      <td>7</td>\n",
       "      <td>42</td>\n",
       "      <td>0.347072</td>\n",
       "      <td>7.13715</td>\n",
       "    </tr>\n",
       "    <tr>\n",
       "      <td>91</td>\n",
       "      <td>7</td>\n",
       "      <td>47</td>\n",
       "      <td>0.667215</td>\n",
       "      <td>7.14029</td>\n",
       "    </tr>\n",
       "    <tr>\n",
       "      <td>41</td>\n",
       "      <td>7</td>\n",
       "      <td>22</td>\n",
       "      <td>0.131725</td>\n",
       "      <td>7.16757</td>\n",
       "    </tr>\n",
       "  </tbody>\n",
       "</table>\n",
       "</div>"
      ],
      "text/plain": [
       "   max_depth estimators   time, s     rmse\n",
       "61         7         32  0.311478  7.11908\n",
       "71         7         37  0.345077  7.13028\n",
       "81         7         42  0.347072  7.13715\n",
       "91         7         47  0.667215  7.14029\n",
       "41         7         22  0.131725  7.16757"
      ]
     },
     "execution_count": 33,
     "metadata": {},
     "output_type": "execute_result"
    }
   ],
   "source": [
    "%%time\n",
    "rnd_forest_hyper(taxi_f1, 2, 52, 5, 2, 52, 5).head()"
   ]
  },
  {
   "cell_type": "markdown",
   "metadata": {},
   "source": [
    "Функция работает. Теперь самое время подбирать НАИЛУЧШИЙ с точки зрения минимизации RMSE датасет."
   ]
  },
  {
   "cell_type": "code",
   "execution_count": 34,
   "metadata": {},
   "outputs": [],
   "source": [
    "def forest_feature_tester(data_list, bottom_es, top_es, step_es, bottom_d, top_d, step_d):\n",
    "    \n",
    "#     диапазон \"поиска значений гиперпараметров\" у всех датасетов одинаковый\n",
    "    ready = pd.DataFrame(data = [])\n",
    "    \n",
    "    for i, feature_set in enumerate(data_list):\n",
    "        results_1 = rnd_forest_hyper(feature_set, bottom_es, top_es, step_es, bottom_d, top_d, step_d)[:1]\n",
    "        \n",
    "#         print(results_1)\n",
    "\n",
    "#         Перемещаем \"границу\" поиска - проверяем крайнее нижнее условие\n",
    "\n",
    "        if results_1.iloc[0, 0] == bottom_d:\n",
    "            top_d_new = bottom_d + step_d\n",
    "            bottom_d_new = bottom_d\n",
    "        else:\n",
    "            bottom_d_new = results_1.iloc[0, 0] - step_d\n",
    "            top_d_new = results_1.iloc[0, 0] + step_d\n",
    "            \n",
    "        if results_1.iloc[0, 1] == bottom_es:\n",
    "            top_es_new = int(bottom_es + step_es)\n",
    "            bottom_es_new = bottom_es\n",
    "        else:\n",
    "            bottom_es_new = results_1.iloc[0, 1] - step_es\n",
    "            top_es_new = results_1.iloc[0, 1] + step_es\n",
    "        \n",
    "        step_d_new = 1\n",
    "        step_es_new = 1\n",
    "        \n",
    "        results_2 = rnd_forest_hyper(feature_set, bottom_es_new, top_es_new, step_es_new,\n",
    "                                     bottom_d_new, top_d_new, step_d_new)[:1]\n",
    "        \n",
    "        ready = ready.append(results_2)\n",
    "#         print(results_2)\n",
    "   \n",
    "    \n",
    "    return ready.reset_index(drop = True)"
   ]
  },
  {
   "cell_type": "code",
   "execution_count": 35,
   "metadata": {},
   "outputs": [
    {
     "name": "stdout",
     "output_type": "stream",
     "text": [
      "Wall time: 6min 47s\n"
     ]
    },
    {
     "data": {
      "text/html": [
       "<div>\n",
       "<style scoped>\n",
       "    .dataframe tbody tr th:only-of-type {\n",
       "        vertical-align: middle;\n",
       "    }\n",
       "\n",
       "    .dataframe tbody tr th {\n",
       "        vertical-align: top;\n",
       "    }\n",
       "\n",
       "    .dataframe thead th {\n",
       "        text-align: right;\n",
       "    }\n",
       "</style>\n",
       "<table border=\"1\" class=\"dataframe\">\n",
       "  <thead>\n",
       "    <tr style=\"text-align: right;\">\n",
       "      <th></th>\n",
       "      <th>max_depth</th>\n",
       "      <th>estimators</th>\n",
       "      <th>time, s</th>\n",
       "      <th>rmse</th>\n",
       "    </tr>\n",
       "  </thead>\n",
       "  <tbody>\n",
       "    <tr>\n",
       "      <td>0</td>\n",
       "      <td>7</td>\n",
       "      <td>34</td>\n",
       "      <td>0.282468</td>\n",
       "      <td>7.11296</td>\n",
       "    </tr>\n",
       "    <tr>\n",
       "      <td>1</td>\n",
       "      <td>20</td>\n",
       "      <td>51</td>\n",
       "      <td>1.72098</td>\n",
       "      <td>6.56678</td>\n",
       "    </tr>\n",
       "    <tr>\n",
       "      <td>2</td>\n",
       "      <td>8</td>\n",
       "      <td>44</td>\n",
       "      <td>0.254321</td>\n",
       "      <td>6.99156</td>\n",
       "    </tr>\n",
       "    <tr>\n",
       "      <td>3</td>\n",
       "      <td>47</td>\n",
       "      <td>45</td>\n",
       "      <td>1.14748</td>\n",
       "      <td>6.56868</td>\n",
       "    </tr>\n",
       "  </tbody>\n",
       "</table>\n",
       "</div>"
      ],
      "text/plain": [
       "  max_depth estimators   time, s     rmse\n",
       "0         7         34  0.282468  7.11296\n",
       "1        20         51   1.72098  6.56678\n",
       "2         8         44  0.254321  6.99156\n",
       "3        47         45   1.14748  6.56868"
      ]
     },
     "execution_count": 35,
     "metadata": {},
     "output_type": "execute_result"
    }
   ],
   "source": [
    "%%time\n",
    "forest_feature_tester(f_list, 2, 52, 5, 2, 52, 5)"
   ]
  },
  {
   "cell_type": "markdown",
   "metadata": {},
   "source": [
    "Лучше? Лучше. Продолжаем."
   ]
  },
  {
   "cell_type": "code",
   "execution_count": 36,
   "metadata": {},
   "outputs": [],
   "source": [
    "def forest_features_create_finder(data, lag_bottom, lag_top, shape_bottom, shape_top):\n",
    "    \n",
    "    dict_lag_shape = {}\n",
    "    f_list = []\n",
    "    i = 0\n",
    "    results = pd.DataFrame(data = [])\n",
    "    \n",
    "    for lag in range(lag_bottom, lag_top + 1, 1):\n",
    "        for shape in range(shape_bottom, shape_top + 1, 1):\n",
    "            dict_lag_shape[i] = str(lag) + '-' + str(shape)\n",
    "            feature = make_features(data, lag, shape)\n",
    "            f_list.append(feature)\n",
    "                        \n",
    "            i += 1\n",
    "            \n",
    "    results = forest_feature_tester(f_list, 2, 52, 5, 2, 52, 5).sort_values(by = 'rmse')\n",
    "    best_lag_shape = dict_lag_shape.get(int(results.index[0]))\n",
    "           \n",
    "    return best_lag_shape, results"
   ]
  },
  {
   "cell_type": "code",
   "execution_count": 37,
   "metadata": {
    "scrolled": true
   },
   "outputs": [
    {
     "name": "stdout",
     "output_type": "stream",
     "text": [
      "Wall time: 18min 52s\n"
     ]
    }
   ],
   "source": [
    "%%time\n",
    "results_forest = pd.DataFrame(data = [])\n",
    "best_lag_shape, results_forest = forest_features_create_finder(taxi_hour, 1, 5, 1, 5)"
   ]
  },
  {
   "cell_type": "code",
   "execution_count": 38,
   "metadata": {},
   "outputs": [
    {
     "data": {
      "text/plain": [
       "'5-2'"
      ]
     },
     "execution_count": 38,
     "metadata": {},
     "output_type": "execute_result"
    }
   ],
   "source": [
    "best_lag_shape"
   ]
  },
  {
   "cell_type": "code",
   "execution_count": 39,
   "metadata": {},
   "outputs": [
    {
     "data": {
      "text/html": [
       "<div>\n",
       "<style scoped>\n",
       "    .dataframe tbody tr th:only-of-type {\n",
       "        vertical-align: middle;\n",
       "    }\n",
       "\n",
       "    .dataframe tbody tr th {\n",
       "        vertical-align: top;\n",
       "    }\n",
       "\n",
       "    .dataframe thead th {\n",
       "        text-align: right;\n",
       "    }\n",
       "</style>\n",
       "<table border=\"1\" class=\"dataframe\">\n",
       "  <thead>\n",
       "    <tr style=\"text-align: right;\">\n",
       "      <th></th>\n",
       "      <th>max_depth</th>\n",
       "      <th>estimators</th>\n",
       "      <th>time, s</th>\n",
       "      <th>rmse</th>\n",
       "    </tr>\n",
       "  </thead>\n",
       "  <tbody>\n",
       "    <tr>\n",
       "      <td>21</td>\n",
       "      <td>23</td>\n",
       "      <td>36</td>\n",
       "      <td>0.542297</td>\n",
       "      <td>6.81652</td>\n",
       "    </tr>\n",
       "    <tr>\n",
       "      <td>22</td>\n",
       "      <td>51</td>\n",
       "      <td>51</td>\n",
       "      <td>0.73841</td>\n",
       "      <td>6.91463</td>\n",
       "    </tr>\n",
       "    <tr>\n",
       "      <td>23</td>\n",
       "      <td>22</td>\n",
       "      <td>40</td>\n",
       "      <td>0.578435</td>\n",
       "      <td>6.92051</td>\n",
       "    </tr>\n",
       "    <tr>\n",
       "      <td>24</td>\n",
       "      <td>9</td>\n",
       "      <td>11</td>\n",
       "      <td>0.092741</td>\n",
       "      <td>6.95154</td>\n",
       "    </tr>\n",
       "    <tr>\n",
       "      <td>16</td>\n",
       "      <td>7</td>\n",
       "      <td>48</td>\n",
       "      <td>0.273563</td>\n",
       "      <td>6.97879</td>\n",
       "    </tr>\n",
       "  </tbody>\n",
       "</table>\n",
       "</div>"
      ],
      "text/plain": [
       "   max_depth estimators   time, s     rmse\n",
       "21        23         36  0.542297  6.81652\n",
       "22        51         51   0.73841  6.91463\n",
       "23        22         40  0.578435  6.92051\n",
       "24         9         11  0.092741  6.95154\n",
       "16         7         48  0.273563  6.97879"
      ]
     },
     "execution_count": 39,
     "metadata": {},
     "output_type": "execute_result"
    }
   ],
   "source": [
    "results_forest.head()"
   ]
  },
  {
   "cell_type": "markdown",
   "metadata": {},
   "source": [
    "Логика улучшения модели - та же, что и в случае с градиентным бустингом. Больше анализируемый \"хвост\" - выше точность конечной модели. Как, впрочем, и время обучения. "
   ]
  },
  {
   "cell_type": "code",
   "execution_count": 40,
   "metadata": {},
   "outputs": [
    {
     "name": "stdout",
     "output_type": "stream",
     "text": [
      "Wall time: 33min 27s\n"
     ]
    }
   ],
   "source": [
    "%%time\n",
    "results_forest = pd.DataFrame(data = [])\n",
    "best_lag_shape_forest, results_forest = forest_features_create_finder(taxi_hour, 5, 10, 1, 3)"
   ]
  },
  {
   "cell_type": "code",
   "execution_count": 41,
   "metadata": {},
   "outputs": [
    {
     "data": {
      "text/plain": [
       "'10-3'"
      ]
     },
     "execution_count": 41,
     "metadata": {},
     "output_type": "execute_result"
    }
   ],
   "source": [
    "best_lag_shape_forest"
   ]
  },
  {
   "cell_type": "code",
   "execution_count": 42,
   "metadata": {},
   "outputs": [
    {
     "data": {
      "text/html": [
       "<div>\n",
       "<style scoped>\n",
       "    .dataframe tbody tr th:only-of-type {\n",
       "        vertical-align: middle;\n",
       "    }\n",
       "\n",
       "    .dataframe tbody tr th {\n",
       "        vertical-align: top;\n",
       "    }\n",
       "\n",
       "    .dataframe thead th {\n",
       "        text-align: right;\n",
       "    }\n",
       "</style>\n",
       "<table border=\"1\" class=\"dataframe\">\n",
       "  <thead>\n",
       "    <tr style=\"text-align: right;\">\n",
       "      <th></th>\n",
       "      <th>max_depth</th>\n",
       "      <th>estimators</th>\n",
       "      <th>time, s</th>\n",
       "      <th>rmse</th>\n",
       "    </tr>\n",
       "  </thead>\n",
       "  <tbody>\n",
       "    <tr>\n",
       "      <td>17</td>\n",
       "      <td>17</td>\n",
       "      <td>42</td>\n",
       "      <td>0.939488</td>\n",
       "      <td>6.41625</td>\n",
       "    </tr>\n",
       "    <tr>\n",
       "      <td>13</td>\n",
       "      <td>42</td>\n",
       "      <td>50</td>\n",
       "      <td>1.09241</td>\n",
       "      <td>6.4315</td>\n",
       "    </tr>\n",
       "    <tr>\n",
       "      <td>16</td>\n",
       "      <td>16</td>\n",
       "      <td>37</td>\n",
       "      <td>0.875935</td>\n",
       "      <td>6.46261</td>\n",
       "    </tr>\n",
       "    <tr>\n",
       "      <td>15</td>\n",
       "      <td>25</td>\n",
       "      <td>37</td>\n",
       "      <td>0.833954</td>\n",
       "      <td>6.46617</td>\n",
       "    </tr>\n",
       "    <tr>\n",
       "      <td>14</td>\n",
       "      <td>12</td>\n",
       "      <td>50</td>\n",
       "      <td>0.836636</td>\n",
       "      <td>6.5353</td>\n",
       "    </tr>\n",
       "  </tbody>\n",
       "</table>\n",
       "</div>"
      ],
      "text/plain": [
       "   max_depth estimators   time, s     rmse\n",
       "17        17         42  0.939488  6.41625\n",
       "13        42         50   1.09241   6.4315\n",
       "16        16         37  0.875935  6.46261\n",
       "15        25         37  0.833954  6.46617\n",
       "14        12         50  0.836636   6.5353"
      ]
     },
     "execution_count": 42,
     "metadata": {},
     "output_type": "execute_result"
    }
   ],
   "source": [
    "results_forest.head()"
   ]
  },
  {
   "cell_type": "markdown",
   "metadata": {},
   "source": [
    "RMSE падает, но логика та же - чем больше \"хвост\", тем выше точность. \n",
    "\n",
    "Дальше искать лучший датасет не будем, занесем полученные данные в таблицу и перейдем к стадии тестирования."
   ]
  },
  {
   "cell_type": "code",
   "execution_count": 43,
   "metadata": {},
   "outputs": [
    {
     "data": {
      "text/html": [
       "<div>\n",
       "<style scoped>\n",
       "    .dataframe tbody tr th:only-of-type {\n",
       "        vertical-align: middle;\n",
       "    }\n",
       "\n",
       "    .dataframe tbody tr th {\n",
       "        vertical-align: top;\n",
       "    }\n",
       "\n",
       "    .dataframe thead th {\n",
       "        text-align: right;\n",
       "    }\n",
       "</style>\n",
       "<table border=\"1\" class=\"dataframe\">\n",
       "  <thead>\n",
       "    <tr style=\"text-align: right;\">\n",
       "      <th></th>\n",
       "      <th>estimators</th>\n",
       "      <th>iterations</th>\n",
       "      <th>lag_shape</th>\n",
       "      <th>learning_rate</th>\n",
       "      <th>leaves_num</th>\n",
       "      <th>max_depth</th>\n",
       "      <th>rmse</th>\n",
       "      <th>time, s</th>\n",
       "    </tr>\n",
       "  </thead>\n",
       "  <tbody>\n",
       "    <tr>\n",
       "      <td>0</td>\n",
       "      <td>NaN</td>\n",
       "      <td>191</td>\n",
       "      <td>14-2</td>\n",
       "      <td>0.1</td>\n",
       "      <td>31</td>\n",
       "      <td>9</td>\n",
       "      <td>5.96087</td>\n",
       "      <td>0.500991</td>\n",
       "    </tr>\n",
       "    <tr>\n",
       "      <td>1</td>\n",
       "      <td>42</td>\n",
       "      <td>NaN</td>\n",
       "      <td>10-3</td>\n",
       "      <td>NaN</td>\n",
       "      <td>NaN</td>\n",
       "      <td>17</td>\n",
       "      <td>6.41625</td>\n",
       "      <td>0.939488</td>\n",
       "    </tr>\n",
       "  </tbody>\n",
       "</table>\n",
       "</div>"
      ],
      "text/plain": [
       "  estimators iterations lag_shape learning_rate leaves_num max_depth     rmse  \\\n",
       "0        NaN        191      14-2           0.1         31         9  5.96087   \n",
       "1         42        NaN      10-3           NaN        NaN        17  6.41625   \n",
       "\n",
       "    time, s  \n",
       "0  0.500991  \n",
       "1  0.939488  "
      ]
     },
     "execution_count": 43,
     "metadata": {},
     "output_type": "execute_result"
    }
   ],
   "source": [
    "test_table = pd.concat([test_table, results_forest[:1]], sort=True, ignore_index = True)\n",
    "test_table.loc[1,'lag_shape'] = best_lag_shape_forest\n",
    "test_table"
   ]
  },
  {
   "cell_type": "markdown",
   "metadata": {},
   "source": [
    "# 4. Тестирование"
   ]
  },
  {
   "cell_type": "code",
   "execution_count": 44,
   "metadata": {},
   "outputs": [
    {
     "data": {
      "text/html": [
       "<div>\n",
       "<style scoped>\n",
       "    .dataframe tbody tr th:only-of-type {\n",
       "        vertical-align: middle;\n",
       "    }\n",
       "\n",
       "    .dataframe tbody tr th {\n",
       "        vertical-align: top;\n",
       "    }\n",
       "\n",
       "    .dataframe thead th {\n",
       "        text-align: right;\n",
       "    }\n",
       "</style>\n",
       "<table border=\"1\" class=\"dataframe\">\n",
       "  <thead>\n",
       "    <tr style=\"text-align: right;\">\n",
       "      <th></th>\n",
       "      <th>estimators</th>\n",
       "      <th>iterations</th>\n",
       "      <th>lag_shape</th>\n",
       "      <th>learning_rate</th>\n",
       "      <th>leaves_num</th>\n",
       "      <th>max_depth</th>\n",
       "      <th>rmse</th>\n",
       "      <th>time, s</th>\n",
       "    </tr>\n",
       "  </thead>\n",
       "  <tbody>\n",
       "    <tr>\n",
       "      <td>0</td>\n",
       "      <td>-</td>\n",
       "      <td>191</td>\n",
       "      <td>14-2</td>\n",
       "      <td>0.1</td>\n",
       "      <td>31</td>\n",
       "      <td>9</td>\n",
       "      <td>5.960867</td>\n",
       "      <td>0.500991</td>\n",
       "    </tr>\n",
       "    <tr>\n",
       "      <td>1</td>\n",
       "      <td>42</td>\n",
       "      <td>-</td>\n",
       "      <td>10-3</td>\n",
       "      <td>-</td>\n",
       "      <td>-</td>\n",
       "      <td>17</td>\n",
       "      <td>6.416255</td>\n",
       "      <td>0.939488</td>\n",
       "    </tr>\n",
       "  </tbody>\n",
       "</table>\n",
       "</div>"
      ],
      "text/plain": [
       "  estimators iterations lag_shape learning_rate leaves_num  max_depth  \\\n",
       "0          -        191      14-2           0.1         31          9   \n",
       "1         42          -      10-3             -          -         17   \n",
       "\n",
       "       rmse   time, s  \n",
       "0  5.960867  0.500991  \n",
       "1  6.416255  0.939488  "
      ]
     },
     "execution_count": 44,
     "metadata": {},
     "output_type": "execute_result"
    }
   ],
   "source": [
    "test_table.fillna('-')"
   ]
  },
  {
   "cell_type": "markdown",
   "metadata": {},
   "source": [
    "Найдем RMSE и время выполнения на тестовых данных."
   ]
  },
  {
   "cell_type": "code",
   "execution_count": 45,
   "metadata": {},
   "outputs": [
    {
     "data": {
      "text/html": [
       "<div>\n",
       "<style scoped>\n",
       "    .dataframe tbody tr th:only-of-type {\n",
       "        vertical-align: middle;\n",
       "    }\n",
       "\n",
       "    .dataframe tbody tr th {\n",
       "        vertical-align: top;\n",
       "    }\n",
       "\n",
       "    .dataframe thead th {\n",
       "        text-align: right;\n",
       "    }\n",
       "</style>\n",
       "<table border=\"1\" class=\"dataframe\">\n",
       "  <thead>\n",
       "    <tr style=\"text-align: right;\">\n",
       "      <th></th>\n",
       "      <th>rmse</th>\n",
       "      <th>time, s</th>\n",
       "      <th>rmse_test</th>\n",
       "      <th>time_test, s</th>\n",
       "    </tr>\n",
       "  </thead>\n",
       "  <tbody>\n",
       "    <tr>\n",
       "      <td>0</td>\n",
       "      <td>5.96087</td>\n",
       "      <td>0.500991</td>\n",
       "      <td>8.33407</td>\n",
       "      <td>0.340552</td>\n",
       "    </tr>\n",
       "    <tr>\n",
       "      <td>1</td>\n",
       "      <td>6.41625</td>\n",
       "      <td>0.939488</td>\n",
       "      <td>9.09706</td>\n",
       "      <td>1.11918</td>\n",
       "    </tr>\n",
       "  </tbody>\n",
       "</table>\n",
       "</div>"
      ],
      "text/plain": [
       "      rmse   time, s rmse_test time_test, s\n",
       "0  5.96087  0.500991   8.33407     0.340552\n",
       "1  6.41625  0.939488   9.09706      1.11918"
      ]
     },
     "execution_count": 45,
     "metadata": {},
     "output_type": "execute_result"
    }
   ],
   "source": [
    "#     Извлекаем значения для нарезки признаков\n",
    "lag_shape_gbdt = test_table.loc[0, 'lag_shape'].split('-')\n",
    "lag_gbdt = int(lag_shape_gbdt[0])\n",
    "shape_gbdt = int(lag_shape_gbdt[1])\n",
    "    \n",
    "lag_shape_forest = test_table.loc[1, 'lag_shape'].split('-')\n",
    "lag_forest = int(lag_shape_forest[0])\n",
    "shape_forest = int(lag_shape_forest[1])\n",
    "    \n",
    "#     нарезаем признаки\n",
    "data_gbdt = make_features(taxi_hour, lag_gbdt, shape_gbdt)\n",
    "data_forest = make_features(taxi_hour, lag_forest, shape_forest)\n",
    "    \n",
    "#     нарезаем фичи и целевой признак\n",
    "features_gbdt = data_gbdt.drop(['num_orders'], axis = 1)\n",
    "target_gbdt = data_gbdt['num_orders']\n",
    "    \n",
    "features_forest = data_forest.drop(['num_orders'], axis = 1)\n",
    "target_forest = data_forest['num_orders']\n",
    "    \n",
    "#     делим на обучающий и тестовый\n",
    "    \n",
    "(features_train_gbdt, features_test_gbdt,\n",
    " target_train_gbdt, target_test_gbdt) = train_test_split(features_gbdt, target_gbdt, \n",
    "                                                         test_size = 0.1, shuffle = False)\n",
    "(features_train_forest, features_test_forest,\n",
    " target_train_forest, target_test_forest) = train_test_split(features_forest, target_forest, \n",
    "                                                             test_size = 0.1, shuffle = False)\n",
    "    \n",
    "#     Градиентный бустинг\n",
    "#     готовим данные\n",
    "\n",
    "train_data_gbdt = lgb.Dataset(features_train_gbdt, label = target_train_gbdt, free_raw_data = False)\n",
    "test_data_gbdt = lgb.Dataset(features_test_gbdt, label = target_test_gbdt, free_raw_data = False)\n",
    "\n",
    "parameters_gbdt = {'objective': 'regression',\n",
    "                       'metric': 'rmse',\n",
    "                       'boosting': 'gbdt',\n",
    "                        'num_leaves': test_table.loc[0, 'leaves_num'],\n",
    "                        'device_type' : 'cpu',\n",
    "                        'num_threads' : 8,\n",
    "                        'force_row_wise' : True,\n",
    "                        'learning_rate' : test_table.loc[0, 'learning_rate'],\n",
    "                        'max_depth' : test_table.loc[0, 'max_depth']\n",
    "                      }\n",
    "start_time = time.time()\n",
    "    \n",
    "model_gbdt = lgb.train(parameters_gbdt, train_data_gbdt, test_table.loc[0, 'iterations'],\n",
    "                               valid_sets = test_data_gbdt,\n",
    "                               verbose_eval = False\n",
    "                              )\n",
    "rmse_gbdt = model_gbdt.best_score['valid_0']['rmse']\n",
    "worktime_gbdt = time.time() - start_time\n",
    "    \n",
    "#     случайный лес\n",
    "\n",
    "start_time_forest = time.time()\n",
    "    \n",
    "model_forest = RandomForestRegressor(n_estimators = test_table.loc[1, 'estimators'], \n",
    "                                         max_depth = test_table.loc[1, 'max_depth'], random_state = 11111)\n",
    "    \n",
    "model_forest.fit(features_train_forest, target_train_forest)\n",
    "            \n",
    "pred_valid = model_forest.predict(features_test_forest)\n",
    "rmse_forest = mean_squared_error(target_test_forest, pred_valid) ** 0.5\n",
    "            \n",
    "worktime_forest = time.time() - start_time_forest\n",
    "    \n",
    "#     собираем итоговую таблицу\n",
    "\n",
    "final = pd.DataFrame(data = [], columns = ['rmse', 'time, s', 'rmse_test', 'time_test, s'])\n",
    "final.loc[0, 'rmse'] = test_table.loc[0,'rmse']\n",
    "final.loc[0, 'time, s'] = test_table.loc[0,'time, s']\n",
    "    \n",
    "final.loc[0, 'rmse_test'] = rmse_gbdt\n",
    "final.loc[0, 'time_test, s'] = worktime_gbdt\n",
    "    \n",
    "final.loc[1, 'rmse'] = test_table.loc[1,'rmse']\n",
    "final.loc[1, 'time, s'] = test_table.loc[1,'time, s']\n",
    "    \n",
    "final.loc[1, 'rmse_test'] = rmse_forest\n",
    "final.loc[1, 'time_test, s'] = worktime_forest\n",
    "    \n",
    "final"
   ]
  },
  {
   "cell_type": "markdown",
   "metadata": {},
   "source": [
    "В обоих случаях зафиксирован существенный рост значений RMSE почти в 1.5 раза.\n",
    "\n",
    "Однако и с точки зрения времени и с точки зрения метрики, градиентный бустинг - впереди.\n",
    "\n",
    "Попробуем также модель линейной регресии на тех же данных и сравним RMSE для неё с полученными ранее моделями.\n",
    "\n",
    "На вход \"запустим\" оба полученных ранее датасета - 14-2 и 10-3."
   ]
  },
  {
   "cell_type": "code",
   "execution_count": 46,
   "metadata": {},
   "outputs": [
    {
     "data": {
      "text/plain": [
       "8.966474893720026"
      ]
     },
     "execution_count": 46,
     "metadata": {},
     "output_type": "execute_result"
    }
   ],
   "source": [
    "model_linreg_gbdt = LinearRegression()\n",
    "model_linreg_gbdt.fit(features_train_gbdt, target_train_gbdt)\n",
    "\n",
    "pred_gbdt = model_linreg_gbdt.predict(features_test_gbdt)\n",
    "rmse_linreg_gbdt = mean_squared_error(target_test_gbdt, pred_gbdt) ** 0.5\n",
    "rmse_linreg_gbdt"
   ]
  },
  {
   "cell_type": "markdown",
   "metadata": {},
   "source": [
    "Градиентный бустинг по прежнему \"лучше\". Хоть и не значительно."
   ]
  },
  {
   "cell_type": "code",
   "execution_count": 47,
   "metadata": {},
   "outputs": [
    {
     "data": {
      "text/plain": [
       "9.098913183376512"
      ]
     },
     "execution_count": 47,
     "metadata": {},
     "output_type": "execute_result"
    }
   ],
   "source": [
    "model_linreg_forest = LinearRegression()\n",
    "model_linreg_forest.fit(features_train_forest, target_train_forest)\n",
    "\n",
    "pred_forest = model_linreg_forest.predict(features_test_forest)\n",
    "rmse_linreg_forest = mean_squared_error(target_test_forest, pred_forest) ** 0.5\n",
    "rmse_linreg_forest"
   ]
  },
  {
   "cell_type": "markdown",
   "metadata": {},
   "source": [
    "На меньшем датасете RMSE чуть ниже, пусть и не значительно."
   ]
  },
  {
   "cell_type": "markdown",
   "metadata": {},
   "source": [
    "Лучший вариант - градиентный бустинг на деревьях. Линейная регрессия сравнима по точности со случайным лесом (на тестовых данных) и несравнимо быстрее его.\n",
    "\n",
    "Спасибо за внимание!"
   ]
  }
 ],
 "metadata": {
  "kernelspec": {
   "display_name": "Python 3",
   "language": "python",
   "name": "python3"
  },
  "language_info": {
   "codemirror_mode": {
    "name": "ipython",
    "version": 3
   },
   "file_extension": ".py",
   "mimetype": "text/x-python",
   "name": "python",
   "nbconvert_exporter": "python",
   "pygments_lexer": "ipython3",
   "version": "3.7.4"
  }
 },
 "nbformat": 4,
 "nbformat_minor": 2
}
