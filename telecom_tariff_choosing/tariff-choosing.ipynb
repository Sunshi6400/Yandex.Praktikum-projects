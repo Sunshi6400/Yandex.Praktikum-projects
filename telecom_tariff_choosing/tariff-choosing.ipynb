{
 "cells": [
  {
   "cell_type": "markdown",
   "metadata": {},
   "source": [
    "# Определение перспективного тарифа для телеком. компании"
   ]
  },
  {
   "cell_type": "markdown",
   "metadata": {},
   "source": [
    "### Цель исследования:\n",
    "\n",
    "На основе исторических данных определить наилучший (с точки зрения бизнеса) тариф телеком-компании.\n",
    "\n",
    "Для этого нам потребуется провести предобработку данных, исследовательский анализ данных, а также сформулировать рабочие гипотезы и выводы."
   ]
  },
  {
   "cell_type": "markdown",
   "metadata": {},
   "source": [
    "Подключим необходимые библиотеки, откроем исходные файлы с данными, оценим фронт работ."
   ]
  },
  {
   "cell_type": "code",
   "execution_count": 1,
   "metadata": {},
   "outputs": [],
   "source": [
    "import pandas as pd\n",
    "from datetime import datetime\n",
    "import matplotlib.pyplot as plt\n",
    "import math\n",
    "from scipy import stats as st\n",
    "\n",
    "# добавил это условие для того, чтобы скрыть предупреждения, связанные с копированием датафрейма.\n",
    "pd.options.mode.chained_assignment = None  # default='warn'"
   ]
  },
  {
   "cell_type": "code",
   "execution_count": 2,
   "metadata": {},
   "outputs": [],
   "source": [
    "calls = pd.read_csv(\"/datasets/calls.csv\")\n",
    "internet = pd.read_csv(\"/datasets/internet.csv\")\n",
    "messages = pd.read_csv(\"/datasets/messages.csv\")\n",
    "tariffs = pd.read_csv(\"/datasets/tariffs.csv\")\n",
    "users = pd.read_csv(\"/datasets/users.csv\")"
   ]
  },
  {
   "cell_type": "markdown",
   "metadata": {},
   "source": [
    "## 1. Предобработка данных\n",
    "\n",
    "### Тарифы\n",
    "Изучим каждый из датафреймов по отдельности. Начнем с файла, содержащего информацию по тарифам."
   ]
  },
  {
   "cell_type": "code",
   "execution_count": 3,
   "metadata": {},
   "outputs": [
    {
     "data": {
      "text/html": [
       "<div>\n",
       "<style scoped>\n",
       "    .dataframe tbody tr th:only-of-type {\n",
       "        vertical-align: middle;\n",
       "    }\n",
       "\n",
       "    .dataframe tbody tr th {\n",
       "        vertical-align: top;\n",
       "    }\n",
       "\n",
       "    .dataframe thead th {\n",
       "        text-align: right;\n",
       "    }\n",
       "</style>\n",
       "<table border=\"1\" class=\"dataframe\">\n",
       "  <thead>\n",
       "    <tr style=\"text-align: right;\">\n",
       "      <th></th>\n",
       "      <th>messages_included</th>\n",
       "      <th>mg_per_month_included</th>\n",
       "      <th>minutes_included</th>\n",
       "      <th>rub_monthly_fee</th>\n",
       "      <th>rub_per_gb</th>\n",
       "      <th>rub_per_message</th>\n",
       "      <th>rub_per_minute</th>\n",
       "      <th>tariff_name</th>\n",
       "    </tr>\n",
       "  </thead>\n",
       "  <tbody>\n",
       "    <tr>\n",
       "      <td>0</td>\n",
       "      <td>50</td>\n",
       "      <td>15360</td>\n",
       "      <td>500</td>\n",
       "      <td>550</td>\n",
       "      <td>200</td>\n",
       "      <td>3</td>\n",
       "      <td>3</td>\n",
       "      <td>smart</td>\n",
       "    </tr>\n",
       "    <tr>\n",
       "      <td>1</td>\n",
       "      <td>1000</td>\n",
       "      <td>30720</td>\n",
       "      <td>3000</td>\n",
       "      <td>1950</td>\n",
       "      <td>150</td>\n",
       "      <td>1</td>\n",
       "      <td>1</td>\n",
       "      <td>ultra</td>\n",
       "    </tr>\n",
       "  </tbody>\n",
       "</table>\n",
       "</div>"
      ],
      "text/plain": [
       "   messages_included  mg_per_month_included  minutes_included  \\\n",
       "0                 50                  15360               500   \n",
       "1               1000                  30720              3000   \n",
       "\n",
       "   rub_monthly_fee  rub_per_gb  rub_per_message  rub_per_minute tariff_name  \n",
       "0              550         200                3               3       smart  \n",
       "1             1950         150                1               1       ultra  "
      ]
     },
     "execution_count": 3,
     "metadata": {},
     "output_type": "execute_result"
    }
   ],
   "source": [
    "tariffs"
   ]
  },
  {
   "cell_type": "markdown",
   "metadata": {},
   "source": [
    "Всего 2 строки данных - ведь анализируемых тарифов у нас всего 2. Смотреть особо не на что. Данные совпадают с заявленными в описании проекта, столбцы поименованны корректно, тип данных выбран также верно - предобрабатывать нечего.\n",
    "\n",
    "Переходим к следующему по логике датасету - пользователи.\n",
    "\n",
    "### Пользователи"
   ]
  },
  {
   "cell_type": "code",
   "execution_count": 4,
   "metadata": {
    "scrolled": false
   },
   "outputs": [
    {
     "name": "stdout",
     "output_type": "stream",
     "text": [
      "<class 'pandas.core.frame.DataFrame'>\n",
      "RangeIndex: 500 entries, 0 to 499\n",
      "Data columns (total 8 columns):\n",
      "user_id       500 non-null int64\n",
      "age           500 non-null int64\n",
      "churn_date    38 non-null object\n",
      "city          500 non-null object\n",
      "first_name    500 non-null object\n",
      "last_name     500 non-null object\n",
      "reg_date      500 non-null object\n",
      "tariff        500 non-null object\n",
      "dtypes: int64(2), object(6)\n",
      "memory usage: 31.4+ KB\n"
     ]
    },
    {
     "data": {
      "text/html": [
       "<div>\n",
       "<style scoped>\n",
       "    .dataframe tbody tr th:only-of-type {\n",
       "        vertical-align: middle;\n",
       "    }\n",
       "\n",
       "    .dataframe tbody tr th {\n",
       "        vertical-align: top;\n",
       "    }\n",
       "\n",
       "    .dataframe thead th {\n",
       "        text-align: right;\n",
       "    }\n",
       "</style>\n",
       "<table border=\"1\" class=\"dataframe\">\n",
       "  <thead>\n",
       "    <tr style=\"text-align: right;\">\n",
       "      <th></th>\n",
       "      <th>user_id</th>\n",
       "      <th>age</th>\n",
       "      <th>churn_date</th>\n",
       "      <th>city</th>\n",
       "      <th>first_name</th>\n",
       "      <th>last_name</th>\n",
       "      <th>reg_date</th>\n",
       "      <th>tariff</th>\n",
       "    </tr>\n",
       "  </thead>\n",
       "  <tbody>\n",
       "    <tr>\n",
       "      <td>0</td>\n",
       "      <td>1000</td>\n",
       "      <td>52</td>\n",
       "      <td>NaN</td>\n",
       "      <td>Краснодар</td>\n",
       "      <td>Рафаил</td>\n",
       "      <td>Верещагин</td>\n",
       "      <td>2018-05-25</td>\n",
       "      <td>ultra</td>\n",
       "    </tr>\n",
       "    <tr>\n",
       "      <td>1</td>\n",
       "      <td>1001</td>\n",
       "      <td>41</td>\n",
       "      <td>NaN</td>\n",
       "      <td>Москва</td>\n",
       "      <td>Иван</td>\n",
       "      <td>Ежов</td>\n",
       "      <td>2018-11-01</td>\n",
       "      <td>smart</td>\n",
       "    </tr>\n",
       "    <tr>\n",
       "      <td>2</td>\n",
       "      <td>1002</td>\n",
       "      <td>59</td>\n",
       "      <td>NaN</td>\n",
       "      <td>Стерлитамак</td>\n",
       "      <td>Евгений</td>\n",
       "      <td>Абрамович</td>\n",
       "      <td>2018-06-17</td>\n",
       "      <td>smart</td>\n",
       "    </tr>\n",
       "    <tr>\n",
       "      <td>3</td>\n",
       "      <td>1003</td>\n",
       "      <td>23</td>\n",
       "      <td>NaN</td>\n",
       "      <td>Москва</td>\n",
       "      <td>Белла</td>\n",
       "      <td>Белякова</td>\n",
       "      <td>2018-08-17</td>\n",
       "      <td>ultra</td>\n",
       "    </tr>\n",
       "    <tr>\n",
       "      <td>4</td>\n",
       "      <td>1004</td>\n",
       "      <td>68</td>\n",
       "      <td>NaN</td>\n",
       "      <td>Новокузнецк</td>\n",
       "      <td>Татьяна</td>\n",
       "      <td>Авдеенко</td>\n",
       "      <td>2018-05-14</td>\n",
       "      <td>ultra</td>\n",
       "    </tr>\n",
       "    <tr>\n",
       "      <td>5</td>\n",
       "      <td>1005</td>\n",
       "      <td>67</td>\n",
       "      <td>NaN</td>\n",
       "      <td>Набережные Челны</td>\n",
       "      <td>Афанасий</td>\n",
       "      <td>Горлов</td>\n",
       "      <td>2018-01-25</td>\n",
       "      <td>smart</td>\n",
       "    </tr>\n",
       "    <tr>\n",
       "      <td>6</td>\n",
       "      <td>1006</td>\n",
       "      <td>21</td>\n",
       "      <td>NaN</td>\n",
       "      <td>Ульяновск</td>\n",
       "      <td>Леонид</td>\n",
       "      <td>Ермолаев</td>\n",
       "      <td>2018-02-26</td>\n",
       "      <td>smart</td>\n",
       "    </tr>\n",
       "    <tr>\n",
       "      <td>7</td>\n",
       "      <td>1007</td>\n",
       "      <td>65</td>\n",
       "      <td>NaN</td>\n",
       "      <td>Москва</td>\n",
       "      <td>Юна</td>\n",
       "      <td>Березина</td>\n",
       "      <td>2018-04-19</td>\n",
       "      <td>smart</td>\n",
       "    </tr>\n",
       "    <tr>\n",
       "      <td>8</td>\n",
       "      <td>1008</td>\n",
       "      <td>63</td>\n",
       "      <td>NaN</td>\n",
       "      <td>Челябинск</td>\n",
       "      <td>Рустэм</td>\n",
       "      <td>Пономарёв</td>\n",
       "      <td>2018-12-19</td>\n",
       "      <td>smart</td>\n",
       "    </tr>\n",
       "    <tr>\n",
       "      <td>9</td>\n",
       "      <td>1009</td>\n",
       "      <td>24</td>\n",
       "      <td>NaN</td>\n",
       "      <td>Пермь</td>\n",
       "      <td>Василиса</td>\n",
       "      <td>Блинова</td>\n",
       "      <td>2018-03-22</td>\n",
       "      <td>smart</td>\n",
       "    </tr>\n",
       "  </tbody>\n",
       "</table>\n",
       "</div>"
      ],
      "text/plain": [
       "   user_id  age churn_date              city first_name  last_name  \\\n",
       "0     1000   52        NaN         Краснодар     Рафаил  Верещагин   \n",
       "1     1001   41        NaN            Москва       Иван       Ежов   \n",
       "2     1002   59        NaN       Стерлитамак    Евгений  Абрамович   \n",
       "3     1003   23        NaN            Москва      Белла   Белякова   \n",
       "4     1004   68        NaN       Новокузнецк    Татьяна   Авдеенко   \n",
       "5     1005   67        NaN  Набережные Челны   Афанасий     Горлов   \n",
       "6     1006   21        NaN         Ульяновск     Леонид   Ермолаев   \n",
       "7     1007   65        NaN            Москва        Юна   Березина   \n",
       "8     1008   63        NaN         Челябинск     Рустэм  Пономарёв   \n",
       "9     1009   24        NaN             Пермь   Василиса    Блинова   \n",
       "\n",
       "     reg_date tariff  \n",
       "0  2018-05-25  ultra  \n",
       "1  2018-11-01  smart  \n",
       "2  2018-06-17  smart  \n",
       "3  2018-08-17  ultra  \n",
       "4  2018-05-14  ultra  \n",
       "5  2018-01-25  smart  \n",
       "6  2018-02-26  smart  \n",
       "7  2018-04-19  smart  \n",
       "8  2018-12-19  smart  \n",
       "9  2018-03-22  smart  "
      ]
     },
     "execution_count": 4,
     "metadata": {},
     "output_type": "execute_result"
    }
   ],
   "source": [
    "users.info()\n",
    "users.head(10)"
   ]
  },
  {
   "cell_type": "markdown",
   "metadata": {},
   "source": [
    "Датасет представлен столбцами:\n",
    "- id пользователя\n",
    "- возраст\n",
    "- дата отключения\n",
    "- город\n",
    "- Имя\n",
    "- Фамилия\n",
    "- дата регистрации\n",
    "- тариф"
   ]
  },
  {
   "cell_type": "markdown",
   "metadata": {},
   "source": [
    "Во всех столбцах, за исключением \"даты отключения\" нет пропусков. Пропуски свидетельствуют о факте \"подключенности\" тарифа на момент сбора данных. Заполним пропуски индикаторным значением - например, 1.1.2000 года - достаточно отдаленная дата для получения во всех возможных случаях отрицательно длительности \"существования\" тарифа у конкретного пользователя.\n",
    "\n",
    "Кроме того, необходимо будет заменить тип данных в столбцах \"churn_date\" и \"reg_date\" на datetime."
   ]
  },
  {
   "cell_type": "code",
   "execution_count": 5,
   "metadata": {},
   "outputs": [
    {
     "name": "stdout",
     "output_type": "stream",
     "text": [
      "<class 'pandas.core.frame.DataFrame'>\n",
      "RangeIndex: 500 entries, 0 to 499\n",
      "Data columns (total 8 columns):\n",
      "user_id       500 non-null int64\n",
      "age           500 non-null int64\n",
      "churn_date    500 non-null datetime64[ns]\n",
      "city          500 non-null object\n",
      "first_name    500 non-null object\n",
      "last_name     500 non-null object\n",
      "reg_date      500 non-null datetime64[ns]\n",
      "tariff        500 non-null object\n",
      "dtypes: datetime64[ns](2), int64(2), object(4)\n",
      "memory usage: 31.4+ KB\n"
     ]
    },
    {
     "data": {
      "text/html": [
       "<div>\n",
       "<style scoped>\n",
       "    .dataframe tbody tr th:only-of-type {\n",
       "        vertical-align: middle;\n",
       "    }\n",
       "\n",
       "    .dataframe tbody tr th {\n",
       "        vertical-align: top;\n",
       "    }\n",
       "\n",
       "    .dataframe thead th {\n",
       "        text-align: right;\n",
       "    }\n",
       "</style>\n",
       "<table border=\"1\" class=\"dataframe\">\n",
       "  <thead>\n",
       "    <tr style=\"text-align: right;\">\n",
       "      <th></th>\n",
       "      <th>user_id</th>\n",
       "      <th>age</th>\n",
       "      <th>churn_date</th>\n",
       "      <th>city</th>\n",
       "      <th>first_name</th>\n",
       "      <th>last_name</th>\n",
       "      <th>reg_date</th>\n",
       "      <th>tariff</th>\n",
       "    </tr>\n",
       "  </thead>\n",
       "  <tbody>\n",
       "    <tr>\n",
       "      <td>0</td>\n",
       "      <td>1000</td>\n",
       "      <td>52</td>\n",
       "      <td>2000-01-01</td>\n",
       "      <td>Краснодар</td>\n",
       "      <td>Рафаил</td>\n",
       "      <td>Верещагин</td>\n",
       "      <td>2018-05-25</td>\n",
       "      <td>ultra</td>\n",
       "    </tr>\n",
       "    <tr>\n",
       "      <td>1</td>\n",
       "      <td>1001</td>\n",
       "      <td>41</td>\n",
       "      <td>2000-01-01</td>\n",
       "      <td>Москва</td>\n",
       "      <td>Иван</td>\n",
       "      <td>Ежов</td>\n",
       "      <td>2018-11-01</td>\n",
       "      <td>smart</td>\n",
       "    </tr>\n",
       "    <tr>\n",
       "      <td>2</td>\n",
       "      <td>1002</td>\n",
       "      <td>59</td>\n",
       "      <td>2000-01-01</td>\n",
       "      <td>Стерлитамак</td>\n",
       "      <td>Евгений</td>\n",
       "      <td>Абрамович</td>\n",
       "      <td>2018-06-17</td>\n",
       "      <td>smart</td>\n",
       "    </tr>\n",
       "    <tr>\n",
       "      <td>3</td>\n",
       "      <td>1003</td>\n",
       "      <td>23</td>\n",
       "      <td>2000-01-01</td>\n",
       "      <td>Москва</td>\n",
       "      <td>Белла</td>\n",
       "      <td>Белякова</td>\n",
       "      <td>2018-08-17</td>\n",
       "      <td>ultra</td>\n",
       "    </tr>\n",
       "    <tr>\n",
       "      <td>4</td>\n",
       "      <td>1004</td>\n",
       "      <td>68</td>\n",
       "      <td>2000-01-01</td>\n",
       "      <td>Новокузнецк</td>\n",
       "      <td>Татьяна</td>\n",
       "      <td>Авдеенко</td>\n",
       "      <td>2018-05-14</td>\n",
       "      <td>ultra</td>\n",
       "    </tr>\n",
       "    <tr>\n",
       "      <td>5</td>\n",
       "      <td>1005</td>\n",
       "      <td>67</td>\n",
       "      <td>2000-01-01</td>\n",
       "      <td>Набережные Челны</td>\n",
       "      <td>Афанасий</td>\n",
       "      <td>Горлов</td>\n",
       "      <td>2018-01-25</td>\n",
       "      <td>smart</td>\n",
       "    </tr>\n",
       "    <tr>\n",
       "      <td>6</td>\n",
       "      <td>1006</td>\n",
       "      <td>21</td>\n",
       "      <td>2000-01-01</td>\n",
       "      <td>Ульяновск</td>\n",
       "      <td>Леонид</td>\n",
       "      <td>Ермолаев</td>\n",
       "      <td>2018-02-26</td>\n",
       "      <td>smart</td>\n",
       "    </tr>\n",
       "    <tr>\n",
       "      <td>7</td>\n",
       "      <td>1007</td>\n",
       "      <td>65</td>\n",
       "      <td>2000-01-01</td>\n",
       "      <td>Москва</td>\n",
       "      <td>Юна</td>\n",
       "      <td>Березина</td>\n",
       "      <td>2018-04-19</td>\n",
       "      <td>smart</td>\n",
       "    </tr>\n",
       "    <tr>\n",
       "      <td>8</td>\n",
       "      <td>1008</td>\n",
       "      <td>63</td>\n",
       "      <td>2000-01-01</td>\n",
       "      <td>Челябинск</td>\n",
       "      <td>Рустэм</td>\n",
       "      <td>Пономарёв</td>\n",
       "      <td>2018-12-19</td>\n",
       "      <td>smart</td>\n",
       "    </tr>\n",
       "    <tr>\n",
       "      <td>9</td>\n",
       "      <td>1009</td>\n",
       "      <td>24</td>\n",
       "      <td>2000-01-01</td>\n",
       "      <td>Пермь</td>\n",
       "      <td>Василиса</td>\n",
       "      <td>Блинова</td>\n",
       "      <td>2018-03-22</td>\n",
       "      <td>smart</td>\n",
       "    </tr>\n",
       "  </tbody>\n",
       "</table>\n",
       "</div>"
      ],
      "text/plain": [
       "   user_id  age churn_date              city first_name  last_name   reg_date  \\\n",
       "0     1000   52 2000-01-01         Краснодар     Рафаил  Верещагин 2018-05-25   \n",
       "1     1001   41 2000-01-01            Москва       Иван       Ежов 2018-11-01   \n",
       "2     1002   59 2000-01-01       Стерлитамак    Евгений  Абрамович 2018-06-17   \n",
       "3     1003   23 2000-01-01            Москва      Белла   Белякова 2018-08-17   \n",
       "4     1004   68 2000-01-01       Новокузнецк    Татьяна   Авдеенко 2018-05-14   \n",
       "5     1005   67 2000-01-01  Набережные Челны   Афанасий     Горлов 2018-01-25   \n",
       "6     1006   21 2000-01-01         Ульяновск     Леонид   Ермолаев 2018-02-26   \n",
       "7     1007   65 2000-01-01            Москва        Юна   Березина 2018-04-19   \n",
       "8     1008   63 2000-01-01         Челябинск     Рустэм  Пономарёв 2018-12-19   \n",
       "9     1009   24 2000-01-01             Пермь   Василиса    Блинова 2018-03-22   \n",
       "\n",
       "  tariff  \n",
       "0  ultra  \n",
       "1  smart  \n",
       "2  smart  \n",
       "3  ultra  \n",
       "4  ultra  \n",
       "5  smart  \n",
       "6  smart  \n",
       "7  smart  \n",
       "8  smart  \n",
       "9  smart  "
      ]
     },
     "execution_count": 5,
     "metadata": {},
     "output_type": "execute_result"
    }
   ],
   "source": [
    "users['churn_date'] = users['churn_date'].fillna(\"2000-01-01\")\n",
    "users['churn_date'] = pd.to_datetime(users['churn_date'], format = '%Y-%m-%d')\n",
    "users['reg_date'] = pd.to_datetime(users['reg_date'], format = '%Y-%m-%d')\n",
    "users.info()\n",
    "users.head(10)"
   ]
  },
  {
   "cell_type": "markdown",
   "metadata": {},
   "source": [
    "Пропуски удалили, тип данных поменяли, переходим к следующим датасетам.\n",
    "\n",
    "### Звонки"
   ]
  },
  {
   "cell_type": "code",
   "execution_count": 6,
   "metadata": {},
   "outputs": [
    {
     "name": "stdout",
     "output_type": "stream",
     "text": [
      "<class 'pandas.core.frame.DataFrame'>\n",
      "RangeIndex: 202607 entries, 0 to 202606\n",
      "Data columns (total 4 columns):\n",
      "id           202607 non-null object\n",
      "call_date    202607 non-null object\n",
      "duration     202607 non-null float64\n",
      "user_id      202607 non-null int64\n",
      "dtypes: float64(1), int64(1), object(2)\n",
      "memory usage: 6.2+ MB\n"
     ]
    },
    {
     "data": {
      "text/html": [
       "<div>\n",
       "<style scoped>\n",
       "    .dataframe tbody tr th:only-of-type {\n",
       "        vertical-align: middle;\n",
       "    }\n",
       "\n",
       "    .dataframe tbody tr th {\n",
       "        vertical-align: top;\n",
       "    }\n",
       "\n",
       "    .dataframe thead th {\n",
       "        text-align: right;\n",
       "    }\n",
       "</style>\n",
       "<table border=\"1\" class=\"dataframe\">\n",
       "  <thead>\n",
       "    <tr style=\"text-align: right;\">\n",
       "      <th></th>\n",
       "      <th>id</th>\n",
       "      <th>call_date</th>\n",
       "      <th>duration</th>\n",
       "      <th>user_id</th>\n",
       "    </tr>\n",
       "  </thead>\n",
       "  <tbody>\n",
       "    <tr>\n",
       "      <td>0</td>\n",
       "      <td>1000_0</td>\n",
       "      <td>2018-07-25</td>\n",
       "      <td>0.00</td>\n",
       "      <td>1000</td>\n",
       "    </tr>\n",
       "    <tr>\n",
       "      <td>1</td>\n",
       "      <td>1000_1</td>\n",
       "      <td>2018-08-17</td>\n",
       "      <td>0.00</td>\n",
       "      <td>1000</td>\n",
       "    </tr>\n",
       "    <tr>\n",
       "      <td>2</td>\n",
       "      <td>1000_2</td>\n",
       "      <td>2018-06-11</td>\n",
       "      <td>2.85</td>\n",
       "      <td>1000</td>\n",
       "    </tr>\n",
       "    <tr>\n",
       "      <td>3</td>\n",
       "      <td>1000_3</td>\n",
       "      <td>2018-09-21</td>\n",
       "      <td>13.80</td>\n",
       "      <td>1000</td>\n",
       "    </tr>\n",
       "    <tr>\n",
       "      <td>4</td>\n",
       "      <td>1000_4</td>\n",
       "      <td>2018-12-15</td>\n",
       "      <td>5.18</td>\n",
       "      <td>1000</td>\n",
       "    </tr>\n",
       "    <tr>\n",
       "      <td>5</td>\n",
       "      <td>1000_5</td>\n",
       "      <td>2018-11-02</td>\n",
       "      <td>0.00</td>\n",
       "      <td>1000</td>\n",
       "    </tr>\n",
       "    <tr>\n",
       "      <td>6</td>\n",
       "      <td>1000_6</td>\n",
       "      <td>2018-10-18</td>\n",
       "      <td>0.00</td>\n",
       "      <td>1000</td>\n",
       "    </tr>\n",
       "    <tr>\n",
       "      <td>7</td>\n",
       "      <td>1000_7</td>\n",
       "      <td>2018-08-22</td>\n",
       "      <td>18.31</td>\n",
       "      <td>1000</td>\n",
       "    </tr>\n",
       "    <tr>\n",
       "      <td>8</td>\n",
       "      <td>1000_8</td>\n",
       "      <td>2018-09-15</td>\n",
       "      <td>18.44</td>\n",
       "      <td>1000</td>\n",
       "    </tr>\n",
       "    <tr>\n",
       "      <td>9</td>\n",
       "      <td>1000_9</td>\n",
       "      <td>2018-08-15</td>\n",
       "      <td>0.00</td>\n",
       "      <td>1000</td>\n",
       "    </tr>\n",
       "  </tbody>\n",
       "</table>\n",
       "</div>"
      ],
      "text/plain": [
       "       id   call_date  duration  user_id\n",
       "0  1000_0  2018-07-25      0.00     1000\n",
       "1  1000_1  2018-08-17      0.00     1000\n",
       "2  1000_2  2018-06-11      2.85     1000\n",
       "3  1000_3  2018-09-21     13.80     1000\n",
       "4  1000_4  2018-12-15      5.18     1000\n",
       "5  1000_5  2018-11-02      0.00     1000\n",
       "6  1000_6  2018-10-18      0.00     1000\n",
       "7  1000_7  2018-08-22     18.31     1000\n",
       "8  1000_8  2018-09-15     18.44     1000\n",
       "9  1000_9  2018-08-15      0.00     1000"
      ]
     },
     "execution_count": 6,
     "metadata": {},
     "output_type": "execute_result"
    }
   ],
   "source": [
    "calls.info()\n",
    "calls.head(10)"
   ]
  },
  {
   "cell_type": "markdown",
   "metadata": {},
   "source": [
    "Здесь столбцов 4:\n",
    "- id принадлежности к пользователю\n",
    "- дата звонка\n",
    "- длительность\n",
    "- id пользователя"
   ]
  },
  {
   "cell_type": "markdown",
   "metadata": {},
   "source": [
    "В столбце \"длительность\" присутствуют нулевые значения. Вероятно, это звонки-\"недозвоны\". \n",
    "Заменим тип данных в столбце \"call_date\"  на datetime."
   ]
  },
  {
   "cell_type": "code",
   "execution_count": 7,
   "metadata": {
    "scrolled": true
   },
   "outputs": [
    {
     "name": "stdout",
     "output_type": "stream",
     "text": [
      "<class 'pandas.core.frame.DataFrame'>\n",
      "RangeIndex: 202607 entries, 0 to 202606\n",
      "Data columns (total 4 columns):\n",
      "id           202607 non-null object\n",
      "call_date    202607 non-null datetime64[ns]\n",
      "duration     202607 non-null float64\n",
      "user_id      202607 non-null int64\n",
      "dtypes: datetime64[ns](1), float64(1), int64(1), object(1)\n",
      "memory usage: 6.2+ MB\n"
     ]
    }
   ],
   "source": [
    "calls['call_date'] = pd.to_datetime(calls['call_date'], format = '%Y-%m-%d')\n",
    "calls.info()"
   ]
  },
  {
   "cell_type": "markdown",
   "metadata": {},
   "source": [
    "Поскольку пропусков в таблице не видно, переходим к следующему датасету."
   ]
  },
  {
   "cell_type": "markdown",
   "metadata": {},
   "source": [
    "### Интернет"
   ]
  },
  {
   "cell_type": "code",
   "execution_count": 8,
   "metadata": {},
   "outputs": [
    {
     "name": "stdout",
     "output_type": "stream",
     "text": [
      "<class 'pandas.core.frame.DataFrame'>\n",
      "RangeIndex: 149396 entries, 0 to 149395\n",
      "Data columns (total 4 columns):\n",
      "id              149396 non-null object\n",
      "mb_used         149396 non-null float64\n",
      "session_date    149396 non-null object\n",
      "user_id         149396 non-null int64\n",
      "dtypes: float64(1), int64(1), object(2)\n",
      "memory usage: 4.6+ MB\n"
     ]
    },
    {
     "data": {
      "text/html": [
       "<div>\n",
       "<style scoped>\n",
       "    .dataframe tbody tr th:only-of-type {\n",
       "        vertical-align: middle;\n",
       "    }\n",
       "\n",
       "    .dataframe tbody tr th {\n",
       "        vertical-align: top;\n",
       "    }\n",
       "\n",
       "    .dataframe thead th {\n",
       "        text-align: right;\n",
       "    }\n",
       "</style>\n",
       "<table border=\"1\" class=\"dataframe\">\n",
       "  <thead>\n",
       "    <tr style=\"text-align: right;\">\n",
       "      <th></th>\n",
       "      <th>id</th>\n",
       "      <th>mb_used</th>\n",
       "      <th>session_date</th>\n",
       "      <th>user_id</th>\n",
       "    </tr>\n",
       "  </thead>\n",
       "  <tbody>\n",
       "    <tr>\n",
       "      <td>0</td>\n",
       "      <td>1000_0</td>\n",
       "      <td>112.95</td>\n",
       "      <td>2018-11-25</td>\n",
       "      <td>1000</td>\n",
       "    </tr>\n",
       "    <tr>\n",
       "      <td>1</td>\n",
       "      <td>1000_1</td>\n",
       "      <td>1052.81</td>\n",
       "      <td>2018-09-07</td>\n",
       "      <td>1000</td>\n",
       "    </tr>\n",
       "    <tr>\n",
       "      <td>2</td>\n",
       "      <td>1000_2</td>\n",
       "      <td>1197.26</td>\n",
       "      <td>2018-06-25</td>\n",
       "      <td>1000</td>\n",
       "    </tr>\n",
       "    <tr>\n",
       "      <td>3</td>\n",
       "      <td>1000_3</td>\n",
       "      <td>550.27</td>\n",
       "      <td>2018-08-22</td>\n",
       "      <td>1000</td>\n",
       "    </tr>\n",
       "    <tr>\n",
       "      <td>4</td>\n",
       "      <td>1000_4</td>\n",
       "      <td>302.56</td>\n",
       "      <td>2018-09-24</td>\n",
       "      <td>1000</td>\n",
       "    </tr>\n",
       "    <tr>\n",
       "      <td>5</td>\n",
       "      <td>1000_5</td>\n",
       "      <td>399.97</td>\n",
       "      <td>2018-10-02</td>\n",
       "      <td>1000</td>\n",
       "    </tr>\n",
       "    <tr>\n",
       "      <td>6</td>\n",
       "      <td>1000_6</td>\n",
       "      <td>540.08</td>\n",
       "      <td>2018-09-07</td>\n",
       "      <td>1000</td>\n",
       "    </tr>\n",
       "    <tr>\n",
       "      <td>7</td>\n",
       "      <td>1000_7</td>\n",
       "      <td>415.70</td>\n",
       "      <td>2018-07-11</td>\n",
       "      <td>1000</td>\n",
       "    </tr>\n",
       "    <tr>\n",
       "      <td>8</td>\n",
       "      <td>1000_8</td>\n",
       "      <td>505.40</td>\n",
       "      <td>2018-10-08</td>\n",
       "      <td>1000</td>\n",
       "    </tr>\n",
       "    <tr>\n",
       "      <td>9</td>\n",
       "      <td>1000_9</td>\n",
       "      <td>345.54</td>\n",
       "      <td>2018-09-03</td>\n",
       "      <td>1000</td>\n",
       "    </tr>\n",
       "  </tbody>\n",
       "</table>\n",
       "</div>"
      ],
      "text/plain": [
       "       id  mb_used session_date  user_id\n",
       "0  1000_0   112.95   2018-11-25     1000\n",
       "1  1000_1  1052.81   2018-09-07     1000\n",
       "2  1000_2  1197.26   2018-06-25     1000\n",
       "3  1000_3   550.27   2018-08-22     1000\n",
       "4  1000_4   302.56   2018-09-24     1000\n",
       "5  1000_5   399.97   2018-10-02     1000\n",
       "6  1000_6   540.08   2018-09-07     1000\n",
       "7  1000_7   415.70   2018-07-11     1000\n",
       "8  1000_8   505.40   2018-10-08     1000\n",
       "9  1000_9   345.54   2018-09-03     1000"
      ]
     },
     "execution_count": 8,
     "metadata": {},
     "output_type": "execute_result"
    }
   ],
   "source": [
    "internet.info()\n",
    "internet.head(10)"
   ]
  },
  {
   "cell_type": "markdown",
   "metadata": {},
   "source": [
    "По аналоги с предшествующими датасетами, заменим тип данных в столбце \"дата сеанса\" на datetime."
   ]
  },
  {
   "cell_type": "code",
   "execution_count": 9,
   "metadata": {},
   "outputs": [
    {
     "name": "stdout",
     "output_type": "stream",
     "text": [
      "<class 'pandas.core.frame.DataFrame'>\n",
      "RangeIndex: 149396 entries, 0 to 149395\n",
      "Data columns (total 4 columns):\n",
      "id              149396 non-null object\n",
      "mb_used         149396 non-null float64\n",
      "session_date    149396 non-null datetime64[ns]\n",
      "user_id         149396 non-null int64\n",
      "dtypes: datetime64[ns](1), float64(1), int64(1), object(1)\n",
      "memory usage: 4.6+ MB\n"
     ]
    }
   ],
   "source": [
    "internet['session_date'] = pd.to_datetime(internet['session_date'], format = '%Y-%m-%d')\n",
    "internet.info()"
   ]
  },
  {
   "cell_type": "markdown",
   "metadata": {},
   "source": [
    "Как и в таблице со звонками, 2 пересекающихся столбца - id принадлежности к пользователю и id пользователя.\n",
    "2 столбца \"новых\":\n",
    "- дата интернет-сессии\n",
    "- объем трафика"
   ]
  },
  {
   "cell_type": "markdown",
   "metadata": {},
   "source": [
    "Пропусков также нет - тип данных мы заменили, переходим к следующему датасету."
   ]
  },
  {
   "cell_type": "markdown",
   "metadata": {},
   "source": [
    "### Сообщения"
   ]
  },
  {
   "cell_type": "code",
   "execution_count": 10,
   "metadata": {
    "scrolled": false
   },
   "outputs": [
    {
     "name": "stdout",
     "output_type": "stream",
     "text": [
      "<class 'pandas.core.frame.DataFrame'>\n",
      "RangeIndex: 123036 entries, 0 to 123035\n",
      "Data columns (total 3 columns):\n",
      "id              123036 non-null object\n",
      "message_date    123036 non-null object\n",
      "user_id         123036 non-null int64\n",
      "dtypes: int64(1), object(2)\n",
      "memory usage: 2.8+ MB\n"
     ]
    },
    {
     "data": {
      "text/html": [
       "<div>\n",
       "<style scoped>\n",
       "    .dataframe tbody tr th:only-of-type {\n",
       "        vertical-align: middle;\n",
       "    }\n",
       "\n",
       "    .dataframe tbody tr th {\n",
       "        vertical-align: top;\n",
       "    }\n",
       "\n",
       "    .dataframe thead th {\n",
       "        text-align: right;\n",
       "    }\n",
       "</style>\n",
       "<table border=\"1\" class=\"dataframe\">\n",
       "  <thead>\n",
       "    <tr style=\"text-align: right;\">\n",
       "      <th></th>\n",
       "      <th>id</th>\n",
       "      <th>message_date</th>\n",
       "      <th>user_id</th>\n",
       "    </tr>\n",
       "  </thead>\n",
       "  <tbody>\n",
       "    <tr>\n",
       "      <td>0</td>\n",
       "      <td>1000_0</td>\n",
       "      <td>2018-06-27</td>\n",
       "      <td>1000</td>\n",
       "    </tr>\n",
       "    <tr>\n",
       "      <td>1</td>\n",
       "      <td>1000_1</td>\n",
       "      <td>2018-10-08</td>\n",
       "      <td>1000</td>\n",
       "    </tr>\n",
       "    <tr>\n",
       "      <td>2</td>\n",
       "      <td>1000_2</td>\n",
       "      <td>2018-08-04</td>\n",
       "      <td>1000</td>\n",
       "    </tr>\n",
       "    <tr>\n",
       "      <td>3</td>\n",
       "      <td>1000_3</td>\n",
       "      <td>2018-06-16</td>\n",
       "      <td>1000</td>\n",
       "    </tr>\n",
       "    <tr>\n",
       "      <td>4</td>\n",
       "      <td>1000_4</td>\n",
       "      <td>2018-12-05</td>\n",
       "      <td>1000</td>\n",
       "    </tr>\n",
       "    <tr>\n",
       "      <td>5</td>\n",
       "      <td>1000_5</td>\n",
       "      <td>2018-06-20</td>\n",
       "      <td>1000</td>\n",
       "    </tr>\n",
       "    <tr>\n",
       "      <td>6</td>\n",
       "      <td>1000_6</td>\n",
       "      <td>2018-11-19</td>\n",
       "      <td>1000</td>\n",
       "    </tr>\n",
       "    <tr>\n",
       "      <td>7</td>\n",
       "      <td>1000_7</td>\n",
       "      <td>2018-10-29</td>\n",
       "      <td>1000</td>\n",
       "    </tr>\n",
       "    <tr>\n",
       "      <td>8</td>\n",
       "      <td>1000_8</td>\n",
       "      <td>2018-06-25</td>\n",
       "      <td>1000</td>\n",
       "    </tr>\n",
       "    <tr>\n",
       "      <td>9</td>\n",
       "      <td>1000_9</td>\n",
       "      <td>2018-12-18</td>\n",
       "      <td>1000</td>\n",
       "    </tr>\n",
       "  </tbody>\n",
       "</table>\n",
       "</div>"
      ],
      "text/plain": [
       "       id message_date  user_id\n",
       "0  1000_0   2018-06-27     1000\n",
       "1  1000_1   2018-10-08     1000\n",
       "2  1000_2   2018-08-04     1000\n",
       "3  1000_3   2018-06-16     1000\n",
       "4  1000_4   2018-12-05     1000\n",
       "5  1000_5   2018-06-20     1000\n",
       "6  1000_6   2018-11-19     1000\n",
       "7  1000_7   2018-10-29     1000\n",
       "8  1000_8   2018-06-25     1000\n",
       "9  1000_9   2018-12-18     1000"
      ]
     },
     "execution_count": 10,
     "metadata": {},
     "output_type": "execute_result"
    }
   ],
   "source": [
    "messages.info()\n",
    "messages.head(10)"
   ]
  },
  {
   "cell_type": "markdown",
   "metadata": {},
   "source": [
    "Вновь 2 \"стандартных\" столбца. \"Уникальный\" столбец данного датасета:\n",
    "- дата пересылки сообщения"
   ]
  },
  {
   "cell_type": "markdown",
   "metadata": {},
   "source": [
    "Пропусков нет, столбцов всего 3. Традиционно меняем тип данных в столбце \"дата сообщения\" для дальнейшей работы."
   ]
  },
  {
   "cell_type": "code",
   "execution_count": 11,
   "metadata": {},
   "outputs": [
    {
     "name": "stdout",
     "output_type": "stream",
     "text": [
      "<class 'pandas.core.frame.DataFrame'>\n",
      "RangeIndex: 123036 entries, 0 to 123035\n",
      "Data columns (total 3 columns):\n",
      "id              123036 non-null object\n",
      "message_date    123036 non-null datetime64[ns]\n",
      "user_id         123036 non-null int64\n",
      "dtypes: datetime64[ns](1), int64(1), object(1)\n",
      "memory usage: 2.8+ MB\n"
     ]
    }
   ],
   "source": [
    "messages['message_date'] = pd.to_datetime(messages['message_date'], format = '%Y-%m-%d')\n",
    "messages.info()"
   ]
  },
  {
   "cell_type": "markdown",
   "metadata": {},
   "source": [
    "# Выводы"
   ]
  },
  {
   "cell_type": "markdown",
   "metadata": {},
   "source": [
    "Во всех из имеющихся датасетов (кроме тарифов) есть один смежный столбец - user_id. По нему, в дальнейшем будем эти датасеты клеить и разбираться, кто из пользователей сколько потратил денег на звонки, смс, интернет и какой из тарифов выгодней. Сейчас необходимо разобраться в нулевых значениях в датасетах со звонками и интернетом, т.к. они будут препятствовать получению корректных результатов в процессе анализа данных."
   ]
  },
  {
   "cell_type": "markdown",
   "metadata": {},
   "source": [
    "## 2. Подготовка данных"
   ]
  },
  {
   "cell_type": "markdown",
   "metadata": {},
   "source": [
    "В предшествующем разделе были выделены основные \"проблемы\", обнаруженные при обработке данных - нулевые значения. Откроем датасет, посчитаем их и разработаем возможный путь решения."
   ]
  },
  {
   "cell_type": "markdown",
   "metadata": {},
   "source": [
    "### Звонки"
   ]
  },
  {
   "cell_type": "code",
   "execution_count": 12,
   "metadata": {},
   "outputs": [
    {
     "data": {
      "text/plain": [
       "39613"
      ]
     },
     "execution_count": 12,
     "metadata": {},
     "output_type": "execute_result"
    }
   ],
   "source": [
    "calls[calls['duration'] == 0]['duration'].count()"
   ]
  },
  {
   "cell_type": "markdown",
   "metadata": {},
   "source": [
    "Из 202 тысяч значений почти 40 тысяч - пустые значения. Что можем с этим сделать? Обратимся к информации о тарифах. Имеют ли для нас данные значения хоть какой-то смысл? "
   ]
  },
  {
   "cell_type": "code",
   "execution_count": 13,
   "metadata": {},
   "outputs": [
    {
     "data": {
      "text/html": [
       "<div>\n",
       "<style scoped>\n",
       "    .dataframe tbody tr th:only-of-type {\n",
       "        vertical-align: middle;\n",
       "    }\n",
       "\n",
       "    .dataframe tbody tr th {\n",
       "        vertical-align: top;\n",
       "    }\n",
       "\n",
       "    .dataframe thead th {\n",
       "        text-align: right;\n",
       "    }\n",
       "</style>\n",
       "<table border=\"1\" class=\"dataframe\">\n",
       "  <thead>\n",
       "    <tr style=\"text-align: right;\">\n",
       "      <th></th>\n",
       "      <th>messages_included</th>\n",
       "      <th>mg_per_month_included</th>\n",
       "      <th>minutes_included</th>\n",
       "      <th>rub_monthly_fee</th>\n",
       "      <th>rub_per_gb</th>\n",
       "      <th>rub_per_message</th>\n",
       "      <th>rub_per_minute</th>\n",
       "      <th>tariff_name</th>\n",
       "    </tr>\n",
       "  </thead>\n",
       "  <tbody>\n",
       "    <tr>\n",
       "      <td>0</td>\n",
       "      <td>50</td>\n",
       "      <td>15360</td>\n",
       "      <td>500</td>\n",
       "      <td>550</td>\n",
       "      <td>200</td>\n",
       "      <td>3</td>\n",
       "      <td>3</td>\n",
       "      <td>smart</td>\n",
       "    </tr>\n",
       "    <tr>\n",
       "      <td>1</td>\n",
       "      <td>1000</td>\n",
       "      <td>30720</td>\n",
       "      <td>3000</td>\n",
       "      <td>1950</td>\n",
       "      <td>150</td>\n",
       "      <td>1</td>\n",
       "      <td>1</td>\n",
       "      <td>ultra</td>\n",
       "    </tr>\n",
       "  </tbody>\n",
       "</table>\n",
       "</div>"
      ],
      "text/plain": [
       "   messages_included  mg_per_month_included  minutes_included  \\\n",
       "0                 50                  15360               500   \n",
       "1               1000                  30720              3000   \n",
       "\n",
       "   rub_monthly_fee  rub_per_gb  rub_per_message  rub_per_minute tariff_name  \n",
       "0              550         200                3               3       smart  \n",
       "1             1950         150                1               1       ultra  "
      ]
     },
     "execution_count": 13,
     "metadata": {},
     "output_type": "execute_result"
    }
   ],
   "source": [
    "tariffs"
   ]
  },
  {
   "cell_type": "markdown",
   "metadata": {},
   "source": [
    "Поскольку в каждом из тарифов есть 500(3000) минут бесплатных звонков в месяц + последующая тарификация за каждую минуту (с посекундной тарификацией), нам нет совершенно никакого дела до \"недозвонов\". Удалим строчки, \"ресетнем\" индексы."
   ]
  },
  {
   "cell_type": "code",
   "execution_count": 14,
   "metadata": {},
   "outputs": [
    {
     "data": {
      "text/html": [
       "<div>\n",
       "<style scoped>\n",
       "    .dataframe tbody tr th:only-of-type {\n",
       "        vertical-align: middle;\n",
       "    }\n",
       "\n",
       "    .dataframe tbody tr th {\n",
       "        vertical-align: top;\n",
       "    }\n",
       "\n",
       "    .dataframe thead th {\n",
       "        text-align: right;\n",
       "    }\n",
       "</style>\n",
       "<table border=\"1\" class=\"dataframe\">\n",
       "  <thead>\n",
       "    <tr style=\"text-align: right;\">\n",
       "      <th></th>\n",
       "      <th>id</th>\n",
       "      <th>call_date</th>\n",
       "      <th>duration</th>\n",
       "      <th>user_id</th>\n",
       "    </tr>\n",
       "  </thead>\n",
       "  <tbody>\n",
       "    <tr>\n",
       "      <td>0</td>\n",
       "      <td>1000_2</td>\n",
       "      <td>2018-06-11</td>\n",
       "      <td>2.85</td>\n",
       "      <td>1000</td>\n",
       "    </tr>\n",
       "    <tr>\n",
       "      <td>1</td>\n",
       "      <td>1000_3</td>\n",
       "      <td>2018-09-21</td>\n",
       "      <td>13.80</td>\n",
       "      <td>1000</td>\n",
       "    </tr>\n",
       "    <tr>\n",
       "      <td>2</td>\n",
       "      <td>1000_4</td>\n",
       "      <td>2018-12-15</td>\n",
       "      <td>5.18</td>\n",
       "      <td>1000</td>\n",
       "    </tr>\n",
       "    <tr>\n",
       "      <td>3</td>\n",
       "      <td>1000_7</td>\n",
       "      <td>2018-08-22</td>\n",
       "      <td>18.31</td>\n",
       "      <td>1000</td>\n",
       "    </tr>\n",
       "    <tr>\n",
       "      <td>4</td>\n",
       "      <td>1000_8</td>\n",
       "      <td>2018-09-15</td>\n",
       "      <td>18.44</td>\n",
       "      <td>1000</td>\n",
       "    </tr>\n",
       "    <tr>\n",
       "      <td>5</td>\n",
       "      <td>1000_10</td>\n",
       "      <td>2018-08-22</td>\n",
       "      <td>5.03</td>\n",
       "      <td>1000</td>\n",
       "    </tr>\n",
       "    <tr>\n",
       "      <td>6</td>\n",
       "      <td>1000_11</td>\n",
       "      <td>2018-05-28</td>\n",
       "      <td>18.82</td>\n",
       "      <td>1000</td>\n",
       "    </tr>\n",
       "    <tr>\n",
       "      <td>7</td>\n",
       "      <td>1000_12</td>\n",
       "      <td>2018-07-05</td>\n",
       "      <td>2.02</td>\n",
       "      <td>1000</td>\n",
       "    </tr>\n",
       "    <tr>\n",
       "      <td>8</td>\n",
       "      <td>1000_13</td>\n",
       "      <td>2018-09-29</td>\n",
       "      <td>7.15</td>\n",
       "      <td>1000</td>\n",
       "    </tr>\n",
       "    <tr>\n",
       "      <td>9</td>\n",
       "      <td>1000_14</td>\n",
       "      <td>2018-12-11</td>\n",
       "      <td>9.13</td>\n",
       "      <td>1000</td>\n",
       "    </tr>\n",
       "  </tbody>\n",
       "</table>\n",
       "</div>"
      ],
      "text/plain": [
       "        id  call_date  duration  user_id\n",
       "0   1000_2 2018-06-11      2.85     1000\n",
       "1   1000_3 2018-09-21     13.80     1000\n",
       "2   1000_4 2018-12-15      5.18     1000\n",
       "3   1000_7 2018-08-22     18.31     1000\n",
       "4   1000_8 2018-09-15     18.44     1000\n",
       "5  1000_10 2018-08-22      5.03     1000\n",
       "6  1000_11 2018-05-28     18.82     1000\n",
       "7  1000_12 2018-07-05      2.02     1000\n",
       "8  1000_13 2018-09-29      7.15     1000\n",
       "9  1000_14 2018-12-11      9.13     1000"
      ]
     },
     "execution_count": 14,
     "metadata": {},
     "output_type": "execute_result"
    }
   ],
   "source": [
    "calls_no_zero_dur = calls[calls['duration'] != 0].reset_index(drop = True)\n",
    "calls_no_zero_dur.head(10)"
   ]
  },
  {
   "cell_type": "markdown",
   "metadata": {},
   "source": [
    "В колонке id видно, как я \"поломал\" последовательность нумерации звонков для каждого клиента. Однако, я не до конца на данный момент понимаю необходимость данного столбца в рамках нашего проекта вообще, потому оставим его в покое и посмотрим, нет ли среди анализируемых значений в данной таблице каких-либо ещё \"странных\" значений."
   ]
  },
  {
   "cell_type": "code",
   "execution_count": 15,
   "metadata": {},
   "outputs": [
    {
     "data": {
      "text/plain": [
       "<matplotlib.axes._subplots.AxesSubplot at 0x7ff0379472b0>"
      ]
     },
     "execution_count": 15,
     "metadata": {},
     "output_type": "execute_result"
    },
    {
     "data": {
      "image/png": "[encoded data removed]",
      "text/plain": [
       "<Figure size 432x288 with 1 Axes>"
      ]
     },
     "metadata": {
      "needs_background": "light"
     },
     "output_type": "display_data"
    }
   ],
   "source": [
    "calls_no_zero_dur['duration'].hist(bins = 40)"
   ]
  },
  {
   "cell_type": "markdown",
   "metadata": {},
   "source": [
    "Выглядит как нормальное распределение, скошенное вправо. Посмотрим на статистические показатели."
   ]
  },
  {
   "cell_type": "code",
   "execution_count": 16,
   "metadata": {},
   "outputs": [
    {
     "data": {
      "text/plain": [
       "count    162994.000000\n",
       "mean          8.397794\n",
       "std           5.353022\n",
       "min           0.010000\n",
       "25%           4.170000\n",
       "50%           7.740000\n",
       "75%          11.850000\n",
       "max          38.000000\n",
       "Name: duration, dtype: float64"
      ]
     },
     "execution_count": 16,
     "metadata": {},
     "output_type": "execute_result"
    }
   ],
   "source": [
    "calls_no_zero_dur['duration'].describe()"
   ]
  },
  {
   "cell_type": "markdown",
   "metadata": {},
   "source": [
    "При средней длительности разговора равной 8.4 минуты, медианной 7.7 минут и стандратном отклонении 5.35 мин. длительность разговора в 38 минут (максимальная зафиксированная в пределах рассматрваемого датасета) выглядит как выброс (8.4 + 5.35 * 3 = 24,45 минут - верхний предел статистической значимости рассматриваемых значений. Всё что выше - ни что иное, как выброс. Придержим эти выводы и перейдем к следующему датасету."
   ]
  },
  {
   "cell_type": "markdown",
   "metadata": {},
   "source": [
    "### Интернет"
   ]
  },
  {
   "cell_type": "code",
   "execution_count": 17,
   "metadata": {
    "scrolled": true
   },
   "outputs": [
    {
     "data": {
      "text/plain": [
       "19598"
      ]
     },
     "execution_count": 17,
     "metadata": {},
     "output_type": "execute_result"
    }
   ],
   "source": [
    "internet[internet['mb_used'] == 0]['mb_used'].count()"
   ]
  },
  {
   "cell_type": "markdown",
   "metadata": {},
   "source": [
    "\"Пустые\" 19.6 тысяч значений из 150 тысяч. По аналогии с тарифами, сам факт \"входа\" в сеть без расходования трафика нас не интересует - вычищаем и смотрим, на то, что получится."
   ]
  },
  {
   "cell_type": "code",
   "execution_count": 18,
   "metadata": {},
   "outputs": [
    {
     "data": {
      "text/html": [
       "<div>\n",
       "<style scoped>\n",
       "    .dataframe tbody tr th:only-of-type {\n",
       "        vertical-align: middle;\n",
       "    }\n",
       "\n",
       "    .dataframe tbody tr th {\n",
       "        vertical-align: top;\n",
       "    }\n",
       "\n",
       "    .dataframe thead th {\n",
       "        text-align: right;\n",
       "    }\n",
       "</style>\n",
       "<table border=\"1\" class=\"dataframe\">\n",
       "  <thead>\n",
       "    <tr style=\"text-align: right;\">\n",
       "      <th></th>\n",
       "      <th>id</th>\n",
       "      <th>mb_used</th>\n",
       "      <th>session_date</th>\n",
       "      <th>user_id</th>\n",
       "    </tr>\n",
       "  </thead>\n",
       "  <tbody>\n",
       "    <tr>\n",
       "      <td>0</td>\n",
       "      <td>1000_0</td>\n",
       "      <td>112.95</td>\n",
       "      <td>2018-11-25</td>\n",
       "      <td>1000</td>\n",
       "    </tr>\n",
       "    <tr>\n",
       "      <td>1</td>\n",
       "      <td>1000_1</td>\n",
       "      <td>1052.81</td>\n",
       "      <td>2018-09-07</td>\n",
       "      <td>1000</td>\n",
       "    </tr>\n",
       "    <tr>\n",
       "      <td>2</td>\n",
       "      <td>1000_2</td>\n",
       "      <td>1197.26</td>\n",
       "      <td>2018-06-25</td>\n",
       "      <td>1000</td>\n",
       "    </tr>\n",
       "    <tr>\n",
       "      <td>3</td>\n",
       "      <td>1000_3</td>\n",
       "      <td>550.27</td>\n",
       "      <td>2018-08-22</td>\n",
       "      <td>1000</td>\n",
       "    </tr>\n",
       "    <tr>\n",
       "      <td>4</td>\n",
       "      <td>1000_4</td>\n",
       "      <td>302.56</td>\n",
       "      <td>2018-09-24</td>\n",
       "      <td>1000</td>\n",
       "    </tr>\n",
       "    <tr>\n",
       "      <td>5</td>\n",
       "      <td>1000_5</td>\n",
       "      <td>399.97</td>\n",
       "      <td>2018-10-02</td>\n",
       "      <td>1000</td>\n",
       "    </tr>\n",
       "    <tr>\n",
       "      <td>6</td>\n",
       "      <td>1000_6</td>\n",
       "      <td>540.08</td>\n",
       "      <td>2018-09-07</td>\n",
       "      <td>1000</td>\n",
       "    </tr>\n",
       "    <tr>\n",
       "      <td>7</td>\n",
       "      <td>1000_7</td>\n",
       "      <td>415.70</td>\n",
       "      <td>2018-07-11</td>\n",
       "      <td>1000</td>\n",
       "    </tr>\n",
       "    <tr>\n",
       "      <td>8</td>\n",
       "      <td>1000_8</td>\n",
       "      <td>505.40</td>\n",
       "      <td>2018-10-08</td>\n",
       "      <td>1000</td>\n",
       "    </tr>\n",
       "    <tr>\n",
       "      <td>9</td>\n",
       "      <td>1000_9</td>\n",
       "      <td>345.54</td>\n",
       "      <td>2018-09-03</td>\n",
       "      <td>1000</td>\n",
       "    </tr>\n",
       "  </tbody>\n",
       "</table>\n",
       "</div>"
      ],
      "text/plain": [
       "       id  mb_used session_date  user_id\n",
       "0  1000_0   112.95   2018-11-25     1000\n",
       "1  1000_1  1052.81   2018-09-07     1000\n",
       "2  1000_2  1197.26   2018-06-25     1000\n",
       "3  1000_3   550.27   2018-08-22     1000\n",
       "4  1000_4   302.56   2018-09-24     1000\n",
       "5  1000_5   399.97   2018-10-02     1000\n",
       "6  1000_6   540.08   2018-09-07     1000\n",
       "7  1000_7   415.70   2018-07-11     1000\n",
       "8  1000_8   505.40   2018-10-08     1000\n",
       "9  1000_9   345.54   2018-09-03     1000"
      ]
     },
     "execution_count": 18,
     "metadata": {},
     "output_type": "execute_result"
    }
   ],
   "source": [
    "internet_no_zero_mb = internet[internet['mb_used'] != 0].reset_index(drop = True)\n",
    "internet_no_zero_mb.head(10)"
   ]
  },
  {
   "cell_type": "markdown",
   "metadata": {},
   "source": [
    "Осталось около 130 тысяч значений, но, что важно, все \"наполненны\". Вопрос, конечно, чем. Давайте это и выясним."
   ]
  },
  {
   "cell_type": "code",
   "execution_count": 19,
   "metadata": {},
   "outputs": [
    {
     "data": {
      "text/plain": [
       "<matplotlib.axes._subplots.AxesSubplot at 0x7ff037863e10>"
      ]
     },
     "execution_count": 19,
     "metadata": {},
     "output_type": "execute_result"
    },
    {
     "data": {
      "image/png": "[encoded data removed]",
      "text/plain": [
       "<Figure size 432x288 with 1 Axes>"
      ]
     },
     "metadata": {
      "needs_background": "light"
     },
     "output_type": "display_data"
    }
   ],
   "source": [
    "internet_no_zero_mb['mb_used'].hist(bins = 35)"
   ]
  },
  {
   "cell_type": "markdown",
   "metadata": {},
   "source": [
    "Аналогично, датасет скошен вправо. Выведем статистические показатели на экран."
   ]
  },
  {
   "cell_type": "code",
   "execution_count": 20,
   "metadata": {
    "scrolled": true
   },
   "outputs": [
    {
     "data": {
      "text/plain": [
       "count    129798.000000\n",
       "mean        426.087210\n",
       "std         255.596447\n",
       "min           0.030000\n",
       "25%         227.460000\n",
       "50%         400.540000\n",
       "75%         592.947500\n",
       "max        1724.830000\n",
       "Name: mb_used, dtype: float64"
      ]
     },
     "execution_count": 20,
     "metadata": {},
     "output_type": "execute_result"
    }
   ],
   "source": [
    "internet_no_zero_mb['mb_used'].describe()"
   ]
  },
  {
   "cell_type": "markdown",
   "metadata": {},
   "source": [
    "Верхняя граница нормального распределения - 1193 Мб (среднее + 3 стандартных отклонения), всё выше - выброс. Пока оставляем таблицу как есть и двигаемся дальше."
   ]
  },
  {
   "cell_type": "markdown",
   "metadata": {},
   "source": [
    "### Пользователи"
   ]
  },
  {
   "cell_type": "markdown",
   "metadata": {},
   "source": [
    "Аккумулируем данные по пользователям в отдельную таблицу - сводимся частями из разных датасетов и собираем всё в один - новый, укрупненный. Но перед этим, выполним важный процесс - округлим все значения длительности звонков и интернета (каждого сеанса) вверх до целого значения минут и мегабайт, т.к. \"мегалайн\" всегда округляет их вверх. 0.1 Мб = 1 Мб. 10 раз по 0.1 Мб != 1 Мб, а = 10 Мб (!!!!!) Это важный пункт, про него нельзя забывать."
   ]
  },
  {
   "cell_type": "code",
   "execution_count": 21,
   "metadata": {
    "scrolled": false
   },
   "outputs": [
    {
     "data": {
      "text/html": [
       "<div>\n",
       "<style scoped>\n",
       "    .dataframe tbody tr th:only-of-type {\n",
       "        vertical-align: middle;\n",
       "    }\n",
       "\n",
       "    .dataframe tbody tr th {\n",
       "        vertical-align: top;\n",
       "    }\n",
       "\n",
       "    .dataframe thead th {\n",
       "        text-align: right;\n",
       "    }\n",
       "</style>\n",
       "<table border=\"1\" class=\"dataframe\">\n",
       "  <thead>\n",
       "    <tr style=\"text-align: right;\">\n",
       "      <th></th>\n",
       "      <th>id</th>\n",
       "      <th>call_date</th>\n",
       "      <th>duration</th>\n",
       "      <th>user_id</th>\n",
       "    </tr>\n",
       "  </thead>\n",
       "  <tbody>\n",
       "    <tr>\n",
       "      <td>0</td>\n",
       "      <td>1000_2</td>\n",
       "      <td>2018-06-11</td>\n",
       "      <td>3</td>\n",
       "      <td>1000</td>\n",
       "    </tr>\n",
       "    <tr>\n",
       "      <td>1</td>\n",
       "      <td>1000_3</td>\n",
       "      <td>2018-09-21</td>\n",
       "      <td>14</td>\n",
       "      <td>1000</td>\n",
       "    </tr>\n",
       "    <tr>\n",
       "      <td>2</td>\n",
       "      <td>1000_4</td>\n",
       "      <td>2018-12-15</td>\n",
       "      <td>6</td>\n",
       "      <td>1000</td>\n",
       "    </tr>\n",
       "    <tr>\n",
       "      <td>3</td>\n",
       "      <td>1000_7</td>\n",
       "      <td>2018-08-22</td>\n",
       "      <td>19</td>\n",
       "      <td>1000</td>\n",
       "    </tr>\n",
       "    <tr>\n",
       "      <td>4</td>\n",
       "      <td>1000_8</td>\n",
       "      <td>2018-09-15</td>\n",
       "      <td>19</td>\n",
       "      <td>1000</td>\n",
       "    </tr>\n",
       "    <tr>\n",
       "      <td>5</td>\n",
       "      <td>1000_10</td>\n",
       "      <td>2018-08-22</td>\n",
       "      <td>6</td>\n",
       "      <td>1000</td>\n",
       "    </tr>\n",
       "    <tr>\n",
       "      <td>6</td>\n",
       "      <td>1000_11</td>\n",
       "      <td>2018-05-28</td>\n",
       "      <td>19</td>\n",
       "      <td>1000</td>\n",
       "    </tr>\n",
       "    <tr>\n",
       "      <td>7</td>\n",
       "      <td>1000_12</td>\n",
       "      <td>2018-07-05</td>\n",
       "      <td>3</td>\n",
       "      <td>1000</td>\n",
       "    </tr>\n",
       "    <tr>\n",
       "      <td>8</td>\n",
       "      <td>1000_13</td>\n",
       "      <td>2018-09-29</td>\n",
       "      <td>8</td>\n",
       "      <td>1000</td>\n",
       "    </tr>\n",
       "    <tr>\n",
       "      <td>9</td>\n",
       "      <td>1000_14</td>\n",
       "      <td>2018-12-11</td>\n",
       "      <td>10</td>\n",
       "      <td>1000</td>\n",
       "    </tr>\n",
       "  </tbody>\n",
       "</table>\n",
       "</div>"
      ],
      "text/plain": [
       "        id  call_date  duration  user_id\n",
       "0   1000_2 2018-06-11         3     1000\n",
       "1   1000_3 2018-09-21        14     1000\n",
       "2   1000_4 2018-12-15         6     1000\n",
       "3   1000_7 2018-08-22        19     1000\n",
       "4   1000_8 2018-09-15        19     1000\n",
       "5  1000_10 2018-08-22         6     1000\n",
       "6  1000_11 2018-05-28        19     1000\n",
       "7  1000_12 2018-07-05         3     1000\n",
       "8  1000_13 2018-09-29         8     1000\n",
       "9  1000_14 2018-12-11        10     1000"
      ]
     },
     "execution_count": 21,
     "metadata": {},
     "output_type": "execute_result"
    }
   ],
   "source": [
    "def up_round(duration):\n",
    "    return math.ceil(duration)\n",
    "\n",
    "calls_no_zero_dur['duration'] = calls_no_zero_dur['duration'].apply(up_round)\n",
    "calls_no_zero_dur.head(10)"
   ]
  },
  {
   "cell_type": "markdown",
   "metadata": {},
   "source": [
    "Значения для звонков округлили вверх, переходим к значениям для интернета."
   ]
  },
  {
   "cell_type": "code",
   "execution_count": 22,
   "metadata": {
    "scrolled": true
   },
   "outputs": [
    {
     "data": {
      "text/html": [
       "<div>\n",
       "<style scoped>\n",
       "    .dataframe tbody tr th:only-of-type {\n",
       "        vertical-align: middle;\n",
       "    }\n",
       "\n",
       "    .dataframe tbody tr th {\n",
       "        vertical-align: top;\n",
       "    }\n",
       "\n",
       "    .dataframe thead th {\n",
       "        text-align: right;\n",
       "    }\n",
       "</style>\n",
       "<table border=\"1\" class=\"dataframe\">\n",
       "  <thead>\n",
       "    <tr style=\"text-align: right;\">\n",
       "      <th></th>\n",
       "      <th>id</th>\n",
       "      <th>mb_used</th>\n",
       "      <th>session_date</th>\n",
       "      <th>user_id</th>\n",
       "    </tr>\n",
       "  </thead>\n",
       "  <tbody>\n",
       "    <tr>\n",
       "      <td>0</td>\n",
       "      <td>1000_0</td>\n",
       "      <td>113</td>\n",
       "      <td>2018-11-25</td>\n",
       "      <td>1000</td>\n",
       "    </tr>\n",
       "    <tr>\n",
       "      <td>1</td>\n",
       "      <td>1000_1</td>\n",
       "      <td>1053</td>\n",
       "      <td>2018-09-07</td>\n",
       "      <td>1000</td>\n",
       "    </tr>\n",
       "    <tr>\n",
       "      <td>2</td>\n",
       "      <td>1000_2</td>\n",
       "      <td>1198</td>\n",
       "      <td>2018-06-25</td>\n",
       "      <td>1000</td>\n",
       "    </tr>\n",
       "    <tr>\n",
       "      <td>3</td>\n",
       "      <td>1000_3</td>\n",
       "      <td>551</td>\n",
       "      <td>2018-08-22</td>\n",
       "      <td>1000</td>\n",
       "    </tr>\n",
       "    <tr>\n",
       "      <td>4</td>\n",
       "      <td>1000_4</td>\n",
       "      <td>303</td>\n",
       "      <td>2018-09-24</td>\n",
       "      <td>1000</td>\n",
       "    </tr>\n",
       "    <tr>\n",
       "      <td>5</td>\n",
       "      <td>1000_5</td>\n",
       "      <td>400</td>\n",
       "      <td>2018-10-02</td>\n",
       "      <td>1000</td>\n",
       "    </tr>\n",
       "    <tr>\n",
       "      <td>6</td>\n",
       "      <td>1000_6</td>\n",
       "      <td>541</td>\n",
       "      <td>2018-09-07</td>\n",
       "      <td>1000</td>\n",
       "    </tr>\n",
       "    <tr>\n",
       "      <td>7</td>\n",
       "      <td>1000_7</td>\n",
       "      <td>416</td>\n",
       "      <td>2018-07-11</td>\n",
       "      <td>1000</td>\n",
       "    </tr>\n",
       "    <tr>\n",
       "      <td>8</td>\n",
       "      <td>1000_8</td>\n",
       "      <td>506</td>\n",
       "      <td>2018-10-08</td>\n",
       "      <td>1000</td>\n",
       "    </tr>\n",
       "    <tr>\n",
       "      <td>9</td>\n",
       "      <td>1000_9</td>\n",
       "      <td>346</td>\n",
       "      <td>2018-09-03</td>\n",
       "      <td>1000</td>\n",
       "    </tr>\n",
       "  </tbody>\n",
       "</table>\n",
       "</div>"
      ],
      "text/plain": [
       "       id  mb_used session_date  user_id\n",
       "0  1000_0      113   2018-11-25     1000\n",
       "1  1000_1     1053   2018-09-07     1000\n",
       "2  1000_2     1198   2018-06-25     1000\n",
       "3  1000_3      551   2018-08-22     1000\n",
       "4  1000_4      303   2018-09-24     1000\n",
       "5  1000_5      400   2018-10-02     1000\n",
       "6  1000_6      541   2018-09-07     1000\n",
       "7  1000_7      416   2018-07-11     1000\n",
       "8  1000_8      506   2018-10-08     1000\n",
       "9  1000_9      346   2018-09-03     1000"
      ]
     },
     "execution_count": 22,
     "metadata": {},
     "output_type": "execute_result"
    }
   ],
   "source": [
    "internet_no_zero_mb['mb_used'] = internet_no_zero_mb['mb_used'].apply(up_round)\n",
    "internet_no_zero_mb.head(10)"
   ]
  },
  {
   "cell_type": "markdown",
   "metadata": {},
   "source": [
    "Также для сбора информации по месяцам нам потребуется добавить дополнительный столбец \"месяц\" (без года, т.к. данные у нас - исключительно за 2018 год). Напишем функцию и применим её ко всем 3 \"исходным\" датасетам."
   ]
  },
  {
   "cell_type": "code",
   "execution_count": 23,
   "metadata": {},
   "outputs": [],
   "source": [
    "def month_apply(data):\n",
    "    return data.month\n",
    "\n",
    "calls_no_zero_dur['month'] = calls_no_zero_dur['call_date'].apply(month_apply)\n",
    "internet_no_zero_mb['month'] = internet_no_zero_mb['session_date'].apply(month_apply)\n",
    "messages['month'] = messages['message_date'].apply(month_apply)"
   ]
  },
  {
   "cell_type": "markdown",
   "metadata": {},
   "source": [
    "Итоговыф таблицы будут проиндексированы по 2 значениями - по user_id и месяцу. Таблиц по звонкам будет 2 - 1 по количеству звонков, другая по длительности разговоров."
   ]
  },
  {
   "cell_type": "code",
   "execution_count": 24,
   "metadata": {
    "scrolled": true
   },
   "outputs": [
    {
     "data": {
      "text/html": [
       "<div>\n",
       "<style scoped>\n",
       "    .dataframe tbody tr th:only-of-type {\n",
       "        vertical-align: middle;\n",
       "    }\n",
       "\n",
       "    .dataframe tbody tr th {\n",
       "        vertical-align: top;\n",
       "    }\n",
       "\n",
       "    .dataframe thead th {\n",
       "        text-align: right;\n",
       "    }\n",
       "</style>\n",
       "<table border=\"1\" class=\"dataframe\">\n",
       "  <thead>\n",
       "    <tr style=\"text-align: right;\">\n",
       "      <th></th>\n",
       "      <th></th>\n",
       "      <th>calls_duration</th>\n",
       "    </tr>\n",
       "    <tr>\n",
       "      <th>user_id</th>\n",
       "      <th>month</th>\n",
       "      <th></th>\n",
       "    </tr>\n",
       "  </thead>\n",
       "  <tbody>\n",
       "    <tr>\n",
       "      <td rowspan=\"8\" valign=\"top\">1000</td>\n",
       "      <td>5</td>\n",
       "      <td>159</td>\n",
       "    </tr>\n",
       "    <tr>\n",
       "      <td>6</td>\n",
       "      <td>172</td>\n",
       "    </tr>\n",
       "    <tr>\n",
       "      <td>7</td>\n",
       "      <td>340</td>\n",
       "    </tr>\n",
       "    <tr>\n",
       "      <td>8</td>\n",
       "      <td>408</td>\n",
       "    </tr>\n",
       "    <tr>\n",
       "      <td>9</td>\n",
       "      <td>466</td>\n",
       "    </tr>\n",
       "    <tr>\n",
       "      <td>10</td>\n",
       "      <td>350</td>\n",
       "    </tr>\n",
       "    <tr>\n",
       "      <td>11</td>\n",
       "      <td>338</td>\n",
       "    </tr>\n",
       "    <tr>\n",
       "      <td>12</td>\n",
       "      <td>333</td>\n",
       "    </tr>\n",
       "    <tr>\n",
       "      <td rowspan=\"2\" valign=\"top\">1001</td>\n",
       "      <td>11</td>\n",
       "      <td>430</td>\n",
       "    </tr>\n",
       "    <tr>\n",
       "      <td>12</td>\n",
       "      <td>414</td>\n",
       "    </tr>\n",
       "  </tbody>\n",
       "</table>\n",
       "</div>"
      ],
      "text/plain": [
       "               calls_duration\n",
       "user_id month                \n",
       "1000    5                 159\n",
       "        6                 172\n",
       "        7                 340\n",
       "        8                 408\n",
       "        9                 466\n",
       "        10                350\n",
       "        11                338\n",
       "        12                333\n",
       "1001    11                430\n",
       "        12                414"
      ]
     },
     "execution_count": 24,
     "metadata": {},
     "output_type": "execute_result"
    }
   ],
   "source": [
    "users_calls_dur = calls_no_zero_dur.pivot_table(index = ('user_id', 'month'),\n",
    "                                            values = 'duration', aggfunc = 'sum', fill_value = 0)\n",
    "\n",
    "users_calls_count = calls_no_zero_dur.pivot_table(index = ('user_id', 'month'),\n",
    "                                            values = 'duration', aggfunc = 'count', fill_value = 0)\n",
    "users_calls_dur.columns = [\"calls_duration\"]\n",
    "users_calls_dur.head(10)"
   ]
  },
  {
   "cell_type": "markdown",
   "metadata": {},
   "source": [
    "Заменим название столбца в сводной таблице с количеством звонков на корректное."
   ]
  },
  {
   "cell_type": "code",
   "execution_count": 25,
   "metadata": {
    "scrolled": true
   },
   "outputs": [
    {
     "data": {
      "text/html": [
       "<div>\n",
       "<style scoped>\n",
       "    .dataframe tbody tr th:only-of-type {\n",
       "        vertical-align: middle;\n",
       "    }\n",
       "\n",
       "    .dataframe tbody tr th {\n",
       "        vertical-align: top;\n",
       "    }\n",
       "\n",
       "    .dataframe thead th {\n",
       "        text-align: right;\n",
       "    }\n",
       "</style>\n",
       "<table border=\"1\" class=\"dataframe\">\n",
       "  <thead>\n",
       "    <tr style=\"text-align: right;\">\n",
       "      <th></th>\n",
       "      <th></th>\n",
       "      <th>calls_number</th>\n",
       "    </tr>\n",
       "    <tr>\n",
       "      <th>user_id</th>\n",
       "      <th>month</th>\n",
       "      <th></th>\n",
       "    </tr>\n",
       "  </thead>\n",
       "  <tbody>\n",
       "    <tr>\n",
       "      <td rowspan=\"8\" valign=\"top\">1000</td>\n",
       "      <td>5</td>\n",
       "      <td>17</td>\n",
       "    </tr>\n",
       "    <tr>\n",
       "      <td>6</td>\n",
       "      <td>28</td>\n",
       "    </tr>\n",
       "    <tr>\n",
       "      <td>7</td>\n",
       "      <td>41</td>\n",
       "    </tr>\n",
       "    <tr>\n",
       "      <td>8</td>\n",
       "      <td>42</td>\n",
       "    </tr>\n",
       "    <tr>\n",
       "      <td>9</td>\n",
       "      <td>46</td>\n",
       "    </tr>\n",
       "    <tr>\n",
       "      <td>10</td>\n",
       "      <td>44</td>\n",
       "    </tr>\n",
       "    <tr>\n",
       "      <td>11</td>\n",
       "      <td>37</td>\n",
       "    </tr>\n",
       "    <tr>\n",
       "      <td>12</td>\n",
       "      <td>38</td>\n",
       "    </tr>\n",
       "    <tr>\n",
       "      <td rowspan=\"2\" valign=\"top\">1001</td>\n",
       "      <td>11</td>\n",
       "      <td>45</td>\n",
       "    </tr>\n",
       "    <tr>\n",
       "      <td>12</td>\n",
       "      <td>47</td>\n",
       "    </tr>\n",
       "  </tbody>\n",
       "</table>\n",
       "</div>"
      ],
      "text/plain": [
       "               calls_number\n",
       "user_id month              \n",
       "1000    5                17\n",
       "        6                28\n",
       "        7                41\n",
       "        8                42\n",
       "        9                46\n",
       "        10               44\n",
       "        11               37\n",
       "        12               38\n",
       "1001    11               45\n",
       "        12               47"
      ]
     },
     "execution_count": 25,
     "metadata": {},
     "output_type": "execute_result"
    }
   ],
   "source": [
    "users_calls_count.columns = [\"calls_number\"]\n",
    "users_calls_count.head(10)"
   ]
  },
  {
   "cell_type": "markdown",
   "metadata": {},
   "source": [
    "Теперь интернет. Логика сбора и обработки та же."
   ]
  },
  {
   "cell_type": "code",
   "execution_count": 26,
   "metadata": {},
   "outputs": [
    {
     "data": {
      "text/html": [
       "<div>\n",
       "<style scoped>\n",
       "    .dataframe tbody tr th:only-of-type {\n",
       "        vertical-align: middle;\n",
       "    }\n",
       "\n",
       "    .dataframe tbody tr th {\n",
       "        vertical-align: top;\n",
       "    }\n",
       "\n",
       "    .dataframe thead th {\n",
       "        text-align: right;\n",
       "    }\n",
       "</style>\n",
       "<table border=\"1\" class=\"dataframe\">\n",
       "  <thead>\n",
       "    <tr style=\"text-align: right;\">\n",
       "      <th></th>\n",
       "      <th></th>\n",
       "      <th>mb_used</th>\n",
       "    </tr>\n",
       "    <tr>\n",
       "      <th>user_id</th>\n",
       "      <th>month</th>\n",
       "      <th></th>\n",
       "    </tr>\n",
       "  </thead>\n",
       "  <tbody>\n",
       "    <tr>\n",
       "      <td rowspan=\"8\" valign=\"top\">1000</td>\n",
       "      <td>5</td>\n",
       "      <td>2256</td>\n",
       "    </tr>\n",
       "    <tr>\n",
       "      <td>6</td>\n",
       "      <td>23257</td>\n",
       "    </tr>\n",
       "    <tr>\n",
       "      <td>7</td>\n",
       "      <td>14016</td>\n",
       "    </tr>\n",
       "    <tr>\n",
       "      <td>8</td>\n",
       "      <td>14070</td>\n",
       "    </tr>\n",
       "    <tr>\n",
       "      <td>9</td>\n",
       "      <td>14581</td>\n",
       "    </tr>\n",
       "    <tr>\n",
       "      <td>10</td>\n",
       "      <td>14717</td>\n",
       "    </tr>\n",
       "    <tr>\n",
       "      <td>11</td>\n",
       "      <td>14768</td>\n",
       "    </tr>\n",
       "    <tr>\n",
       "      <td>12</td>\n",
       "      <td>9827</td>\n",
       "    </tr>\n",
       "    <tr>\n",
       "      <td rowspan=\"2\" valign=\"top\">1001</td>\n",
       "      <td>11</td>\n",
       "      <td>18452</td>\n",
       "    </tr>\n",
       "    <tr>\n",
       "      <td>12</td>\n",
       "      <td>14053</td>\n",
       "    </tr>\n",
       "  </tbody>\n",
       "</table>\n",
       "</div>"
      ],
      "text/plain": [
       "               mb_used\n",
       "user_id month         \n",
       "1000    5         2256\n",
       "        6        23257\n",
       "        7        14016\n",
       "        8        14070\n",
       "        9        14581\n",
       "        10       14717\n",
       "        11       14768\n",
       "        12        9827\n",
       "1001    11       18452\n",
       "        12       14053"
      ]
     },
     "execution_count": 26,
     "metadata": {},
     "output_type": "execute_result"
    }
   ],
   "source": [
    "users_internet = internet_no_zero_mb.pivot_table(index = ('user_id', 'month'), \n",
    "                                                 values = 'mb_used', aggfunc = 'sum', fill_value = 0)\n",
    "users_internet.head(10)"
   ]
  },
  {
   "cell_type": "markdown",
   "metadata": {},
   "source": [
    "А теперь сообщения."
   ]
  },
  {
   "cell_type": "code",
   "execution_count": 27,
   "metadata": {},
   "outputs": [
    {
     "data": {
      "text/html": [
       "<div>\n",
       "<style scoped>\n",
       "    .dataframe tbody tr th:only-of-type {\n",
       "        vertical-align: middle;\n",
       "    }\n",
       "\n",
       "    .dataframe tbody tr th {\n",
       "        vertical-align: top;\n",
       "    }\n",
       "\n",
       "    .dataframe thead th {\n",
       "        text-align: right;\n",
       "    }\n",
       "</style>\n",
       "<table border=\"1\" class=\"dataframe\">\n",
       "  <thead>\n",
       "    <tr style=\"text-align: right;\">\n",
       "      <th></th>\n",
       "      <th></th>\n",
       "      <th>messages_number</th>\n",
       "    </tr>\n",
       "    <tr>\n",
       "      <th>user_id</th>\n",
       "      <th>month</th>\n",
       "      <th></th>\n",
       "    </tr>\n",
       "  </thead>\n",
       "  <tbody>\n",
       "    <tr>\n",
       "      <td rowspan=\"8\" valign=\"top\">1000</td>\n",
       "      <td>5</td>\n",
       "      <td>22</td>\n",
       "    </tr>\n",
       "    <tr>\n",
       "      <td>6</td>\n",
       "      <td>60</td>\n",
       "    </tr>\n",
       "    <tr>\n",
       "      <td>7</td>\n",
       "      <td>75</td>\n",
       "    </tr>\n",
       "    <tr>\n",
       "      <td>8</td>\n",
       "      <td>81</td>\n",
       "    </tr>\n",
       "    <tr>\n",
       "      <td>9</td>\n",
       "      <td>57</td>\n",
       "    </tr>\n",
       "    <tr>\n",
       "      <td>10</td>\n",
       "      <td>73</td>\n",
       "    </tr>\n",
       "    <tr>\n",
       "      <td>11</td>\n",
       "      <td>58</td>\n",
       "    </tr>\n",
       "    <tr>\n",
       "      <td>12</td>\n",
       "      <td>70</td>\n",
       "    </tr>\n",
       "    <tr>\n",
       "      <td rowspan=\"2\" valign=\"top\">1002</td>\n",
       "      <td>6</td>\n",
       "      <td>4</td>\n",
       "    </tr>\n",
       "    <tr>\n",
       "      <td>7</td>\n",
       "      <td>11</td>\n",
       "    </tr>\n",
       "  </tbody>\n",
       "</table>\n",
       "</div>"
      ],
      "text/plain": [
       "               messages_number\n",
       "user_id month                 \n",
       "1000    5                   22\n",
       "        6                   60\n",
       "        7                   75\n",
       "        8                   81\n",
       "        9                   57\n",
       "        10                  73\n",
       "        11                  58\n",
       "        12                  70\n",
       "1002    6                    4\n",
       "        7                   11"
      ]
     },
     "execution_count": 27,
     "metadata": {},
     "output_type": "execute_result"
    }
   ],
   "source": [
    "users_messages = messages.pivot_table(index = ('user_id', 'month'), \n",
    "                                      values = 'message_date', aggfunc = 'count', fill_value = 0)\n",
    "users_messages.columns = [\"messages_number\"]\n",
    "users_messages.head(10)"
   ]
  },
  {
   "cell_type": "markdown",
   "metadata": {},
   "source": [
    "Для удобства дальнейшей работы, расчетов и т.п., объединим полученные таблицы со значениями величин использования различных услуг в одну. Воспользуемся методом merge, в качестве критерия используем 'outer', т.к. часть абонентов не пользовалась одними услугами (например, сообщениями), а другими - пользовалась (например, интернетом). Нам же необходимо максимально охватить весь имеющийся контингент пользователей."
   ]
  },
  {
   "cell_type": "code",
   "execution_count": 28,
   "metadata": {},
   "outputs": [
    {
     "data": {
      "text/html": [
       "<div>\n",
       "<style scoped>\n",
       "    .dataframe tbody tr th:only-of-type {\n",
       "        vertical-align: middle;\n",
       "    }\n",
       "\n",
       "    .dataframe tbody tr th {\n",
       "        vertical-align: top;\n",
       "    }\n",
       "\n",
       "    .dataframe thead th {\n",
       "        text-align: right;\n",
       "    }\n",
       "</style>\n",
       "<table border=\"1\" class=\"dataframe\">\n",
       "  <thead>\n",
       "    <tr style=\"text-align: right;\">\n",
       "      <th></th>\n",
       "      <th></th>\n",
       "      <th>calls_duration</th>\n",
       "      <th>calls_number</th>\n",
       "      <th>mb_used</th>\n",
       "      <th>messages_number</th>\n",
       "    </tr>\n",
       "    <tr>\n",
       "      <th>user_id</th>\n",
       "      <th>month</th>\n",
       "      <th></th>\n",
       "      <th></th>\n",
       "      <th></th>\n",
       "      <th></th>\n",
       "    </tr>\n",
       "  </thead>\n",
       "  <tbody>\n",
       "    <tr>\n",
       "      <td rowspan=\"8\" valign=\"top\">1000</td>\n",
       "      <td>5</td>\n",
       "      <td>159</td>\n",
       "      <td>17</td>\n",
       "      <td>2256</td>\n",
       "      <td>22</td>\n",
       "    </tr>\n",
       "    <tr>\n",
       "      <td>6</td>\n",
       "      <td>172</td>\n",
       "      <td>28</td>\n",
       "      <td>23257</td>\n",
       "      <td>60</td>\n",
       "    </tr>\n",
       "    <tr>\n",
       "      <td>7</td>\n",
       "      <td>340</td>\n",
       "      <td>41</td>\n",
       "      <td>14016</td>\n",
       "      <td>75</td>\n",
       "    </tr>\n",
       "    <tr>\n",
       "      <td>8</td>\n",
       "      <td>408</td>\n",
       "      <td>42</td>\n",
       "      <td>14070</td>\n",
       "      <td>81</td>\n",
       "    </tr>\n",
       "    <tr>\n",
       "      <td>9</td>\n",
       "      <td>466</td>\n",
       "      <td>46</td>\n",
       "      <td>14581</td>\n",
       "      <td>57</td>\n",
       "    </tr>\n",
       "    <tr>\n",
       "      <td>10</td>\n",
       "      <td>350</td>\n",
       "      <td>44</td>\n",
       "      <td>14717</td>\n",
       "      <td>73</td>\n",
       "    </tr>\n",
       "    <tr>\n",
       "      <td>11</td>\n",
       "      <td>338</td>\n",
       "      <td>37</td>\n",
       "      <td>14768</td>\n",
       "      <td>58</td>\n",
       "    </tr>\n",
       "    <tr>\n",
       "      <td>12</td>\n",
       "      <td>333</td>\n",
       "      <td>38</td>\n",
       "      <td>9827</td>\n",
       "      <td>70</td>\n",
       "    </tr>\n",
       "    <tr>\n",
       "      <td rowspan=\"2\" valign=\"top\">1001</td>\n",
       "      <td>11</td>\n",
       "      <td>430</td>\n",
       "      <td>45</td>\n",
       "      <td>18452</td>\n",
       "      <td>0</td>\n",
       "    </tr>\n",
       "    <tr>\n",
       "      <td>12</td>\n",
       "      <td>414</td>\n",
       "      <td>47</td>\n",
       "      <td>14053</td>\n",
       "      <td>0</td>\n",
       "    </tr>\n",
       "  </tbody>\n",
       "</table>\n",
       "</div>"
      ],
      "text/plain": [
       "               calls_duration  calls_number  mb_used  messages_number\n",
       "user_id month                                                        \n",
       "1000    5                 159            17     2256               22\n",
       "        6                 172            28    23257               60\n",
       "        7                 340            41    14016               75\n",
       "        8                 408            42    14070               81\n",
       "        9                 466            46    14581               57\n",
       "        10                350            44    14717               73\n",
       "        11                338            37    14768               58\n",
       "        12                333            38     9827               70\n",
       "1001    11                430            45    18452                0\n",
       "        12                414            47    14053                0"
      ]
     },
     "execution_count": 28,
     "metadata": {},
     "output_type": "execute_result"
    }
   ],
   "source": [
    "def merge_func(data1, data2):\n",
    "    data3 = data1.merge(data2, how = \"outer\", on = (\"user_id\", \"month\")).fillna(0).astype('int')\n",
    "    return data3\n",
    "\n",
    "users_total = merge_func(users_calls_dur, users_calls_count)\n",
    "users_total = merge_func(users_total, users_internet)\n",
    "users_total = merge_func(users_total, users_messages)\n",
    "users_total.head(10)"
   ]
  },
  {
   "cell_type": "markdown",
   "metadata": {},
   "source": [
    "Для упрощения работы с данными, разделим полученную таблицу на 2 - в зависимости от тарифа. Для этого из таблицы users достанем 2 списка с номерами id для соответствующих тарифов."
   ]
  },
  {
   "cell_type": "code",
   "execution_count": 29,
   "metadata": {},
   "outputs": [],
   "source": [
    "users_id_smart = users[users['tariff'] == \"smart\"]['user_id']\n",
    "users_id_ultra = users[users['tariff'] == \"ultra\"]['user_id']"
   ]
  },
  {
   "cell_type": "markdown",
   "metadata": {},
   "source": [
    "Получили 2 списка принадлежности id к тому или иному тарифу. Теперь, на его основании можем провести заявленное \"разделение\"."
   ]
  },
  {
   "cell_type": "code",
   "execution_count": 30,
   "metadata": {
    "scrolled": false
   },
   "outputs": [
    {
     "data": {
      "text/html": [
       "<div>\n",
       "<style scoped>\n",
       "    .dataframe tbody tr th:only-of-type {\n",
       "        vertical-align: middle;\n",
       "    }\n",
       "\n",
       "    .dataframe tbody tr th {\n",
       "        vertical-align: top;\n",
       "    }\n",
       "\n",
       "    .dataframe thead th {\n",
       "        text-align: right;\n",
       "    }\n",
       "</style>\n",
       "<table border=\"1\" class=\"dataframe\">\n",
       "  <thead>\n",
       "    <tr style=\"text-align: right;\">\n",
       "      <th></th>\n",
       "      <th></th>\n",
       "      <th>calls_duration</th>\n",
       "      <th>calls_number</th>\n",
       "      <th>mb_used</th>\n",
       "      <th>messages_number</th>\n",
       "    </tr>\n",
       "    <tr>\n",
       "      <th>user_id</th>\n",
       "      <th>month</th>\n",
       "      <th></th>\n",
       "      <th></th>\n",
       "      <th></th>\n",
       "      <th></th>\n",
       "    </tr>\n",
       "  </thead>\n",
       "  <tbody>\n",
       "    <tr>\n",
       "      <td rowspan=\"2\" valign=\"top\">1001</td>\n",
       "      <td>11</td>\n",
       "      <td>430</td>\n",
       "      <td>45</td>\n",
       "      <td>18452</td>\n",
       "      <td>0</td>\n",
       "    </tr>\n",
       "    <tr>\n",
       "      <td>12</td>\n",
       "      <td>414</td>\n",
       "      <td>47</td>\n",
       "      <td>14053</td>\n",
       "      <td>0</td>\n",
       "    </tr>\n",
       "    <tr>\n",
       "      <td rowspan=\"7\" valign=\"top\">1002</td>\n",
       "      <td>6</td>\n",
       "      <td>117</td>\n",
       "      <td>14</td>\n",
       "      <td>10871</td>\n",
       "      <td>4</td>\n",
       "    </tr>\n",
       "    <tr>\n",
       "      <td>7</td>\n",
       "      <td>214</td>\n",
       "      <td>21</td>\n",
       "      <td>17601</td>\n",
       "      <td>11</td>\n",
       "    </tr>\n",
       "    <tr>\n",
       "      <td>8</td>\n",
       "      <td>289</td>\n",
       "      <td>37</td>\n",
       "      <td>20347</td>\n",
       "      <td>13</td>\n",
       "    </tr>\n",
       "    <tr>\n",
       "      <td>9</td>\n",
       "      <td>206</td>\n",
       "      <td>25</td>\n",
       "      <td>16712</td>\n",
       "      <td>4</td>\n",
       "    </tr>\n",
       "    <tr>\n",
       "      <td>10</td>\n",
       "      <td>212</td>\n",
       "      <td>24</td>\n",
       "      <td>13905</td>\n",
       "      <td>10</td>\n",
       "    </tr>\n",
       "    <tr>\n",
       "      <td>11</td>\n",
       "      <td>243</td>\n",
       "      <td>25</td>\n",
       "      <td>18610</td>\n",
       "      <td>16</td>\n",
       "    </tr>\n",
       "    <tr>\n",
       "      <td>12</td>\n",
       "      <td>236</td>\n",
       "      <td>27</td>\n",
       "      <td>18137</td>\n",
       "      <td>12</td>\n",
       "    </tr>\n",
       "    <tr>\n",
       "      <td>1005</td>\n",
       "      <td>1</td>\n",
       "      <td>95</td>\n",
       "      <td>11</td>\n",
       "      <td>2730</td>\n",
       "      <td>7</td>\n",
       "    </tr>\n",
       "  </tbody>\n",
       "</table>\n",
       "</div>"
      ],
      "text/plain": [
       "               calls_duration  calls_number  mb_used  messages_number\n",
       "user_id month                                                        \n",
       "1001    11                430            45    18452                0\n",
       "        12                414            47    14053                0\n",
       "1002    6                 117            14    10871                4\n",
       "        7                 214            21    17601               11\n",
       "        8                 289            37    20347               13\n",
       "        9                 206            25    16712                4\n",
       "        10                212            24    13905               10\n",
       "        11                243            25    18610               16\n",
       "        12                236            27    18137               12\n",
       "1005    1                  95            11     2730                7"
      ]
     },
     "execution_count": 30,
     "metadata": {},
     "output_type": "execute_result"
    }
   ],
   "source": [
    "users_total_smart = users_total.query('user_id in @users_id_smart')\n",
    "users_total_ultra = users_total.query('user_id in @users_id_ultra')\n",
    "\n",
    "users_total_smart.head(10)"
   ]
  },
  {
   "cell_type": "markdown",
   "metadata": {},
   "source": [
    "В первом списке осталось 2229 строк из 3214 в исходном users_total. По логике, если у нас нет потерь, во втором должно остаться 985 строк. Удостоверимся в этом."
   ]
  },
  {
   "cell_type": "code",
   "execution_count": 31,
   "metadata": {
    "scrolled": false
   },
   "outputs": [
    {
     "data": {
      "text/plain": [
       "985"
      ]
     },
     "execution_count": 31,
     "metadata": {},
     "output_type": "execute_result"
    }
   ],
   "source": [
    "users_total_ultra['calls_duration'].count()"
   ]
  },
  {
   "cell_type": "markdown",
   "metadata": {},
   "source": [
    "Все верно! Таким образом, у нас есть 2 отдельных дата фрейма, в которых собраны все необходимые нам данные для расчета ежемесячной выручки для каждого клиента в зависимости от тарифа. \n",
    "\n",
    "Столбец с выручкой получить относительно несложно. Однако, сам по себе, он мало информативен в том смысле, что не ясно, за какие услуги люди чаще всего в течение месяца платят сверх абонентской платы (за дополнительный трафик, звонки или, может, сообщения?). Потому, я решил расширить перечень представляемых и рассчитываемых данных следующим образом.\n",
    "\n",
    "В итоговую таблицу добавим столбцы с \"перерасходом\" той или иной услуги сверх тарифных лимитов, а также сумму, которую человек платит дополнительно за их использование + итоговое значение выручки."
   ]
  },
  {
   "cell_type": "code",
   "execution_count": 32,
   "metadata": {},
   "outputs": [
    {
     "data": {
      "text/html": [
       "<div>\n",
       "<style scoped>\n",
       "    .dataframe tbody tr th:only-of-type {\n",
       "        vertical-align: middle;\n",
       "    }\n",
       "\n",
       "    .dataframe tbody tr th {\n",
       "        vertical-align: top;\n",
       "    }\n",
       "\n",
       "    .dataframe thead th {\n",
       "        text-align: right;\n",
       "    }\n",
       "</style>\n",
       "<table border=\"1\" class=\"dataframe\">\n",
       "  <thead>\n",
       "    <tr style=\"text-align: right;\">\n",
       "      <th></th>\n",
       "      <th></th>\n",
       "      <th>calls_duration</th>\n",
       "      <th>calls_number</th>\n",
       "      <th>mb_used</th>\n",
       "      <th>messages_number</th>\n",
       "      <th>min_excess</th>\n",
       "    </tr>\n",
       "    <tr>\n",
       "      <th>user_id</th>\n",
       "      <th>month</th>\n",
       "      <th></th>\n",
       "      <th></th>\n",
       "      <th></th>\n",
       "      <th></th>\n",
       "      <th></th>\n",
       "    </tr>\n",
       "  </thead>\n",
       "  <tbody>\n",
       "    <tr>\n",
       "      <td rowspan=\"2\" valign=\"top\">1001</td>\n",
       "      <td>11</td>\n",
       "      <td>430</td>\n",
       "      <td>45</td>\n",
       "      <td>18452</td>\n",
       "      <td>0</td>\n",
       "      <td>0</td>\n",
       "    </tr>\n",
       "    <tr>\n",
       "      <td>12</td>\n",
       "      <td>414</td>\n",
       "      <td>47</td>\n",
       "      <td>14053</td>\n",
       "      <td>0</td>\n",
       "      <td>0</td>\n",
       "    </tr>\n",
       "    <tr>\n",
       "      <td rowspan=\"3\" valign=\"top\">1002</td>\n",
       "      <td>6</td>\n",
       "      <td>117</td>\n",
       "      <td>14</td>\n",
       "      <td>10871</td>\n",
       "      <td>4</td>\n",
       "      <td>0</td>\n",
       "    </tr>\n",
       "    <tr>\n",
       "      <td>7</td>\n",
       "      <td>214</td>\n",
       "      <td>21</td>\n",
       "      <td>17601</td>\n",
       "      <td>11</td>\n",
       "      <td>0</td>\n",
       "    </tr>\n",
       "    <tr>\n",
       "      <td>8</td>\n",
       "      <td>289</td>\n",
       "      <td>37</td>\n",
       "      <td>20347</td>\n",
       "      <td>13</td>\n",
       "      <td>0</td>\n",
       "    </tr>\n",
       "    <tr>\n",
       "      <td>...</td>\n",
       "      <td>...</td>\n",
       "      <td>...</td>\n",
       "      <td>...</td>\n",
       "      <td>...</td>\n",
       "      <td>...</td>\n",
       "      <td>...</td>\n",
       "    </tr>\n",
       "    <tr>\n",
       "      <td rowspan=\"5\" valign=\"top\">1489</td>\n",
       "      <td>8</td>\n",
       "      <td>0</td>\n",
       "      <td>0</td>\n",
       "      <td>11066</td>\n",
       "      <td>17</td>\n",
       "      <td>0</td>\n",
       "    </tr>\n",
       "    <tr>\n",
       "      <td>9</td>\n",
       "      <td>0</td>\n",
       "      <td>0</td>\n",
       "      <td>17232</td>\n",
       "      <td>32</td>\n",
       "      <td>0</td>\n",
       "    </tr>\n",
       "    <tr>\n",
       "      <td>10</td>\n",
       "      <td>0</td>\n",
       "      <td>0</td>\n",
       "      <td>19588</td>\n",
       "      <td>21</td>\n",
       "      <td>0</td>\n",
       "    </tr>\n",
       "    <tr>\n",
       "      <td>11</td>\n",
       "      <td>0</td>\n",
       "      <td>0</td>\n",
       "      <td>17516</td>\n",
       "      <td>20</td>\n",
       "      <td>0</td>\n",
       "    </tr>\n",
       "    <tr>\n",
       "      <td>12</td>\n",
       "      <td>0</td>\n",
       "      <td>0</td>\n",
       "      <td>17341</td>\n",
       "      <td>35</td>\n",
       "      <td>0</td>\n",
       "    </tr>\n",
       "  </tbody>\n",
       "</table>\n",
       "<p>2229 rows × 5 columns</p>\n",
       "</div>"
      ],
      "text/plain": [
       "               calls_duration  calls_number  mb_used  messages_number  \\\n",
       "user_id month                                                           \n",
       "1001    11                430            45    18452                0   \n",
       "        12                414            47    14053                0   \n",
       "1002    6                 117            14    10871                4   \n",
       "        7                 214            21    17601               11   \n",
       "        8                 289            37    20347               13   \n",
       "...                       ...           ...      ...              ...   \n",
       "1489    8                   0             0    11066               17   \n",
       "        9                   0             0    17232               32   \n",
       "        10                  0             0    19588               21   \n",
       "        11                  0             0    17516               20   \n",
       "        12                  0             0    17341               35   \n",
       "\n",
       "               min_excess  \n",
       "user_id month              \n",
       "1001    11              0  \n",
       "        12              0  \n",
       "1002    6               0  \n",
       "        7               0  \n",
       "        8               0  \n",
       "...                   ...  \n",
       "1489    8               0  \n",
       "        9               0  \n",
       "        10              0  \n",
       "        11              0  \n",
       "        12              0  \n",
       "\n",
       "[2229 rows x 5 columns]"
      ]
     },
     "execution_count": 32,
     "metadata": {},
     "output_type": "execute_result"
    }
   ],
   "source": [
    "def excess_calc(tariff_value, limit):\n",
    "    if tariff_value > limit:\n",
    "        excess = tariff_value - limit\n",
    "        return excess\n",
    "    else:\n",
    "        return 0\n",
    "        \n",
    "\n",
    "users_total_smart['min_excess'] = users_total_smart['calls_duration'].apply(excess_calc, args=[500])\n",
    "users_total_smart"
   ]
  },
  {
   "cell_type": "markdown",
   "metadata": {},
   "source": [
    "Проделаем аналогичную работу для двух других параметров и посчитаем итоговое значение выручки, просуммировав абонентскую плату и дополнительную плату за пользование доп. пакетами услуг."
   ]
  },
  {
   "cell_type": "code",
   "execution_count": 33,
   "metadata": {
    "scrolled": false
   },
   "outputs": [
    {
     "data": {
      "text/html": [
       "<div>\n",
       "<style scoped>\n",
       "    .dataframe tbody tr th:only-of-type {\n",
       "        vertical-align: middle;\n",
       "    }\n",
       "\n",
       "    .dataframe tbody tr th {\n",
       "        vertical-align: top;\n",
       "    }\n",
       "\n",
       "    .dataframe thead th {\n",
       "        text-align: right;\n",
       "    }\n",
       "</style>\n",
       "<table border=\"1\" class=\"dataframe\">\n",
       "  <thead>\n",
       "    <tr style=\"text-align: right;\">\n",
       "      <th></th>\n",
       "      <th></th>\n",
       "      <th>calls_duration</th>\n",
       "      <th>calls_number</th>\n",
       "      <th>mb_used</th>\n",
       "      <th>messages_number</th>\n",
       "      <th>min_excess</th>\n",
       "      <th>mb_excess</th>\n",
       "      <th>mes_excess</th>\n",
       "      <th>min_exc_rev</th>\n",
       "      <th>mb_exc_rev</th>\n",
       "      <th>mes_exc_rev</th>\n",
       "      <th>total_revenue</th>\n",
       "    </tr>\n",
       "    <tr>\n",
       "      <th>user_id</th>\n",
       "      <th>month</th>\n",
       "      <th></th>\n",
       "      <th></th>\n",
       "      <th></th>\n",
       "      <th></th>\n",
       "      <th></th>\n",
       "      <th></th>\n",
       "      <th></th>\n",
       "      <th></th>\n",
       "      <th></th>\n",
       "      <th></th>\n",
       "      <th></th>\n",
       "    </tr>\n",
       "  </thead>\n",
       "  <tbody>\n",
       "    <tr>\n",
       "      <td rowspan=\"2\" valign=\"top\">1001</td>\n",
       "      <td>11</td>\n",
       "      <td>430</td>\n",
       "      <td>45</td>\n",
       "      <td>18452</td>\n",
       "      <td>0</td>\n",
       "      <td>0</td>\n",
       "      <td>3092</td>\n",
       "      <td>0</td>\n",
       "      <td>0</td>\n",
       "      <td>800</td>\n",
       "      <td>0</td>\n",
       "      <td>1350</td>\n",
       "    </tr>\n",
       "    <tr>\n",
       "      <td>12</td>\n",
       "      <td>414</td>\n",
       "      <td>47</td>\n",
       "      <td>14053</td>\n",
       "      <td>0</td>\n",
       "      <td>0</td>\n",
       "      <td>0</td>\n",
       "      <td>0</td>\n",
       "      <td>0</td>\n",
       "      <td>0</td>\n",
       "      <td>0</td>\n",
       "      <td>550</td>\n",
       "    </tr>\n",
       "    <tr>\n",
       "      <td rowspan=\"3\" valign=\"top\">1002</td>\n",
       "      <td>6</td>\n",
       "      <td>117</td>\n",
       "      <td>14</td>\n",
       "      <td>10871</td>\n",
       "      <td>4</td>\n",
       "      <td>0</td>\n",
       "      <td>0</td>\n",
       "      <td>0</td>\n",
       "      <td>0</td>\n",
       "      <td>0</td>\n",
       "      <td>0</td>\n",
       "      <td>550</td>\n",
       "    </tr>\n",
       "    <tr>\n",
       "      <td>7</td>\n",
       "      <td>214</td>\n",
       "      <td>21</td>\n",
       "      <td>17601</td>\n",
       "      <td>11</td>\n",
       "      <td>0</td>\n",
       "      <td>2241</td>\n",
       "      <td>0</td>\n",
       "      <td>0</td>\n",
       "      <td>600</td>\n",
       "      <td>0</td>\n",
       "      <td>1150</td>\n",
       "    </tr>\n",
       "    <tr>\n",
       "      <td>8</td>\n",
       "      <td>289</td>\n",
       "      <td>37</td>\n",
       "      <td>20347</td>\n",
       "      <td>13</td>\n",
       "      <td>0</td>\n",
       "      <td>4987</td>\n",
       "      <td>0</td>\n",
       "      <td>0</td>\n",
       "      <td>1000</td>\n",
       "      <td>0</td>\n",
       "      <td>1550</td>\n",
       "    </tr>\n",
       "    <tr>\n",
       "      <td>...</td>\n",
       "      <td>...</td>\n",
       "      <td>...</td>\n",
       "      <td>...</td>\n",
       "      <td>...</td>\n",
       "      <td>...</td>\n",
       "      <td>...</td>\n",
       "      <td>...</td>\n",
       "      <td>...</td>\n",
       "      <td>...</td>\n",
       "      <td>...</td>\n",
       "      <td>...</td>\n",
       "      <td>...</td>\n",
       "    </tr>\n",
       "    <tr>\n",
       "      <td rowspan=\"5\" valign=\"top\">1489</td>\n",
       "      <td>8</td>\n",
       "      <td>0</td>\n",
       "      <td>0</td>\n",
       "      <td>11066</td>\n",
       "      <td>17</td>\n",
       "      <td>0</td>\n",
       "      <td>0</td>\n",
       "      <td>0</td>\n",
       "      <td>0</td>\n",
       "      <td>0</td>\n",
       "      <td>0</td>\n",
       "      <td>550</td>\n",
       "    </tr>\n",
       "    <tr>\n",
       "      <td>9</td>\n",
       "      <td>0</td>\n",
       "      <td>0</td>\n",
       "      <td>17232</td>\n",
       "      <td>32</td>\n",
       "      <td>0</td>\n",
       "      <td>1872</td>\n",
       "      <td>0</td>\n",
       "      <td>0</td>\n",
       "      <td>400</td>\n",
       "      <td>0</td>\n",
       "      <td>950</td>\n",
       "    </tr>\n",
       "    <tr>\n",
       "      <td>10</td>\n",
       "      <td>0</td>\n",
       "      <td>0</td>\n",
       "      <td>19588</td>\n",
       "      <td>21</td>\n",
       "      <td>0</td>\n",
       "      <td>4228</td>\n",
       "      <td>0</td>\n",
       "      <td>0</td>\n",
       "      <td>1000</td>\n",
       "      <td>0</td>\n",
       "      <td>1550</td>\n",
       "    </tr>\n",
       "    <tr>\n",
       "      <td>11</td>\n",
       "      <td>0</td>\n",
       "      <td>0</td>\n",
       "      <td>17516</td>\n",
       "      <td>20</td>\n",
       "      <td>0</td>\n",
       "      <td>2156</td>\n",
       "      <td>0</td>\n",
       "      <td>0</td>\n",
       "      <td>600</td>\n",
       "      <td>0</td>\n",
       "      <td>1150</td>\n",
       "    </tr>\n",
       "    <tr>\n",
       "      <td>12</td>\n",
       "      <td>0</td>\n",
       "      <td>0</td>\n",
       "      <td>17341</td>\n",
       "      <td>35</td>\n",
       "      <td>0</td>\n",
       "      <td>1981</td>\n",
       "      <td>0</td>\n",
       "      <td>0</td>\n",
       "      <td>400</td>\n",
       "      <td>0</td>\n",
       "      <td>950</td>\n",
       "    </tr>\n",
       "  </tbody>\n",
       "</table>\n",
       "<p>2229 rows × 11 columns</p>\n",
       "</div>"
      ],
      "text/plain": [
       "               calls_duration  calls_number  mb_used  messages_number  \\\n",
       "user_id month                                                           \n",
       "1001    11                430            45    18452                0   \n",
       "        12                414            47    14053                0   \n",
       "1002    6                 117            14    10871                4   \n",
       "        7                 214            21    17601               11   \n",
       "        8                 289            37    20347               13   \n",
       "...                       ...           ...      ...              ...   \n",
       "1489    8                   0             0    11066               17   \n",
       "        9                   0             0    17232               32   \n",
       "        10                  0             0    19588               21   \n",
       "        11                  0             0    17516               20   \n",
       "        12                  0             0    17341               35   \n",
       "\n",
       "               min_excess  mb_excess  mes_excess  min_exc_rev  mb_exc_rev  \\\n",
       "user_id month                                                               \n",
       "1001    11              0       3092           0            0         800   \n",
       "        12              0          0           0            0           0   \n",
       "1002    6               0          0           0            0           0   \n",
       "        7               0       2241           0            0         600   \n",
       "        8               0       4987           0            0        1000   \n",
       "...                   ...        ...         ...          ...         ...   \n",
       "1489    8               0          0           0            0           0   \n",
       "        9               0       1872           0            0         400   \n",
       "        10              0       4228           0            0        1000   \n",
       "        11              0       2156           0            0         600   \n",
       "        12              0       1981           0            0         400   \n",
       "\n",
       "               mes_exc_rev  total_revenue  \n",
       "user_id month                              \n",
       "1001    11               0           1350  \n",
       "        12               0            550  \n",
       "1002    6                0            550  \n",
       "        7                0           1150  \n",
       "        8                0           1550  \n",
       "...                    ...            ...  \n",
       "1489    8                0            550  \n",
       "        9                0            950  \n",
       "        10               0           1550  \n",
       "        11               0           1150  \n",
       "        12               0            950  \n",
       "\n",
       "[2229 rows x 11 columns]"
      ]
     },
     "execution_count": 33,
     "metadata": {},
     "output_type": "execute_result"
    }
   ],
   "source": [
    "users_total_smart['mb_excess'] = users_total_smart['mb_used'].apply(\n",
    "    excess_calc, args=[15360])\n",
    "users_total_smart['mes_excess'] = users_total_smart['messages_number'].apply(\n",
    "    excess_calc, args=[50])\n",
    "\n",
    "def revenue_calc(excess, amount, cost):\n",
    "    revenue = math.ceil(excess / amount) * cost\n",
    "    return revenue\n",
    "\n",
    "users_total_smart['min_exc_rev'] = users_total_smart['min_excess'].apply(revenue_calc, args = [1, 3])\n",
    "users_total_smart['mb_exc_rev'] = users_total_smart['mb_excess'].apply(revenue_calc, args = [1024, 200])\n",
    "users_total_smart['mes_exc_rev'] = users_total_smart['mes_excess'].apply(revenue_calc, args = [1, 3])\n",
    "\n",
    "users_total_smart['total_revenue'] = (550 + users_total_smart['min_exc_rev'] +\n",
    "                                           users_total_smart['mb_exc_rev'] + \n",
    "                                          users_total_smart['mes_exc_rev'])\n",
    "\n",
    "users_total_smart"
   ]
  },
  {
   "cell_type": "markdown",
   "metadata": {},
   "source": [
    "Теперь тоже самое - для датасета с данными по тарифу ультра. Помним, что параметры в используемых функциях будут отличными от используемых вместе с тарифом Smart."
   ]
  },
  {
   "cell_type": "code",
   "execution_count": 34,
   "metadata": {
    "scrolled": false
   },
   "outputs": [
    {
     "data": {
      "text/html": [
       "<div>\n",
       "<style scoped>\n",
       "    .dataframe tbody tr th:only-of-type {\n",
       "        vertical-align: middle;\n",
       "    }\n",
       "\n",
       "    .dataframe tbody tr th {\n",
       "        vertical-align: top;\n",
       "    }\n",
       "\n",
       "    .dataframe thead th {\n",
       "        text-align: right;\n",
       "    }\n",
       "</style>\n",
       "<table border=\"1\" class=\"dataframe\">\n",
       "  <thead>\n",
       "    <tr style=\"text-align: right;\">\n",
       "      <th></th>\n",
       "      <th></th>\n",
       "      <th>calls_duration</th>\n",
       "      <th>calls_number</th>\n",
       "      <th>mb_used</th>\n",
       "      <th>messages_number</th>\n",
       "      <th>min_excess</th>\n",
       "      <th>mb_excess</th>\n",
       "      <th>mes_excess</th>\n",
       "      <th>min_exc_rev</th>\n",
       "      <th>mb_exc_rev</th>\n",
       "      <th>mes_exc_rev</th>\n",
       "      <th>total_revenue</th>\n",
       "    </tr>\n",
       "    <tr>\n",
       "      <th>user_id</th>\n",
       "      <th>month</th>\n",
       "      <th></th>\n",
       "      <th></th>\n",
       "      <th></th>\n",
       "      <th></th>\n",
       "      <th></th>\n",
       "      <th></th>\n",
       "      <th></th>\n",
       "      <th></th>\n",
       "      <th></th>\n",
       "      <th></th>\n",
       "      <th></th>\n",
       "    </tr>\n",
       "  </thead>\n",
       "  <tbody>\n",
       "    <tr>\n",
       "      <td rowspan=\"5\" valign=\"top\">1000</td>\n",
       "      <td>5</td>\n",
       "      <td>159</td>\n",
       "      <td>17</td>\n",
       "      <td>2256</td>\n",
       "      <td>22</td>\n",
       "      <td>0</td>\n",
       "      <td>0</td>\n",
       "      <td>0</td>\n",
       "      <td>0</td>\n",
       "      <td>0</td>\n",
       "      <td>0</td>\n",
       "      <td>1950</td>\n",
       "    </tr>\n",
       "    <tr>\n",
       "      <td>6</td>\n",
       "      <td>172</td>\n",
       "      <td>28</td>\n",
       "      <td>23257</td>\n",
       "      <td>60</td>\n",
       "      <td>0</td>\n",
       "      <td>0</td>\n",
       "      <td>0</td>\n",
       "      <td>0</td>\n",
       "      <td>0</td>\n",
       "      <td>0</td>\n",
       "      <td>1950</td>\n",
       "    </tr>\n",
       "    <tr>\n",
       "      <td>7</td>\n",
       "      <td>340</td>\n",
       "      <td>41</td>\n",
       "      <td>14016</td>\n",
       "      <td>75</td>\n",
       "      <td>0</td>\n",
       "      <td>0</td>\n",
       "      <td>0</td>\n",
       "      <td>0</td>\n",
       "      <td>0</td>\n",
       "      <td>0</td>\n",
       "      <td>1950</td>\n",
       "    </tr>\n",
       "    <tr>\n",
       "      <td>8</td>\n",
       "      <td>408</td>\n",
       "      <td>42</td>\n",
       "      <td>14070</td>\n",
       "      <td>81</td>\n",
       "      <td>0</td>\n",
       "      <td>0</td>\n",
       "      <td>0</td>\n",
       "      <td>0</td>\n",
       "      <td>0</td>\n",
       "      <td>0</td>\n",
       "      <td>1950</td>\n",
       "    </tr>\n",
       "    <tr>\n",
       "      <td>9</td>\n",
       "      <td>466</td>\n",
       "      <td>46</td>\n",
       "      <td>14581</td>\n",
       "      <td>57</td>\n",
       "      <td>0</td>\n",
       "      <td>0</td>\n",
       "      <td>0</td>\n",
       "      <td>0</td>\n",
       "      <td>0</td>\n",
       "      <td>0</td>\n",
       "      <td>1950</td>\n",
       "    </tr>\n",
       "    <tr>\n",
       "      <td>...</td>\n",
       "      <td>...</td>\n",
       "      <td>...</td>\n",
       "      <td>...</td>\n",
       "      <td>...</td>\n",
       "      <td>...</td>\n",
       "      <td>...</td>\n",
       "      <td>...</td>\n",
       "      <td>...</td>\n",
       "      <td>...</td>\n",
       "      <td>...</td>\n",
       "      <td>...</td>\n",
       "      <td>...</td>\n",
       "    </tr>\n",
       "    <tr>\n",
       "      <td rowspan=\"4\" valign=\"top\">1473</td>\n",
       "      <td>9</td>\n",
       "      <td>0</td>\n",
       "      <td>0</td>\n",
       "      <td>17307</td>\n",
       "      <td>19</td>\n",
       "      <td>0</td>\n",
       "      <td>0</td>\n",
       "      <td>0</td>\n",
       "      <td>0</td>\n",
       "      <td>0</td>\n",
       "      <td>0</td>\n",
       "      <td>1950</td>\n",
       "    </tr>\n",
       "    <tr>\n",
       "      <td>10</td>\n",
       "      <td>0</td>\n",
       "      <td>0</td>\n",
       "      <td>13703</td>\n",
       "      <td>20</td>\n",
       "      <td>0</td>\n",
       "      <td>0</td>\n",
       "      <td>0</td>\n",
       "      <td>0</td>\n",
       "      <td>0</td>\n",
       "      <td>0</td>\n",
       "      <td>1950</td>\n",
       "    </tr>\n",
       "    <tr>\n",
       "      <td>11</td>\n",
       "      <td>0</td>\n",
       "      <td>0</td>\n",
       "      <td>21692</td>\n",
       "      <td>14</td>\n",
       "      <td>0</td>\n",
       "      <td>0</td>\n",
       "      <td>0</td>\n",
       "      <td>0</td>\n",
       "      <td>0</td>\n",
       "      <td>0</td>\n",
       "      <td>1950</td>\n",
       "    </tr>\n",
       "    <tr>\n",
       "      <td>12</td>\n",
       "      <td>0</td>\n",
       "      <td>0</td>\n",
       "      <td>18432</td>\n",
       "      <td>20</td>\n",
       "      <td>0</td>\n",
       "      <td>0</td>\n",
       "      <td>0</td>\n",
       "      <td>0</td>\n",
       "      <td>0</td>\n",
       "      <td>0</td>\n",
       "      <td>1950</td>\n",
       "    </tr>\n",
       "    <tr>\n",
       "      <td>1476</td>\n",
       "      <td>4</td>\n",
       "      <td>0</td>\n",
       "      <td>0</td>\n",
       "      <td>531</td>\n",
       "      <td>0</td>\n",
       "      <td>0</td>\n",
       "      <td>0</td>\n",
       "      <td>0</td>\n",
       "      <td>0</td>\n",
       "      <td>0</td>\n",
       "      <td>0</td>\n",
       "      <td>1950</td>\n",
       "    </tr>\n",
       "  </tbody>\n",
       "</table>\n",
       "<p>985 rows × 11 columns</p>\n",
       "</div>"
      ],
      "text/plain": [
       "               calls_duration  calls_number  mb_used  messages_number  \\\n",
       "user_id month                                                           \n",
       "1000    5                 159            17     2256               22   \n",
       "        6                 172            28    23257               60   \n",
       "        7                 340            41    14016               75   \n",
       "        8                 408            42    14070               81   \n",
       "        9                 466            46    14581               57   \n",
       "...                       ...           ...      ...              ...   \n",
       "1473    9                   0             0    17307               19   \n",
       "        10                  0             0    13703               20   \n",
       "        11                  0             0    21692               14   \n",
       "        12                  0             0    18432               20   \n",
       "1476    4                   0             0      531                0   \n",
       "\n",
       "               min_excess  mb_excess  mes_excess  min_exc_rev  mb_exc_rev  \\\n",
       "user_id month                                                               \n",
       "1000    5               0          0           0            0           0   \n",
       "        6               0          0           0            0           0   \n",
       "        7               0          0           0            0           0   \n",
       "        8               0          0           0            0           0   \n",
       "        9               0          0           0            0           0   \n",
       "...                   ...        ...         ...          ...         ...   \n",
       "1473    9               0          0           0            0           0   \n",
       "        10              0          0           0            0           0   \n",
       "        11              0          0           0            0           0   \n",
       "        12              0          0           0            0           0   \n",
       "1476    4               0          0           0            0           0   \n",
       "\n",
       "               mes_exc_rev  total_revenue  \n",
       "user_id month                              \n",
       "1000    5                0           1950  \n",
       "        6                0           1950  \n",
       "        7                0           1950  \n",
       "        8                0           1950  \n",
       "        9                0           1950  \n",
       "...                    ...            ...  \n",
       "1473    9                0           1950  \n",
       "        10               0           1950  \n",
       "        11               0           1950  \n",
       "        12               0           1950  \n",
       "1476    4                0           1950  \n",
       "\n",
       "[985 rows x 11 columns]"
      ]
     },
     "execution_count": 34,
     "metadata": {},
     "output_type": "execute_result"
    }
   ],
   "source": [
    "users_total_ultra['min_excess'] = users_total_ultra['calls_duration'].apply(\n",
    "    excess_calc, args=[3000])\n",
    "users_total_ultra['mb_excess'] = users_total_ultra['mb_used'].apply(\n",
    "    excess_calc, args=[30720])\n",
    "users_total_ultra['mes_excess'] = users_total_ultra['messages_number'].apply(\n",
    "    excess_calc, args=[1000])\n",
    "\n",
    "users_total_ultra['min_exc_rev'] = users_total_ultra['min_excess'].apply(revenue_calc, args = [1, 1])\n",
    "users_total_ultra['mb_exc_rev'] = users_total_ultra['mb_excess'].apply(revenue_calc, args = [1024, 150])\n",
    "users_total_ultra['mes_exc_rev'] = users_total_ultra['mes_excess'].apply(revenue_calc, args = [1, 1])\n",
    "\n",
    "users_total_ultra['total_revenue'] = (1950 + users_total_ultra['min_exc_rev'] +\n",
    "                                           users_total_ultra['mb_exc_rev'] + \n",
    "                                          users_total_ultra['mes_exc_rev'])\n",
    "\n",
    "users_total_ultra"
   ]
  },
  {
   "cell_type": "markdown",
   "metadata": {},
   "source": [
    "## 3. Анализ полученных данных"
   ]
  },
  {
   "cell_type": "markdown",
   "metadata": {},
   "source": [
    "В рамках проекта мне необходимо описать поведение клиентов оператора, определить основные статистические показатели пользователей каждого из тарифов в месяц - среднего, дисперсии и стандартного отклонения. Начну с определения статистических показателей для пользователей тарифа smart. "
   ]
  },
  {
   "cell_type": "markdown",
   "metadata": {},
   "source": [
    "## Тариф \"Smart\"\n",
    "### Длительность разговоров"
   ]
  },
  {
   "cell_type": "code",
   "execution_count": 35,
   "metadata": {
    "scrolled": false
   },
   "outputs": [
    {
     "data": {
      "text/plain": [
       "count    2229.000000\n",
       "mean      417.934948\n",
       "std       190.313730\n",
       "min         0.000000\n",
       "25%       282.000000\n",
       "50%       422.000000\n",
       "75%       545.000000\n",
       "max      1435.000000\n",
       "Name: calls_duration, dtype: float64"
      ]
     },
     "execution_count": 35,
     "metadata": {},
     "output_type": "execute_result"
    }
   ],
   "source": [
    "users_total_smart['calls_duration'].describe()"
   ]
  },
  {
   "cell_type": "markdown",
   "metadata": {},
   "source": [
    "Среднее + 3 стандартных отклонения явно находятся ниже максимального значения. Плюс в выборке имеются нули - нас эти значения не интересуют. Нули удалим, а на значения выше верхнего уровня посмотрим на гистограмме."
   ]
  },
  {
   "cell_type": "code",
   "execution_count": 36,
   "metadata": {
    "scrolled": true
   },
   "outputs": [
    {
     "data": {
      "text/plain": [
       "<matplotlib.axes._subplots.AxesSubplot at 0x7ff0341f62b0>"
      ]
     },
     "execution_count": 36,
     "metadata": {},
     "output_type": "execute_result"
    },
    {
     "data": {
      "image/png": "[encoded data removed]",
      "text/plain": [
       "<Figure size 432x288 with 1 Axes>"
      ]
     },
     "metadata": {
      "needs_background": "light"
     },
     "output_type": "display_data"
    }
   ],
   "source": [
    "users_smart_no_zero_dur = users_total_smart[users_total_smart['calls_duration'] != 0]\n",
    "users_smart_no_zero_dur['calls_duration'].hist(bins = 50)"
   ]
  },
  {
   "cell_type": "markdown",
   "metadata": {},
   "source": [
    "Значения свыше 1000 минут в месяц (для тарифа, в котором идёт всего 500 \"бесплатных\" минут) практически не встречаются. Сверху наше распределение ограничим значением среднего арифметического + 3 стандартных отклонения. Обрежем имеющийся датасет по этому значению и продолжим анализ."
   ]
  },
  {
   "cell_type": "code",
   "execution_count": 37,
   "metadata": {},
   "outputs": [
    {
     "data": {
      "text/plain": [
       "<matplotlib.axes._subplots.AxesSubplot at 0x7ff0371b4898>"
      ]
     },
     "execution_count": 37,
     "metadata": {},
     "output_type": "execute_result"
    },
    {
     "data": {
      "image/png": "[encoded data removed]",
      "text/plain": [
       "<Figure size 432x288 with 1 Axes>"
      ]
     },
     "metadata": {
      "needs_background": "light"
     },
     "output_type": "display_data"
    }
   ],
   "source": [
    "top_smart_duration_limit = (users_smart_no_zero_dur['calls_duration'].mean() +\n",
    "                      3 * users_smart_no_zero_dur['calls_duration'].std())\n",
    "\n",
    "users_smart_clean_dur = users_smart_no_zero_dur[users_smart_no_zero_dur['calls_duration'] <=\n",
    "                                                top_smart_duration_limit]\n",
    "\n",
    "users_smart_clean_dur['calls_duration'].hist(bins = 25, range = (0, 1000))"
   ]
  },
  {
   "cell_type": "markdown",
   "metadata": {},
   "source": [
    "На гистограмме можно увидеть небольшой перекос полученных значений в левую сторону. Вероятно, это связано с наличием т.н. \"неполных месяцев\" - месяцев, когда пользователь только начинает пользоваться тарифом - например, подключился 23 числа, пользовался тарифом 7 дней, а мы, в дальнейшем анализе используем полученные данные \"вровень\" с данными, полученными за целый месяц. На мой взгляд, здесь возможны 2 различных варианта обработки таких \"неполных\" значений:\n",
    "1. Введение некоторого \"приведенного\" параметра - например, \"условного месяца\", который будет представлять собой аппроксимированное значение, определенное для месяца на основании его части - говорили 7 дней, нужна информация для 30 дней. Полученное значение делим на 7, умножаем на 30 и получаем искомое. Однако, данный подход не совсем корректен в связи с высоким риском возникновения выбросов вследствие аппроксимации. Для использования данного подхода, в первую очередь, необходимо будет построить \"равномерность\" распределения звонков в течение месяца - если люди разговаривают \"примерно\" одинаково в течение месяца - по 5-10-20 минут в день (+-), то такой подход, действительно имеет смысл;\n",
    "2. Устранение из имеющегося датафрейма значений, соответствующих неполному месяцу. Для этого из исходного файла users извлечем месяц подключения для каждого из пользователей (при условии, что подключение было в 2018 году) и уберем из выборки значения для этих \"первых, неполных\" месяцев. Основной риск, который я вижу в данном подходе заключается в существенном уменьшении объема анализируемых данных. Учитывая, что пользователей всего 500, а строчек со значениями 3214, высока вероятность (ведь 3214 / 500 = 6.4 мес), что мы выбросим из выборки почти 1/6 часть всех значений. Кроме того, не стоит забывать про наличие \"отключившихся\". Их \"последние месяцы\" также \"заслуживают\" выбрасывания из списка. Но это также чревато потерей данных. С другой стороны, эти данные явно \"corrupted\" - искажены. \n",
    "\n",
    "Пока подвешу данный момент как гипотезу возможной доработки и продолжу работать с имеющимся данными."
   ]
  },
  {
   "cell_type": "code",
   "execution_count": 38,
   "metadata": {},
   "outputs": [],
   "source": [
    "# здесь, при необходимости, я напишу код расчистки данных\n",
    "\n",
    "#users_smart_clean = users_smart_clean.drop([(1002,6)], inplace = True)"
   ]
  },
  {
   "cell_type": "markdown",
   "metadata": {},
   "source": [
    "Посмотрим на статистические показатели обработанной выборки и опишем её."
   ]
  },
  {
   "cell_type": "code",
   "execution_count": 39,
   "metadata": {
    "scrolled": true
   },
   "outputs": [
    {
     "data": {
      "text/plain": [
       "count    2214.000000\n",
       "mean      417.294490\n",
       "std       185.208838\n",
       "min         2.000000\n",
       "25%       285.000000\n",
       "50%       422.000000\n",
       "75%       544.000000\n",
       "max       965.000000\n",
       "Name: calls_duration, dtype: float64"
      ]
     },
     "execution_count": 39,
     "metadata": {},
     "output_type": "execute_result"
    }
   ],
   "source": [
    "users_smart_clean_dur['calls_duration'].describe()"
   ]
  },
  {
   "cell_type": "markdown",
   "metadata": {},
   "source": [
    "Выброшенных значений (0 и сверхбольших) всего 15 шт. Стало быть, эти значения действительно можно рассматривать как выбросы - \"уникальные\" случаи сверхобщения или, напротив, НЕобщения.\n",
    "\n",
    "В среднем, пользователи тарифа Smart разговаривают по телефону 417 минут в месяц, т.е. выговаривают почти 84% от включенного в тариф лимита на разговоры (500 минут). При этом, важно понимать, что почти 30% пользователей за этот лимит переваливают - т.е. почти 30% пользователей тарифа smart \"переплачивают\" за пользование мобильной связью. Тем не менее, переходить на тариф ultra им явно не с руки - в 100% случаев они бы не смогли выбрать весь имеющийся лимит по звонкам даже на треть (от 3000 мин/мес). "
   ]
  },
  {
   "cell_type": "markdown",
   "metadata": {},
   "source": [
    "### Количество сообщений"
   ]
  },
  {
   "cell_type": "code",
   "execution_count": 40,
   "metadata": {},
   "outputs": [
    {
     "data": {
      "text/plain": [
       "count    2229.000000\n",
       "mean       33.384029\n",
       "std        28.227876\n",
       "min         0.000000\n",
       "25%        10.000000\n",
       "50%        28.000000\n",
       "75%        51.000000\n",
       "max       143.000000\n",
       "Name: messages_number, dtype: float64"
      ]
     },
     "execution_count": 40,
     "metadata": {},
     "output_type": "execute_result"
    }
   ],
   "source": [
    "users_total_smart['messages_number'].describe()"
   ]
  },
  {
   "cell_type": "markdown",
   "metadata": {},
   "source": [
    "Максимальное число смс, отправленных пользователем, составляет 143 шт. Построим на основании полученных данных гистограмму."
   ]
  },
  {
   "cell_type": "code",
   "execution_count": 41,
   "metadata": {},
   "outputs": [
    {
     "data": {
      "text/plain": [
       "<matplotlib.axes._subplots.AxesSubplot at 0x7ff034430550>"
      ]
     },
     "execution_count": 41,
     "metadata": {},
     "output_type": "execute_result"
    },
    {
     "data": {
      "image/png": "[encoded data removed]",
      "text/plain": [
       "<Figure size 432x288 with 1 Axes>"
      ]
     },
     "metadata": {
      "needs_background": "light"
     },
     "output_type": "display_data"
    }
   ],
   "source": [
    "users_total_smart['messages_number'].hist(bins = 143, range = (0, 143))"
   ]
  },
  {
   "cell_type": "markdown",
   "metadata": {},
   "source": [
    "Безумное количество месяцев без смс сообщений - 300+ из 2229. Уберем их и посмотрим на полученное распределение."
   ]
  },
  {
   "cell_type": "code",
   "execution_count": 42,
   "metadata": {},
   "outputs": [
    {
     "data": {
      "text/plain": [
       "<matplotlib.axes._subplots.AxesSubplot at 0x7ff03425f6d8>"
      ]
     },
     "execution_count": 42,
     "metadata": {},
     "output_type": "execute_result"
    },
    {
     "data": {
      "image/png": "[encoded data removed]",
      "text/plain": [
       "<Figure size 432x288 with 1 Axes>"
      ]
     },
     "metadata": {
      "needs_background": "light"
     },
     "output_type": "display_data"
    }
   ],
   "source": [
    "users_smart_no_zero_mes = users_total_smart[users_total_smart['messages_number'] != 0]\n",
    "users_smart_no_zero_mes['messages_number'].hist(bins = 14, range = (0, 140))"
   ]
  },
  {
   "cell_type": "markdown",
   "metadata": {},
   "source": [
    "Распределение выглядит \"нормально\" с большим хвостом справа. Посмотрим на статистические показатели и обрежем полученный датафрейм по верхнему значению. "
   ]
  },
  {
   "cell_type": "code",
   "execution_count": 43,
   "metadata": {},
   "outputs": [
    {
     "data": {
      "text/plain": [
       "<matplotlib.axes._subplots.AxesSubplot at 0x7ff0341820b8>"
      ]
     },
     "execution_count": 43,
     "metadata": {},
     "output_type": "execute_result"
    },
    {
     "data": {
      "image/png": "[encoded data removed]",
      "text/plain": [
       "<Figure size 432x288 with 1 Axes>"
      ]
     },
     "metadata": {
      "needs_background": "light"
     },
     "output_type": "display_data"
    }
   ],
   "source": [
    "top_smart_messages_limit = (users_smart_no_zero_mes['messages_number'].mean() +\n",
    "                      3 * users_smart_no_zero_mes['messages_number'].std())\n",
    "users_smart_clean_mes = (users_smart_no_zero_mes[users_smart_no_zero_mes['messages_number'] <= \n",
    "                                                   top_smart_messages_limit])\n",
    "users_smart_clean_mes['messages_number'].hist(bins = 12, range = (0,120))"
   ]
  },
  {
   "cell_type": "markdown",
   "metadata": {},
   "source": [
    "Вновь посмотрим на статистические показатели выборки и сформулируем выводы."
   ]
  },
  {
   "cell_type": "code",
   "execution_count": 44,
   "metadata": {},
   "outputs": [
    {
     "data": {
      "text/plain": [
       "count    1911.000000\n",
       "mean       38.181057\n",
       "std        25.910674\n",
       "min         1.000000\n",
       "25%        17.000000\n",
       "50%        33.000000\n",
       "75%        55.000000\n",
       "max       117.000000\n",
       "Name: messages_number, dtype: float64"
      ]
     },
     "execution_count": 44,
     "metadata": {},
     "output_type": "execute_result"
    }
   ],
   "source": [
    "users_smart_clean_mes['messages_number'].describe()"
   ]
  },
  {
   "cell_type": "markdown",
   "metadata": {},
   "source": [
    "Здесь выброшенных значений намного больше - 311 штук. Вспоминая исходную гистограмму, можно утверждать, что это практически полностью нулевые значения. О чем это говорит? Люди предпочитают общаться ИНАЧЕ - не через смс. И если в случае звонков можно утверждать, что люди \"не специально\" не говорили по телефону (короткий месяц и т.п.), то в данном случае, среди выборки НАВЕРНЯКА найдутся пользователи, в которые люди говорили по телефону и НЕ ОТПРАВЛЯЛИ смс. Данный вид связи постепенно отмирает, потому такая ситуация вполне очевидна и логична. Тем не менее, это только гипотетический будущий потенциал ситуации, а нас интересует здесь-и-сейчас. \n",
    "\n",
    "В среднем, в месяц пользователи отправляют 38 сообщений. Однако, учитывая стандартное отклонение = 26 и тот факт, что в 75% случаев пользователи не отправляют более 55 смс в месяц (что даже меньше чем МЮ + 1 * СИГМА), можно сделать вывод, что пользователи преимущественно предпочитают иные способы передачи информации - интернет, звонки и т.д. Это также можно наблюдать на гистограмме распределения значений - несмотря на длинный хвост справа от среднего значения, она очень сильно скошена ВЛЕВО (за счёт огромного числа \"малых\" значений). Тем не менее, как и в случае со звонками, почти в 30% случаев пользователи платят за сообщения сверх абонентской платы."
   ]
  },
  {
   "cell_type": "markdown",
   "metadata": {},
   "source": [
    "### Объем интернет-трафика"
   ]
  },
  {
   "cell_type": "markdown",
   "metadata": {},
   "source": [
    "С интернет-трафиком поступаем аналогично звонкам и сообщениям."
   ]
  },
  {
   "cell_type": "code",
   "execution_count": 45,
   "metadata": {
    "scrolled": true
   },
   "outputs": [
    {
     "data": {
      "text/plain": [
       "count     2229.000000\n",
       "mean     16229.188425\n",
       "std       5877.576978\n",
       "min          0.000000\n",
       "25%      12658.000000\n",
       "50%      16531.000000\n",
       "75%      20068.000000\n",
       "max      38610.000000\n",
       "Name: mb_used, dtype: float64"
      ]
     },
     "execution_count": 45,
     "metadata": {},
     "output_type": "execute_result"
    }
   ],
   "source": [
    "users_total_smart['mb_used'].describe()"
   ]
  },
  {
   "cell_type": "code",
   "execution_count": 46,
   "metadata": {},
   "outputs": [
    {
     "data": {
      "text/plain": [
       "<matplotlib.axes._subplots.AxesSubplot at 0x7ff034182cc0>"
      ]
     },
     "execution_count": 46,
     "metadata": {},
     "output_type": "execute_result"
    },
    {
     "data": {
      "image/png": "[encoded data removed]",
      "text/plain": [
       "<Figure size 432x288 with 1 Axes>"
      ]
     },
     "metadata": {
      "needs_background": "light"
     },
     "output_type": "display_data"
    }
   ],
   "source": [
    "users_total_smart['mb_used'].hist(bins = 39, range = (0, 39000))"
   ]
  },
  {
   "cell_type": "markdown",
   "metadata": {},
   "source": [
    "Типичное нормальное распределение. Удалим нулевые значения и посмотрим на происходящее ещё раз.\n",
    "Также найдем граничные статистические значения сверху и снизу."
   ]
  },
  {
   "cell_type": "code",
   "execution_count": 47,
   "metadata": {},
   "outputs": [
    {
     "name": "stdout",
     "output_type": "stream",
     "text": [
      "Нижняя граница нормального распределения: -1336.3624650687343\n",
      "Верхняя граница нормального распределения: 33823.889182625986\n"
     ]
    }
   ],
   "source": [
    "users_smart_no_zero_mb = (users_total_smart\n",
    "                          [users_total_smart['mb_used'] != 0])\n",
    "\n",
    "down_smart_mb_limit = (users_smart_no_zero_mb['mb_used'].mean() -\n",
    "            3 * users_smart_no_zero_mb['mb_used'].std())\n",
    "top_smart_mb_limit = (users_smart_no_zero_mb['mb_used'].mean() + \n",
    "           3 * users_smart_no_zero_mb['mb_used'].std())\n",
    "\n",
    "print(\"Нижняя граница нормального распределения:\", down_smart_mb_limit)\n",
    "print(\"Верхняя граница нормального распределения:\", top_smart_mb_limit)\n"
   ]
  },
  {
   "cell_type": "markdown",
   "metadata": {},
   "source": [
    "Поскольку значение нижней границы < 0, вместо неё примем 0. Сверху - 33 823 мб. \n",
    "Все остальное выбросим."
   ]
  },
  {
   "cell_type": "code",
   "execution_count": 48,
   "metadata": {},
   "outputs": [
    {
     "data": {
      "text/plain": [
       "<matplotlib.axes._subplots.AxesSubplot at 0x7ff033fe8240>"
      ]
     },
     "execution_count": 48,
     "metadata": {},
     "output_type": "execute_result"
    },
    {
     "data": {
      "image/png": "[encoded data removed]",
      "text/plain": [
       "<Figure size 432x288 with 1 Axes>"
      ]
     },
     "metadata": {
      "needs_background": "light"
     },
     "output_type": "display_data"
    }
   ],
   "source": [
    "users_smart_clean_mb = (users_smart_no_zero_mb\n",
    "                        [users_smart_no_zero_mb['mb_used'] <= top_smart_mb_limit])\n",
    "users_smart_clean_mb['mb_used'].hist(bins = 34, range = (0, 34*1024))"
   ]
  },
  {
   "cell_type": "code",
   "execution_count": 49,
   "metadata": {},
   "outputs": [
    {
     "data": {
      "text/plain": [
       "count     2219.000000\n",
       "mean     16172.567373\n",
       "std       5748.502726\n",
       "min        202.000000\n",
       "25%      12649.500000\n",
       "50%      16496.000000\n",
       "75%      20035.000000\n",
       "max      32781.000000\n",
       "Name: mb_used, dtype: float64"
      ]
     },
     "execution_count": 49,
     "metadata": {},
     "output_type": "execute_result"
    }
   ],
   "source": [
    "users_smart_clean_mb['mb_used'].describe()"
   ]
  },
  {
   "cell_type": "markdown",
   "metadata": {},
   "source": [
    "Выброшено всего 10 значений. И это, наверняка, тоже \"выбросы\", причем, преимущественно, сверхтяжелые - свыше 34 Гб.\n",
    "Люди пользуются интернетом очень активно - это подтверждается средним значением трафика (16.2 тыс. Мб) и стандартного отклонения (5.75 тыс. Мб). \n",
    "\n",
    "В среднем люди, пользующиеся тарифом smart, выбирают весь пакет трафика (15 Гб) и немного добирают сверх - 1-2 гб, что, в отсутствие превышений по звонкам и сообщениям соответствует плате в 750-950 рублей, что в 1.4-1.8 раз превышает абонентскую плату. С вероятностью более 50% человек на тарифе smart, приобретает как минимум 1 дополнительный пакет трафика. А это уже рост выручки от данной категории пользователей почти на 40%. \n",
    "\n",
    "При этом (1950 - 550 = 1400 / 200 = 7, 15 + 7 = 22), для пользователей, \"съедающих\" более 22 Гб трафика, можно рекомендовать перейти на тариф Ultra, т.к. они тратят аналогичную сумму за счет (7+)кратной докупки пакетов трафика. А зачем это делать, если можно за те же деньги (1950 рублей/мес) получить 30 Гб и вагон минут и т.п. в придачу? Вопрос риторический."
   ]
  },
  {
   "cell_type": "markdown",
   "metadata": {},
   "source": [
    "## Тариф \"Ultra\"\n",
    "Логика анализа значений, для тарифа Smart ничем не отличается от тарифа Ultra. Единственное, в этом же разделе мы проведем сравнение тарифов, что называется \"не отходя от кассы\".\n",
    "### Длительность разговоров"
   ]
  },
  {
   "cell_type": "code",
   "execution_count": 50,
   "metadata": {},
   "outputs": [
    {
     "data": {
      "text/plain": [
       "count     985.000000\n",
       "mean      526.623350\n",
       "std       317.606098\n",
       "min         0.000000\n",
       "25%       284.000000\n",
       "50%       518.000000\n",
       "75%       752.000000\n",
       "max      1673.000000\n",
       "Name: calls_duration, dtype: float64"
      ]
     },
     "execution_count": 50,
     "metadata": {},
     "output_type": "execute_result"
    }
   ],
   "source": [
    "users_total_ultra['calls_duration'].describe()"
   ]
  },
  {
   "cell_type": "markdown",
   "metadata": {},
   "source": [
    "Убираем нули и двигаемся дальше."
   ]
  },
  {
   "cell_type": "code",
   "execution_count": 51,
   "metadata": {},
   "outputs": [
    {
     "data": {
      "text/plain": [
       "<matplotlib.axes._subplots.AxesSubplot at 0x7ff033f1fbe0>"
      ]
     },
     "execution_count": 51,
     "metadata": {},
     "output_type": "execute_result"
    },
    {
     "data": {
      "image/png": "[encoded data removed]",
      "text/plain": [
       "<Figure size 432x288 with 1 Axes>"
      ]
     },
     "metadata": {
      "needs_background": "light"
     },
     "output_type": "display_data"
    }
   ],
   "source": [
    "users_ultra_no_zero_dur = (users_total_ultra\n",
    "                           [users_total_ultra['calls_duration'] != 0])\n",
    "users_ultra_no_zero_dur['calls_duration'].hist()"
   ]
  },
  {
   "cell_type": "markdown",
   "metadata": {},
   "source": [
    "Обрезаем хвост полученным данным (по верхней границе) и строим совмещенные гистограммы."
   ]
  },
  {
   "cell_type": "code",
   "execution_count": 52,
   "metadata": {},
   "outputs": [
    {
     "data": {
      "text/plain": [
       "<matplotlib.axes._subplots.AxesSubplot at 0x7ff033fe8eb8>"
      ]
     },
     "execution_count": 52,
     "metadata": {},
     "output_type": "execute_result"
    },
    {
     "data": {
      "image/png": "[encoded data removed]",
      "text/plain": [
       "<Figure size 432x288 with 1 Axes>"
      ]
     },
     "metadata": {
      "needs_background": "light"
     },
     "output_type": "display_data"
    }
   ],
   "source": [
    "top_ultra_duration_limit = (users_ultra_no_zero_dur['calls_duration'].mean() + \n",
    "                            3 * users_ultra_no_zero_dur['calls_duration'].std())\n",
    "users_ultra_clean_dur = users_ultra_no_zero_dur[users_ultra_no_zero_dur\n",
    "                                                ['calls_duration'] <= top_ultra_duration_limit]\n",
    "\n",
    "users_smart_clean_dur['calls_duration'].hist(bins = 35, range = (0, 1400), alpha = 0.6)\n",
    "users_ultra_clean_dur['calls_duration'].hist(bins = 35, range = (0, 1400), alpha = 0.6)"
   ]
  },
  {
   "cell_type": "markdown",
   "metadata": {},
   "source": [
    "По гистограмме наглядно видно различие между имеющимися данными - распределение для тарифа ultra намного шире (ведь лимит на бесплатные звонки выше в 6 раз - 500 против 3000 минут - вот люди и пользуются :) ). Однако, в отличие от тарифа smart, пользователи тарифа ultra НИКОГДА (это важно!) не платят за дополнительные звонки. Это также подтверждается отсутствием ненулевых значений в столбце \"выручка за звонки\" таблицы по тарифу ultra.\n"
   ]
  },
  {
   "cell_type": "code",
   "execution_count": 53,
   "metadata": {
    "scrolled": false
   },
   "outputs": [
    {
     "data": {
      "text/plain": [
       "0    945\n",
       "Name: min_exc_rev, dtype: int64"
      ]
     },
     "execution_count": 53,
     "metadata": {},
     "output_type": "execute_result"
    }
   ],
   "source": [
    "users_ultra_clean_dur['min_exc_rev'].value_counts()"
   ]
  },
  {
   "cell_type": "code",
   "execution_count": 54,
   "metadata": {
    "scrolled": false
   },
   "outputs": [
    {
     "name": "stdout",
     "output_type": "stream",
     "text": [
      "Длительность звонков\n",
      "                        smart  ultra\n",
      "Среднее арифметическое    417    545\n",
      "Медиана                   422    528\n",
      "Стандартное отклонение    185    301\n",
      "Дисперсия               34302  90996\n"
     ]
    }
   ],
   "source": [
    "def sqrt_val(val):\n",
    "    return val * val\n",
    "\n",
    "def stats_val_comparison(data_smart, data_ultra, clmn_name, heading):\n",
    "    \n",
    "    data_st = [[data_smart[clmn_name].mean(), data_ultra[clmn_name].mean()], \n",
    "               [data_smart[clmn_name].median(), data_ultra[clmn_name].median()],\n",
    "              [data_smart[clmn_name].std(),data_ultra[clmn_name].std()],\n",
    "              [sqrt_val(data_smart[clmn_name].std()), sqrt_val(data_ultra[clmn_name].std())]]\n",
    "    index_st = [\"Среднее арифметическое\", \"Медиана\", \"Стандартное отклонение\", \"Дисперсия\"]\n",
    "    columns_st = ['smart', 'ultra']\n",
    "    stats_df = pd.DataFrame(data = data_st, columns = columns_st, index = index_st)\n",
    "    stats_df = stats_df.astype('int')\n",
    "    print(heading)\n",
    "    print(stats_df)\n",
    "\n",
    "stats_val_comparison(users_smart_clean_dur, users_ultra_clean_dur, 'calls_duration', \"Длительность звонков\")"
   ]
  },
  {
   "cell_type": "markdown",
   "metadata": {},
   "source": [
    "Итак, пользователи ultra не выбирают лимит на звонки даже на половину. Налицо определенная \"невыгодность\" тарифа ultra для его пользователей с точки зрения расходов на связь. Зачем мне в 2 раза больше (чего угодно), если я не трачу даже половину от этого? Остаток просто сгорает (портится, приходит в негодность и т.д.).\n",
    "\n",
    "Средние и меианные значения для обоих тарифов крайне близки, что указывает на высокое качество имеющихся данных и близость их распределения к нормальному виду. В среднем, пользователи тарифа ultra говорят на 30% больше, чем их \"соседи по оператору связи\" из тарифа смарт. При этом большее стандартное отклонение для тарифа ultra указывает на существенное различие в диапазоне варьирования значений, особенно в большую сторону. Как следствие, пользователям тарифа ultra по фин. показателям (и с точки зрения звонков) не подходит ни один из предложенных тарифов - на smart они в большинстве случае (более 50%) выходили бы за рамки тарифных лимитов на звонки, а на тарифе ultra - не расходовали этот лимит и вполовину. Вероятно, имеет смысл разработать и предложить им новый (промежуточный) тариф, пока они не посчитали всё сами и не пошли искать иного поставщика, предлагающего более гибкие тарифные сетки.\n",
    "\n",
    "Переходим к сообщениям."
   ]
  },
  {
   "cell_type": "markdown",
   "metadata": {},
   "source": [
    "### Количество сообщений"
   ]
  },
  {
   "cell_type": "code",
   "execution_count": 55,
   "metadata": {},
   "outputs": [
    {
     "data": {
      "text/plain": [
       "count    985.000000\n",
       "mean      49.363452\n",
       "std       47.804457\n",
       "min        0.000000\n",
       "25%        6.000000\n",
       "50%       38.000000\n",
       "75%       79.000000\n",
       "max      224.000000\n",
       "Name: messages_number, dtype: float64"
      ]
     },
     "execution_count": 55,
     "metadata": {},
     "output_type": "execute_result"
    }
   ],
   "source": [
    "users_total_ultra['messages_number'].describe()"
   ]
  },
  {
   "cell_type": "code",
   "execution_count": 56,
   "metadata": {
    "scrolled": true
   },
   "outputs": [
    {
     "data": {
      "text/plain": [
       "<matplotlib.axes._subplots.AxesSubplot at 0x7ff033992320>"
      ]
     },
     "execution_count": 56,
     "metadata": {},
     "output_type": "execute_result"
    },
    {
     "data": {
      "image/png": "[encoded data removed]",
      "text/plain": [
       "<Figure size 432x288 with 1 Axes>"
      ]
     },
     "metadata": {
      "needs_background": "light"
     },
     "output_type": "display_data"
    }
   ],
   "source": [
    "users_total_ultra['messages_number'].hist(bins = 56)"
   ]
  },
  {
   "cell_type": "markdown",
   "metadata": {},
   "source": [
    "В очередной раз огромное количество нулевых значений. Удаляем их и анализируем данные повторно."
   ]
  },
  {
   "cell_type": "code",
   "execution_count": 57,
   "metadata": {},
   "outputs": [
    {
     "data": {
      "text/plain": [
       "<matplotlib.axes._subplots.AxesSubplot at 0x7ff033864518>"
      ]
     },
     "execution_count": 57,
     "metadata": {},
     "output_type": "execute_result"
    },
    {
     "data": {
      "image/png": "[encoded data removed]",
      "text/plain": [
       "<Figure size 432x288 with 1 Axes>"
      ]
     },
     "metadata": {
      "needs_background": "light"
     },
     "output_type": "display_data"
    }
   ],
   "source": [
    "users_ultra_no_zero_mes = users_total_ultra[users_total_ultra['messages_number'] != 0]\n",
    "users_ultra_no_zero_mes['messages_number'].hist(bins = 24, range = (0,240))"
   ]
  },
  {
   "cell_type": "markdown",
   "metadata": {},
   "source": [
    "Поскольку среднее значение и стандартное отклонение практически равны, очевидно, что датафрейму требуется корректировка - обрезка \"сверху\". Сделаем это."
   ]
  },
  {
   "cell_type": "code",
   "execution_count": 58,
   "metadata": {},
   "outputs": [
    {
     "data": {
      "text/plain": [
       "<matplotlib.axes._subplots.AxesSubplot at 0x7ff0337f9ba8>"
      ]
     },
     "execution_count": 58,
     "metadata": {},
     "output_type": "execute_result"
    },
    {
     "data": {
      "image/png": "[encoded data removed]",
      "text/plain": [
       "<Figure size 432x288 with 1 Axes>"
      ]
     },
     "metadata": {
      "needs_background": "light"
     },
     "output_type": "display_data"
    }
   ],
   "source": [
    "top_ultra_messages_limit = (users_ultra_no_zero_mes['messages_number'].mean() +\n",
    "                      3 * users_ultra_no_zero_mes['messages_number'].std())\n",
    "users_ultra_clean_mes = (users_ultra_no_zero_mes\n",
    "                         [users_ultra_no_zero_mes['messages_number'] <= top_ultra_messages_limit])\n",
    "users_ultra_clean_mes['messages_number'].hist(bins = 20, range = (0,200))"
   ]
  },
  {
   "cell_type": "markdown",
   "metadata": {},
   "source": [
    "Построим совмещенную гистограмму и сравним значения, полученные для различных тарифов."
   ]
  },
  {
   "cell_type": "code",
   "execution_count": 59,
   "metadata": {},
   "outputs": [
    {
     "data": {
      "text/plain": [
       "<matplotlib.axes._subplots.AxesSubplot at 0x7ff033864f98>"
      ]
     },
     "execution_count": 59,
     "metadata": {},
     "output_type": "execute_result"
    },
    {
     "data": {
      "image/png": "[encoded data removed]",
      "text/plain": [
       "<Figure size 432x288 with 1 Axes>"
      ]
     },
     "metadata": {
      "needs_background": "light"
     },
     "output_type": "display_data"
    }
   ],
   "source": [
    "users_smart_clean_mes['messages_number'].hist(bins = 12, range = (0,120), alpha = 0.6)\n",
    "users_ultra_clean_mes['messages_number'].hist(bins = 20, range = (0,200), alpha = 0.6)"
   ]
  },
  {
   "cell_type": "markdown",
   "metadata": {},
   "source": [
    "По аналогии со звонками, разброс значений у пользователей тарифа ultra почти в 2 раза выше, чем у пользователей smart'а. Для понимания полной картины, выведем вместе статистические показатели и проанализируем их."
   ]
  },
  {
   "cell_type": "code",
   "execution_count": 60,
   "metadata": {},
   "outputs": [
    {
     "name": "stdout",
     "output_type": "stream",
     "text": [
      "Количество сообщений\n",
      "                        smart  ultra\n",
      "Среднее арифметическое     38     60\n",
      "Медиана                    33     50\n",
      "Стандартное отклонение     25     44\n",
      "Дисперсия                 671   1999\n"
     ]
    }
   ],
   "source": [
    "stats_val_comparison(users_smart_clean_mes, users_ultra_clean_mes, 'messages_number', \"Количество сообщений\")"
   ]
  },
  {
   "cell_type": "markdown",
   "metadata": {},
   "source": [
    "Как и в случае со звонками, пользователи тарифа smart могут \"переплачивать\" за смс-сообщения, в отличие от пользователей ultra. Они, в свою очередь, также в 100% случае не выбирают \"выданные\" в начале месяца лимиты на бесплатные сообщения. Только теперь доля \"полезной выработки\" составляет не более 20% от общего объема. Логика та же, что и со звонками - предложить альтернативу. "
   ]
  },
  {
   "cell_type": "markdown",
   "metadata": {},
   "source": [
    "### Интернет-трафик"
   ]
  },
  {
   "cell_type": "code",
   "execution_count": 61,
   "metadata": {
    "scrolled": true
   },
   "outputs": [
    {
     "data": {
      "text/plain": [
       "count      985.000000\n",
       "mean     19486.901523\n",
       "std      10096.317202\n",
       "min          0.000000\n",
       "25%      11785.000000\n",
       "50%      19324.000000\n",
       "75%      26863.000000\n",
       "max      49789.000000\n",
       "Name: mb_used, dtype: float64"
      ]
     },
     "execution_count": 61,
     "metadata": {},
     "output_type": "execute_result"
    }
   ],
   "source": [
    "users_total_ultra['mb_used'].describe()"
   ]
  },
  {
   "cell_type": "code",
   "execution_count": 62,
   "metadata": {},
   "outputs": [
    {
     "data": {
      "text/plain": [
       "<matplotlib.axes._subplots.AxesSubplot at 0x7ff03365d588>"
      ]
     },
     "execution_count": 62,
     "metadata": {},
     "output_type": "execute_result"
    },
    {
     "data": {
      "image/png": "[encoded data removed]",
      "text/plain": [
       "<Figure size 432x288 with 1 Axes>"
      ]
     },
     "metadata": {
      "needs_background": "light"
     },
     "output_type": "display_data"
    }
   ],
   "source": [
    "users_total_ultra['mb_used'].hist(bins = 50, range = (0, 50000))"
   ]
  },
  {
   "cell_type": "markdown",
   "metadata": {},
   "source": [
    "Распределение также имеет форму нормального, однако, в связи с \"частым\" шагом построения гистограммы и относительно небольшим объемом анализируемых данных, имеет высокую \"изрезанность\" поверхности. Тем не менее, это не мешает нам продолжить расчистку и анализ данных."
   ]
  },
  {
   "cell_type": "code",
   "execution_count": 63,
   "metadata": {},
   "outputs": [
    {
     "name": "stdout",
     "output_type": "stream",
     "text": [
      "Нижняя граница нормального распределения: -10104.402427294834\n",
      "Верхняя граница нормального распределения: 49518.361359533024\n"
     ]
    }
   ],
   "source": [
    "users_ultra_no_zero_mb = (users_total_ultra\n",
    "                          [users_total_ultra['mb_used'] != 0])\n",
    "\n",
    "down_ultra_mb_limit = (users_ultra_no_zero_mb['mb_used'].mean() -\n",
    "            3 * users_ultra_no_zero_mb['mb_used'].std())\n",
    "top_ultra_mb_limit = (users_ultra_no_zero_mb['mb_used'].mean() + \n",
    "           3 * users_ultra_no_zero_mb['mb_used'].std())\n",
    "\n",
    "print(\"Нижняя граница нормального распределения:\", down_ultra_mb_limit)\n",
    "print(\"Верхняя граница нормального распределения:\", top_ultra_mb_limit)\n"
   ]
  },
  {
   "cell_type": "markdown",
   "metadata": {},
   "source": [
    "Снизу снова 0, сверху значение очень близко к максимуму имеющихся данных."
   ]
  },
  {
   "cell_type": "code",
   "execution_count": 64,
   "metadata": {},
   "outputs": [
    {
     "data": {
      "text/plain": [
       "<matplotlib.axes._subplots.AxesSubplot at 0x7ff0335a0860>"
      ]
     },
     "execution_count": 64,
     "metadata": {},
     "output_type": "execute_result"
    },
    {
     "data": {
      "image/png": "[encoded data removed]",
      "text/plain": [
       "<Figure size 432x288 with 1 Axes>"
      ]
     },
     "metadata": {
      "needs_background": "light"
     },
     "output_type": "display_data"
    }
   ],
   "source": [
    "users_ultra_clean_mb = (users_ultra_no_zero_mb\n",
    "                        [users_ultra_no_zero_mb['mb_used'] <= top_ultra_mb_limit])\n",
    "users_ultra_clean_mb['mb_used'].hist(bins = 48, range = (0, 48*1024))"
   ]
  },
  {
   "cell_type": "code",
   "execution_count": 65,
   "metadata": {},
   "outputs": [
    {
     "data": {
      "text/plain": [
       "count      973.000000\n",
       "mean     19676.062693\n",
       "std       9895.258324\n",
       "min        366.000000\n",
       "25%      12062.000000\n",
       "50%      19411.000000\n",
       "75%      26889.000000\n",
       "max      48395.000000\n",
       "Name: mb_used, dtype: float64"
      ]
     },
     "execution_count": 65,
     "metadata": {},
     "output_type": "execute_result"
    }
   ],
   "source": [
    "users_ultra_clean_mb['mb_used'].describe()"
   ]
  },
  {
   "cell_type": "markdown",
   "metadata": {},
   "source": [
    "Построим совместную диаграмму. Выведем на экран значения статистических параметров."
   ]
  },
  {
   "cell_type": "code",
   "execution_count": 66,
   "metadata": {},
   "outputs": [
    {
     "data": {
      "text/plain": [
       "<matplotlib.axes._subplots.AxesSubplot at 0x7ff033503710>"
      ]
     },
     "execution_count": 66,
     "metadata": {},
     "output_type": "execute_result"
    },
    {
     "data": {
      "image/png": "[encoded data removed]",
      "text/plain": [
       "<Figure size 432x288 with 1 Axes>"
      ]
     },
     "metadata": {
      "needs_background": "light"
     },
     "output_type": "display_data"
    }
   ],
   "source": [
    "users_smart_clean_mb['mb_used'].hist(bins = 34, range = (0, 34*1024), alpha = 0.6)\n",
    "users_ultra_clean_mb['mb_used'].hist(bins = 48, range = (0, 48*1024), alpha = 0.6)"
   ]
  },
  {
   "cell_type": "code",
   "execution_count": 67,
   "metadata": {},
   "outputs": [
    {
     "name": "stdout",
     "output_type": "stream",
     "text": [
      "Интернет-трафик\n",
      "                           smart     ultra\n",
      "Среднее арифметическое     16172     19676\n",
      "Медиана                    16496     19411\n",
      "Стандартное отклонение      5748      9895\n",
      "Дисперсия               33045283  97916137\n"
     ]
    }
   ],
   "source": [
    "stats_val_comparison(users_smart_clean_mb, users_ultra_clean_mb, 'mb_used', \"Интернет-трафик\")"
   ]
  },
  {
   "cell_type": "markdown",
   "metadata": {},
   "source": [
    "В среднем, пользователи тарифа ultra (несмотря на то, что их \"меньшинство\") используют в месяц больше интернет трафика, чем пользователи тарифа smart. Следует отметить, что если пользователи smart \"в среднем\" приобретают дополнительные пакеты интернета, то пользователи тарифа ultra \"в среднем\" этого не делают. За интернет в их случае \"переплачивает\" не более 20% от всех пользователей. Разница в стандартном отклонении почти в 2 раза (в пользу тарифа ultra) в очередной раз указывает нам на тот факт, что в ряде месяцев пользователи тарифа ultra расходуют лишь малую часть предоставленных им лимитов. С точки зрения личного финансового планирования, для них, вероятно, более выгодным было бы перейти на тариф smart. Однако, с точки зрения повышения выручки телекоммуникационной компании, безусловно такие клиенты - важное подспорье. Высокая выручка при минимальной (намного меньше планируемой - выставленной в качестве лимитов) себестоимости оказываемых услуг. Перейдем к проверке гипотез и выясним, какой из тарифных планов приносит большую выручку компании."
   ]
  },
  {
   "cell_type": "markdown",
   "metadata": {},
   "source": [
    "## 4. Формулирование и проверка гипотез"
   ]
  },
  {
   "cell_type": "markdown",
   "metadata": {},
   "source": [
    "### Гипотеза №1\n",
    "Первая гипотеза, которую необходимо проверить, звучит следующим образом: \n",
    "\n",
    "<font color='red'>средняя выручка пользователей тарифов «Ультра» и «Смарт» различается.</font>"
   ]
  },
  {
   "cell_type": "markdown",
   "metadata": {},
   "source": [
    "Сформулируем нулевую гипотезу следующим образом:\n",
    "\n",
    "<font color='red'>H0 = \"Средняя выручка компании по тарифу \"Ультра\" равна средней выручке по тарифу \"Смарт\"\".</font>"
   ]
  },
  {
   "cell_type": "markdown",
   "metadata": {},
   "source": [
    "Тогда альтернативная гипотеза будет иметь следующий вид:\n",
    "\n",
    "<font color='red'>H1 = \"Средняя выручка компании по тарифам \"Ультра\" и \"Смарт\" различается\".</font>"
   ]
  },
  {
   "cell_type": "markdown",
   "metadata": {},
   "source": [
    "Применяя метод ttest_ind, для сравнения двух генеральных совокупностей по взятым из них выборкам, я подумал по поводу необходимости использования параметра \"equal_var\". Принял решение передать ему значение False (не делать дисперсии г.совокупностей одинаковыми) в связи с существенным различием дисперсий исследованных ранее выборок для различных тарифов."
   ]
  },
  {
   "cell_type": "code",
   "execution_count": 68,
   "metadata": {},
   "outputs": [
    {
     "data": {
      "text/plain": [
       "2.7240946993530846e-246"
      ]
     },
     "execution_count": 68,
     "metadata": {},
     "output_type": "execute_result"
    }
   ],
   "source": [
    "rev_sm_ult_result = st.ttest_ind(users_total_smart['total_revenue'], \n",
    "                                 users_total_ultra['total_revenue'], \n",
    "                                 equal_var = False)\n",
    "rev_sm_ult_result.pvalue"
   ]
  },
  {
   "cell_type": "markdown",
   "metadata": {},
   "source": [
    "Вероятность случайного возникновения различия между выборками невероятно мала (в -246 степени). И вне зависимости от того, какой критический уровень стат.значимости мы примем (5%, 1%, 0.01%), в любом случае, он будет больше полученного значения. Потому я отвергаю нулевую гипотезу. Соответственно, выдвинутая ранее в рамках реализации проекта гипотеза <font color='red'>\"средняя выручка пользователей тарифов «Ультра» и «Смарт» различается\"</font> (соответствующая альтернативной гипотезе H1) имеет право на существование."
   ]
  },
  {
   "cell_type": "markdown",
   "metadata": {},
   "source": [
    "### Гипотеза №2\n",
    "Вторая гипотеза звучит следующим образом: \n",
    "\n",
    "<font color='red'>средняя выручка пользователей из Москвы отличается от выручки пользователей из других регионов.</font>"
   ]
  },
  {
   "cell_type": "markdown",
   "metadata": {},
   "source": [
    "Сформулируем нулевую гипотезу следующим образом:\n",
    "\n",
    "<font color='red'>H0 = \"Средняя выручка компании от пользователей из Москвы равна средней выручке от пользователей из других регионов\".</font>"
   ]
  },
  {
   "cell_type": "markdown",
   "metadata": {},
   "source": [
    "Тогда альтернативная гипотеза будет иметь следующий вид:\n",
    "\n",
    "<font color='red'>H1 = \"Средняя выручка компании от пользователей из Москвы отличается от средней выручки от пользователей из других регионов\".</font>"
   ]
  },
  {
   "cell_type": "markdown",
   "metadata": {},
   "source": [
    "В первую очередь, нам необходимо \"собрать\" необходимые для анализа выборки. Если при проверке предшествующей гипотезы мы пользовались сгруппированными ранее выборками, то сейчас нам необходимо их \"разделить\" по критерию города и \"склеить\" в обратную сторону по этому же критерию (Смарт-Москва + Ультра-Москва и Смарт-Остальные + Ультра-Остальные)."
   ]
  },
  {
   "cell_type": "markdown",
   "metadata": {},
   "source": [
    "Начнем c добавления столбца \"город\" в имеющиеся датасеты."
   ]
  },
  {
   "cell_type": "code",
   "execution_count": 69,
   "metadata": {
    "scrolled": false
   },
   "outputs": [
    {
     "data": {
      "text/html": [
       "<div>\n",
       "<style scoped>\n",
       "    .dataframe tbody tr th:only-of-type {\n",
       "        vertical-align: middle;\n",
       "    }\n",
       "\n",
       "    .dataframe tbody tr th {\n",
       "        vertical-align: top;\n",
       "    }\n",
       "\n",
       "    .dataframe thead th {\n",
       "        text-align: right;\n",
       "    }\n",
       "</style>\n",
       "<table border=\"1\" class=\"dataframe\">\n",
       "  <thead>\n",
       "    <tr style=\"text-align: right;\">\n",
       "      <th></th>\n",
       "      <th>calls_duration</th>\n",
       "      <th>calls_number</th>\n",
       "      <th>mb_used</th>\n",
       "      <th>messages_number</th>\n",
       "      <th>min_excess</th>\n",
       "      <th>mb_excess</th>\n",
       "      <th>mes_excess</th>\n",
       "      <th>min_exc_rev</th>\n",
       "      <th>mb_exc_rev</th>\n",
       "      <th>mes_exc_rev</th>\n",
       "      <th>total_revenue</th>\n",
       "      <th>city</th>\n",
       "    </tr>\n",
       "    <tr>\n",
       "      <th>user_id</th>\n",
       "      <th></th>\n",
       "      <th></th>\n",
       "      <th></th>\n",
       "      <th></th>\n",
       "      <th></th>\n",
       "      <th></th>\n",
       "      <th></th>\n",
       "      <th></th>\n",
       "      <th></th>\n",
       "      <th></th>\n",
       "      <th></th>\n",
       "      <th></th>\n",
       "    </tr>\n",
       "  </thead>\n",
       "  <tbody>\n",
       "    <tr>\n",
       "      <td>1001</td>\n",
       "      <td>430</td>\n",
       "      <td>45</td>\n",
       "      <td>18452</td>\n",
       "      <td>0</td>\n",
       "      <td>0</td>\n",
       "      <td>3092</td>\n",
       "      <td>0</td>\n",
       "      <td>0</td>\n",
       "      <td>800</td>\n",
       "      <td>0</td>\n",
       "      <td>1350</td>\n",
       "      <td>Москва</td>\n",
       "    </tr>\n",
       "    <tr>\n",
       "      <td>1001</td>\n",
       "      <td>414</td>\n",
       "      <td>47</td>\n",
       "      <td>14053</td>\n",
       "      <td>0</td>\n",
       "      <td>0</td>\n",
       "      <td>0</td>\n",
       "      <td>0</td>\n",
       "      <td>0</td>\n",
       "      <td>0</td>\n",
       "      <td>0</td>\n",
       "      <td>550</td>\n",
       "      <td>Москва</td>\n",
       "    </tr>\n",
       "    <tr>\n",
       "      <td>1002</td>\n",
       "      <td>117</td>\n",
       "      <td>14</td>\n",
       "      <td>10871</td>\n",
       "      <td>4</td>\n",
       "      <td>0</td>\n",
       "      <td>0</td>\n",
       "      <td>0</td>\n",
       "      <td>0</td>\n",
       "      <td>0</td>\n",
       "      <td>0</td>\n",
       "      <td>550</td>\n",
       "      <td>Стерлитамак</td>\n",
       "    </tr>\n",
       "    <tr>\n",
       "      <td>1002</td>\n",
       "      <td>214</td>\n",
       "      <td>21</td>\n",
       "      <td>17601</td>\n",
       "      <td>11</td>\n",
       "      <td>0</td>\n",
       "      <td>2241</td>\n",
       "      <td>0</td>\n",
       "      <td>0</td>\n",
       "      <td>600</td>\n",
       "      <td>0</td>\n",
       "      <td>1150</td>\n",
       "      <td>Стерлитамак</td>\n",
       "    </tr>\n",
       "    <tr>\n",
       "      <td>1002</td>\n",
       "      <td>289</td>\n",
       "      <td>37</td>\n",
       "      <td>20347</td>\n",
       "      <td>13</td>\n",
       "      <td>0</td>\n",
       "      <td>4987</td>\n",
       "      <td>0</td>\n",
       "      <td>0</td>\n",
       "      <td>1000</td>\n",
       "      <td>0</td>\n",
       "      <td>1550</td>\n",
       "      <td>Стерлитамак</td>\n",
       "    </tr>\n",
       "    <tr>\n",
       "      <td>1002</td>\n",
       "      <td>206</td>\n",
       "      <td>25</td>\n",
       "      <td>16712</td>\n",
       "      <td>4</td>\n",
       "      <td>0</td>\n",
       "      <td>1352</td>\n",
       "      <td>0</td>\n",
       "      <td>0</td>\n",
       "      <td>400</td>\n",
       "      <td>0</td>\n",
       "      <td>950</td>\n",
       "      <td>Стерлитамак</td>\n",
       "    </tr>\n",
       "    <tr>\n",
       "      <td>1002</td>\n",
       "      <td>212</td>\n",
       "      <td>24</td>\n",
       "      <td>13905</td>\n",
       "      <td>10</td>\n",
       "      <td>0</td>\n",
       "      <td>0</td>\n",
       "      <td>0</td>\n",
       "      <td>0</td>\n",
       "      <td>0</td>\n",
       "      <td>0</td>\n",
       "      <td>550</td>\n",
       "      <td>Стерлитамак</td>\n",
       "    </tr>\n",
       "    <tr>\n",
       "      <td>1002</td>\n",
       "      <td>243</td>\n",
       "      <td>25</td>\n",
       "      <td>18610</td>\n",
       "      <td>16</td>\n",
       "      <td>0</td>\n",
       "      <td>3250</td>\n",
       "      <td>0</td>\n",
       "      <td>0</td>\n",
       "      <td>800</td>\n",
       "      <td>0</td>\n",
       "      <td>1350</td>\n",
       "      <td>Стерлитамак</td>\n",
       "    </tr>\n",
       "    <tr>\n",
       "      <td>1002</td>\n",
       "      <td>236</td>\n",
       "      <td>27</td>\n",
       "      <td>18137</td>\n",
       "      <td>12</td>\n",
       "      <td>0</td>\n",
       "      <td>2777</td>\n",
       "      <td>0</td>\n",
       "      <td>0</td>\n",
       "      <td>600</td>\n",
       "      <td>0</td>\n",
       "      <td>1150</td>\n",
       "      <td>Стерлитамак</td>\n",
       "    </tr>\n",
       "    <tr>\n",
       "      <td>1005</td>\n",
       "      <td>95</td>\n",
       "      <td>11</td>\n",
       "      <td>2730</td>\n",
       "      <td>7</td>\n",
       "      <td>0</td>\n",
       "      <td>0</td>\n",
       "      <td>0</td>\n",
       "      <td>0</td>\n",
       "      <td>0</td>\n",
       "      <td>0</td>\n",
       "      <td>550</td>\n",
       "      <td>Набережные Челны</td>\n",
       "    </tr>\n",
       "  </tbody>\n",
       "</table>\n",
       "</div>"
      ],
      "text/plain": [
       "         calls_duration  calls_number  mb_used  messages_number  min_excess  \\\n",
       "user_id                                                                       \n",
       "1001                430            45    18452                0           0   \n",
       "1001                414            47    14053                0           0   \n",
       "1002                117            14    10871                4           0   \n",
       "1002                214            21    17601               11           0   \n",
       "1002                289            37    20347               13           0   \n",
       "1002                206            25    16712                4           0   \n",
       "1002                212            24    13905               10           0   \n",
       "1002                243            25    18610               16           0   \n",
       "1002                236            27    18137               12           0   \n",
       "1005                 95            11     2730                7           0   \n",
       "\n",
       "         mb_excess  mes_excess  min_exc_rev  mb_exc_rev  mes_exc_rev  \\\n",
       "user_id                                                                \n",
       "1001          3092           0            0         800            0   \n",
       "1001             0           0            0           0            0   \n",
       "1002             0           0            0           0            0   \n",
       "1002          2241           0            0         600            0   \n",
       "1002          4987           0            0        1000            0   \n",
       "1002          1352           0            0         400            0   \n",
       "1002             0           0            0           0            0   \n",
       "1002          3250           0            0         800            0   \n",
       "1002          2777           0            0         600            0   \n",
       "1005             0           0            0           0            0   \n",
       "\n",
       "         total_revenue              city  \n",
       "user_id                                   \n",
       "1001              1350            Москва  \n",
       "1001               550            Москва  \n",
       "1002               550       Стерлитамак  \n",
       "1002              1150       Стерлитамак  \n",
       "1002              1550       Стерлитамак  \n",
       "1002               950       Стерлитамак  \n",
       "1002               550       Стерлитамак  \n",
       "1002              1350       Стерлитамак  \n",
       "1002              1150       Стерлитамак  \n",
       "1005               550  Набережные Челны  "
      ]
     },
     "execution_count": 69,
     "metadata": {},
     "output_type": "execute_result"
    }
   ],
   "source": [
    "id_all = users['city']\n",
    "id_all.index = users['user_id']\n",
    "\n",
    "users_total_smart_city = users_total_smart.merge(id_all, how = 'left', on = 'user_id')\n",
    "users_total_smart_city.head(10)"
   ]
  },
  {
   "cell_type": "markdown",
   "metadata": {},
   "source": [
    "В процессе добавления столбца \"город\" я \"потерял\" часть мультииндекса - \"месяц\", однако, для решения нашей задачи он нам не нужен. Продолжаем операции с датасетами."
   ]
  },
  {
   "cell_type": "code",
   "execution_count": 70,
   "metadata": {},
   "outputs": [
    {
     "data": {
      "text/html": [
       "<div>\n",
       "<style scoped>\n",
       "    .dataframe tbody tr th:only-of-type {\n",
       "        vertical-align: middle;\n",
       "    }\n",
       "\n",
       "    .dataframe tbody tr th {\n",
       "        vertical-align: top;\n",
       "    }\n",
       "\n",
       "    .dataframe thead th {\n",
       "        text-align: right;\n",
       "    }\n",
       "</style>\n",
       "<table border=\"1\" class=\"dataframe\">\n",
       "  <thead>\n",
       "    <tr style=\"text-align: right;\">\n",
       "      <th></th>\n",
       "      <th>calls_duration</th>\n",
       "      <th>calls_number</th>\n",
       "      <th>mb_used</th>\n",
       "      <th>messages_number</th>\n",
       "      <th>min_excess</th>\n",
       "      <th>mb_excess</th>\n",
       "      <th>mes_excess</th>\n",
       "      <th>min_exc_rev</th>\n",
       "      <th>mb_exc_rev</th>\n",
       "      <th>mes_exc_rev</th>\n",
       "      <th>total_revenue</th>\n",
       "      <th>city</th>\n",
       "    </tr>\n",
       "    <tr>\n",
       "      <th>user_id</th>\n",
       "      <th></th>\n",
       "      <th></th>\n",
       "      <th></th>\n",
       "      <th></th>\n",
       "      <th></th>\n",
       "      <th></th>\n",
       "      <th></th>\n",
       "      <th></th>\n",
       "      <th></th>\n",
       "      <th></th>\n",
       "      <th></th>\n",
       "      <th></th>\n",
       "    </tr>\n",
       "  </thead>\n",
       "  <tbody>\n",
       "    <tr>\n",
       "      <td>1000</td>\n",
       "      <td>159</td>\n",
       "      <td>17</td>\n",
       "      <td>2256</td>\n",
       "      <td>22</td>\n",
       "      <td>0</td>\n",
       "      <td>0</td>\n",
       "      <td>0</td>\n",
       "      <td>0</td>\n",
       "      <td>0</td>\n",
       "      <td>0</td>\n",
       "      <td>1950</td>\n",
       "      <td>Краснодар</td>\n",
       "    </tr>\n",
       "    <tr>\n",
       "      <td>1000</td>\n",
       "      <td>172</td>\n",
       "      <td>28</td>\n",
       "      <td>23257</td>\n",
       "      <td>60</td>\n",
       "      <td>0</td>\n",
       "      <td>0</td>\n",
       "      <td>0</td>\n",
       "      <td>0</td>\n",
       "      <td>0</td>\n",
       "      <td>0</td>\n",
       "      <td>1950</td>\n",
       "      <td>Краснодар</td>\n",
       "    </tr>\n",
       "    <tr>\n",
       "      <td>1000</td>\n",
       "      <td>340</td>\n",
       "      <td>41</td>\n",
       "      <td>14016</td>\n",
       "      <td>75</td>\n",
       "      <td>0</td>\n",
       "      <td>0</td>\n",
       "      <td>0</td>\n",
       "      <td>0</td>\n",
       "      <td>0</td>\n",
       "      <td>0</td>\n",
       "      <td>1950</td>\n",
       "      <td>Краснодар</td>\n",
       "    </tr>\n",
       "    <tr>\n",
       "      <td>1000</td>\n",
       "      <td>408</td>\n",
       "      <td>42</td>\n",
       "      <td>14070</td>\n",
       "      <td>81</td>\n",
       "      <td>0</td>\n",
       "      <td>0</td>\n",
       "      <td>0</td>\n",
       "      <td>0</td>\n",
       "      <td>0</td>\n",
       "      <td>0</td>\n",
       "      <td>1950</td>\n",
       "      <td>Краснодар</td>\n",
       "    </tr>\n",
       "    <tr>\n",
       "      <td>1000</td>\n",
       "      <td>466</td>\n",
       "      <td>46</td>\n",
       "      <td>14581</td>\n",
       "      <td>57</td>\n",
       "      <td>0</td>\n",
       "      <td>0</td>\n",
       "      <td>0</td>\n",
       "      <td>0</td>\n",
       "      <td>0</td>\n",
       "      <td>0</td>\n",
       "      <td>1950</td>\n",
       "      <td>Краснодар</td>\n",
       "    </tr>\n",
       "    <tr>\n",
       "      <td>1000</td>\n",
       "      <td>350</td>\n",
       "      <td>44</td>\n",
       "      <td>14717</td>\n",
       "      <td>73</td>\n",
       "      <td>0</td>\n",
       "      <td>0</td>\n",
       "      <td>0</td>\n",
       "      <td>0</td>\n",
       "      <td>0</td>\n",
       "      <td>0</td>\n",
       "      <td>1950</td>\n",
       "      <td>Краснодар</td>\n",
       "    </tr>\n",
       "    <tr>\n",
       "      <td>1000</td>\n",
       "      <td>338</td>\n",
       "      <td>37</td>\n",
       "      <td>14768</td>\n",
       "      <td>58</td>\n",
       "      <td>0</td>\n",
       "      <td>0</td>\n",
       "      <td>0</td>\n",
       "      <td>0</td>\n",
       "      <td>0</td>\n",
       "      <td>0</td>\n",
       "      <td>1950</td>\n",
       "      <td>Краснодар</td>\n",
       "    </tr>\n",
       "    <tr>\n",
       "      <td>1000</td>\n",
       "      <td>333</td>\n",
       "      <td>38</td>\n",
       "      <td>9827</td>\n",
       "      <td>70</td>\n",
       "      <td>0</td>\n",
       "      <td>0</td>\n",
       "      <td>0</td>\n",
       "      <td>0</td>\n",
       "      <td>0</td>\n",
       "      <td>0</td>\n",
       "      <td>1950</td>\n",
       "      <td>Краснодар</td>\n",
       "    </tr>\n",
       "    <tr>\n",
       "      <td>1003</td>\n",
       "      <td>380</td>\n",
       "      <td>43</td>\n",
       "      <td>8571</td>\n",
       "      <td>37</td>\n",
       "      <td>0</td>\n",
       "      <td>0</td>\n",
       "      <td>0</td>\n",
       "      <td>0</td>\n",
       "      <td>0</td>\n",
       "      <td>0</td>\n",
       "      <td>1950</td>\n",
       "      <td>Москва</td>\n",
       "    </tr>\n",
       "    <tr>\n",
       "      <td>1003</td>\n",
       "      <td>961</td>\n",
       "      <td>105</td>\n",
       "      <td>12479</td>\n",
       "      <td>91</td>\n",
       "      <td>0</td>\n",
       "      <td>0</td>\n",
       "      <td>0</td>\n",
       "      <td>0</td>\n",
       "      <td>0</td>\n",
       "      <td>0</td>\n",
       "      <td>1950</td>\n",
       "      <td>Москва</td>\n",
       "    </tr>\n",
       "  </tbody>\n",
       "</table>\n",
       "</div>"
      ],
      "text/plain": [
       "         calls_duration  calls_number  mb_used  messages_number  min_excess  \\\n",
       "user_id                                                                       \n",
       "1000                159            17     2256               22           0   \n",
       "1000                172            28    23257               60           0   \n",
       "1000                340            41    14016               75           0   \n",
       "1000                408            42    14070               81           0   \n",
       "1000                466            46    14581               57           0   \n",
       "1000                350            44    14717               73           0   \n",
       "1000                338            37    14768               58           0   \n",
       "1000                333            38     9827               70           0   \n",
       "1003                380            43     8571               37           0   \n",
       "1003                961           105    12479               91           0   \n",
       "\n",
       "         mb_excess  mes_excess  min_exc_rev  mb_exc_rev  mes_exc_rev  \\\n",
       "user_id                                                                \n",
       "1000             0           0            0           0            0   \n",
       "1000             0           0            0           0            0   \n",
       "1000             0           0            0           0            0   \n",
       "1000             0           0            0           0            0   \n",
       "1000             0           0            0           0            0   \n",
       "1000             0           0            0           0            0   \n",
       "1000             0           0            0           0            0   \n",
       "1000             0           0            0           0            0   \n",
       "1003             0           0            0           0            0   \n",
       "1003             0           0            0           0            0   \n",
       "\n",
       "         total_revenue       city  \n",
       "user_id                            \n",
       "1000              1950  Краснодар  \n",
       "1000              1950  Краснодар  \n",
       "1000              1950  Краснодар  \n",
       "1000              1950  Краснодар  \n",
       "1000              1950  Краснодар  \n",
       "1000              1950  Краснодар  \n",
       "1000              1950  Краснодар  \n",
       "1000              1950  Краснодар  \n",
       "1003              1950     Москва  \n",
       "1003              1950     Москва  "
      ]
     },
     "execution_count": 70,
     "metadata": {},
     "output_type": "execute_result"
    }
   ],
   "source": [
    "users_total_ultra_city = users_total_ultra.merge(id_all, how = 'left', on = 'user_id')\n",
    "users_total_ultra_city.head(10)"
   ]
  },
  {
   "cell_type": "markdown",
   "metadata": {},
   "source": [
    "Делаем выборки по городу и склеиваем полученное."
   ]
  },
  {
   "cell_type": "code",
   "execution_count": 71,
   "metadata": {},
   "outputs": [
    {
     "data": {
      "text/html": [
       "<div>\n",
       "<style scoped>\n",
       "    .dataframe tbody tr th:only-of-type {\n",
       "        vertical-align: middle;\n",
       "    }\n",
       "\n",
       "    .dataframe tbody tr th {\n",
       "        vertical-align: top;\n",
       "    }\n",
       "\n",
       "    .dataframe thead th {\n",
       "        text-align: right;\n",
       "    }\n",
       "</style>\n",
       "<table border=\"1\" class=\"dataframe\">\n",
       "  <thead>\n",
       "    <tr style=\"text-align: right;\">\n",
       "      <th></th>\n",
       "      <th></th>\n",
       "      <th>calls_duration</th>\n",
       "      <th>calls_number</th>\n",
       "      <th>mb_used</th>\n",
       "      <th>messages_number</th>\n",
       "      <th>min_excess</th>\n",
       "      <th>mb_excess</th>\n",
       "      <th>mes_excess</th>\n",
       "      <th>min_exc_rev</th>\n",
       "      <th>mb_exc_rev</th>\n",
       "      <th>mes_exc_rev</th>\n",
       "      <th>total_revenue</th>\n",
       "      <th>city</th>\n",
       "    </tr>\n",
       "    <tr>\n",
       "      <th></th>\n",
       "      <th>user_id</th>\n",
       "      <th></th>\n",
       "      <th></th>\n",
       "      <th></th>\n",
       "      <th></th>\n",
       "      <th></th>\n",
       "      <th></th>\n",
       "      <th></th>\n",
       "      <th></th>\n",
       "      <th></th>\n",
       "      <th></th>\n",
       "      <th></th>\n",
       "      <th></th>\n",
       "    </tr>\n",
       "  </thead>\n",
       "  <tbody>\n",
       "    <tr>\n",
       "      <td rowspan=\"5\" valign=\"top\">smart</td>\n",
       "      <td>1001</td>\n",
       "      <td>430</td>\n",
       "      <td>45</td>\n",
       "      <td>18452</td>\n",
       "      <td>0</td>\n",
       "      <td>0</td>\n",
       "      <td>3092</td>\n",
       "      <td>0</td>\n",
       "      <td>0</td>\n",
       "      <td>800</td>\n",
       "      <td>0</td>\n",
       "      <td>1350</td>\n",
       "      <td>Москва</td>\n",
       "    </tr>\n",
       "    <tr>\n",
       "      <td>1001</td>\n",
       "      <td>414</td>\n",
       "      <td>47</td>\n",
       "      <td>14053</td>\n",
       "      <td>0</td>\n",
       "      <td>0</td>\n",
       "      <td>0</td>\n",
       "      <td>0</td>\n",
       "      <td>0</td>\n",
       "      <td>0</td>\n",
       "      <td>0</td>\n",
       "      <td>550</td>\n",
       "      <td>Москва</td>\n",
       "    </tr>\n",
       "    <tr>\n",
       "      <td>1007</td>\n",
       "      <td>198</td>\n",
       "      <td>21</td>\n",
       "      <td>8031</td>\n",
       "      <td>11</td>\n",
       "      <td>0</td>\n",
       "      <td>0</td>\n",
       "      <td>0</td>\n",
       "      <td>0</td>\n",
       "      <td>0</td>\n",
       "      <td>0</td>\n",
       "      <td>550</td>\n",
       "      <td>Москва</td>\n",
       "    </tr>\n",
       "    <tr>\n",
       "      <td>1007</td>\n",
       "      <td>480</td>\n",
       "      <td>57</td>\n",
       "      <td>17708</td>\n",
       "      <td>39</td>\n",
       "      <td>0</td>\n",
       "      <td>2348</td>\n",
       "      <td>0</td>\n",
       "      <td>0</td>\n",
       "      <td>600</td>\n",
       "      <td>0</td>\n",
       "      <td>1150</td>\n",
       "      <td>Москва</td>\n",
       "    </tr>\n",
       "    <tr>\n",
       "      <td>1007</td>\n",
       "      <td>545</td>\n",
       "      <td>55</td>\n",
       "      <td>13674</td>\n",
       "      <td>26</td>\n",
       "      <td>45</td>\n",
       "      <td>0</td>\n",
       "      <td>0</td>\n",
       "      <td>135</td>\n",
       "      <td>0</td>\n",
       "      <td>0</td>\n",
       "      <td>685</td>\n",
       "      <td>Москва</td>\n",
       "    </tr>\n",
       "    <tr>\n",
       "      <td>...</td>\n",
       "      <td>...</td>\n",
       "      <td>...</td>\n",
       "      <td>...</td>\n",
       "      <td>...</td>\n",
       "      <td>...</td>\n",
       "      <td>...</td>\n",
       "      <td>...</td>\n",
       "      <td>...</td>\n",
       "      <td>...</td>\n",
       "      <td>...</td>\n",
       "      <td>...</td>\n",
       "      <td>...</td>\n",
       "      <td>...</td>\n",
       "    </tr>\n",
       "    <tr>\n",
       "      <td rowspan=\"5\" valign=\"top\">ultra</td>\n",
       "      <td>1476</td>\n",
       "      <td>622</td>\n",
       "      <td>59</td>\n",
       "      <td>18620</td>\n",
       "      <td>5</td>\n",
       "      <td>0</td>\n",
       "      <td>0</td>\n",
       "      <td>0</td>\n",
       "      <td>0</td>\n",
       "      <td>0</td>\n",
       "      <td>0</td>\n",
       "      <td>1950</td>\n",
       "      <td>Москва</td>\n",
       "    </tr>\n",
       "    <tr>\n",
       "      <td>1476</td>\n",
       "      <td>540</td>\n",
       "      <td>60</td>\n",
       "      <td>25148</td>\n",
       "      <td>4</td>\n",
       "      <td>0</td>\n",
       "      <td>0</td>\n",
       "      <td>0</td>\n",
       "      <td>0</td>\n",
       "      <td>0</td>\n",
       "      <td>0</td>\n",
       "      <td>1950</td>\n",
       "      <td>Москва</td>\n",
       "    </tr>\n",
       "    <tr>\n",
       "      <td>1476</td>\n",
       "      <td>556</td>\n",
       "      <td>59</td>\n",
       "      <td>14423</td>\n",
       "      <td>6</td>\n",
       "      <td>0</td>\n",
       "      <td>0</td>\n",
       "      <td>0</td>\n",
       "      <td>0</td>\n",
       "      <td>0</td>\n",
       "      <td>0</td>\n",
       "      <td>1950</td>\n",
       "      <td>Москва</td>\n",
       "    </tr>\n",
       "    <tr>\n",
       "      <td>1476</td>\n",
       "      <td>588</td>\n",
       "      <td>67</td>\n",
       "      <td>14136</td>\n",
       "      <td>11</td>\n",
       "      <td>0</td>\n",
       "      <td>0</td>\n",
       "      <td>0</td>\n",
       "      <td>0</td>\n",
       "      <td>0</td>\n",
       "      <td>0</td>\n",
       "      <td>1950</td>\n",
       "      <td>Москва</td>\n",
       "    </tr>\n",
       "    <tr>\n",
       "      <td>1476</td>\n",
       "      <td>0</td>\n",
       "      <td>0</td>\n",
       "      <td>531</td>\n",
       "      <td>0</td>\n",
       "      <td>0</td>\n",
       "      <td>0</td>\n",
       "      <td>0</td>\n",
       "      <td>0</td>\n",
       "      <td>0</td>\n",
       "      <td>0</td>\n",
       "      <td>1950</td>\n",
       "      <td>Москва</td>\n",
       "    </tr>\n",
       "  </tbody>\n",
       "</table>\n",
       "<p>611 rows × 12 columns</p>\n",
       "</div>"
      ],
      "text/plain": [
       "               calls_duration  calls_number  mb_used  messages_number  \\\n",
       "      user_id                                                           \n",
       "smart 1001                430            45    18452                0   \n",
       "      1001                414            47    14053                0   \n",
       "      1007                198            21     8031               11   \n",
       "      1007                480            57    17708               39   \n",
       "      1007                545            55    13674               26   \n",
       "...                       ...           ...      ...              ...   \n",
       "ultra 1476                622            59    18620                5   \n",
       "      1476                540            60    25148                4   \n",
       "      1476                556            59    14423                6   \n",
       "      1476                588            67    14136               11   \n",
       "      1476                  0             0      531                0   \n",
       "\n",
       "               min_excess  mb_excess  mes_excess  min_exc_rev  mb_exc_rev  \\\n",
       "      user_id                                                               \n",
       "smart 1001              0       3092           0            0         800   \n",
       "      1001              0          0           0            0           0   \n",
       "      1007              0          0           0            0           0   \n",
       "      1007              0       2348           0            0         600   \n",
       "      1007             45          0           0          135           0   \n",
       "...                   ...        ...         ...          ...         ...   \n",
       "ultra 1476              0          0           0            0           0   \n",
       "      1476              0          0           0            0           0   \n",
       "      1476              0          0           0            0           0   \n",
       "      1476              0          0           0            0           0   \n",
       "      1476              0          0           0            0           0   \n",
       "\n",
       "               mes_exc_rev  total_revenue    city  \n",
       "      user_id                                      \n",
       "smart 1001               0           1350  Москва  \n",
       "      1001               0            550  Москва  \n",
       "      1007               0            550  Москва  \n",
       "      1007               0           1150  Москва  \n",
       "      1007               0            685  Москва  \n",
       "...                    ...            ...     ...  \n",
       "ultra 1476               0           1950  Москва  \n",
       "      1476               0           1950  Москва  \n",
       "      1476               0           1950  Москва  \n",
       "      1476               0           1950  Москва  \n",
       "      1476               0           1950  Москва  \n",
       "\n",
       "[611 rows x 12 columns]"
      ]
     },
     "execution_count": 71,
     "metadata": {},
     "output_type": "execute_result"
    }
   ],
   "source": [
    "users_total_smart_moscow = users_total_smart_city[users_total_smart_city\n",
    "                                                  ['city'] == \"Москва\"]\n",
    "users_total_ultra_moscow = users_total_ultra_city[users_total_ultra_city\n",
    "                                                  ['city'] == \"Москва\"]\n",
    "\n",
    "users_total_moscow = pd.concat([users_total_smart_moscow, users_total_ultra_moscow], \n",
    "                               keys = ['smart', 'ultra'])\n",
    "\n",
    "users_total_moscow"
   ]
  },
  {
   "cell_type": "code",
   "execution_count": 72,
   "metadata": {
    "scrolled": false
   },
   "outputs": [
    {
     "data": {
      "text/html": [
       "<div>\n",
       "<style scoped>\n",
       "    .dataframe tbody tr th:only-of-type {\n",
       "        vertical-align: middle;\n",
       "    }\n",
       "\n",
       "    .dataframe tbody tr th {\n",
       "        vertical-align: top;\n",
       "    }\n",
       "\n",
       "    .dataframe thead th {\n",
       "        text-align: right;\n",
       "    }\n",
       "</style>\n",
       "<table border=\"1\" class=\"dataframe\">\n",
       "  <thead>\n",
       "    <tr style=\"text-align: right;\">\n",
       "      <th></th>\n",
       "      <th></th>\n",
       "      <th>calls_duration</th>\n",
       "      <th>calls_number</th>\n",
       "      <th>mb_used</th>\n",
       "      <th>messages_number</th>\n",
       "      <th>min_excess</th>\n",
       "      <th>mb_excess</th>\n",
       "      <th>mes_excess</th>\n",
       "      <th>min_exc_rev</th>\n",
       "      <th>mb_exc_rev</th>\n",
       "      <th>mes_exc_rev</th>\n",
       "      <th>total_revenue</th>\n",
       "      <th>city</th>\n",
       "    </tr>\n",
       "    <tr>\n",
       "      <th></th>\n",
       "      <th>user_id</th>\n",
       "      <th></th>\n",
       "      <th></th>\n",
       "      <th></th>\n",
       "      <th></th>\n",
       "      <th></th>\n",
       "      <th></th>\n",
       "      <th></th>\n",
       "      <th></th>\n",
       "      <th></th>\n",
       "      <th></th>\n",
       "      <th></th>\n",
       "      <th></th>\n",
       "    </tr>\n",
       "  </thead>\n",
       "  <tbody>\n",
       "    <tr>\n",
       "      <td rowspan=\"5\" valign=\"top\">smart</td>\n",
       "      <td>1002</td>\n",
       "      <td>117</td>\n",
       "      <td>14</td>\n",
       "      <td>10871</td>\n",
       "      <td>4</td>\n",
       "      <td>0</td>\n",
       "      <td>0</td>\n",
       "      <td>0</td>\n",
       "      <td>0</td>\n",
       "      <td>0</td>\n",
       "      <td>0</td>\n",
       "      <td>550</td>\n",
       "      <td>Стерлитамак</td>\n",
       "    </tr>\n",
       "    <tr>\n",
       "      <td>1002</td>\n",
       "      <td>214</td>\n",
       "      <td>21</td>\n",
       "      <td>17601</td>\n",
       "      <td>11</td>\n",
       "      <td>0</td>\n",
       "      <td>2241</td>\n",
       "      <td>0</td>\n",
       "      <td>0</td>\n",
       "      <td>600</td>\n",
       "      <td>0</td>\n",
       "      <td>1150</td>\n",
       "      <td>Стерлитамак</td>\n",
       "    </tr>\n",
       "    <tr>\n",
       "      <td>1002</td>\n",
       "      <td>289</td>\n",
       "      <td>37</td>\n",
       "      <td>20347</td>\n",
       "      <td>13</td>\n",
       "      <td>0</td>\n",
       "      <td>4987</td>\n",
       "      <td>0</td>\n",
       "      <td>0</td>\n",
       "      <td>1000</td>\n",
       "      <td>0</td>\n",
       "      <td>1550</td>\n",
       "      <td>Стерлитамак</td>\n",
       "    </tr>\n",
       "    <tr>\n",
       "      <td>1002</td>\n",
       "      <td>206</td>\n",
       "      <td>25</td>\n",
       "      <td>16712</td>\n",
       "      <td>4</td>\n",
       "      <td>0</td>\n",
       "      <td>1352</td>\n",
       "      <td>0</td>\n",
       "      <td>0</td>\n",
       "      <td>400</td>\n",
       "      <td>0</td>\n",
       "      <td>950</td>\n",
       "      <td>Стерлитамак</td>\n",
       "    </tr>\n",
       "    <tr>\n",
       "      <td>1002</td>\n",
       "      <td>212</td>\n",
       "      <td>24</td>\n",
       "      <td>13905</td>\n",
       "      <td>10</td>\n",
       "      <td>0</td>\n",
       "      <td>0</td>\n",
       "      <td>0</td>\n",
       "      <td>0</td>\n",
       "      <td>0</td>\n",
       "      <td>0</td>\n",
       "      <td>550</td>\n",
       "      <td>Стерлитамак</td>\n",
       "    </tr>\n",
       "    <tr>\n",
       "      <td>...</td>\n",
       "      <td>...</td>\n",
       "      <td>...</td>\n",
       "      <td>...</td>\n",
       "      <td>...</td>\n",
       "      <td>...</td>\n",
       "      <td>...</td>\n",
       "      <td>...</td>\n",
       "      <td>...</td>\n",
       "      <td>...</td>\n",
       "      <td>...</td>\n",
       "      <td>...</td>\n",
       "      <td>...</td>\n",
       "      <td>...</td>\n",
       "    </tr>\n",
       "    <tr>\n",
       "      <td rowspan=\"5\" valign=\"top\">ultra</td>\n",
       "      <td>1473</td>\n",
       "      <td>0</td>\n",
       "      <td>0</td>\n",
       "      <td>12917</td>\n",
       "      <td>17</td>\n",
       "      <td>0</td>\n",
       "      <td>0</td>\n",
       "      <td>0</td>\n",
       "      <td>0</td>\n",
       "      <td>0</td>\n",
       "      <td>0</td>\n",
       "      <td>1950</td>\n",
       "      <td>Красноярск</td>\n",
       "    </tr>\n",
       "    <tr>\n",
       "      <td>1473</td>\n",
       "      <td>0</td>\n",
       "      <td>0</td>\n",
       "      <td>17307</td>\n",
       "      <td>19</td>\n",
       "      <td>0</td>\n",
       "      <td>0</td>\n",
       "      <td>0</td>\n",
       "      <td>0</td>\n",
       "      <td>0</td>\n",
       "      <td>0</td>\n",
       "      <td>1950</td>\n",
       "      <td>Красноярск</td>\n",
       "    </tr>\n",
       "    <tr>\n",
       "      <td>1473</td>\n",
       "      <td>0</td>\n",
       "      <td>0</td>\n",
       "      <td>13703</td>\n",
       "      <td>20</td>\n",
       "      <td>0</td>\n",
       "      <td>0</td>\n",
       "      <td>0</td>\n",
       "      <td>0</td>\n",
       "      <td>0</td>\n",
       "      <td>0</td>\n",
       "      <td>1950</td>\n",
       "      <td>Красноярск</td>\n",
       "    </tr>\n",
       "    <tr>\n",
       "      <td>1473</td>\n",
       "      <td>0</td>\n",
       "      <td>0</td>\n",
       "      <td>21692</td>\n",
       "      <td>14</td>\n",
       "      <td>0</td>\n",
       "      <td>0</td>\n",
       "      <td>0</td>\n",
       "      <td>0</td>\n",
       "      <td>0</td>\n",
       "      <td>0</td>\n",
       "      <td>1950</td>\n",
       "      <td>Красноярск</td>\n",
       "    </tr>\n",
       "    <tr>\n",
       "      <td>1473</td>\n",
       "      <td>0</td>\n",
       "      <td>0</td>\n",
       "      <td>18432</td>\n",
       "      <td>20</td>\n",
       "      <td>0</td>\n",
       "      <td>0</td>\n",
       "      <td>0</td>\n",
       "      <td>0</td>\n",
       "      <td>0</td>\n",
       "      <td>0</td>\n",
       "      <td>1950</td>\n",
       "      <td>Красноярск</td>\n",
       "    </tr>\n",
       "  </tbody>\n",
       "</table>\n",
       "<p>2603 rows × 12 columns</p>\n",
       "</div>"
      ],
      "text/plain": [
       "               calls_duration  calls_number  mb_used  messages_number  \\\n",
       "      user_id                                                           \n",
       "smart 1002                117            14    10871                4   \n",
       "      1002                214            21    17601               11   \n",
       "      1002                289            37    20347               13   \n",
       "      1002                206            25    16712                4   \n",
       "      1002                212            24    13905               10   \n",
       "...                       ...           ...      ...              ...   \n",
       "ultra 1473                  0             0    12917               17   \n",
       "      1473                  0             0    17307               19   \n",
       "      1473                  0             0    13703               20   \n",
       "      1473                  0             0    21692               14   \n",
       "      1473                  0             0    18432               20   \n",
       "\n",
       "               min_excess  mb_excess  mes_excess  min_exc_rev  mb_exc_rev  \\\n",
       "      user_id                                                               \n",
       "smart 1002              0          0           0            0           0   \n",
       "      1002              0       2241           0            0         600   \n",
       "      1002              0       4987           0            0        1000   \n",
       "      1002              0       1352           0            0         400   \n",
       "      1002              0          0           0            0           0   \n",
       "...                   ...        ...         ...          ...         ...   \n",
       "ultra 1473              0          0           0            0           0   \n",
       "      1473              0          0           0            0           0   \n",
       "      1473              0          0           0            0           0   \n",
       "      1473              0          0           0            0           0   \n",
       "      1473              0          0           0            0           0   \n",
       "\n",
       "               mes_exc_rev  total_revenue         city  \n",
       "      user_id                                           \n",
       "smart 1002               0            550  Стерлитамак  \n",
       "      1002               0           1150  Стерлитамак  \n",
       "      1002               0           1550  Стерлитамак  \n",
       "      1002               0            950  Стерлитамак  \n",
       "      1002               0            550  Стерлитамак  \n",
       "...                    ...            ...          ...  \n",
       "ultra 1473               0           1950   Красноярск  \n",
       "      1473               0           1950   Красноярск  \n",
       "      1473               0           1950   Красноярск  \n",
       "      1473               0           1950   Красноярск  \n",
       "      1473               0           1950   Красноярск  \n",
       "\n",
       "[2603 rows x 12 columns]"
      ]
     },
     "execution_count": 72,
     "metadata": {},
     "output_type": "execute_result"
    }
   ],
   "source": [
    "users_total_smart_other = users_total_smart_city[users_total_smart_city\n",
    "                                                  ['city'] != \"Москва\"]\n",
    "users_total_ultra_other = users_total_ultra_city[users_total_ultra_city\n",
    "                                                  ['city'] != \"Москва\"]\n",
    "\n",
    "users_total_other = pd.concat([users_total_smart_other, users_total_ultra_other], \n",
    "                               keys = ['smart', 'ultra'])\n",
    "users_total_other"
   ]
  },
  {
   "cell_type": "markdown",
   "metadata": {},
   "source": [
    "Строк в обоих датасетах суммарно 2603 + 611 = 3214 - как и было ранее, здесь ошибок не наблюдается. Теперь на основании полученных датасетов мы можем проверить нашу гипотезу:\n",
    "\n",
    "<font color='red'>H0 = \"Средняя выручка компании от пользователей из Москвы равна средней выручке от пользователей из других регионов\".</font>"
   ]
  },
  {
   "cell_type": "code",
   "execution_count": 73,
   "metadata": {},
   "outputs": [
    {
     "data": {
      "text/plain": [
       "0.5126564657748214"
      ]
     },
     "execution_count": 73,
     "metadata": {},
     "output_type": "execute_result"
    }
   ],
   "source": [
    "rev_msc_oth_result = st.ttest_ind(users_total_moscow['total_revenue'], \n",
    "                                 users_total_other['total_revenue'], \n",
    "                                 equal_var = False)\n",
    "rev_msc_oth_result.pvalue"
   ]
  },
  {
   "cell_type": "markdown",
   "metadata": {},
   "source": [
    "Вывод также не зависит от выбора значения критерия. По итогу - мы не можем отклонить нулевую гипотезу, т.к. вероятность \"случайности\" слишком высока - более 50%. Соответственно, изначальная гипотеза (которую необходимо было проверить по заданию - <font color='red'>средняя выручка пользователей из Москвы отличается от выручки пользователей из других регионов</font>) опровергнута. "
   ]
  },
  {
   "cell_type": "markdown",
   "metadata": {},
   "source": [
    "## Дополнительные вычисления"
   ]
  },
  {
   "cell_type": "markdown",
   "metadata": {},
   "source": [
    "Несмотря на существенный объем проведенных исследований, мы до сих пор не ответили на главный вопрос - \"Какой тариф приносит больше денег\"?\n",
    "\n",
    "Для этого проведем односторонний тест где в качестве \"базового\" датасета будет выступать выборка пользователей тарифа \"Смарт\", \"интересующего значения\" - средняя выручка от пользователей тарифа \"Ультра\", а критический уровень составит 1%. Думаю, что такой точности будет достаточно, для того, чтобы оценить расхождения между исследуемыми выборками.\n",
    "\n",
    "В таком случае, нашей нулевой гипотезой будет:\n",
    "\n",
    "<font color='red'>H0 = средняя выручка по тарифу \"Смарт\" больше или равна выручке по тарифу \"Ультра\"</font>\n",
    "\n",
    "Альтернативная гипотеза:\n",
    "\n",
    "<font color='red'>H1 = средняя выручка по тарифу \"Смарт\" меньше выручки по тарифу \"Ультра\"</font>"
   ]
  },
  {
   "cell_type": "code",
   "execution_count": 74,
   "metadata": {},
   "outputs": [
    {
     "name": "stdout",
     "output_type": "stream",
     "text": [
      "p-значение: 7.16947855739e-312\n",
      "Средняя выручка по тарифу \"Смарт\": 1294.6393001345896\n",
      "Средняя выручка по тарифу \"Ультра\": 2071.0659898477156\n"
     ]
    }
   ],
   "source": [
    "interested_value = users_total_ultra['total_revenue'].mean()\n",
    "\n",
    "smart_ultra_revenue_result = st.ttest_1samp(users_total_smart['total_revenue'], interested_value)\n",
    "\n",
    "print(\"p-значение:\", smart_ultra_revenue_result.pvalue / 2)\n",
    "print('Средняя выручка по тарифу \"Смарт\":', users_total_smart['total_revenue'].mean())\n",
    "print('Средняя выручка по тарифу \"Ультра\":', interested_value)"
   ]
  },
  {
   "cell_type": "markdown",
   "metadata": {},
   "source": [
    "Полученное значение p_value несоизмеримо меньше выбранного критического уровня. Плюс ко всему, среднее значение выручки по тарифу \"Смарт\" меньше среднего по тарифу \"Ультра\". Соответственно гипотеза H0 не подтверждена. И больше выручки, статистически приносит тариф \"Ультра\"."
   ]
  },
  {
   "cell_type": "markdown",
   "metadata": {},
   "source": [
    "## 5. Общие выводы"
   ]
  },
  {
   "cell_type": "markdown",
   "metadata": {},
   "source": [
    "Задача, поставленная департаментом была сформулирована следующим образом: \"Какой тариф приносит больше денег\"?\n",
    "\n",
    "1. Тариф \"Ультра\" действительно приносит больше денежных средств из расчета человек на человека (1 к 1). Т.е. если сравнивать двух гипотетических (сферических в вакууме) пользователей данных тарифов, то пользователь \"Ультра\" статистически приносит БОЛЬШЕ денег компании. \n",
    "\n",
    "\n",
    "2. Тем не менее, данный вывод требует некоторых корректирующих дополнений. Несмотря на пункт 1 и судя по имеющейся выборке, пользователей тарифа \"Ультра\" меньше, чем пользователей тарифа \"Смарт\" примерно в 4 раза (именно пользователей, а не данных по месяцам, которые мы анализировали). Соответственно, за счёт численного превосходства, пользователи \"Смарта\" могут приносить компании большую прибыль, нежели пользователи \"Ультра\" (как в сети магазинов \"Fix Price\" и им подобных - огромное число продаж * на минимальную маржинальность может также приносить существенные дивиденды\". Для уточнения данного момента необходимо знание о себестоимости привлечения клиента на каждый из тарифов, сопровождения, обслуживания и пр. затрат, дабы иметь возможность рассчитать среднюю маржинальность пользователей каждого из тарифов. Без этой информации дать максимально корректный ответ на исходный вопрос проблематично.\n",
    "\n",
    "\n",
    "3. Возвращаясь к вопросу о себестоимости услуг, предоставляемых пользователям - в случае тарифа \"Смарт\", пользователи зачастую ПОЛНОСТЬЮ расходуют лимиты по звонкам (в 30+% случаев), по сообщениям (в 30+% случаев), по интернет-трафику (в 50+% случаев). В случае же пользователей тарифа \"Ультра\" такая ситуация применима только в случае интернет-трафика, причем доля \"перерасходов\" там куда ниже (порядка 20%). Соответственно с точки зрения \"запланированной себестоимости клиента\" тариф \"Ультра\" является более выгодным - при фиксированной плате в 1950 рублей, они не \"выговаривают\" и трети от предложенных 3000 минут и не отправляют более 200 смс (при лимите в 1000). Т.е. пользователи \"Ультра\" ежемесячно \"сливают\" в пустоту существенное количество денежных средств.\n",
    "\n",
    "\n",
    "4. Добавляя в эту историю значения средней выручки, можно увидеть основной источник формирования прибыли в зависимости от тарифа. В случае тарифа \"Смарт\" - это использование опций СВЕРХ тарифных лимитов - минут, смс, гигабайтов трафика. При абонентской плате в 550 рублей, среднее значение выручки на такого клиента - 1294 рубля. Тратить на доп. услуги в среднем 750 рублей (в 1.5 раза больше абонентской платы!) - безумие. Почему клиенты до сих пор его длят - не совсем понятно. В случае же тарифа \"Ультра\" ситуация противоположная - там основной источник выручки это абонентская плата (АП). При АП = 1950 рублей в месяц, средняя выручка на клиента составляет 2071 рубль. Следовательно, пользователи данного тарифа \"не привыкли\" тратить деньги сверх АП.\n",
    "\n",
    "\n",
    "5. На мой взгляд, возможным путем дальнейшего движения компании может стать создание нового \"промежуточного\" тарифа, который будет включать в себя больше минут, смс и гигабайт, и стоить порядка 1000-1300 рублей в месяц. Это позволит сохранить в числе клиентов пользователей, НЕДОВОЛЬНЫХ имеющейся тарифной сеткой (550 и 1950 - где промежуток, где индивидуальность?!), а также повысить долю доходов от абонентской платы. Дальнейшее исследование требует большего объема данных и общения с другими отделами :) "
   ]
  },
  {
   "cell_type": "code",
   "execution_count": null,
   "metadata": {},
   "outputs": [],
   "source": []
  }
 ],
 "metadata": {
  "kernelspec": {
   "display_name": "Python 3",
   "language": "python",
   "name": "python3"
  },
  "language_info": {
   "codemirror_mode": {
    "name": "ipython",
    "version": 3
   },
   "file_extension": ".py",
   "mimetype": "text/x-python",
   "name": "python",
   "nbconvert_exporter": "python",
   "pygments_lexer": "ipython3",
   "version": "3.8.3"
  }
 },
 "nbformat": 4,
 "nbformat_minor": 2
}
