{
 "cells": [
  {
   "cell_type": "markdown",
   "metadata": {},
   "source": [
    "# Прогнозирование оттока клиентов"
   ]
  },
  {
   "cell_type": "markdown",
   "metadata": {},
   "source": [
    "### Импортируем библиотеки"
   ]
  },
  {
   "cell_type": "code",
   "execution_count": 1,
   "metadata": {},
   "outputs": [],
   "source": [
    "import pandas as pd\n",
    "import numpy as np\n",
    "from matplotlib import pyplot as plt\n",
    "from matplotlib import axes\n",
    "\n",
    "# SKLEARN\n",
    "\n",
    "from sklearn.preprocessing import StandardScaler\n",
    "from sklearn.model_selection import train_test_split\n",
    "from sklearn.utils import shuffle\n",
    "\n",
    "from sklearn.linear_model import LogisticRegression\n",
    "from sklearn.tree import DecisionTreeClassifier\n",
    "from sklearn.ensemble import RandomForestClassifier\n",
    "\n",
    "from sklearn.metrics import f1_score\n",
    "from sklearn.metrics import roc_curve\n",
    "from sklearn.metrics import roc_auc_score\n",
    "from sklearn.metrics import confusion_matrix"
   ]
  },
  {
   "cell_type": "markdown",
   "metadata": {},
   "source": [
    "## Постановка задачи\n",
    "\n",
    "Необходимо построить модель, прогнозирующую уход клиента из банка, с показателем F1-меры, не менее 0.59.\n",
    "В качестве обучающих данных у нас имеются исторические данные о поведении клиентов и расторжении договоров с банком.\n",
    "\n",
    "Перед нами задача классификации (не регрессии)."
   ]
  },
  {
   "cell_type": "markdown",
   "metadata": {},
   "source": [
    "# 1. Подготовка данных"
   ]
  },
  {
   "cell_type": "markdown",
   "metadata": {},
   "source": [
    "### Первичный анализ данных\n",
    "\n",
    "Откроем файл с данными, посмотрим что у нас есть в наличии и определимся с дальнейшими шагами."
   ]
  },
  {
   "cell_type": "code",
   "execution_count": 2,
   "metadata": {},
   "outputs": [
    {
     "name": "stdout",
     "output_type": "stream",
     "text": [
      "<class 'pandas.core.frame.DataFrame'>\n",
      "RangeIndex: 10000 entries, 0 to 9999\n",
      "Data columns (total 14 columns):\n",
      "RowNumber          10000 non-null int64\n",
      "CustomerId         10000 non-null int64\n",
      "Surname            10000 non-null object\n",
      "CreditScore        10000 non-null int64\n",
      "Geography          10000 non-null object\n",
      "Gender             10000 non-null object\n",
      "Age                10000 non-null int64\n",
      "Tenure             9091 non-null float64\n",
      "Balance            10000 non-null float64\n",
      "NumOfProducts      10000 non-null int64\n",
      "HasCrCard          10000 non-null int64\n",
      "IsActiveMember     10000 non-null int64\n",
      "EstimatedSalary    10000 non-null float64\n",
      "Exited             10000 non-null int64\n",
      "dtypes: float64(3), int64(8), object(3)\n",
      "memory usage: 1.1+ MB\n"
     ]
    }
   ],
   "source": [
    "clients_data = pd.read_csv('/datasets/Churn.csv')\n",
    "clients_data.info()"
   ]
  },
  {
   "cell_type": "code",
   "execution_count": 3,
   "metadata": {
    "scrolled": true
   },
   "outputs": [
    {
     "data": {
      "text/html": [
       "<div>\n",
       "<style scoped>\n",
       "    .dataframe tbody tr th:only-of-type {\n",
       "        vertical-align: middle;\n",
       "    }\n",
       "\n",
       "    .dataframe tbody tr th {\n",
       "        vertical-align: top;\n",
       "    }\n",
       "\n",
       "    .dataframe thead th {\n",
       "        text-align: right;\n",
       "    }\n",
       "</style>\n",
       "<table border=\"1\" class=\"dataframe\">\n",
       "  <thead>\n",
       "    <tr style=\"text-align: right;\">\n",
       "      <th></th>\n",
       "      <th>RowNumber</th>\n",
       "      <th>CustomerId</th>\n",
       "      <th>Surname</th>\n",
       "      <th>CreditScore</th>\n",
       "      <th>Geography</th>\n",
       "      <th>Gender</th>\n",
       "      <th>Age</th>\n",
       "      <th>Tenure</th>\n",
       "      <th>Balance</th>\n",
       "      <th>NumOfProducts</th>\n",
       "      <th>HasCrCard</th>\n",
       "      <th>IsActiveMember</th>\n",
       "      <th>EstimatedSalary</th>\n",
       "      <th>Exited</th>\n",
       "    </tr>\n",
       "  </thead>\n",
       "  <tbody>\n",
       "    <tr>\n",
       "      <td>0</td>\n",
       "      <td>1</td>\n",
       "      <td>15634602</td>\n",
       "      <td>Hargrave</td>\n",
       "      <td>619</td>\n",
       "      <td>France</td>\n",
       "      <td>Female</td>\n",
       "      <td>42</td>\n",
       "      <td>2.0</td>\n",
       "      <td>0.00</td>\n",
       "      <td>1</td>\n",
       "      <td>1</td>\n",
       "      <td>1</td>\n",
       "      <td>101348.88</td>\n",
       "      <td>1</td>\n",
       "    </tr>\n",
       "    <tr>\n",
       "      <td>1</td>\n",
       "      <td>2</td>\n",
       "      <td>15647311</td>\n",
       "      <td>Hill</td>\n",
       "      <td>608</td>\n",
       "      <td>Spain</td>\n",
       "      <td>Female</td>\n",
       "      <td>41</td>\n",
       "      <td>1.0</td>\n",
       "      <td>83807.86</td>\n",
       "      <td>1</td>\n",
       "      <td>0</td>\n",
       "      <td>1</td>\n",
       "      <td>112542.58</td>\n",
       "      <td>0</td>\n",
       "    </tr>\n",
       "    <tr>\n",
       "      <td>2</td>\n",
       "      <td>3</td>\n",
       "      <td>15619304</td>\n",
       "      <td>Onio</td>\n",
       "      <td>502</td>\n",
       "      <td>France</td>\n",
       "      <td>Female</td>\n",
       "      <td>42</td>\n",
       "      <td>8.0</td>\n",
       "      <td>159660.80</td>\n",
       "      <td>3</td>\n",
       "      <td>1</td>\n",
       "      <td>0</td>\n",
       "      <td>113931.57</td>\n",
       "      <td>1</td>\n",
       "    </tr>\n",
       "    <tr>\n",
       "      <td>3</td>\n",
       "      <td>4</td>\n",
       "      <td>15701354</td>\n",
       "      <td>Boni</td>\n",
       "      <td>699</td>\n",
       "      <td>France</td>\n",
       "      <td>Female</td>\n",
       "      <td>39</td>\n",
       "      <td>1.0</td>\n",
       "      <td>0.00</td>\n",
       "      <td>2</td>\n",
       "      <td>0</td>\n",
       "      <td>0</td>\n",
       "      <td>93826.63</td>\n",
       "      <td>0</td>\n",
       "    </tr>\n",
       "    <tr>\n",
       "      <td>4</td>\n",
       "      <td>5</td>\n",
       "      <td>15737888</td>\n",
       "      <td>Mitchell</td>\n",
       "      <td>850</td>\n",
       "      <td>Spain</td>\n",
       "      <td>Female</td>\n",
       "      <td>43</td>\n",
       "      <td>2.0</td>\n",
       "      <td>125510.82</td>\n",
       "      <td>1</td>\n",
       "      <td>1</td>\n",
       "      <td>1</td>\n",
       "      <td>79084.10</td>\n",
       "      <td>0</td>\n",
       "    </tr>\n",
       "  </tbody>\n",
       "</table>\n",
       "</div>"
      ],
      "text/plain": [
       "   RowNumber  CustomerId   Surname  CreditScore Geography  Gender  Age  \\\n",
       "0          1    15634602  Hargrave          619    France  Female   42   \n",
       "1          2    15647311      Hill          608     Spain  Female   41   \n",
       "2          3    15619304      Onio          502    France  Female   42   \n",
       "3          4    15701354      Boni          699    France  Female   39   \n",
       "4          5    15737888  Mitchell          850     Spain  Female   43   \n",
       "\n",
       "   Tenure    Balance  NumOfProducts  HasCrCard  IsActiveMember  \\\n",
       "0     2.0       0.00              1          1               1   \n",
       "1     1.0   83807.86              1          0               1   \n",
       "2     8.0  159660.80              3          1               0   \n",
       "3     1.0       0.00              2          0               0   \n",
       "4     2.0  125510.82              1          1               1   \n",
       "\n",
       "   EstimatedSalary  Exited  \n",
       "0        101348.88       1  \n",
       "1        112542.58       0  \n",
       "2        113931.57       1  \n",
       "3         93826.63       0  \n",
       "4         79084.10       0  "
      ]
     },
     "execution_count": 3,
     "metadata": {},
     "output_type": "execute_result"
    }
   ],
   "source": [
    "clients_data.head()"
   ]
  },
  {
   "cell_type": "markdown",
   "metadata": {},
   "source": [
    "В столбце \"Tenure\" есть пропуски, почти 9% от общего объема данных. Удалять их не вариант, подумаем, что можно с этим сделать. Во-первых, отсутствие значений может соответствовать пропускам в форме сбора данных, заполняемой клиентом. Для уточнения этой версии, нам необходимо узнать, есть ли в столбце нулевые значения вообще. Если есть, то причина возникновения пропусков, скорее всего, иная. Проверим эту гипотезу."
   ]
  },
  {
   "cell_type": "markdown",
   "metadata": {},
   "source": [
    "Тип данных в столбцах \"Tenure\", \"Balance\", \"EstimatedSalary\" может быть заменен на целочисленный без потери качества данных и точности дальнейших расчетов. "
   ]
  },
  {
   "cell_type": "markdown",
   "metadata": {},
   "source": [
    "Интерес представляет столбец \"Gender\". Если это \"продвинутый банк\", гендеров там больше 2. Если \"не очень продвинутый\" - то 2. В любом случае, данный столбец имеет смысл \"сходу\" перекодировать в целочисленный вид."
   ]
  },
  {
   "cell_type": "markdown",
   "metadata": {},
   "source": [
    "Не совсем ясно, как столбцы \"CustomerId\" и \"Surname\" помогут нам при разработке модели. Эти данные необходимы в банковском деле, однако в нашей деятельности смысла от них нет и не предвидится. Удалим."
   ]
  },
  {
   "cell_type": "markdown",
   "metadata": {},
   "source": [
    "Столбец \"RowNumber\" дублирует индекс со смещением на 1. Тоже не нужен. Удаляем."
   ]
  },
  {
   "cell_type": "markdown",
   "metadata": {},
   "source": [
    "### Предобработка данных\n",
    "\n",
    "Проверим, есть ли в столбце \"Tenure\" нулевые значения."
   ]
  },
  {
   "cell_type": "code",
   "execution_count": 4,
   "metadata": {},
   "outputs": [
    {
     "data": {
      "text/plain": [
       "1.0     952\n",
       "2.0     950\n",
       "8.0     933\n",
       "3.0     928\n",
       "5.0     927\n",
       "7.0     925\n",
       "4.0     885\n",
       "9.0     882\n",
       "6.0     881\n",
       "10.0    446\n",
       "0.0     382\n",
       "Name: Tenure, dtype: int64"
      ]
     },
     "execution_count": 4,
     "metadata": {},
     "output_type": "execute_result"
    }
   ],
   "source": [
    "clients_data['Tenure'].value_counts()"
   ]
  },
  {
   "cell_type": "markdown",
   "metadata": {},
   "source": [
    "Нулевые значения есть. Поэтому гипотеза \"пропуски = отсутствие недвижимости\" не может быть подтверждена (помним, что гипотеза может быть только непротиворечивой, но никак не подтвержденной). Вариант замены на нули не подходит.\n",
    "\n",
    "\n",
    "Число объектов недвижимости - дискретные данные. Поскольку у нас нет возможности уточнить у источника данных причины возникновения пропусков, а также их точные значения, заполним пропуски медианным значением столбца \"Tenure\". Сделаем это и перейдем к изменению типов данных в столбцах \"Tenure\", \"Balance\", \"EstimatedSalary\"."
   ]
  },
  {
   "cell_type": "code",
   "execution_count": 5,
   "metadata": {},
   "outputs": [
    {
     "data": {
      "text/html": [
       "<div>\n",
       "<style scoped>\n",
       "    .dataframe tbody tr th:only-of-type {\n",
       "        vertical-align: middle;\n",
       "    }\n",
       "\n",
       "    .dataframe tbody tr th {\n",
       "        vertical-align: top;\n",
       "    }\n",
       "\n",
       "    .dataframe thead th {\n",
       "        text-align: right;\n",
       "    }\n",
       "</style>\n",
       "<table border=\"1\" class=\"dataframe\">\n",
       "  <thead>\n",
       "    <tr style=\"text-align: right;\">\n",
       "      <th></th>\n",
       "      <th>RowNumber</th>\n",
       "      <th>CustomerId</th>\n",
       "      <th>Surname</th>\n",
       "      <th>CreditScore</th>\n",
       "      <th>Geography</th>\n",
       "      <th>Gender</th>\n",
       "      <th>Age</th>\n",
       "      <th>Tenure</th>\n",
       "      <th>Balance</th>\n",
       "      <th>NumOfProducts</th>\n",
       "      <th>HasCrCard</th>\n",
       "      <th>IsActiveMember</th>\n",
       "      <th>EstimatedSalary</th>\n",
       "      <th>Exited</th>\n",
       "    </tr>\n",
       "  </thead>\n",
       "  <tbody>\n",
       "    <tr>\n",
       "      <td>0</td>\n",
       "      <td>1</td>\n",
       "      <td>15634602</td>\n",
       "      <td>Hargrave</td>\n",
       "      <td>619</td>\n",
       "      <td>France</td>\n",
       "      <td>Female</td>\n",
       "      <td>42</td>\n",
       "      <td>2</td>\n",
       "      <td>0</td>\n",
       "      <td>1</td>\n",
       "      <td>1</td>\n",
       "      <td>1</td>\n",
       "      <td>101348</td>\n",
       "      <td>1</td>\n",
       "    </tr>\n",
       "    <tr>\n",
       "      <td>1</td>\n",
       "      <td>2</td>\n",
       "      <td>15647311</td>\n",
       "      <td>Hill</td>\n",
       "      <td>608</td>\n",
       "      <td>Spain</td>\n",
       "      <td>Female</td>\n",
       "      <td>41</td>\n",
       "      <td>1</td>\n",
       "      <td>83807</td>\n",
       "      <td>1</td>\n",
       "      <td>0</td>\n",
       "      <td>1</td>\n",
       "      <td>112542</td>\n",
       "      <td>0</td>\n",
       "    </tr>\n",
       "    <tr>\n",
       "      <td>2</td>\n",
       "      <td>3</td>\n",
       "      <td>15619304</td>\n",
       "      <td>Onio</td>\n",
       "      <td>502</td>\n",
       "      <td>France</td>\n",
       "      <td>Female</td>\n",
       "      <td>42</td>\n",
       "      <td>8</td>\n",
       "      <td>159660</td>\n",
       "      <td>3</td>\n",
       "      <td>1</td>\n",
       "      <td>0</td>\n",
       "      <td>113931</td>\n",
       "      <td>1</td>\n",
       "    </tr>\n",
       "    <tr>\n",
       "      <td>3</td>\n",
       "      <td>4</td>\n",
       "      <td>15701354</td>\n",
       "      <td>Boni</td>\n",
       "      <td>699</td>\n",
       "      <td>France</td>\n",
       "      <td>Female</td>\n",
       "      <td>39</td>\n",
       "      <td>1</td>\n",
       "      <td>0</td>\n",
       "      <td>2</td>\n",
       "      <td>0</td>\n",
       "      <td>0</td>\n",
       "      <td>93826</td>\n",
       "      <td>0</td>\n",
       "    </tr>\n",
       "    <tr>\n",
       "      <td>4</td>\n",
       "      <td>5</td>\n",
       "      <td>15737888</td>\n",
       "      <td>Mitchell</td>\n",
       "      <td>850</td>\n",
       "      <td>Spain</td>\n",
       "      <td>Female</td>\n",
       "      <td>43</td>\n",
       "      <td>2</td>\n",
       "      <td>125510</td>\n",
       "      <td>1</td>\n",
       "      <td>1</td>\n",
       "      <td>1</td>\n",
       "      <td>79084</td>\n",
       "      <td>0</td>\n",
       "    </tr>\n",
       "  </tbody>\n",
       "</table>\n",
       "</div>"
      ],
      "text/plain": [
       "   RowNumber  CustomerId   Surname  CreditScore Geography  Gender  Age  \\\n",
       "0          1    15634602  Hargrave          619    France  Female   42   \n",
       "1          2    15647311      Hill          608     Spain  Female   41   \n",
       "2          3    15619304      Onio          502    France  Female   42   \n",
       "3          4    15701354      Boni          699    France  Female   39   \n",
       "4          5    15737888  Mitchell          850     Spain  Female   43   \n",
       "\n",
       "   Tenure  Balance  NumOfProducts  HasCrCard  IsActiveMember  EstimatedSalary  \\\n",
       "0       2        0              1          1               1           101348   \n",
       "1       1    83807              1          0               1           112542   \n",
       "2       8   159660              3          1               0           113931   \n",
       "3       1        0              2          0               0            93826   \n",
       "4       2   125510              1          1               1            79084   \n",
       "\n",
       "   Exited  \n",
       "0       1  \n",
       "1       0  \n",
       "2       1  \n",
       "3       0  \n",
       "4       0  "
      ]
     },
     "execution_count": 5,
     "metadata": {},
     "output_type": "execute_result"
    }
   ],
   "source": [
    "clients_data['Tenure'] = clients_data['Tenure'].fillna(clients_data['Tenure'].median()).astype('int')\n",
    "clients_data['Balance'] = clients_data['Balance'].astype('int')\n",
    "clients_data['EstimatedSalary'] = clients_data['EstimatedSalary'].astype('int')\n",
    "clients_data.head()"
   ]
  },
  {
   "cell_type": "markdown",
   "metadata": {},
   "source": [
    "Посмотрим, какие значения есть в столбце \"Gender\". "
   ]
  },
  {
   "cell_type": "code",
   "execution_count": 6,
   "metadata": {},
   "outputs": [
    {
     "data": {
      "text/plain": [
       "Male      5457\n",
       "Female    4543\n",
       "Name: Gender, dtype: int64"
      ]
     },
     "execution_count": 6,
     "metadata": {},
     "output_type": "execute_result"
    }
   ],
   "source": [
    "clients_data['Gender'].value_counts()"
   ]
  },
  {
   "cell_type": "markdown",
   "metadata": {},
   "source": [
    "Гендеров всего 2, ничего придумывать не нужно. Перекодированием займемся в следующем подпункте.\n",
    "\n",
    "Переходим к удалению означенных ранее столбцов и смотрим на подготовленные данные ещё раз."
   ]
  },
  {
   "cell_type": "code",
   "execution_count": 7,
   "metadata": {},
   "outputs": [
    {
     "data": {
      "text/html": [
       "<div>\n",
       "<style scoped>\n",
       "    .dataframe tbody tr th:only-of-type {\n",
       "        vertical-align: middle;\n",
       "    }\n",
       "\n",
       "    .dataframe tbody tr th {\n",
       "        vertical-align: top;\n",
       "    }\n",
       "\n",
       "    .dataframe thead th {\n",
       "        text-align: right;\n",
       "    }\n",
       "</style>\n",
       "<table border=\"1\" class=\"dataframe\">\n",
       "  <thead>\n",
       "    <tr style=\"text-align: right;\">\n",
       "      <th></th>\n",
       "      <th>CreditScore</th>\n",
       "      <th>Geography</th>\n",
       "      <th>Gender</th>\n",
       "      <th>Age</th>\n",
       "      <th>Tenure</th>\n",
       "      <th>Balance</th>\n",
       "      <th>NumOfProducts</th>\n",
       "      <th>HasCrCard</th>\n",
       "      <th>IsActiveMember</th>\n",
       "      <th>EstimatedSalary</th>\n",
       "      <th>Exited</th>\n",
       "    </tr>\n",
       "  </thead>\n",
       "  <tbody>\n",
       "    <tr>\n",
       "      <td>0</td>\n",
       "      <td>619</td>\n",
       "      <td>France</td>\n",
       "      <td>Female</td>\n",
       "      <td>42</td>\n",
       "      <td>2</td>\n",
       "      <td>0</td>\n",
       "      <td>1</td>\n",
       "      <td>1</td>\n",
       "      <td>1</td>\n",
       "      <td>101348</td>\n",
       "      <td>1</td>\n",
       "    </tr>\n",
       "    <tr>\n",
       "      <td>1</td>\n",
       "      <td>608</td>\n",
       "      <td>Spain</td>\n",
       "      <td>Female</td>\n",
       "      <td>41</td>\n",
       "      <td>1</td>\n",
       "      <td>83807</td>\n",
       "      <td>1</td>\n",
       "      <td>0</td>\n",
       "      <td>1</td>\n",
       "      <td>112542</td>\n",
       "      <td>0</td>\n",
       "    </tr>\n",
       "    <tr>\n",
       "      <td>2</td>\n",
       "      <td>502</td>\n",
       "      <td>France</td>\n",
       "      <td>Female</td>\n",
       "      <td>42</td>\n",
       "      <td>8</td>\n",
       "      <td>159660</td>\n",
       "      <td>3</td>\n",
       "      <td>1</td>\n",
       "      <td>0</td>\n",
       "      <td>113931</td>\n",
       "      <td>1</td>\n",
       "    </tr>\n",
       "    <tr>\n",
       "      <td>3</td>\n",
       "      <td>699</td>\n",
       "      <td>France</td>\n",
       "      <td>Female</td>\n",
       "      <td>39</td>\n",
       "      <td>1</td>\n",
       "      <td>0</td>\n",
       "      <td>2</td>\n",
       "      <td>0</td>\n",
       "      <td>0</td>\n",
       "      <td>93826</td>\n",
       "      <td>0</td>\n",
       "    </tr>\n",
       "    <tr>\n",
       "      <td>4</td>\n",
       "      <td>850</td>\n",
       "      <td>Spain</td>\n",
       "      <td>Female</td>\n",
       "      <td>43</td>\n",
       "      <td>2</td>\n",
       "      <td>125510</td>\n",
       "      <td>1</td>\n",
       "      <td>1</td>\n",
       "      <td>1</td>\n",
       "      <td>79084</td>\n",
       "      <td>0</td>\n",
       "    </tr>\n",
       "  </tbody>\n",
       "</table>\n",
       "</div>"
      ],
      "text/plain": [
       "   CreditScore Geography  Gender  Age  Tenure  Balance  NumOfProducts  \\\n",
       "0          619    France  Female   42       2        0              1   \n",
       "1          608     Spain  Female   41       1    83807              1   \n",
       "2          502    France  Female   42       8   159660              3   \n",
       "3          699    France  Female   39       1        0              2   \n",
       "4          850     Spain  Female   43       2   125510              1   \n",
       "\n",
       "   HasCrCard  IsActiveMember  EstimatedSalary  Exited  \n",
       "0          1               1           101348       1  \n",
       "1          0               1           112542       0  \n",
       "2          1               0           113931       1  \n",
       "3          0               0            93826       0  \n",
       "4          1               1            79084       0  "
      ]
     },
     "execution_count": 7,
     "metadata": {},
     "output_type": "execute_result"
    }
   ],
   "source": [
    "clients_data_clean = clients_data.drop(['RowNumber', 'CustomerId', 'Surname'], axis = 1)\n",
    "clients_data_clean.head(5)"
   ]
  },
  {
   "cell_type": "markdown",
   "metadata": {},
   "source": [
    "Также оценим распределение значений целевого признака (столбец \"Exited\") для понимания необходимости перебалансировки обучающего датасета."
   ]
  },
  {
   "cell_type": "code",
   "execution_count": 8,
   "metadata": {},
   "outputs": [
    {
     "data": {
      "text/plain": [
       "0    0.7963\n",
       "1    0.2037\n",
       "Name: Exited, dtype: float64"
      ]
     },
     "execution_count": 8,
     "metadata": {},
     "output_type": "execute_result"
    }
   ],
   "source": [
    "clients_data_clean['Exited'].value_counts(normalize = True)"
   ]
  },
  {
   "cell_type": "markdown",
   "metadata": {},
   "source": [
    "Значений \"ушёл\" больше чем значений \"Не ушёл\" почти в 4 раза - перебалансировке БЫТЬ. Но не сейчас. \n",
    "\n",
    "Сейчас нам необходимо разобраться с категориальными признаками - географией объекта (клиента) и гендерной принадлежностью. "
   ]
  },
  {
   "cell_type": "markdown",
   "metadata": {},
   "source": [
    "### Подготовка признаков\n",
    "\n",
    "Воспользуемся методом прямого кодирования для преобразования категориальных переменных в числовые. Для устранения \"ловушки\", первый столбец удаляем."
   ]
  },
  {
   "cell_type": "code",
   "execution_count": 9,
   "metadata": {},
   "outputs": [
    {
     "data": {
      "text/html": [
       "<div>\n",
       "<style scoped>\n",
       "    .dataframe tbody tr th:only-of-type {\n",
       "        vertical-align: middle;\n",
       "    }\n",
       "\n",
       "    .dataframe tbody tr th {\n",
       "        vertical-align: top;\n",
       "    }\n",
       "\n",
       "    .dataframe thead th {\n",
       "        text-align: right;\n",
       "    }\n",
       "</style>\n",
       "<table border=\"1\" class=\"dataframe\">\n",
       "  <thead>\n",
       "    <tr style=\"text-align: right;\">\n",
       "      <th></th>\n",
       "      <th>CreditScore</th>\n",
       "      <th>Age</th>\n",
       "      <th>Tenure</th>\n",
       "      <th>Balance</th>\n",
       "      <th>NumOfProducts</th>\n",
       "      <th>HasCrCard</th>\n",
       "      <th>IsActiveMember</th>\n",
       "      <th>EstimatedSalary</th>\n",
       "      <th>Exited</th>\n",
       "      <th>Geography_Germany</th>\n",
       "      <th>Geography_Spain</th>\n",
       "      <th>Gender_Male</th>\n",
       "    </tr>\n",
       "  </thead>\n",
       "  <tbody>\n",
       "    <tr>\n",
       "      <td>0</td>\n",
       "      <td>619</td>\n",
       "      <td>42</td>\n",
       "      <td>2</td>\n",
       "      <td>0</td>\n",
       "      <td>1</td>\n",
       "      <td>1</td>\n",
       "      <td>1</td>\n",
       "      <td>101348</td>\n",
       "      <td>1</td>\n",
       "      <td>0</td>\n",
       "      <td>0</td>\n",
       "      <td>0</td>\n",
       "    </tr>\n",
       "    <tr>\n",
       "      <td>1</td>\n",
       "      <td>608</td>\n",
       "      <td>41</td>\n",
       "      <td>1</td>\n",
       "      <td>83807</td>\n",
       "      <td>1</td>\n",
       "      <td>0</td>\n",
       "      <td>1</td>\n",
       "      <td>112542</td>\n",
       "      <td>0</td>\n",
       "      <td>0</td>\n",
       "      <td>1</td>\n",
       "      <td>0</td>\n",
       "    </tr>\n",
       "    <tr>\n",
       "      <td>2</td>\n",
       "      <td>502</td>\n",
       "      <td>42</td>\n",
       "      <td>8</td>\n",
       "      <td>159660</td>\n",
       "      <td>3</td>\n",
       "      <td>1</td>\n",
       "      <td>0</td>\n",
       "      <td>113931</td>\n",
       "      <td>1</td>\n",
       "      <td>0</td>\n",
       "      <td>0</td>\n",
       "      <td>0</td>\n",
       "    </tr>\n",
       "    <tr>\n",
       "      <td>3</td>\n",
       "      <td>699</td>\n",
       "      <td>39</td>\n",
       "      <td>1</td>\n",
       "      <td>0</td>\n",
       "      <td>2</td>\n",
       "      <td>0</td>\n",
       "      <td>0</td>\n",
       "      <td>93826</td>\n",
       "      <td>0</td>\n",
       "      <td>0</td>\n",
       "      <td>0</td>\n",
       "      <td>0</td>\n",
       "    </tr>\n",
       "    <tr>\n",
       "      <td>4</td>\n",
       "      <td>850</td>\n",
       "      <td>43</td>\n",
       "      <td>2</td>\n",
       "      <td>125510</td>\n",
       "      <td>1</td>\n",
       "      <td>1</td>\n",
       "      <td>1</td>\n",
       "      <td>79084</td>\n",
       "      <td>0</td>\n",
       "      <td>0</td>\n",
       "      <td>1</td>\n",
       "      <td>0</td>\n",
       "    </tr>\n",
       "  </tbody>\n",
       "</table>\n",
       "</div>"
      ],
      "text/plain": [
       "   CreditScore  Age  Tenure  Balance  NumOfProducts  HasCrCard  \\\n",
       "0          619   42       2        0              1          1   \n",
       "1          608   41       1    83807              1          0   \n",
       "2          502   42       8   159660              3          1   \n",
       "3          699   39       1        0              2          0   \n",
       "4          850   43       2   125510              1          1   \n",
       "\n",
       "   IsActiveMember  EstimatedSalary  Exited  Geography_Germany  \\\n",
       "0               1           101348       1                  0   \n",
       "1               1           112542       0                  0   \n",
       "2               0           113931       1                  0   \n",
       "3               0            93826       0                  0   \n",
       "4               1            79084       0                  0   \n",
       "\n",
       "   Geography_Spain  Gender_Male  \n",
       "0                0            0  \n",
       "1                1            0  \n",
       "2                0            0  \n",
       "3                0            0  \n",
       "4                1            0  "
      ]
     },
     "execution_count": 9,
     "metadata": {},
     "output_type": "execute_result"
    }
   ],
   "source": [
    "exit_data_ohe = pd.get_dummies(clients_data_clean, drop_first = True)\n",
    "exit_data_ohe.head()"
   ]
  },
  {
   "cell_type": "markdown",
   "metadata": {},
   "source": [
    "Вытаскиваем из датасета столбец с целевым признаком и, в связи с сильным различием между диапазоном варьирования и предельными значениями исходных признаков (например, возраста и ожидаемой зарплаты), переходим к стандартизации."
   ]
  },
  {
   "cell_type": "code",
   "execution_count": 10,
   "metadata": {},
   "outputs": [
    {
     "data": {
      "text/html": [
       "<div>\n",
       "<style scoped>\n",
       "    .dataframe tbody tr th:only-of-type {\n",
       "        vertical-align: middle;\n",
       "    }\n",
       "\n",
       "    .dataframe tbody tr th {\n",
       "        vertical-align: top;\n",
       "    }\n",
       "\n",
       "    .dataframe thead th {\n",
       "        text-align: right;\n",
       "    }\n",
       "</style>\n",
       "<table border=\"1\" class=\"dataframe\">\n",
       "  <thead>\n",
       "    <tr style=\"text-align: right;\">\n",
       "      <th></th>\n",
       "      <th>CreditScore</th>\n",
       "      <th>Age</th>\n",
       "      <th>Tenure</th>\n",
       "      <th>Balance</th>\n",
       "      <th>NumOfProducts</th>\n",
       "      <th>HasCrCard</th>\n",
       "      <th>IsActiveMember</th>\n",
       "      <th>EstimatedSalary</th>\n",
       "      <th>Geography_Germany</th>\n",
       "      <th>Geography_Spain</th>\n",
       "      <th>Gender_Male</th>\n",
       "    </tr>\n",
       "  </thead>\n",
       "  <tbody>\n",
       "    <tr>\n",
       "      <td>0</td>\n",
       "      <td>619</td>\n",
       "      <td>42</td>\n",
       "      <td>2</td>\n",
       "      <td>0</td>\n",
       "      <td>1</td>\n",
       "      <td>1</td>\n",
       "      <td>1</td>\n",
       "      <td>101348</td>\n",
       "      <td>0</td>\n",
       "      <td>0</td>\n",
       "      <td>0</td>\n",
       "    </tr>\n",
       "    <tr>\n",
       "      <td>1</td>\n",
       "      <td>608</td>\n",
       "      <td>41</td>\n",
       "      <td>1</td>\n",
       "      <td>83807</td>\n",
       "      <td>1</td>\n",
       "      <td>0</td>\n",
       "      <td>1</td>\n",
       "      <td>112542</td>\n",
       "      <td>0</td>\n",
       "      <td>1</td>\n",
       "      <td>0</td>\n",
       "    </tr>\n",
       "    <tr>\n",
       "      <td>2</td>\n",
       "      <td>502</td>\n",
       "      <td>42</td>\n",
       "      <td>8</td>\n",
       "      <td>159660</td>\n",
       "      <td>3</td>\n",
       "      <td>1</td>\n",
       "      <td>0</td>\n",
       "      <td>113931</td>\n",
       "      <td>0</td>\n",
       "      <td>0</td>\n",
       "      <td>0</td>\n",
       "    </tr>\n",
       "    <tr>\n",
       "      <td>3</td>\n",
       "      <td>699</td>\n",
       "      <td>39</td>\n",
       "      <td>1</td>\n",
       "      <td>0</td>\n",
       "      <td>2</td>\n",
       "      <td>0</td>\n",
       "      <td>0</td>\n",
       "      <td>93826</td>\n",
       "      <td>0</td>\n",
       "      <td>0</td>\n",
       "      <td>0</td>\n",
       "    </tr>\n",
       "    <tr>\n",
       "      <td>4</td>\n",
       "      <td>850</td>\n",
       "      <td>43</td>\n",
       "      <td>2</td>\n",
       "      <td>125510</td>\n",
       "      <td>1</td>\n",
       "      <td>1</td>\n",
       "      <td>1</td>\n",
       "      <td>79084</td>\n",
       "      <td>0</td>\n",
       "      <td>1</td>\n",
       "      <td>0</td>\n",
       "    </tr>\n",
       "  </tbody>\n",
       "</table>\n",
       "</div>"
      ],
      "text/plain": [
       "   CreditScore  Age  Tenure  Balance  NumOfProducts  HasCrCard  \\\n",
       "0          619   42       2        0              1          1   \n",
       "1          608   41       1    83807              1          0   \n",
       "2          502   42       8   159660              3          1   \n",
       "3          699   39       1        0              2          0   \n",
       "4          850   43       2   125510              1          1   \n",
       "\n",
       "   IsActiveMember  EstimatedSalary  Geography_Germany  Geography_Spain  \\\n",
       "0               1           101348                  0                0   \n",
       "1               1           112542                  0                1   \n",
       "2               0           113931                  0                0   \n",
       "3               0            93826                  0                0   \n",
       "4               1            79084                  0                1   \n",
       "\n",
       "   Gender_Male  \n",
       "0            0  \n",
       "1            0  \n",
       "2            0  \n",
       "3            0  \n",
       "4            0  "
      ]
     },
     "execution_count": 10,
     "metadata": {},
     "output_type": "execute_result"
    }
   ],
   "source": [
    "exit_features = exit_data_ohe.drop(['Exited'], axis = 1)\n",
    "exit_target = exit_data_ohe['Exited']\n",
    "exit_features.head()"
   ]
  },
  {
   "cell_type": "code",
   "execution_count": 11,
   "metadata": {},
   "outputs": [
    {
     "data": {
      "text/plain": [
       "0    1\n",
       "1    0\n",
       "2    1\n",
       "3    0\n",
       "4    0\n",
       "5    1\n",
       "6    0\n",
       "7    1\n",
       "8    0\n",
       "9    0\n",
       "Name: Exited, dtype: int64"
      ]
     },
     "execution_count": 11,
     "metadata": {},
     "output_type": "execute_result"
    }
   ],
   "source": [
    "exit_target.head(10)"
   ]
  },
  {
   "cell_type": "markdown",
   "metadata": {},
   "source": [
    "### Стандартизация признаков\n",
    "\n",
    "Как я отмечал ранее, у нас имеются признаки, существенно различающиеся в диапазонах и значениях варьирования. Их необходимо привести к единому масштабу. Под \"масштабатор\" подпадают столбцы \"CreditScore\", \"Age\", \"Tenure\", \"Balance\", \"NumOfProducts\" и \"EstimatedSalary\". \n"
   ]
  },
  {
   "cell_type": "code",
   "execution_count": 12,
   "metadata": {},
   "outputs": [
    {
     "data": {
      "text/html": [
       "<div>\n",
       "<style scoped>\n",
       "    .dataframe tbody tr th:only-of-type {\n",
       "        vertical-align: middle;\n",
       "    }\n",
       "\n",
       "    .dataframe tbody tr th {\n",
       "        vertical-align: top;\n",
       "    }\n",
       "\n",
       "    .dataframe thead th {\n",
       "        text-align: right;\n",
       "    }\n",
       "</style>\n",
       "<table border=\"1\" class=\"dataframe\">\n",
       "  <thead>\n",
       "    <tr style=\"text-align: right;\">\n",
       "      <th></th>\n",
       "      <th>CreditScore</th>\n",
       "      <th>Age</th>\n",
       "      <th>Tenure</th>\n",
       "      <th>Balance</th>\n",
       "      <th>NumOfProducts</th>\n",
       "      <th>HasCrCard</th>\n",
       "      <th>IsActiveMember</th>\n",
       "      <th>EstimatedSalary</th>\n",
       "      <th>Geography_Germany</th>\n",
       "      <th>Geography_Spain</th>\n",
       "      <th>Gender_Male</th>\n",
       "    </tr>\n",
       "  </thead>\n",
       "  <tbody>\n",
       "    <tr>\n",
       "      <td>0</td>\n",
       "      <td>-0.326221</td>\n",
       "      <td>0.293517</td>\n",
       "      <td>-1.086246</td>\n",
       "      <td>-1.225847</td>\n",
       "      <td>-0.911583</td>\n",
       "      <td>1</td>\n",
       "      <td>1</td>\n",
       "      <td>0.021880</td>\n",
       "      <td>0</td>\n",
       "      <td>0</td>\n",
       "      <td>0</td>\n",
       "    </tr>\n",
       "    <tr>\n",
       "      <td>1</td>\n",
       "      <td>-0.440036</td>\n",
       "      <td>0.198164</td>\n",
       "      <td>-1.448581</td>\n",
       "      <td>0.117342</td>\n",
       "      <td>-0.911583</td>\n",
       "      <td>0</td>\n",
       "      <td>1</td>\n",
       "      <td>0.216532</td>\n",
       "      <td>0</td>\n",
       "      <td>1</td>\n",
       "      <td>0</td>\n",
       "    </tr>\n",
       "    <tr>\n",
       "      <td>2</td>\n",
       "      <td>-1.536794</td>\n",
       "      <td>0.293517</td>\n",
       "      <td>1.087768</td>\n",
       "      <td>1.333050</td>\n",
       "      <td>2.527057</td>\n",
       "      <td>1</td>\n",
       "      <td>0</td>\n",
       "      <td>0.240686</td>\n",
       "      <td>0</td>\n",
       "      <td>0</td>\n",
       "      <td>0</td>\n",
       "    </tr>\n",
       "    <tr>\n",
       "      <td>3</td>\n",
       "      <td>0.501521</td>\n",
       "      <td>0.007457</td>\n",
       "      <td>-1.448581</td>\n",
       "      <td>-1.225847</td>\n",
       "      <td>0.807737</td>\n",
       "      <td>0</td>\n",
       "      <td>0</td>\n",
       "      <td>-0.108920</td>\n",
       "      <td>0</td>\n",
       "      <td>0</td>\n",
       "      <td>0</td>\n",
       "    </tr>\n",
       "    <tr>\n",
       "      <td>4</td>\n",
       "      <td>2.063884</td>\n",
       "      <td>0.388871</td>\n",
       "      <td>-1.086246</td>\n",
       "      <td>0.785723</td>\n",
       "      <td>-0.911583</td>\n",
       "      <td>1</td>\n",
       "      <td>1</td>\n",
       "      <td>-0.365269</td>\n",
       "      <td>0</td>\n",
       "      <td>1</td>\n",
       "      <td>0</td>\n",
       "    </tr>\n",
       "    <tr>\n",
       "      <td>5</td>\n",
       "      <td>-0.057205</td>\n",
       "      <td>0.484225</td>\n",
       "      <td>1.087768</td>\n",
       "      <td>0.597323</td>\n",
       "      <td>0.807737</td>\n",
       "      <td>1</td>\n",
       "      <td>0</td>\n",
       "      <td>0.863647</td>\n",
       "      <td>0</td>\n",
       "      <td>1</td>\n",
       "      <td>1</td>\n",
       "    </tr>\n",
       "    <tr>\n",
       "      <td>6</td>\n",
       "      <td>1.774174</td>\n",
       "      <td>1.056346</td>\n",
       "      <td>0.725432</td>\n",
       "      <td>-1.225847</td>\n",
       "      <td>0.807737</td>\n",
       "      <td>1</td>\n",
       "      <td>1</td>\n",
       "      <td>-1.565493</td>\n",
       "      <td>0</td>\n",
       "      <td>0</td>\n",
       "      <td>1</td>\n",
       "    </tr>\n",
       "    <tr>\n",
       "      <td>7</td>\n",
       "      <td>-2.840488</td>\n",
       "      <td>-0.946079</td>\n",
       "      <td>-0.361575</td>\n",
       "      <td>0.618014</td>\n",
       "      <td>4.246377</td>\n",
       "      <td>1</td>\n",
       "      <td>0</td>\n",
       "      <td>0.334847</td>\n",
       "      <td>1</td>\n",
       "      <td>0</td>\n",
       "      <td>0</td>\n",
       "    </tr>\n",
       "    <tr>\n",
       "      <td>8</td>\n",
       "      <td>-1.547141</td>\n",
       "      <td>0.484225</td>\n",
       "      <td>-0.361575</td>\n",
       "      <td>1.050828</td>\n",
       "      <td>0.807737</td>\n",
       "      <td>0</td>\n",
       "      <td>1</td>\n",
       "      <td>-0.437329</td>\n",
       "      <td>0</td>\n",
       "      <td>0</td>\n",
       "      <td>1</td>\n",
       "    </tr>\n",
       "    <tr>\n",
       "      <td>9</td>\n",
       "      <td>0.346319</td>\n",
       "      <td>-1.136786</td>\n",
       "      <td>-1.086246</td>\n",
       "      <td>0.931458</td>\n",
       "      <td>-0.911583</td>\n",
       "      <td>1</td>\n",
       "      <td>1</td>\n",
       "      <td>-0.493235</td>\n",
       "      <td>0</td>\n",
       "      <td>0</td>\n",
       "      <td>1</td>\n",
       "    </tr>\n",
       "  </tbody>\n",
       "</table>\n",
       "</div>"
      ],
      "text/plain": [
       "   CreditScore       Age    Tenure   Balance  NumOfProducts  HasCrCard  \\\n",
       "0    -0.326221  0.293517 -1.086246 -1.225847      -0.911583          1   \n",
       "1    -0.440036  0.198164 -1.448581  0.117342      -0.911583          0   \n",
       "2    -1.536794  0.293517  1.087768  1.333050       2.527057          1   \n",
       "3     0.501521  0.007457 -1.448581 -1.225847       0.807737          0   \n",
       "4     2.063884  0.388871 -1.086246  0.785723      -0.911583          1   \n",
       "5    -0.057205  0.484225  1.087768  0.597323       0.807737          1   \n",
       "6     1.774174  1.056346  0.725432 -1.225847       0.807737          1   \n",
       "7    -2.840488 -0.946079 -0.361575  0.618014       4.246377          1   \n",
       "8    -1.547141  0.484225 -0.361575  1.050828       0.807737          0   \n",
       "9     0.346319 -1.136786 -1.086246  0.931458      -0.911583          1   \n",
       "\n",
       "   IsActiveMember  EstimatedSalary  Geography_Germany  Geography_Spain  \\\n",
       "0               1         0.021880                  0                0   \n",
       "1               1         0.216532                  0                1   \n",
       "2               0         0.240686                  0                0   \n",
       "3               0        -0.108920                  0                0   \n",
       "4               1        -0.365269                  0                1   \n",
       "5               0         0.863647                  0                1   \n",
       "6               1        -1.565493                  0                0   \n",
       "7               0         0.334847                  1                0   \n",
       "8               1        -0.437329                  0                0   \n",
       "9               1        -0.493235                  0                0   \n",
       "\n",
       "   Gender_Male  \n",
       "0            0  \n",
       "1            0  \n",
       "2            0  \n",
       "3            0  \n",
       "4            0  \n",
       "5            1  \n",
       "6            1  \n",
       "7            0  \n",
       "8            1  \n",
       "9            1  "
      ]
     },
     "execution_count": 12,
     "metadata": {},
     "output_type": "execute_result"
    }
   ],
   "source": [
    "clmns_to_scale = ['CreditScore', 'Age', 'Tenure', 'Balance', 'NumOfProducts', 'EstimatedSalary']\n",
    "\n",
    "scaler = StandardScaler()\n",
    "scaler.fit(exit_features[clmns_to_scale])\n",
    "\n",
    "exit_features[clmns_to_scale] = scaler.transform(exit_features[clmns_to_scale])\n",
    "exit_features.head(10)"
   ]
  },
  {
   "cell_type": "markdown",
   "metadata": {},
   "source": [
    "Пропуски обработаны, типы данных изменены, категориальные признаки перекодированы, количественные признаки масштабированы. Осталось нарезать полученные датасеты на обучающую, валидационную и тестовую в соотношении 70 : 15 : 15. Почему именно такое соотношение? 80-10-10 выглядит слишком перекошенным в сторону обучающей выборки - проверка модели на валидационной и тестовой выборках могут быть некорректными в связи с нехваткой соответствующих (валидационных и тестовых) данных."
   ]
  },
  {
   "cell_type": "code",
   "execution_count": 13,
   "metadata": {},
   "outputs": [
    {
     "name": "stdout",
     "output_type": "stream",
     "text": [
      "(7000, 11)\n",
      "(3000, 11)\n",
      "(7000,)\n",
      "(3000,)\n"
     ]
    }
   ],
   "source": [
    "features_train, features_tv, target_train, target_tv = train_test_split(\n",
    "    exit_features, exit_target, test_size=0.3, random_state=11111)\n",
    "print(features_train.shape)\n",
    "print(features_tv.shape)\n",
    "print(target_train.shape)\n",
    "print(target_tv.shape)"
   ]
  },
  {
   "cell_type": "code",
   "execution_count": 14,
   "metadata": {},
   "outputs": [
    {
     "name": "stdout",
     "output_type": "stream",
     "text": [
      "(1500, 11)\n",
      "(1500, 11)\n",
      "(1500,)\n",
      "(1500,)\n"
     ]
    }
   ],
   "source": [
    "features_valid, features_test, target_valid, target_test = train_test_split(\n",
    "    features_tv, target_tv, test_size=0.5, random_state=11111)\n",
    "print(features_valid.shape)\n",
    "print(features_test.shape)\n",
    "print(target_valid.shape)\n",
    "print(target_test.shape)"
   ]
  },
  {
   "cell_type": "markdown",
   "metadata": {},
   "source": [
    "Нарезано. Переходим к исследованию задачи без учета дисбаланса классов - вне зависимости от \"распределения\" целевого признака (а мы помним, у нас соотношение Positive : Negative составило 20 : 80)."
   ]
  },
  {
   "cell_type": "markdown",
   "metadata": {},
   "source": [
    "# 2. Исследование моделей"
   ]
  },
  {
   "cell_type": "markdown",
   "metadata": {},
   "source": [
    "Тестовые данные откладываем в сторону, будем работать с обучающей и валидационной выборками. На первой обучим модели, на второй подберем гиперпараметры моделей."
   ]
  },
  {
   "cell_type": "markdown",
   "metadata": {},
   "source": [
    "Начнем с \"самого простого\" - модели логистической регрессии.\n",
    "\n",
    "### Логистическая регрессия"
   ]
  },
  {
   "cell_type": "code",
   "execution_count": 15,
   "metadata": {},
   "outputs": [],
   "source": [
    "model_logreg = LogisticRegression(random_state = 11111, solver = 'liblinear')\n",
    "model_logreg.fit(features_train, target_train)\n",
    "\n",
    "models_list_test = []\n",
    "models_list_test.append(\"model_logreg\")"
   ]
  },
  {
   "cell_type": "markdown",
   "metadata": {},
   "source": [
    "Показатели качества модели в данном проекте - значения F1-меры и AUC-ROC. Проверим значения объявленных показателей полученной модели на валидационной выборке. "
   ]
  },
  {
   "cell_type": "code",
   "execution_count": 16,
   "metadata": {},
   "outputs": [
    {
     "name": "stdout",
     "output_type": "stream",
     "text": [
      "Значение f1_score для модели логистической регресии равно: 0.3296703296703297\n"
     ]
    }
   ],
   "source": [
    "predict_logreg = model_logreg.predict(features_valid)\n",
    "f1_score_logreg = f1_score(target_valid, predict_logreg)\n",
    "print(\"Значение f1_score для модели логистической регресии равно:\", f1_score_logreg)"
   ]
  },
  {
   "cell_type": "markdown",
   "metadata": {},
   "source": [
    "Уже сейчас очевидно, что значение F1-меры модели логистической регрессии не достигает и половины целевого значения рассматриваемого параметра. Конечно, мы можем \"забить\" на данную модель и перейти к деревьям (в различном количестве). Однако, для понимания поведения моделей при изменении баланса классов, я найду значений AUC-ROC для данной модели и помещу их в специальную таблицу, в которую буду собирать значения показателей качества различных моделей с различной балансировкой классов."
   ]
  },
  {
   "cell_type": "markdown",
   "metadata": {},
   "source": [
    "В таблице будет 6 столбцов - название модели (Лог-рег, дерево, лес), максимальная глубина (у лог-рег тут будет пропуска), число деревьев (у отдельного дерева и лог-рег здесь будут пропуски), способ балансировки классов (нет, up, down) и 2 столбца с показателями качества - F1 и AUC-ROC.\n",
    "\n",
    "Создадим таблицу, рассчитаем AUC-ROC для логистической регрессии и добавим в нее первую строчку со значениями. "
   ]
  },
  {
   "cell_type": "code",
   "execution_count": 17,
   "metadata": {},
   "outputs": [],
   "source": [
    "comparison_columns = [\"model_type\", \"max_depth\", \"n_estimators\", \"balance_type\", \"f1_score\", \"auc_roc_score\"]\n",
    "models_comparison = pd.DataFrame(data = None, columns = comparison_columns)"
   ]
  },
  {
   "cell_type": "code",
   "execution_count": 18,
   "metadata": {},
   "outputs": [],
   "source": [
    "probabilities_valid_logreg = model_logreg.predict_proba(features_valid)\n",
    "probabilities_one_valid_logreg = probabilities_valid_logreg[:, 1]\n",
    "auc_roc_logreg = roc_auc_score(target_valid, probabilities_one_valid_logreg)"
   ]
  },
  {
   "cell_type": "code",
   "execution_count": 19,
   "metadata": {},
   "outputs": [
    {
     "data": {
      "text/html": [
       "<div>\n",
       "<style scoped>\n",
       "    .dataframe tbody tr th:only-of-type {\n",
       "        vertical-align: middle;\n",
       "    }\n",
       "\n",
       "    .dataframe tbody tr th {\n",
       "        vertical-align: top;\n",
       "    }\n",
       "\n",
       "    .dataframe thead th {\n",
       "        text-align: right;\n",
       "    }\n",
       "</style>\n",
       "<table border=\"1\" class=\"dataframe\">\n",
       "  <thead>\n",
       "    <tr style=\"text-align: right;\">\n",
       "      <th></th>\n",
       "      <th>model_type</th>\n",
       "      <th>max_depth</th>\n",
       "      <th>n_estimators</th>\n",
       "      <th>balance_type</th>\n",
       "      <th>f1_score</th>\n",
       "      <th>auc_roc_score</th>\n",
       "    </tr>\n",
       "  </thead>\n",
       "  <tbody>\n",
       "    <tr>\n",
       "      <td>0</td>\n",
       "      <td>Logistic regression</td>\n",
       "      <td>NaN</td>\n",
       "      <td>NaN</td>\n",
       "      <td>NaN</td>\n",
       "      <td>0.32967</td>\n",
       "      <td>0.756852</td>\n",
       "    </tr>\n",
       "  </tbody>\n",
       "</table>\n",
       "</div>"
      ],
      "text/plain": [
       "            model_type max_depth n_estimators balance_type f1_score  \\\n",
       "0  Logistic regression       NaN          NaN          NaN  0.32967   \n",
       "\n",
       "  auc_roc_score  \n",
       "0      0.756852  "
      ]
     },
     "execution_count": 19,
     "metadata": {},
     "output_type": "execute_result"
    }
   ],
   "source": [
    "models_comparison.loc[0, \"model_type\"] = \"Logistic regression\"\n",
    "models_comparison.loc[0, \"f1_score\"] = f1_score_logreg\n",
    "models_comparison.loc[0, \"auc_roc_score\"] = auc_roc_logreg\n",
    "models_comparison"
   ]
  },
  {
   "cell_type": "markdown",
   "metadata": {},
   "source": [
    "Первая строка заполнена, переходим к другим моделям."
   ]
  },
  {
   "cell_type": "markdown",
   "metadata": {},
   "source": [
    "### Решающее древо\n",
    "\n",
    "Обучение решающего древа произведем параллельно с подбором гиперпараметров. Сначала \"проскачем\" по значениям глубины решающего древа с большим шагом, а затем подберем значение решающего древа с максимальным значениями показателя F1-меры. Чтобы не использовать циклы в теле проекта, \"засунем\" их внутрь функции и будем вызывать по мере необходимости."
   ]
  },
  {
   "cell_type": "code",
   "execution_count": 20,
   "metadata": {},
   "outputs": [
    {
     "data": {
      "text/plain": [
       "(0.5207547169811321, 7)"
      ]
     },
     "execution_count": 20,
     "metadata": {},
     "output_type": "execute_result"
    }
   ],
   "source": [
    "def dectree_hyper_finder(min_depth, max_depth, step):\n",
    "    f1_score_max = 0\n",
    "    auc_roc_max = 0\n",
    "    depth_target = 0\n",
    "    for depth in range(min_depth, max_depth+1, step):\n",
    "        \n",
    "#         обучаем\n",
    "        model_dectree = DecisionTreeClassifier(max_depth = depth, random_state = 11111)\n",
    "        model_dectree.fit(features_train, target_train)\n",
    "        \n",
    "#         ищем глубину с максимальным значением f1\n",
    "        predict_dectree = model_dectree.predict(features_valid)\n",
    "        f1_score_dectree = f1_score(target_valid, predict_dectree)\n",
    "        if f1_score_dectree > f1_score_max:\n",
    "            f1_score_max = f1_score_dectree\n",
    "            depth_target = depth\n",
    "    return f1_score_max, depth_target\n",
    "dectree_hyper_finder(2, 52, 5)    "
   ]
  },
  {
   "cell_type": "markdown",
   "metadata": {},
   "source": [
    "Получили диапазон, который необходимо перебрать более тщательно - в окрестностях полученного значения + шаг перебора в обе стороны. В нашем случае это диапазон глубины решающего дерева (2 - 12). "
   ]
  },
  {
   "cell_type": "code",
   "execution_count": 21,
   "metadata": {},
   "outputs": [
    {
     "data": {
      "text/plain": [
       "(0.535773710482529, 10)"
      ]
     },
     "execution_count": 21,
     "metadata": {},
     "output_type": "execute_result"
    }
   ],
   "source": [
    "dectree_hyper_finder(2, 12, 1)"
   ]
  },
  {
   "cell_type": "markdown",
   "metadata": {},
   "source": [
    "Наилучшее значение F1 меры получено для решающего древа глубиной 10. Обучим модель с соответствующим значением гиперпараметров, рассчитаем для него целевые значения F1 меры и AUC-ROC и занесем их в таблицу. Для снижения \"трудоемкости\", напишем \"рассчетно-вносящую\" функцию. "
   ]
  },
  {
   "cell_type": "code",
   "execution_count": 22,
   "metadata": {},
   "outputs": [
    {
     "data": {
      "text/html": [
       "<div>\n",
       "<style scoped>\n",
       "    .dataframe tbody tr th:only-of-type {\n",
       "        vertical-align: middle;\n",
       "    }\n",
       "\n",
       "    .dataframe tbody tr th {\n",
       "        vertical-align: top;\n",
       "    }\n",
       "\n",
       "    .dataframe thead th {\n",
       "        text-align: right;\n",
       "    }\n",
       "</style>\n",
       "<table border=\"1\" class=\"dataframe\">\n",
       "  <thead>\n",
       "    <tr style=\"text-align: right;\">\n",
       "      <th></th>\n",
       "      <th>model_type</th>\n",
       "      <th>max_depth</th>\n",
       "      <th>n_estimators</th>\n",
       "      <th>balance_type</th>\n",
       "      <th>f1_score</th>\n",
       "      <th>auc_roc_score</th>\n",
       "    </tr>\n",
       "  </thead>\n",
       "  <tbody>\n",
       "    <tr>\n",
       "      <td>0</td>\n",
       "      <td>Logistic regression</td>\n",
       "      <td>NaN</td>\n",
       "      <td>NaN</td>\n",
       "      <td>NaN</td>\n",
       "      <td>0.32967</td>\n",
       "      <td>0.756852</td>\n",
       "    </tr>\n",
       "    <tr>\n",
       "      <td>1</td>\n",
       "      <td>Decision Tree</td>\n",
       "      <td>NaN</td>\n",
       "      <td>NaN</td>\n",
       "      <td>NaN</td>\n",
       "      <td>0.535774</td>\n",
       "      <td>0.752397</td>\n",
       "    </tr>\n",
       "  </tbody>\n",
       "</table>\n",
       "</div>"
      ],
      "text/plain": [
       "            model_type max_depth n_estimators balance_type  f1_score  \\\n",
       "0  Logistic regression       NaN          NaN          NaN   0.32967   \n",
       "1        Decision Tree       NaN          NaN          NaN  0.535774   \n",
       "\n",
       "  auc_roc_score  \n",
       "0      0.756852  \n",
       "1      0.752397  "
      ]
     },
     "execution_count": 22,
     "metadata": {},
     "output_type": "execute_result"
    }
   ],
   "source": [
    "model_dectree_best = DecisionTreeClassifier(max_depth = 10, random_state = 11111)\n",
    "model_dectree_best.fit(features_train, target_train)\n",
    "\n",
    "models_list_test.append(\"model_dectree_best\")\n",
    "\n",
    "def table_filler(model_name, table_model_name, row_number):\n",
    "    \n",
    "#     считаем f1-меру\n",
    "    f1_score_model = f1_score(target_valid, model_name.predict(features_valid))\n",
    "\n",
    "#     считаем значение AUC-ROC\n",
    "    probabilities_valid = model_name.predict_proba(features_valid)\n",
    "    probabilities_one_valid = probabilities_valid[:, 1]\n",
    "    auc_roc_model = roc_auc_score(target_valid, probabilities_one_valid)\n",
    "    \n",
    "#     складываем в таблицу вместе с названием\n",
    "    models_comparison.loc[row_number, \"model_type\"] = table_model_name\n",
    "    models_comparison.loc[row_number, \"f1_score\"] = f1_score_model\n",
    "    models_comparison.loc[row_number, \"auc_roc_score\"] = auc_roc_model\n",
    "    return models_comparison\n",
    "\n",
    "table_filler(model_dectree_best, \"Decision Tree\", 1)"
   ]
  },
  {
   "cell_type": "markdown",
   "metadata": {},
   "source": [
    "Добавим в таблицу имеющийся гиперпараметр - глубину = 10. "
   ]
  },
  {
   "cell_type": "code",
   "execution_count": 23,
   "metadata": {},
   "outputs": [
    {
     "data": {
      "text/html": [
       "<div>\n",
       "<style scoped>\n",
       "    .dataframe tbody tr th:only-of-type {\n",
       "        vertical-align: middle;\n",
       "    }\n",
       "\n",
       "    .dataframe tbody tr th {\n",
       "        vertical-align: top;\n",
       "    }\n",
       "\n",
       "    .dataframe thead th {\n",
       "        text-align: right;\n",
       "    }\n",
       "</style>\n",
       "<table border=\"1\" class=\"dataframe\">\n",
       "  <thead>\n",
       "    <tr style=\"text-align: right;\">\n",
       "      <th></th>\n",
       "      <th>model_type</th>\n",
       "      <th>max_depth</th>\n",
       "      <th>n_estimators</th>\n",
       "      <th>balance_type</th>\n",
       "      <th>f1_score</th>\n",
       "      <th>auc_roc_score</th>\n",
       "    </tr>\n",
       "  </thead>\n",
       "  <tbody>\n",
       "    <tr>\n",
       "      <td>0</td>\n",
       "      <td>Logistic regression</td>\n",
       "      <td>NaN</td>\n",
       "      <td>NaN</td>\n",
       "      <td>NaN</td>\n",
       "      <td>0.32967</td>\n",
       "      <td>0.756852</td>\n",
       "    </tr>\n",
       "    <tr>\n",
       "      <td>1</td>\n",
       "      <td>Decision Tree</td>\n",
       "      <td>10</td>\n",
       "      <td>NaN</td>\n",
       "      <td>NaN</td>\n",
       "      <td>0.535774</td>\n",
       "      <td>0.752397</td>\n",
       "    </tr>\n",
       "  </tbody>\n",
       "</table>\n",
       "</div>"
      ],
      "text/plain": [
       "            model_type max_depth n_estimators balance_type  f1_score  \\\n",
       "0  Logistic regression       NaN          NaN          NaN   0.32967   \n",
       "1        Decision Tree        10          NaN          NaN  0.535774   \n",
       "\n",
       "  auc_roc_score  \n",
       "0      0.756852  \n",
       "1      0.752397  "
      ]
     },
     "execution_count": 23,
     "metadata": {},
     "output_type": "execute_result"
    }
   ],
   "source": [
    "models_comparison.loc[1, \"max_depth\"] = 10\n",
    "models_comparison"
   ]
  },
  {
   "cell_type": "markdown",
   "metadata": {},
   "source": [
    "Целевое значение f1-score (0,59) не получено. Перейдем к случайному лесу."
   ]
  },
  {
   "cell_type": "markdown",
   "metadata": {},
   "source": [
    "### Случайный лес\n",
    "\n",
    "По аналогии с решающим древом нам необходимо подобрать гиперпараметры случайного леса. Их 2 - максимальная глубина деревьев и количество параллельно решающих деревьев.\n",
    "\n",
    "> Поскольку я не до конца (на момент написания данных строк) понимаю, как работает случайный лес в вопросе подбора гиперпараметров - сначала подбираем число \"решателей\", затем для них находим \"наилучшую глубину\" или сначала подбираем глубину (можем воспользоваться уже найденной для решающего древа) и потом идем в сторону \"наилучшего\" числа \"решателей\" или нужно делать прогон сразу по 2 параметрам (но это изначально выглядит глупо с точки зрения затрат времени). \n",
    "\n",
    "> Потому вопрос - как это работает? Можете дать какие-то рекомендации по подбору гиперпараметров случайного леса?"
   ]
  },
  {
   "cell_type": "markdown",
   "metadata": {},
   "source": [
    "Поскольку гипотез относительно того, как это работает у меня 3 (описаны выше), проверим на работоспособность каждую из них и попробуем \"к чему-нибудь\" прийти. Начнем с подбора числа \"решателей\" для \"наилучшей\" глубины решающего древа, рассчитанной ранее и равной 10. По аналогии напишем функцию определения числа решателей для модели случайного леса с наибольшим значением f1-меры."
   ]
  },
  {
   "cell_type": "code",
   "execution_count": 24,
   "metadata": {},
   "outputs": [
    {
     "data": {
      "text/plain": [
       "(0.5402298850574713, 22)"
      ]
     },
     "execution_count": 24,
     "metadata": {},
     "output_type": "execute_result"
    }
   ],
   "source": [
    "def rndforest_est_finder(min_est, max_est, step):\n",
    "    f1_score_max = 0\n",
    "    auc_roc_max = 0\n",
    "    est_target = 0\n",
    "    for est in range(min_est, max_est+1, step):\n",
    "        \n",
    "#         обучаем\n",
    "        model_rndforest = RandomForestClassifier(max_depth = 10, n_estimators = est, random_state = 11111)\n",
    "        model_rndforest.fit(features_train, target_train)\n",
    "        \n",
    "#         ищем число \"решателей\" с максимальным значением f1\n",
    "        predict_rndforest = model_rndforest.predict(features_valid)\n",
    "        f1_score_rndforest = f1_score(target_valid, predict_rndforest)\n",
    "        if f1_score_rndforest > f1_score_max:\n",
    "            f1_score_max = f1_score_rndforest\n",
    "            est_target = est\n",
    "    return f1_score_max, est_target\n",
    "\n",
    "rndforest_est_finder(2, 22, 5)"
   ]
  },
  {
   "cell_type": "markdown",
   "metadata": {},
   "source": [
    "Проверка диапазона от 2 до 22 \"решателей\" показала, что:\n",
    "\n",
    "1. Нам нужно двигаться дальше\n",
    "2. Целевое значение F1-score не достигнуто\n",
    "3. Истина где-то рядом\n",
    "\n",
    "Проверяем дальше."
   ]
  },
  {
   "cell_type": "code",
   "execution_count": 25,
   "metadata": {},
   "outputs": [
    {
     "data": {
      "text/plain": [
       "(0.5598455598455597, 42)"
      ]
     },
     "execution_count": 25,
     "metadata": {},
     "output_type": "execute_result"
    }
   ],
   "source": [
    "rndforest_est_finder(22, 52, 5)"
   ]
  },
  {
   "cell_type": "markdown",
   "metadata": {},
   "source": [
    "Искомый диапазон \"раскопок\" получен, однако, на мой неопытный взгляд, данный подход (с \"лучшей\" глубиной), скорее всего, не верен. Т.е. если для Решающего древа максимальная глубина = 10 - наилучшая, то это не всегда работает для случайного леса. \n",
    "\n",
    "> Что решающему древу хорошо, то случайному лесу - снижение целевых значений качества!\n",
    "\n",
    "В любом случае, доведем наше исследование до конца и посмотрим на итоговый результат для глубины деревьев = 10."
   ]
  },
  {
   "cell_type": "code",
   "execution_count": 26,
   "metadata": {},
   "outputs": [
    {
     "name": "stdout",
     "output_type": "stream",
     "text": [
      "CPU times: user 4.13 s, sys: 0 ns, total: 4.13 s\n",
      "Wall time: 4.24 s\n"
     ]
    },
    {
     "data": {
      "text/plain": [
       "(0.5615384615384615, 43)"
      ]
     },
     "execution_count": 26,
     "metadata": {},
     "output_type": "execute_result"
    }
   ],
   "source": [
    "%%time\n",
    "rndforest_est_finder(37, 47, 1)"
   ]
  },
  {
   "cell_type": "markdown",
   "metadata": {},
   "source": [
    "Итак, случайный лес из 43 решающих деревьев глубиной 10 позволил получить показатель f1-меры равный 0.5615. Недостаточно. Переходим ко второй гипотезе - подбору числа \"решателей\", с последующим подбором глубины этих самых \"решателей\". Нам также потребуется функция (в немного измененном виде).\n",
    "\n",
    "Убираем из функции число решающих деревьев (в качестве варьируемого параметра) и запускаем подбор числа \"решателей\"."
   ]
  },
  {
   "cell_type": "code",
   "execution_count": 27,
   "metadata": {},
   "outputs": [
    {
     "data": {
      "text/plain": [
       "(0.5698729582577132, 17)"
      ]
     },
     "execution_count": 27,
     "metadata": {},
     "output_type": "execute_result"
    }
   ],
   "source": [
    "def rndforest_nodepth_est_finder(min_est, max_est, step):\n",
    "    f1_score_max = 0\n",
    "    auc_roc_max = 0\n",
    "    est_target = 0\n",
    "    for est in range(min_est, max_est+1, step):\n",
    "        \n",
    "#         обучаем\n",
    "        model_rndforest = RandomForestClassifier(n_estimators = est, random_state = 11111)\n",
    "        model_rndforest.fit(features_train, target_train)\n",
    "        \n",
    "#         ищем число \"решателей\" с максимальным значением f1\n",
    "        predict_rndforest = model_rndforest.predict(features_valid)\n",
    "        f1_score_rndforest = f1_score(target_valid, predict_rndforest)\n",
    "        if f1_score_rndforest > f1_score_max:\n",
    "            f1_score_max = f1_score_rndforest\n",
    "            est_target = est\n",
    "    return f1_score_max, est_target\n",
    "\n",
    "rndforest_nodepth_est_finder(2, 22, 5)"
   ]
  },
  {
   "cell_type": "markdown",
   "metadata": {},
   "source": [
    "Как говорит один человек из интернета - \"Ничего не понятно. Но очень интересно!\"\n",
    "Всего 17 деревьев, а показатель f1-score уже выше. \n",
    "Проверим окрестности, выберем \"лучшего\" и запустим ту же самую историю с точки зрения подбора \"наилучшей\" глубины решающих деревьев."
   ]
  },
  {
   "cell_type": "code",
   "execution_count": 28,
   "metadata": {},
   "outputs": [
    {
     "name": "stdout",
     "output_type": "stream",
     "text": [
      "CPU times: user 2.11 s, sys: 4 ms, total: 2.11 s\n",
      "Wall time: 2.12 s\n"
     ]
    },
    {
     "data": {
      "text/plain": [
       "(0.5719489981785063, 15)"
      ]
     },
     "execution_count": 28,
     "metadata": {},
     "output_type": "execute_result"
    }
   ],
   "source": [
    "%%time\n",
    "rndforest_nodepth_est_finder(12, 22, 1)"
   ]
  },
  {
   "cell_type": "markdown",
   "metadata": {},
   "source": [
    "15 решающих деревьев, максимальная глубина неясна. \"Прогоним\" полученное наилучшее число \"Решателей\" через подбор глубины дерева."
   ]
  },
  {
   "cell_type": "code",
   "execution_count": 29,
   "metadata": {},
   "outputs": [
    {
     "data": {
      "text/plain": [
       "(0.5641025641025641, 22)"
      ]
     },
     "execution_count": 29,
     "metadata": {},
     "output_type": "execute_result"
    }
   ],
   "source": [
    "def rndforest_depth_finder(min_depth, max_depth, step):\n",
    "    f1_score_max = 0\n",
    "    auc_roc_max = 0\n",
    "    depth_target = 0\n",
    "    for depth in range(min_depth, max_depth+1, step):\n",
    "        \n",
    "#         обучаем\n",
    "        model_rndforest = RandomForestClassifier(max_depth = depth, n_estimators = 15, random_state = 11111)\n",
    "        model_rndforest.fit(features_train, target_train)\n",
    "        \n",
    "#         ищем глубину с максимальным значением f1\n",
    "        predict_rndforest = model_rndforest.predict(features_valid)\n",
    "        f1_score_rndforest = f1_score(target_valid, predict_rndforest)\n",
    "        if f1_score_rndforest > f1_score_max:\n",
    "            f1_score_max = f1_score_rndforest\n",
    "            depth_target = depth\n",
    "    return f1_score_max, depth_target\n",
    "\n",
    "rndforest_depth_finder(2, 22, 5)"
   ]
  },
  {
   "cell_type": "markdown",
   "metadata": {},
   "source": [
    "Глубины 22 недостаточно. Погружаемся!"
   ]
  },
  {
   "cell_type": "code",
   "execution_count": 30,
   "metadata": {},
   "outputs": [
    {
     "data": {
      "text/plain": [
       "(0.5719489981785063, 27)"
      ]
     },
     "execution_count": 30,
     "metadata": {},
     "output_type": "execute_result"
    }
   ],
   "source": [
    "rndforest_depth_finder(22, 52, 5)"
   ]
  },
  {
   "cell_type": "markdown",
   "metadata": {},
   "source": [
    "Окрестности получены, исследуем."
   ]
  },
  {
   "cell_type": "code",
   "execution_count": 31,
   "metadata": {},
   "outputs": [
    {
     "name": "stdout",
     "output_type": "stream",
     "text": [
      "CPU times: user 1.88 s, sys: 0 ns, total: 1.88 s\n",
      "Wall time: 1.89 s\n"
     ]
    },
    {
     "data": {
      "text/plain": [
       "(0.5781818181818182, 25)"
      ]
     },
     "execution_count": 31,
     "metadata": {},
     "output_type": "execute_result"
    }
   ],
   "source": [
    "%%time\n",
    "rndforest_depth_finder(22, 32, 1)"
   ]
  },
  {
   "cell_type": "markdown",
   "metadata": {},
   "source": [
    "Итак, максимальное значение f1-score, равное 0.5781, получено для случайного леса из 15 деревьев максимальной глубины 25. Лучше, чем было при проверке первой гипотезы. Проверим 3 гипотезу - будем определять и число решающих деревьев и их максимальную глубину  ОДНОВРЕМЕННО! (Цикл в цикле, ВАУ!). Воспользуемся ещё 1 функцией."
   ]
  },
  {
   "cell_type": "code",
   "execution_count": 32,
   "metadata": {},
   "outputs": [
    {
     "name": "stdout",
     "output_type": "stream",
     "text": [
      "CPU times: user 13.3 s, sys: 20 ms, total: 13.3 s\n",
      "Wall time: 13.3 s\n"
     ]
    },
    {
     "data": {
      "text/plain": [
       "(0.5698729582577132, 17, 27)"
      ]
     },
     "execution_count": 32,
     "metadata": {},
     "output_type": "execute_result"
    }
   ],
   "source": [
    "%%time\n",
    "def rndforest_depth_est_finder(min_est, max_est, step_est, min_depth, max_depth, step_depth):\n",
    "    f1_score_max = 0\n",
    "    auc_roc_max = 0\n",
    "    depth_target = 0\n",
    "    est_target = 0\n",
    "    for est in range(min_est, max_est+1, step_est):\n",
    "        for depth in range(min_depth, max_depth+1, step_depth):\n",
    "            \n",
    "#             Обучаем\n",
    "            model_rndforest = RandomForestClassifier(max_depth = depth, n_estimators = est, random_state = 11111)\n",
    "            model_rndforest.fit(features_train, target_train)\n",
    "            \n",
    "#             Ищем лучшие глубину и число \"решателей\"\n",
    "            predict_rndforest = model_rndforest.predict(features_valid)\n",
    "            f1_score_rndforest = f1_score(target_valid, predict_rndforest)\n",
    "            if f1_score_rndforest > f1_score_max:\n",
    "                f1_score_max = f1_score_rndforest\n",
    "                depth_target = depth\n",
    "                est_target = est\n",
    "                \n",
    "    return f1_score_max, est_target, depth_target\n",
    "\n",
    "rndforest_depth_est_finder(2, 32, 5, 2, 52, 5)"
   ]
  },
  {
   "cell_type": "markdown",
   "metadata": {},
   "source": [
    "Второе значение - число решателей, третье - глубина. \n",
    "\n",
    "Диапазон выглядит очень похожим на то, что мы получили ранее. Проверяем дальше."
   ]
  },
  {
   "cell_type": "code",
   "execution_count": 33,
   "metadata": {},
   "outputs": [
    {
     "name": "stdout",
     "output_type": "stream",
     "text": [
      "CPU times: user 23.2 s, sys: 32 ms, total: 23.2 s\n",
      "Wall time: 23.3 s\n"
     ]
    },
    {
     "data": {
      "text/plain": [
       "(0.5781818181818182, 15, 25)"
      ]
     },
     "execution_count": 33,
     "metadata": {},
     "output_type": "execute_result"
    }
   ],
   "source": [
    "%%time\n",
    "rndforest_depth_est_finder(12, 22, 1, 22, 32, 1)"
   ]
  },
  {
   "cell_type": "markdown",
   "metadata": {},
   "source": [
    "И на нашей улице перевернулся грузовик с арбузами. \n",
    "Результаты, полученные 2 и 3 способами идентичны. При этом, по временным затратам, очевидным лидером является способ номер 2 - с подбором сначала числа \"решателей\", а только потом глубины этих самых \"решателей\".\n",
    "\n",
    "Поместим данные о полученной модели в таблицу для сравнения."
   ]
  },
  {
   "cell_type": "code",
   "execution_count": 34,
   "metadata": {},
   "outputs": [
    {
     "data": {
      "text/html": [
       "<div>\n",
       "<style scoped>\n",
       "    .dataframe tbody tr th:only-of-type {\n",
       "        vertical-align: middle;\n",
       "    }\n",
       "\n",
       "    .dataframe tbody tr th {\n",
       "        vertical-align: top;\n",
       "    }\n",
       "\n",
       "    .dataframe thead th {\n",
       "        text-align: right;\n",
       "    }\n",
       "</style>\n",
       "<table border=\"1\" class=\"dataframe\">\n",
       "  <thead>\n",
       "    <tr style=\"text-align: right;\">\n",
       "      <th></th>\n",
       "      <th>model_type</th>\n",
       "      <th>max_depth</th>\n",
       "      <th>n_estimators</th>\n",
       "      <th>balance_type</th>\n",
       "      <th>f1_score</th>\n",
       "      <th>auc_roc_score</th>\n",
       "    </tr>\n",
       "  </thead>\n",
       "  <tbody>\n",
       "    <tr>\n",
       "      <td>0</td>\n",
       "      <td>Logistic regression</td>\n",
       "      <td>NaN</td>\n",
       "      <td>NaN</td>\n",
       "      <td>NaN</td>\n",
       "      <td>0.32967</td>\n",
       "      <td>0.756852</td>\n",
       "    </tr>\n",
       "    <tr>\n",
       "      <td>1</td>\n",
       "      <td>Decision Tree</td>\n",
       "      <td>10</td>\n",
       "      <td>NaN</td>\n",
       "      <td>NaN</td>\n",
       "      <td>0.535774</td>\n",
       "      <td>0.752397</td>\n",
       "    </tr>\n",
       "    <tr>\n",
       "      <td>2</td>\n",
       "      <td>Random Forest</td>\n",
       "      <td>25</td>\n",
       "      <td>15</td>\n",
       "      <td>NaN</td>\n",
       "      <td>0.578182</td>\n",
       "      <td>0.793588</td>\n",
       "    </tr>\n",
       "  </tbody>\n",
       "</table>\n",
       "</div>"
      ],
      "text/plain": [
       "            model_type max_depth n_estimators balance_type  f1_score  \\\n",
       "0  Logistic regression       NaN          NaN          NaN   0.32967   \n",
       "1        Decision Tree        10          NaN          NaN  0.535774   \n",
       "2        Random Forest        25           15          NaN  0.578182   \n",
       "\n",
       "  auc_roc_score  \n",
       "0      0.756852  \n",
       "1      0.752397  \n",
       "2      0.793588  "
      ]
     },
     "execution_count": 34,
     "metadata": {},
     "output_type": "execute_result"
    }
   ],
   "source": [
    "model_rndforest_best = RandomForestClassifier(max_depth = 25, n_estimators = 15, random_state = 11111)\n",
    "model_rndforest_best.fit(features_train, target_train)\n",
    "\n",
    "models_list_test.append(\"model_rndforest_best\")\n",
    "\n",
    "models_comparison.loc[2, \"max_depth\"] = 25\n",
    "models_comparison.loc[2, \"n_estimators\"] = 15\n",
    "\n",
    "table_filler(model_rndforest_best, \"Random Forest\", 2)"
   ]
  },
  {
   "cell_type": "markdown",
   "metadata": {},
   "source": [
    "### Выводы по разделу 2 \"Исследование задачи\"\n",
    "\n",
    "1. Наибольшее значение F1-меры получено для модели случайного леса с 15 \"решателями\" максимальной глубины равной 25. Наименьшее - для модели логистической регрессии. \n",
    "2. Различия в значении параметра AUC-ROC для исследованных типов моделей существенно ниже, чем в случае F1-меры. \"Пальма первенства\" - по-прежнему у случайного леса.\n",
    "3. Целевое значение показателя качества модели (F1-меры), равное 0.59 не достигнуто. \"Докрутка\" модели будет осуществлена посредством перебалансировки классов."
   ]
  },
  {
   "cell_type": "markdown",
   "metadata": {},
   "source": [
    "# 3. Борьба с дисбалансом\n",
    "\n"
   ]
  },
  {
   "cell_type": "markdown",
   "metadata": {},
   "source": [
    "Как мы помним из раздела \"Подготовка данных\", соотношение числа значений целевого признака составляет 4 к 1. \n",
    "Мне известно 3 способа перебалансировки классов - с помощью стандартного \"балансира\" (class_weight = \"balanced\"), апсамплинг и даунсамплинг. Воспользуемся стандартным методом изменения веса класса и посмотрим, как это повлияет на значение целевого показателя.\n",
    "\n",
    "### 3.1 Class_weight = \"balanced\""
   ]
  },
  {
   "cell_type": "code",
   "execution_count": 35,
   "metadata": {
    "scrolled": true
   },
   "outputs": [
    {
     "name": "stdout",
     "output_type": "stream",
     "text": [
      "Значение f1_score для модели логистической регресии со сбалансированными классами равно: 0.49336283185840707\n"
     ]
    }
   ],
   "source": [
    "model_logreg_balanced = LogisticRegression(random_state = 11111, class_weight = \"balanced\", solver = 'liblinear')\n",
    "model_logreg_balanced.fit(features_train, target_train)\n",
    "predict_logreg_balanced = model_logreg_balanced.predict(features_valid)\n",
    "f1_score_logreg_balanced = f1_score(target_valid, predict_logreg_balanced)\n",
    "print(\"Значение f1_score для модели логистической регресии со сбалансированными классами равно:\",\n",
    "      f1_score_logreg_balanced)\n",
    "\n",
    "models_list_test.append(\"model_logreg_balanced\")"
   ]
  },
  {
   "cell_type": "markdown",
   "metadata": {},
   "source": [
    "Значение f1-меры для модели со сбалансированными классами выросло почти в 1.5 раза! Прогресс, но для \"ответа\" на наш вопрос данного значения явно недостаточно. Занесем полученные данные в таблицу и продолжим движение в направлении \"сбалансированного\" решающего древа."
   ]
  },
  {
   "cell_type": "code",
   "execution_count": 36,
   "metadata": {},
   "outputs": [
    {
     "data": {
      "text/html": [
       "<div>\n",
       "<style scoped>\n",
       "    .dataframe tbody tr th:only-of-type {\n",
       "        vertical-align: middle;\n",
       "    }\n",
       "\n",
       "    .dataframe tbody tr th {\n",
       "        vertical-align: top;\n",
       "    }\n",
       "\n",
       "    .dataframe thead th {\n",
       "        text-align: right;\n",
       "    }\n",
       "</style>\n",
       "<table border=\"1\" class=\"dataframe\">\n",
       "  <thead>\n",
       "    <tr style=\"text-align: right;\">\n",
       "      <th></th>\n",
       "      <th>model_type</th>\n",
       "      <th>max_depth</th>\n",
       "      <th>n_estimators</th>\n",
       "      <th>balance_type</th>\n",
       "      <th>f1_score</th>\n",
       "      <th>auc_roc_score</th>\n",
       "    </tr>\n",
       "  </thead>\n",
       "  <tbody>\n",
       "    <tr>\n",
       "      <td>0</td>\n",
       "      <td>Logistic regression</td>\n",
       "      <td>NaN</td>\n",
       "      <td>NaN</td>\n",
       "      <td>NaN</td>\n",
       "      <td>0.32967</td>\n",
       "      <td>0.756852</td>\n",
       "    </tr>\n",
       "    <tr>\n",
       "      <td>1</td>\n",
       "      <td>Decision Tree</td>\n",
       "      <td>10</td>\n",
       "      <td>NaN</td>\n",
       "      <td>NaN</td>\n",
       "      <td>0.535774</td>\n",
       "      <td>0.752397</td>\n",
       "    </tr>\n",
       "    <tr>\n",
       "      <td>2</td>\n",
       "      <td>Random Forest</td>\n",
       "      <td>25</td>\n",
       "      <td>15</td>\n",
       "      <td>NaN</td>\n",
       "      <td>0.578182</td>\n",
       "      <td>0.793588</td>\n",
       "    </tr>\n",
       "    <tr>\n",
       "      <td>3</td>\n",
       "      <td>Logistic regression</td>\n",
       "      <td>NaN</td>\n",
       "      <td>NaN</td>\n",
       "      <td>class_weight</td>\n",
       "      <td>0.493363</td>\n",
       "      <td>0.75879</td>\n",
       "    </tr>\n",
       "  </tbody>\n",
       "</table>\n",
       "</div>"
      ],
      "text/plain": [
       "            model_type max_depth n_estimators  balance_type  f1_score  \\\n",
       "0  Logistic regression       NaN          NaN           NaN   0.32967   \n",
       "1        Decision Tree        10          NaN           NaN  0.535774   \n",
       "2        Random Forest        25           15           NaN  0.578182   \n",
       "3  Logistic regression       NaN          NaN  class_weight  0.493363   \n",
       "\n",
       "  auc_roc_score  \n",
       "0      0.756852  \n",
       "1      0.752397  \n",
       "2      0.793588  \n",
       "3       0.75879  "
      ]
     },
     "execution_count": 36,
     "metadata": {},
     "output_type": "execute_result"
    }
   ],
   "source": [
    "models_comparison.loc[3, \"model_type\"] = \"Logistic regression\"\n",
    "models_comparison.loc[3, \"balance_type\"] = \"class_weight\"\n",
    "models_comparison.loc[3, \"f1_score\"] = f1_score_logreg_balanced\n",
    "\n",
    "probabilities_valid_logreg_balanced = model_logreg_balanced.predict_proba(features_valid)\n",
    "probabilities_one_valid_logreg_balanced = probabilities_valid_logreg_balanced[:, 1]\n",
    "auc_roc_logreg_balanced = roc_auc_score(target_valid, probabilities_one_valid_logreg_balanced)\n",
    "\n",
    "models_comparison.loc[3, \"auc_roc_score\"] = auc_roc_logreg_balanced\n",
    "models_comparison"
   ]
  },
  {
   "cell_type": "markdown",
   "metadata": {},
   "source": [
    "При этом данный тип балансировки практически не повлиял на значение показателя AUC-ROC."
   ]
  },
  {
   "cell_type": "markdown",
   "metadata": {},
   "source": [
    "И снова я ставлю перед собой важный вопрос - нужно ли подбирать значения гиперпараметров \"заново\" при перебалансировке весов целевого признака? Гипотез 2. 1-я - нужно. 2-я - не нужно. Начнем с проверки гипотезы №1. Решающее дерево, я выбираю тебя!\n",
    "\n",
    "### Решающее древо"
   ]
  },
  {
   "cell_type": "code",
   "execution_count": 37,
   "metadata": {},
   "outputs": [
    {
     "data": {
      "text/plain": [
       "(0.5306122448979591, 7)"
      ]
     },
     "execution_count": 37,
     "metadata": {},
     "output_type": "execute_result"
    }
   ],
   "source": [
    "def dectree_balanced_hyper_finder(min_depth, max_depth, step):\n",
    "    f1_score_max = 0\n",
    "    auc_roc_max = 0\n",
    "    depth_target = 0\n",
    "    for depth in range(min_depth, max_depth+1, step):\n",
    "        \n",
    "#         обучаем\n",
    "        model_dectree = DecisionTreeClassifier(max_depth = depth, class_weight = \"balanced\", random_state = 11111)\n",
    "        model_dectree.fit(features_train, target_train)\n",
    "        \n",
    "#         ищем глубину с максимальным значением f1\n",
    "        predict_dectree = model_dectree.predict(features_valid)\n",
    "        f1_score_dectree = f1_score(target_valid, predict_dectree)\n",
    "        if f1_score_dectree > f1_score_max:\n",
    "            f1_score_max = f1_score_dectree\n",
    "            depth_target = depth\n",
    "    return f1_score_max, depth_target\n",
    "\n",
    "dectree_balanced_hyper_finder(2, 52, 5)    "
   ]
  },
  {
   "cell_type": "code",
   "execution_count": 38,
   "metadata": {},
   "outputs": [
    {
     "data": {
      "text/plain": [
       "(0.5454545454545455, 10)"
      ]
     },
     "execution_count": 38,
     "metadata": {},
     "output_type": "execute_result"
    }
   ],
   "source": [
    "dectree_balanced_hyper_finder(2, 12, 1)    "
   ]
  },
  {
   "cell_type": "markdown",
   "metadata": {},
   "source": [
    "Глубина древа та же, что и в случае несбалансированных классов. На решающем древе гипотеза о \"Необходимости переподбора гиперпараметров\" не подтвердилась. Занесем полученные значения в таблицу и провернем ту же самую историю со случайным лесом. "
   ]
  },
  {
   "cell_type": "code",
   "execution_count": 39,
   "metadata": {},
   "outputs": [],
   "source": [
    "model_dectree_balanced_best = DecisionTreeClassifier(max_depth = 10,\n",
    "                                                     class_weight = \"balanced\", random_state = 11111)\n",
    "model_dectree_balanced_best.fit(features_train, target_train)\n",
    "\n",
    "models_list_test.append(\"model_dectree_balanced_best\")"
   ]
  },
  {
   "cell_type": "code",
   "execution_count": 40,
   "metadata": {},
   "outputs": [
    {
     "data": {
      "text/html": [
       "<div>\n",
       "<style scoped>\n",
       "    .dataframe tbody tr th:only-of-type {\n",
       "        vertical-align: middle;\n",
       "    }\n",
       "\n",
       "    .dataframe tbody tr th {\n",
       "        vertical-align: top;\n",
       "    }\n",
       "\n",
       "    .dataframe thead th {\n",
       "        text-align: right;\n",
       "    }\n",
       "</style>\n",
       "<table border=\"1\" class=\"dataframe\">\n",
       "  <thead>\n",
       "    <tr style=\"text-align: right;\">\n",
       "      <th></th>\n",
       "      <th>model_type</th>\n",
       "      <th>max_depth</th>\n",
       "      <th>n_estimators</th>\n",
       "      <th>balance_type</th>\n",
       "      <th>f1_score</th>\n",
       "      <th>auc_roc_score</th>\n",
       "    </tr>\n",
       "  </thead>\n",
       "  <tbody>\n",
       "    <tr>\n",
       "      <td>0</td>\n",
       "      <td>Logistic regression</td>\n",
       "      <td>NaN</td>\n",
       "      <td>NaN</td>\n",
       "      <td>NaN</td>\n",
       "      <td>0.32967</td>\n",
       "      <td>0.756852</td>\n",
       "    </tr>\n",
       "    <tr>\n",
       "      <td>1</td>\n",
       "      <td>Decision Tree</td>\n",
       "      <td>10</td>\n",
       "      <td>NaN</td>\n",
       "      <td>NaN</td>\n",
       "      <td>0.535774</td>\n",
       "      <td>0.752397</td>\n",
       "    </tr>\n",
       "    <tr>\n",
       "      <td>2</td>\n",
       "      <td>Random Forest</td>\n",
       "      <td>25</td>\n",
       "      <td>15</td>\n",
       "      <td>NaN</td>\n",
       "      <td>0.578182</td>\n",
       "      <td>0.793588</td>\n",
       "    </tr>\n",
       "    <tr>\n",
       "      <td>3</td>\n",
       "      <td>Logistic regression</td>\n",
       "      <td>NaN</td>\n",
       "      <td>NaN</td>\n",
       "      <td>class_weight</td>\n",
       "      <td>0.493363</td>\n",
       "      <td>0.75879</td>\n",
       "    </tr>\n",
       "    <tr>\n",
       "      <td>4</td>\n",
       "      <td>Decision Tree</td>\n",
       "      <td>10</td>\n",
       "      <td>NaN</td>\n",
       "      <td>class_weight</td>\n",
       "      <td>0.545455</td>\n",
       "      <td>0.730038</td>\n",
       "    </tr>\n",
       "  </tbody>\n",
       "</table>\n",
       "</div>"
      ],
      "text/plain": [
       "            model_type max_depth n_estimators  balance_type  f1_score  \\\n",
       "0  Logistic regression       NaN          NaN           NaN   0.32967   \n",
       "1        Decision Tree        10          NaN           NaN  0.535774   \n",
       "2        Random Forest        25           15           NaN  0.578182   \n",
       "3  Logistic regression       NaN          NaN  class_weight  0.493363   \n",
       "4        Decision Tree        10          NaN  class_weight  0.545455   \n",
       "\n",
       "  auc_roc_score  \n",
       "0      0.756852  \n",
       "1      0.752397  \n",
       "2      0.793588  \n",
       "3       0.75879  \n",
       "4      0.730038  "
      ]
     },
     "execution_count": 40,
     "metadata": {},
     "output_type": "execute_result"
    }
   ],
   "source": [
    "models_comparison.loc[4, \"max_depth\"] = 10\n",
    "models_comparison.loc[4, \"balance_type\"] = \"class_weight\"\n",
    "\n",
    "table_filler(model_dectree_balanced_best, \"Decision Tree\", 4)"
   ]
  },
  {
   "cell_type": "markdown",
   "metadata": {},
   "source": [
    "### Случайный лес\n",
    "\n",
    "Модель другая, логика та же. Проверяем."
   ]
  },
  {
   "cell_type": "code",
   "execution_count": 41,
   "metadata": {},
   "outputs": [
    {
     "data": {
      "text/plain": [
       "(0.5325884543761639, 17)"
      ]
     },
     "execution_count": 41,
     "metadata": {},
     "output_type": "execute_result"
    }
   ],
   "source": [
    "def rndforest_balanced_nodepth_est_finder(min_est, max_est, step):\n",
    "    f1_score_max = 0\n",
    "    auc_roc_max = 0\n",
    "    est_target = 0\n",
    "    for est in range(min_est, max_est+1, step):\n",
    "        \n",
    "#         обучаем\n",
    "        model_rndforest = RandomForestClassifier(n_estimators = est,\n",
    "                                                 class_weight = \"balanced\", random_state = 11111)\n",
    "        model_rndforest.fit(features_train, target_train)\n",
    "        \n",
    "#         ищем число \"решателей\" с максимальным значением f1\n",
    "        predict_rndforest = model_rndforest.predict(features_valid)\n",
    "        f1_score_rndforest = f1_score(target_valid, predict_rndforest)\n",
    "        if f1_score_rndforest > f1_score_max:\n",
    "            f1_score_max = f1_score_rndforest\n",
    "            est_target = est\n",
    "    return f1_score_max, est_target\n",
    "\n",
    "rndforest_balanced_nodepth_est_finder(2, 22, 5)"
   ]
  },
  {
   "cell_type": "code",
   "execution_count": 42,
   "metadata": {},
   "outputs": [
    {
     "data": {
      "text/plain": [
       "(0.5325884543761639, 17)"
      ]
     },
     "execution_count": 42,
     "metadata": {},
     "output_type": "execute_result"
    }
   ],
   "source": [
    "rndforest_balanced_nodepth_est_finder(12, 22, 1)"
   ]
  },
  {
   "cell_type": "markdown",
   "metadata": {},
   "source": [
    "АГА! Что-то новенькое. 17 \"решателей\" против 15 в предшествующем примере. Проверяем глубину."
   ]
  },
  {
   "cell_type": "code",
   "execution_count": 43,
   "metadata": {},
   "outputs": [
    {
     "data": {
      "text/plain": [
       "(0.601078167115903, 7)"
      ]
     },
     "execution_count": 43,
     "metadata": {},
     "output_type": "execute_result"
    }
   ],
   "source": [
    "def rndforest_balanced_depth_finder(min_depth, max_depth, step):\n",
    "    f1_score_max = 0\n",
    "    auc_roc_max = 0\n",
    "    depth_target = 0\n",
    "    for depth in range(min_depth, max_depth+1, step):\n",
    "        \n",
    "#         обучаем\n",
    "        model_rndforest = RandomForestClassifier(max_depth = depth, n_estimators = 17,\n",
    "                                                 class_weight = \"balanced\", random_state = 11111)\n",
    "        model_rndforest.fit(features_train, target_train)\n",
    "        \n",
    "#         ищем глубину с максимальным значением f1\n",
    "        predict_rndforest = model_rndforest.predict(features_valid)\n",
    "        f1_score_rndforest = f1_score(target_valid, predict_rndforest)\n",
    "        if f1_score_rndforest > f1_score_max:\n",
    "            f1_score_max = f1_score_rndforest\n",
    "            depth_target = depth\n",
    "    return f1_score_max, depth_target\n",
    "\n",
    "rndforest_balanced_depth_finder(2, 52, 5)"
   ]
  },
  {
   "cell_type": "code",
   "execution_count": 44,
   "metadata": {},
   "outputs": [
    {
     "data": {
      "text/plain": [
       "(0.601078167115903, 7)"
      ]
     },
     "execution_count": 44,
     "metadata": {},
     "output_type": "execute_result"
    }
   ],
   "source": [
    "rndforest_balanced_depth_finder(2,12,1)"
   ]
  },
  {
   "cell_type": "markdown",
   "metadata": {},
   "source": [
    "Глубина также \"существенно\" ниже - 7 против 25.\n",
    "Плюс, мы достигли целевого значения f1-меры = 0.59.\n",
    "Продолжаем наблюдения. Результаты - в таблицу."
   ]
  },
  {
   "cell_type": "code",
   "execution_count": 45,
   "metadata": {},
   "outputs": [
    {
     "data": {
      "text/html": [
       "<div>\n",
       "<style scoped>\n",
       "    .dataframe tbody tr th:only-of-type {\n",
       "        vertical-align: middle;\n",
       "    }\n",
       "\n",
       "    .dataframe tbody tr th {\n",
       "        vertical-align: top;\n",
       "    }\n",
       "\n",
       "    .dataframe thead th {\n",
       "        text-align: right;\n",
       "    }\n",
       "</style>\n",
       "<table border=\"1\" class=\"dataframe\">\n",
       "  <thead>\n",
       "    <tr style=\"text-align: right;\">\n",
       "      <th></th>\n",
       "      <th>model_type</th>\n",
       "      <th>max_depth</th>\n",
       "      <th>n_estimators</th>\n",
       "      <th>balance_type</th>\n",
       "      <th>f1_score</th>\n",
       "      <th>auc_roc_score</th>\n",
       "    </tr>\n",
       "  </thead>\n",
       "  <tbody>\n",
       "    <tr>\n",
       "      <td>0</td>\n",
       "      <td>Logistic regression</td>\n",
       "      <td>NaN</td>\n",
       "      <td>NaN</td>\n",
       "      <td>NaN</td>\n",
       "      <td>0.32967</td>\n",
       "      <td>0.756852</td>\n",
       "    </tr>\n",
       "    <tr>\n",
       "      <td>1</td>\n",
       "      <td>Decision Tree</td>\n",
       "      <td>10</td>\n",
       "      <td>NaN</td>\n",
       "      <td>NaN</td>\n",
       "      <td>0.535774</td>\n",
       "      <td>0.752397</td>\n",
       "    </tr>\n",
       "    <tr>\n",
       "      <td>2</td>\n",
       "      <td>Random Forest</td>\n",
       "      <td>25</td>\n",
       "      <td>15</td>\n",
       "      <td>NaN</td>\n",
       "      <td>0.578182</td>\n",
       "      <td>0.793588</td>\n",
       "    </tr>\n",
       "    <tr>\n",
       "      <td>3</td>\n",
       "      <td>Logistic regression</td>\n",
       "      <td>NaN</td>\n",
       "      <td>NaN</td>\n",
       "      <td>class_weight</td>\n",
       "      <td>0.493363</td>\n",
       "      <td>0.75879</td>\n",
       "    </tr>\n",
       "    <tr>\n",
       "      <td>4</td>\n",
       "      <td>Decision Tree</td>\n",
       "      <td>10</td>\n",
       "      <td>NaN</td>\n",
       "      <td>class_weight</td>\n",
       "      <td>0.545455</td>\n",
       "      <td>0.730038</td>\n",
       "    </tr>\n",
       "    <tr>\n",
       "      <td>5</td>\n",
       "      <td>Random Forest</td>\n",
       "      <td>7</td>\n",
       "      <td>17</td>\n",
       "      <td>class_weight</td>\n",
       "      <td>0.601078</td>\n",
       "      <td>0.830275</td>\n",
       "    </tr>\n",
       "  </tbody>\n",
       "</table>\n",
       "</div>"
      ],
      "text/plain": [
       "            model_type max_depth n_estimators  balance_type  f1_score  \\\n",
       "0  Logistic regression       NaN          NaN           NaN   0.32967   \n",
       "1        Decision Tree        10          NaN           NaN  0.535774   \n",
       "2        Random Forest        25           15           NaN  0.578182   \n",
       "3  Logistic regression       NaN          NaN  class_weight  0.493363   \n",
       "4        Decision Tree        10          NaN  class_weight  0.545455   \n",
       "5        Random Forest         7           17  class_weight  0.601078   \n",
       "\n",
       "  auc_roc_score  \n",
       "0      0.756852  \n",
       "1      0.752397  \n",
       "2      0.793588  \n",
       "3       0.75879  \n",
       "4      0.730038  \n",
       "5      0.830275  "
      ]
     },
     "execution_count": 45,
     "metadata": {},
     "output_type": "execute_result"
    }
   ],
   "source": [
    "model_rndforest_balanced_best = RandomForestClassifier(max_depth = 7, n_estimators = 17,\n",
    "                                                 class_weight = \"balanced\", random_state = 11111)\n",
    "model_rndforest_balanced_best.fit(features_train, target_train)\n",
    "\n",
    "models_list_test.append(\"model_rndforest_balanced_best\")\n",
    "\n",
    "models_comparison.loc[5, \"max_depth\"] = 7\n",
    "models_comparison.loc[5, \"n_estimators\"] = 17\n",
    "models_comparison.loc[5, \"balance_type\"] = \"class_weight\"\n",
    "\n",
    "table_filler(model_rndforest_balanced_best, \"Random Forest\", 5)"
   ]
  },
  {
   "cell_type": "markdown",
   "metadata": {},
   "source": [
    "Проверим другие способы разрешения проблемы несбалансированных классов. \n",
    "\n",
    "### 3.2 Downsampling\n",
    "\n",
    "Посмотрим на соотношение значений целевого признака в обучающей выборке."
   ]
  },
  {
   "cell_type": "code",
   "execution_count": 46,
   "metadata": {},
   "outputs": [
    {
     "data": {
      "text/plain": [
       "0    0.798714\n",
       "1    0.201286\n",
       "Name: Exited, dtype: float64"
      ]
     },
     "execution_count": 46,
     "metadata": {},
     "output_type": "execute_result"
    }
   ],
   "source": [
    "target_train.value_counts(normalize = True)"
   ]
  },
  {
   "cell_type": "markdown",
   "metadata": {},
   "source": [
    "Отрицательных значений примерно в 4 раза больше, чем положительных. Стало быть, для восстановления баланса классов \"ВНИЗ\", нам необходимо оставить 25% объектов с отрицательным значением целевого признака.\n",
    "\n",
    "Обучающая выборка содержится в переменных features_train и target_train."
   ]
  },
  {
   "cell_type": "code",
   "execution_count": 47,
   "metadata": {},
   "outputs": [
    {
     "name": "stdout",
     "output_type": "stream",
     "text": [
      "(2807, 11)\n",
      "(2807,)\n"
     ]
    }
   ],
   "source": [
    "def downsample(features, target, fraction):\n",
    "    features_zeros = features[target == 0]\n",
    "    features_ones = features[target == 1]\n",
    "    target_zeros = target[target == 0]\n",
    "    target_ones = target[target == 1]\n",
    "\n",
    "    features_downsampled = pd.concat(\n",
    "        [features_zeros.sample(frac=fraction, random_state=12345)] + [features_ones])\n",
    "    target_downsampled = pd.concat(\n",
    "        [target_zeros.sample(frac=fraction, random_state=12345)] + [target_ones])\n",
    "    \n",
    "    features_downsampled, target_downsampled = shuffle(\n",
    "        features_downsampled, target_downsampled, random_state=12345)\n",
    "    \n",
    "    return features_downsampled, target_downsampled\n",
    "\n",
    "features_downsampled, target_downsampled = downsample(features_train, target_train, 0.25)\n",
    "\n",
    "print(features_downsampled.shape)\n",
    "print(target_downsampled.shape)"
   ]
  },
  {
   "cell_type": "code",
   "execution_count": 48,
   "metadata": {},
   "outputs": [
    {
     "data": {
      "text/plain": [
       "1    1409\n",
       "0    1398\n",
       "Name: Exited, dtype: int64"
      ]
     },
     "execution_count": 48,
     "metadata": {},
     "output_type": "execute_result"
    }
   ],
   "source": [
    "target_downsampled.value_counts()"
   ]
  },
  {
   "cell_type": "markdown",
   "metadata": {},
   "source": [
    "Обучим модели на новой выборке и проверим полученные результаты на валидационной выборке."
   ]
  },
  {
   "cell_type": "code",
   "execution_count": 49,
   "metadata": {},
   "outputs": [
    {
     "name": "stdout",
     "output_type": "stream",
     "text": [
      "Значение f1_score для модели логистической регресии равно: 0.5038335158817085\n"
     ]
    }
   ],
   "source": [
    "model_logreg_downsampled = LogisticRegression(random_state = 11111, solver = 'liblinear')\n",
    "model_logreg_downsampled.fit(features_downsampled, target_downsampled)\n",
    "\n",
    "models_list_test.append(\"model_logreg_downsampled\")\n",
    "\n",
    "predict_logreg_downsampled = model_logreg_downsampled.predict(features_valid)\n",
    "f1_score_logreg_downsampled = f1_score(target_valid, predict_logreg_downsampled)\n",
    "print(\"Значение f1_score для модели логистической регресии равно:\", f1_score_logreg_downsampled)"
   ]
  },
  {
   "cell_type": "markdown",
   "metadata": {},
   "source": [
    "Ещё небольшой прирост значения f1-меры по сравнению со \"стандратной\" перебалансировкой классов. Рассчитаем значение AUC-ROC и внесем данные в таблицу."
   ]
  },
  {
   "cell_type": "code",
   "execution_count": 50,
   "metadata": {},
   "outputs": [],
   "source": [
    "probabilities_valid_logreg_downsampled = model_logreg_downsampled.predict_proba(features_valid)\n",
    "probabilities_one_valid_logreg_downsampled = probabilities_valid_logreg_downsampled[:, 1]\n",
    "auc_roc_logreg_downsampled = roc_auc_score(target_valid, probabilities_one_valid_logreg_downsampled)"
   ]
  },
  {
   "cell_type": "code",
   "execution_count": 51,
   "metadata": {},
   "outputs": [
    {
     "data": {
      "text/html": [
       "<div>\n",
       "<style scoped>\n",
       "    .dataframe tbody tr th:only-of-type {\n",
       "        vertical-align: middle;\n",
       "    }\n",
       "\n",
       "    .dataframe tbody tr th {\n",
       "        vertical-align: top;\n",
       "    }\n",
       "\n",
       "    .dataframe thead th {\n",
       "        text-align: right;\n",
       "    }\n",
       "</style>\n",
       "<table border=\"1\" class=\"dataframe\">\n",
       "  <thead>\n",
       "    <tr style=\"text-align: right;\">\n",
       "      <th></th>\n",
       "      <th>model_type</th>\n",
       "      <th>max_depth</th>\n",
       "      <th>n_estimators</th>\n",
       "      <th>balance_type</th>\n",
       "      <th>f1_score</th>\n",
       "      <th>auc_roc_score</th>\n",
       "    </tr>\n",
       "  </thead>\n",
       "  <tbody>\n",
       "    <tr>\n",
       "      <td>0</td>\n",
       "      <td>Logistic regression</td>\n",
       "      <td>NaN</td>\n",
       "      <td>NaN</td>\n",
       "      <td>NaN</td>\n",
       "      <td>0.32967</td>\n",
       "      <td>0.756852</td>\n",
       "    </tr>\n",
       "    <tr>\n",
       "      <td>1</td>\n",
       "      <td>Decision Tree</td>\n",
       "      <td>10</td>\n",
       "      <td>NaN</td>\n",
       "      <td>NaN</td>\n",
       "      <td>0.535774</td>\n",
       "      <td>0.752397</td>\n",
       "    </tr>\n",
       "    <tr>\n",
       "      <td>2</td>\n",
       "      <td>Random Forest</td>\n",
       "      <td>25</td>\n",
       "      <td>15</td>\n",
       "      <td>NaN</td>\n",
       "      <td>0.578182</td>\n",
       "      <td>0.793588</td>\n",
       "    </tr>\n",
       "    <tr>\n",
       "      <td>3</td>\n",
       "      <td>Logistic regression</td>\n",
       "      <td>NaN</td>\n",
       "      <td>NaN</td>\n",
       "      <td>class_weight</td>\n",
       "      <td>0.493363</td>\n",
       "      <td>0.75879</td>\n",
       "    </tr>\n",
       "    <tr>\n",
       "      <td>4</td>\n",
       "      <td>Decision Tree</td>\n",
       "      <td>10</td>\n",
       "      <td>NaN</td>\n",
       "      <td>class_weight</td>\n",
       "      <td>0.545455</td>\n",
       "      <td>0.730038</td>\n",
       "    </tr>\n",
       "    <tr>\n",
       "      <td>5</td>\n",
       "      <td>Random Forest</td>\n",
       "      <td>7</td>\n",
       "      <td>17</td>\n",
       "      <td>class_weight</td>\n",
       "      <td>0.601078</td>\n",
       "      <td>0.830275</td>\n",
       "    </tr>\n",
       "    <tr>\n",
       "      <td>6</td>\n",
       "      <td>Logistic regression</td>\n",
       "      <td>NaN</td>\n",
       "      <td>NaN</td>\n",
       "      <td>Downsampling</td>\n",
       "      <td>0.503834</td>\n",
       "      <td>0.759156</td>\n",
       "    </tr>\n",
       "  </tbody>\n",
       "</table>\n",
       "</div>"
      ],
      "text/plain": [
       "            model_type max_depth n_estimators  balance_type  f1_score  \\\n",
       "0  Logistic regression       NaN          NaN           NaN   0.32967   \n",
       "1        Decision Tree        10          NaN           NaN  0.535774   \n",
       "2        Random Forest        25           15           NaN  0.578182   \n",
       "3  Logistic regression       NaN          NaN  class_weight  0.493363   \n",
       "4        Decision Tree        10          NaN  class_weight  0.545455   \n",
       "5        Random Forest         7           17  class_weight  0.601078   \n",
       "6  Logistic regression       NaN          NaN  Downsampling  0.503834   \n",
       "\n",
       "  auc_roc_score  \n",
       "0      0.756852  \n",
       "1      0.752397  \n",
       "2      0.793588  \n",
       "3       0.75879  \n",
       "4      0.730038  \n",
       "5      0.830275  \n",
       "6      0.759156  "
      ]
     },
     "execution_count": 51,
     "metadata": {},
     "output_type": "execute_result"
    }
   ],
   "source": [
    "models_comparison.loc[6, \"model_type\"] = \"Logistic regression\"\n",
    "models_comparison.loc[6, \"f1_score\"] = f1_score_logreg_downsampled\n",
    "models_comparison.loc[6, \"balance_type\"] = \"Downsampling\"\n",
    "models_comparison.loc[6, \"auc_roc_score\"] = auc_roc_logreg_downsampled\n",
    "models_comparison"
   ]
  },
  {
   "cell_type": "markdown",
   "metadata": {},
   "source": [
    "Прирост показателя AUC-ROC в сравнении с предшествующими методиками балансировки незначителен. Переходим к решающему дереву.\n",
    "\n",
    "### Решающее дерево"
   ]
  },
  {
   "cell_type": "code",
   "execution_count": 52,
   "metadata": {},
   "outputs": [
    {
     "data": {
      "text/plain": [
       "(0.5435779816513762, 7)"
      ]
     },
     "execution_count": 52,
     "metadata": {},
     "output_type": "execute_result"
    }
   ],
   "source": [
    "def dectree_depth_downsampled_finder(min_depth, max_depth, step):\n",
    "    f1_score_max = 0\n",
    "    auc_roc_max = 0\n",
    "    depth_target = 0\n",
    "    for depth in range(min_depth, max_depth+1, step):\n",
    "        \n",
    "#         обучаем\n",
    "        model_dectree = DecisionTreeClassifier(max_depth = depth, random_state = 11111)\n",
    "        model_dectree.fit(features_downsampled, target_downsampled)\n",
    "        \n",
    "#         ищем глубину с максимальным значением f1\n",
    "        predict_dectree = model_dectree.predict(features_valid)\n",
    "        f1_score_dectree = f1_score(target_valid, predict_dectree)\n",
    "        if f1_score_dectree > f1_score_max:\n",
    "            f1_score_max = f1_score_dectree\n",
    "            depth_target = depth\n",
    "    return f1_score_max, depth_target\n",
    "\n",
    "dectree_depth_downsampled_finder(2,52,5)"
   ]
  },
  {
   "cell_type": "code",
   "execution_count": 53,
   "metadata": {},
   "outputs": [
    {
     "data": {
      "text/plain": [
       "(0.5685019206145966, 6)"
      ]
     },
     "execution_count": 53,
     "metadata": {},
     "output_type": "execute_result"
    }
   ],
   "source": [
    "dectree_depth_downsampled_finder(2,7,1)"
   ]
  },
  {
   "cell_type": "markdown",
   "metadata": {},
   "source": [
    "Небольшой прирост значения F1-меры по сравнению с методикой \"стандартной\" балансировки. \n",
    "\n",
    "Внесем данные в таблицу и обратимся к случайному лесу."
   ]
  },
  {
   "cell_type": "code",
   "execution_count": 54,
   "metadata": {},
   "outputs": [],
   "source": [
    "model_dectree_downsampled_best = DecisionTreeClassifier(max_depth = 6, random_state = 11111)\n",
    "model_dectree_downsampled_best.fit(features_downsampled, target_downsampled)\n",
    "\n",
    "models_list_test.append(\"model_dectree_downsampled_best\")"
   ]
  },
  {
   "cell_type": "code",
   "execution_count": 55,
   "metadata": {},
   "outputs": [
    {
     "data": {
      "text/html": [
       "<div>\n",
       "<style scoped>\n",
       "    .dataframe tbody tr th:only-of-type {\n",
       "        vertical-align: middle;\n",
       "    }\n",
       "\n",
       "    .dataframe tbody tr th {\n",
       "        vertical-align: top;\n",
       "    }\n",
       "\n",
       "    .dataframe thead th {\n",
       "        text-align: right;\n",
       "    }\n",
       "</style>\n",
       "<table border=\"1\" class=\"dataframe\">\n",
       "  <thead>\n",
       "    <tr style=\"text-align: right;\">\n",
       "      <th></th>\n",
       "      <th>model_type</th>\n",
       "      <th>max_depth</th>\n",
       "      <th>n_estimators</th>\n",
       "      <th>balance_type</th>\n",
       "      <th>f1_score</th>\n",
       "      <th>auc_roc_score</th>\n",
       "    </tr>\n",
       "  </thead>\n",
       "  <tbody>\n",
       "    <tr>\n",
       "      <td>0</td>\n",
       "      <td>Logistic regression</td>\n",
       "      <td>NaN</td>\n",
       "      <td>NaN</td>\n",
       "      <td>NaN</td>\n",
       "      <td>0.32967</td>\n",
       "      <td>0.756852</td>\n",
       "    </tr>\n",
       "    <tr>\n",
       "      <td>1</td>\n",
       "      <td>Decision Tree</td>\n",
       "      <td>10</td>\n",
       "      <td>NaN</td>\n",
       "      <td>NaN</td>\n",
       "      <td>0.535774</td>\n",
       "      <td>0.752397</td>\n",
       "    </tr>\n",
       "    <tr>\n",
       "      <td>2</td>\n",
       "      <td>Random Forest</td>\n",
       "      <td>25</td>\n",
       "      <td>15</td>\n",
       "      <td>NaN</td>\n",
       "      <td>0.578182</td>\n",
       "      <td>0.793588</td>\n",
       "    </tr>\n",
       "    <tr>\n",
       "      <td>3</td>\n",
       "      <td>Logistic regression</td>\n",
       "      <td>NaN</td>\n",
       "      <td>NaN</td>\n",
       "      <td>class_weight</td>\n",
       "      <td>0.493363</td>\n",
       "      <td>0.75879</td>\n",
       "    </tr>\n",
       "    <tr>\n",
       "      <td>4</td>\n",
       "      <td>Decision Tree</td>\n",
       "      <td>10</td>\n",
       "      <td>NaN</td>\n",
       "      <td>class_weight</td>\n",
       "      <td>0.545455</td>\n",
       "      <td>0.730038</td>\n",
       "    </tr>\n",
       "    <tr>\n",
       "      <td>5</td>\n",
       "      <td>Random Forest</td>\n",
       "      <td>7</td>\n",
       "      <td>17</td>\n",
       "      <td>class_weight</td>\n",
       "      <td>0.601078</td>\n",
       "      <td>0.830275</td>\n",
       "    </tr>\n",
       "    <tr>\n",
       "      <td>6</td>\n",
       "      <td>Logistic regression</td>\n",
       "      <td>NaN</td>\n",
       "      <td>NaN</td>\n",
       "      <td>Downsampling</td>\n",
       "      <td>0.503834</td>\n",
       "      <td>0.759156</td>\n",
       "    </tr>\n",
       "    <tr>\n",
       "      <td>7</td>\n",
       "      <td>Decision Tree</td>\n",
       "      <td>6</td>\n",
       "      <td>NaN</td>\n",
       "      <td>Downsampling</td>\n",
       "      <td>0.568502</td>\n",
       "      <td>0.803579</td>\n",
       "    </tr>\n",
       "  </tbody>\n",
       "</table>\n",
       "</div>"
      ],
      "text/plain": [
       "            model_type max_depth n_estimators  balance_type  f1_score  \\\n",
       "0  Logistic regression       NaN          NaN           NaN   0.32967   \n",
       "1        Decision Tree        10          NaN           NaN  0.535774   \n",
       "2        Random Forest        25           15           NaN  0.578182   \n",
       "3  Logistic regression       NaN          NaN  class_weight  0.493363   \n",
       "4        Decision Tree        10          NaN  class_weight  0.545455   \n",
       "5        Random Forest         7           17  class_weight  0.601078   \n",
       "6  Logistic regression       NaN          NaN  Downsampling  0.503834   \n",
       "7        Decision Tree         6          NaN  Downsampling  0.568502   \n",
       "\n",
       "  auc_roc_score  \n",
       "0      0.756852  \n",
       "1      0.752397  \n",
       "2      0.793588  \n",
       "3       0.75879  \n",
       "4      0.730038  \n",
       "5      0.830275  \n",
       "6      0.759156  \n",
       "7      0.803579  "
      ]
     },
     "execution_count": 55,
     "metadata": {},
     "output_type": "execute_result"
    }
   ],
   "source": [
    "models_comparison.loc[7, \"max_depth\"] = 6\n",
    "models_comparison.loc[7, \"balance_type\"] = \"Downsampling\"\n",
    "table_filler(model_dectree_downsampled_best, \"Decision Tree\", 7)"
   ]
  },
  {
   "cell_type": "markdown",
   "metadata": {},
   "source": [
    "Несмотря на незначительное снижение показателя f1-меры, прирост AUC-ROC весьма и весьма значителен - почти на 10% (от 0.73 до 0.8).\n",
    "\n",
    "### Случайный лес"
   ]
  },
  {
   "cell_type": "code",
   "execution_count": 56,
   "metadata": {},
   "outputs": [
    {
     "data": {
      "text/plain": [
       "(0.5796019900497512, 22)"
      ]
     },
     "execution_count": 56,
     "metadata": {},
     "output_type": "execute_result"
    }
   ],
   "source": [
    "def rndforest_nodepth_est_downsampled_finder(min_est, max_est, step):\n",
    "    f1_score_max = 0\n",
    "    auc_roc_max = 0\n",
    "    est_target = 0\n",
    "    for est in range(min_est, max_est+1, step):\n",
    "        \n",
    "#         обучаем\n",
    "        model_rndforest = RandomForestClassifier(n_estimators = est, random_state = 11111)\n",
    "        model_rndforest.fit(features_downsampled, target_downsampled)\n",
    "        \n",
    "#         ищем число \"решателей\" с максимальным значением f1\n",
    "        predict_rndforest = model_rndforest.predict(features_valid)\n",
    "        f1_score_rndforest = f1_score(target_valid, predict_rndforest)\n",
    "        if f1_score_rndforest > f1_score_max:\n",
    "            f1_score_max = f1_score_rndforest\n",
    "            est_target = est\n",
    "    return f1_score_max, est_target\n",
    "\n",
    "rndforest_nodepth_est_downsampled_finder(2, 22, 5)"
   ]
  },
  {
   "cell_type": "markdown",
   "metadata": {},
   "source": [
    "\"Уперлись\" в 22 дерева. Расширим границы."
   ]
  },
  {
   "cell_type": "code",
   "execution_count": 57,
   "metadata": {},
   "outputs": [
    {
     "data": {
      "text/plain": [
       "(0.5827160493827162, 32)"
      ]
     },
     "execution_count": 57,
     "metadata": {},
     "output_type": "execute_result"
    }
   ],
   "source": [
    "rndforest_nodepth_est_downsampled_finder(22, 42, 5)"
   ]
  },
  {
   "cell_type": "code",
   "execution_count": 58,
   "metadata": {},
   "outputs": [
    {
     "data": {
      "text/plain": [
       "(0.5834363411619282, 28)"
      ]
     },
     "execution_count": 58,
     "metadata": {},
     "output_type": "execute_result"
    }
   ],
   "source": [
    "rndforest_nodepth_est_downsampled_finder(27, 37, 1)"
   ]
  },
  {
   "cell_type": "markdown",
   "metadata": {},
   "source": [
    "Теперь глубина."
   ]
  },
  {
   "cell_type": "code",
   "execution_count": 59,
   "metadata": {},
   "outputs": [
    {
     "data": {
      "text/plain": [
       "(0.5939393939393939, 7)"
      ]
     },
     "execution_count": 59,
     "metadata": {},
     "output_type": "execute_result"
    }
   ],
   "source": [
    "def rndforest_downsampled_depth_finder(min_depth, max_depth, step):\n",
    "    f1_score_max = 0\n",
    "    auc_roc_max = 0\n",
    "    depth_target = 0\n",
    "    for depth in range(min_depth, max_depth+1, step):\n",
    "        \n",
    "#         обучаем\n",
    "        model_rndforest = RandomForestClassifier(max_depth = depth,\n",
    "                                                 n_estimators = 28, random_state = 11111)\n",
    "        model_rndforest.fit(features_downsampled, target_downsampled)\n",
    "        \n",
    "#         ищем глубину с максимальным значением f1\n",
    "        predict_rndforest = model_rndforest.predict(features_valid)\n",
    "        f1_score_rndforest = f1_score(target_valid, predict_rndforest)\n",
    "        if f1_score_rndforest > f1_score_max:\n",
    "            f1_score_max = f1_score_rndforest\n",
    "            depth_target = depth\n",
    "    return f1_score_max, depth_target\n",
    "\n",
    "rndforest_downsampled_depth_finder(2, 52, 5)"
   ]
  },
  {
   "cell_type": "code",
   "execution_count": 60,
   "metadata": {},
   "outputs": [
    {
     "data": {
      "text/plain": [
       "(0.5961070559610706, 9)"
      ]
     },
     "execution_count": 60,
     "metadata": {},
     "output_type": "execute_result"
    }
   ],
   "source": [
    "rndforest_downsampled_depth_finder(2,12,1)"
   ]
  },
  {
   "cell_type": "markdown",
   "metadata": {},
   "source": [
    "Максимальная глубина деревьев теперь равна 9. \n",
    "\n",
    "Заносим в таблицу и переходим к \"повышающему\" методу."
   ]
  },
  {
   "cell_type": "code",
   "execution_count": 61,
   "metadata": {},
   "outputs": [],
   "source": [
    "model_rndforest_downsampled_best = RandomForestClassifier(max_depth = 9, n_estimators = 28, random_state = 11111)\n",
    "model_rndforest_downsampled_best.fit(features_downsampled, target_downsampled)\n",
    "\n",
    "models_list_test.append(\"model_rndforest_downsampled_best\")"
   ]
  },
  {
   "cell_type": "code",
   "execution_count": 62,
   "metadata": {},
   "outputs": [
    {
     "data": {
      "text/html": [
       "<div>\n",
       "<style scoped>\n",
       "    .dataframe tbody tr th:only-of-type {\n",
       "        vertical-align: middle;\n",
       "    }\n",
       "\n",
       "    .dataframe tbody tr th {\n",
       "        vertical-align: top;\n",
       "    }\n",
       "\n",
       "    .dataframe thead th {\n",
       "        text-align: right;\n",
       "    }\n",
       "</style>\n",
       "<table border=\"1\" class=\"dataframe\">\n",
       "  <thead>\n",
       "    <tr style=\"text-align: right;\">\n",
       "      <th></th>\n",
       "      <th>model_type</th>\n",
       "      <th>max_depth</th>\n",
       "      <th>n_estimators</th>\n",
       "      <th>balance_type</th>\n",
       "      <th>f1_score</th>\n",
       "      <th>auc_roc_score</th>\n",
       "    </tr>\n",
       "  </thead>\n",
       "  <tbody>\n",
       "    <tr>\n",
       "      <td>0</td>\n",
       "      <td>Logistic regression</td>\n",
       "      <td>NaN</td>\n",
       "      <td>NaN</td>\n",
       "      <td>NaN</td>\n",
       "      <td>0.32967</td>\n",
       "      <td>0.756852</td>\n",
       "    </tr>\n",
       "    <tr>\n",
       "      <td>1</td>\n",
       "      <td>Decision Tree</td>\n",
       "      <td>10</td>\n",
       "      <td>NaN</td>\n",
       "      <td>NaN</td>\n",
       "      <td>0.535774</td>\n",
       "      <td>0.752397</td>\n",
       "    </tr>\n",
       "    <tr>\n",
       "      <td>2</td>\n",
       "      <td>Random Forest</td>\n",
       "      <td>25</td>\n",
       "      <td>15</td>\n",
       "      <td>NaN</td>\n",
       "      <td>0.578182</td>\n",
       "      <td>0.793588</td>\n",
       "    </tr>\n",
       "    <tr>\n",
       "      <td>3</td>\n",
       "      <td>Logistic regression</td>\n",
       "      <td>NaN</td>\n",
       "      <td>NaN</td>\n",
       "      <td>class_weight</td>\n",
       "      <td>0.493363</td>\n",
       "      <td>0.75879</td>\n",
       "    </tr>\n",
       "    <tr>\n",
       "      <td>4</td>\n",
       "      <td>Decision Tree</td>\n",
       "      <td>10</td>\n",
       "      <td>NaN</td>\n",
       "      <td>class_weight</td>\n",
       "      <td>0.545455</td>\n",
       "      <td>0.730038</td>\n",
       "    </tr>\n",
       "    <tr>\n",
       "      <td>5</td>\n",
       "      <td>Random Forest</td>\n",
       "      <td>7</td>\n",
       "      <td>17</td>\n",
       "      <td>class_weight</td>\n",
       "      <td>0.601078</td>\n",
       "      <td>0.830275</td>\n",
       "    </tr>\n",
       "    <tr>\n",
       "      <td>6</td>\n",
       "      <td>Logistic regression</td>\n",
       "      <td>NaN</td>\n",
       "      <td>NaN</td>\n",
       "      <td>Downsampling</td>\n",
       "      <td>0.503834</td>\n",
       "      <td>0.759156</td>\n",
       "    </tr>\n",
       "    <tr>\n",
       "      <td>7</td>\n",
       "      <td>Decision Tree</td>\n",
       "      <td>6</td>\n",
       "      <td>NaN</td>\n",
       "      <td>Downsampling</td>\n",
       "      <td>0.568502</td>\n",
       "      <td>0.803579</td>\n",
       "    </tr>\n",
       "    <tr>\n",
       "      <td>8</td>\n",
       "      <td>Random Forest</td>\n",
       "      <td>9</td>\n",
       "      <td>28</td>\n",
       "      <td>Downsampling</td>\n",
       "      <td>0.596107</td>\n",
       "      <td>0.832392</td>\n",
       "    </tr>\n",
       "  </tbody>\n",
       "</table>\n",
       "</div>"
      ],
      "text/plain": [
       "            model_type max_depth n_estimators  balance_type  f1_score  \\\n",
       "0  Logistic regression       NaN          NaN           NaN   0.32967   \n",
       "1        Decision Tree        10          NaN           NaN  0.535774   \n",
       "2        Random Forest        25           15           NaN  0.578182   \n",
       "3  Logistic regression       NaN          NaN  class_weight  0.493363   \n",
       "4        Decision Tree        10          NaN  class_weight  0.545455   \n",
       "5        Random Forest         7           17  class_weight  0.601078   \n",
       "6  Logistic regression       NaN          NaN  Downsampling  0.503834   \n",
       "7        Decision Tree         6          NaN  Downsampling  0.568502   \n",
       "8        Random Forest         9           28  Downsampling  0.596107   \n",
       "\n",
       "  auc_roc_score  \n",
       "0      0.756852  \n",
       "1      0.752397  \n",
       "2      0.793588  \n",
       "3       0.75879  \n",
       "4      0.730038  \n",
       "5      0.830275  \n",
       "6      0.759156  \n",
       "7      0.803579  \n",
       "8      0.832392  "
      ]
     },
     "execution_count": 62,
     "metadata": {},
     "output_type": "execute_result"
    }
   ],
   "source": [
    "models_comparison.loc[8, \"max_depth\"] = 9\n",
    "models_comparison.loc[8, \"n_estimators\"] = 28\n",
    "\n",
    "models_comparison.loc[8, \"balance_type\"] = \"Downsampling\"\n",
    "table_filler(model_rndforest_downsampled_best, \"Random Forest\", 8)"
   ]
  },
  {
   "cell_type": "markdown",
   "metadata": {},
   "source": [
    "Снижение F1-меры по сравнению со стандартной балансировкой незначительно. Значение AUC-ROC слегка выше."
   ]
  },
  {
   "cell_type": "markdown",
   "metadata": {},
   "source": [
    "### 3.3 Upsampling\n",
    "\n",
    "Теперь вместо уменьшения в 5 раз, нам необходимо 5 раз продублировать положительные объекты и перемешать их с отрицательными в соотношении \"примерно\" 1 к 1."
   ]
  },
  {
   "cell_type": "code",
   "execution_count": 63,
   "metadata": {},
   "outputs": [
    {
     "name": "stdout",
     "output_type": "stream",
     "text": [
      "(11227, 11)\n",
      "(11227,)\n"
     ]
    }
   ],
   "source": [
    "def upsample(features, target, repeat):\n",
    "    features_zeros = features[target == 0]\n",
    "    features_ones = features[target == 1]\n",
    "    target_zeros = target[target == 0]\n",
    "    target_ones = target[target == 1]\n",
    "\n",
    "    features_upsampled = pd.concat([features_zeros] + [features_ones] * repeat)\n",
    "    target_upsampled = pd.concat([target_zeros] + [target_ones] * repeat)\n",
    "    \n",
    "    features_upsampled, target_upsampled = shuffle(\n",
    "        features_upsampled, target_upsampled, random_state=12345)\n",
    "    \n",
    "    return features_upsampled, target_upsampled\n",
    "\n",
    "features_upsampled, target_upsampled = upsample(features_train, target_train, 4)\n",
    "print(features_upsampled.shape)\n",
    "print(target_upsampled.shape)"
   ]
  },
  {
   "cell_type": "code",
   "execution_count": 64,
   "metadata": {},
   "outputs": [
    {
     "data": {
      "text/plain": [
       "1    5636\n",
       "0    5591\n",
       "Name: Exited, dtype: int64"
      ]
     },
     "execution_count": 64,
     "metadata": {},
     "output_type": "execute_result"
    }
   ],
   "source": [
    "target_upsampled.value_counts()"
   ]
  },
  {
   "cell_type": "markdown",
   "metadata": {},
   "source": [
    "Первая на очереди - модель логистической регрессии."
   ]
  },
  {
   "cell_type": "code",
   "execution_count": 65,
   "metadata": {},
   "outputs": [
    {
     "name": "stdout",
     "output_type": "stream",
     "text": [
      "Значение f1_score для модели логистической регресии со сбалансированными классами равно: 0.49227373068432667\n"
     ]
    }
   ],
   "source": [
    "model_logreg_upsampled = LogisticRegression(random_state = 11111, solver = 'liblinear')\n",
    "model_logreg_upsampled.fit(features_upsampled, target_upsampled)\n",
    "\n",
    "models_list_test.append(\"model_logreg_upsampled\")\n",
    "\n",
    "predict_logreg_upsampled = model_logreg_upsampled.predict(features_valid)\n",
    "f1_score_logreg_upsampled = f1_score(target_valid, predict_logreg_upsampled)\n",
    "\n",
    "print(\"Значение f1_score для модели логистической регресии со сбалансированными классами равно:\",\n",
    "      f1_score_logreg_upsampled)"
   ]
  },
  {
   "cell_type": "code",
   "execution_count": 66,
   "metadata": {},
   "outputs": [
    {
     "data": {
      "text/html": [
       "<div>\n",
       "<style scoped>\n",
       "    .dataframe tbody tr th:only-of-type {\n",
       "        vertical-align: middle;\n",
       "    }\n",
       "\n",
       "    .dataframe tbody tr th {\n",
       "        vertical-align: top;\n",
       "    }\n",
       "\n",
       "    .dataframe thead th {\n",
       "        text-align: right;\n",
       "    }\n",
       "</style>\n",
       "<table border=\"1\" class=\"dataframe\">\n",
       "  <thead>\n",
       "    <tr style=\"text-align: right;\">\n",
       "      <th></th>\n",
       "      <th>model_type</th>\n",
       "      <th>max_depth</th>\n",
       "      <th>n_estimators</th>\n",
       "      <th>balance_type</th>\n",
       "      <th>f1_score</th>\n",
       "      <th>auc_roc_score</th>\n",
       "    </tr>\n",
       "  </thead>\n",
       "  <tbody>\n",
       "    <tr>\n",
       "      <td>0</td>\n",
       "      <td>Logistic regression</td>\n",
       "      <td>NaN</td>\n",
       "      <td>NaN</td>\n",
       "      <td>NaN</td>\n",
       "      <td>0.32967</td>\n",
       "      <td>0.756852</td>\n",
       "    </tr>\n",
       "    <tr>\n",
       "      <td>1</td>\n",
       "      <td>Decision Tree</td>\n",
       "      <td>10</td>\n",
       "      <td>NaN</td>\n",
       "      <td>NaN</td>\n",
       "      <td>0.535774</td>\n",
       "      <td>0.752397</td>\n",
       "    </tr>\n",
       "    <tr>\n",
       "      <td>2</td>\n",
       "      <td>Random Forest</td>\n",
       "      <td>25</td>\n",
       "      <td>15</td>\n",
       "      <td>NaN</td>\n",
       "      <td>0.578182</td>\n",
       "      <td>0.793588</td>\n",
       "    </tr>\n",
       "    <tr>\n",
       "      <td>3</td>\n",
       "      <td>Logistic regression</td>\n",
       "      <td>NaN</td>\n",
       "      <td>NaN</td>\n",
       "      <td>class_weight</td>\n",
       "      <td>0.493363</td>\n",
       "      <td>0.75879</td>\n",
       "    </tr>\n",
       "    <tr>\n",
       "      <td>4</td>\n",
       "      <td>Decision Tree</td>\n",
       "      <td>10</td>\n",
       "      <td>NaN</td>\n",
       "      <td>class_weight</td>\n",
       "      <td>0.545455</td>\n",
       "      <td>0.730038</td>\n",
       "    </tr>\n",
       "    <tr>\n",
       "      <td>5</td>\n",
       "      <td>Random Forest</td>\n",
       "      <td>7</td>\n",
       "      <td>17</td>\n",
       "      <td>class_weight</td>\n",
       "      <td>0.601078</td>\n",
       "      <td>0.830275</td>\n",
       "    </tr>\n",
       "    <tr>\n",
       "      <td>6</td>\n",
       "      <td>Logistic regression</td>\n",
       "      <td>NaN</td>\n",
       "      <td>NaN</td>\n",
       "      <td>Downsampling</td>\n",
       "      <td>0.503834</td>\n",
       "      <td>0.759156</td>\n",
       "    </tr>\n",
       "    <tr>\n",
       "      <td>7</td>\n",
       "      <td>Decision Tree</td>\n",
       "      <td>6</td>\n",
       "      <td>NaN</td>\n",
       "      <td>Downsampling</td>\n",
       "      <td>0.568502</td>\n",
       "      <td>0.803579</td>\n",
       "    </tr>\n",
       "    <tr>\n",
       "      <td>8</td>\n",
       "      <td>Random Forest</td>\n",
       "      <td>9</td>\n",
       "      <td>28</td>\n",
       "      <td>Downsampling</td>\n",
       "      <td>0.596107</td>\n",
       "      <td>0.832392</td>\n",
       "    </tr>\n",
       "    <tr>\n",
       "      <td>9</td>\n",
       "      <td>Logistic regression</td>\n",
       "      <td>NaN</td>\n",
       "      <td>NaN</td>\n",
       "      <td>Upsampling</td>\n",
       "      <td>0.492274</td>\n",
       "      <td>0.75879</td>\n",
       "    </tr>\n",
       "  </tbody>\n",
       "</table>\n",
       "</div>"
      ],
      "text/plain": [
       "            model_type max_depth n_estimators  balance_type  f1_score  \\\n",
       "0  Logistic regression       NaN          NaN           NaN   0.32967   \n",
       "1        Decision Tree        10          NaN           NaN  0.535774   \n",
       "2        Random Forest        25           15           NaN  0.578182   \n",
       "3  Logistic regression       NaN          NaN  class_weight  0.493363   \n",
       "4        Decision Tree        10          NaN  class_weight  0.545455   \n",
       "5        Random Forest         7           17  class_weight  0.601078   \n",
       "6  Logistic regression       NaN          NaN  Downsampling  0.503834   \n",
       "7        Decision Tree         6          NaN  Downsampling  0.568502   \n",
       "8        Random Forest         9           28  Downsampling  0.596107   \n",
       "9  Logistic regression       NaN          NaN    Upsampling  0.492274   \n",
       "\n",
       "  auc_roc_score  \n",
       "0      0.756852  \n",
       "1      0.752397  \n",
       "2      0.793588  \n",
       "3       0.75879  \n",
       "4      0.730038  \n",
       "5      0.830275  \n",
       "6      0.759156  \n",
       "7      0.803579  \n",
       "8      0.832392  \n",
       "9       0.75879  "
      ]
     },
     "execution_count": 66,
     "metadata": {},
     "output_type": "execute_result"
    }
   ],
   "source": [
    "models_comparison.loc[9, \"model_type\"] = \"Logistic regression\"\n",
    "models_comparison.loc[9, \"balance_type\"] = \"Upsampling\"\n",
    "models_comparison.loc[9, \"f1_score\"] = f1_score_logreg_upsampled\n",
    "\n",
    "probabilities_valid_logreg_upsampled = model_logreg_upsampled.predict_proba(features_valid)\n",
    "probabilities_one_valid_logreg_upsampled = probabilities_valid_logreg_upsampled[:, 1]\n",
    "auc_roc_logreg_upsampled = roc_auc_score(target_valid, probabilities_one_valid_logreg_upsampled)\n",
    "\n",
    "models_comparison.loc[9, \"auc_roc_score\"] = auc_roc_logreg_upsampled\n",
    "models_comparison"
   ]
  },
  {
   "cell_type": "markdown",
   "metadata": {},
   "source": [
    "### Решающее дерево"
   ]
  },
  {
   "cell_type": "code",
   "execution_count": 67,
   "metadata": {},
   "outputs": [
    {
     "data": {
      "text/plain": [
       "(0.5334928229665071, 7)"
      ]
     },
     "execution_count": 67,
     "metadata": {},
     "output_type": "execute_result"
    }
   ],
   "source": [
    "def dectree_depth_upsampled_finder(min_depth, max_depth, step):\n",
    "    f1_score_max = 0\n",
    "    auc_roc_max = 0\n",
    "    depth_target = 0\n",
    "    for depth in range(min_depth, max_depth+1, step):\n",
    "        \n",
    "#         обучаем\n",
    "        model_dectree = DecisionTreeClassifier(max_depth = depth, random_state = 11111)\n",
    "        model_dectree.fit(features_upsampled, target_upsampled)\n",
    "        \n",
    "#         ищем глубину с максимальным значением f1\n",
    "        predict_dectree = model_dectree.predict(features_valid)\n",
    "        f1_score_dectree = f1_score(target_valid, predict_dectree)\n",
    "        if f1_score_dectree > f1_score_max:\n",
    "            f1_score_max = f1_score_dectree\n",
    "            depth_target = depth\n",
    "    return f1_score_max, depth_target\n",
    "\n",
    "dectree_depth_upsampled_finder(2,52,5)"
   ]
  },
  {
   "cell_type": "code",
   "execution_count": 68,
   "metadata": {},
   "outputs": [
    {
     "data": {
      "text/plain": [
       "(0.538552787663108, 5)"
      ]
     },
     "execution_count": 68,
     "metadata": {},
     "output_type": "execute_result"
    }
   ],
   "source": [
    "dectree_depth_upsampled_finder(2,12,1)"
   ]
  },
  {
   "cell_type": "markdown",
   "metadata": {},
   "source": [
    "Существенных изменений нет. Вносим в таблицу."
   ]
  },
  {
   "cell_type": "code",
   "execution_count": 69,
   "metadata": {},
   "outputs": [],
   "source": [
    "model_dectree_upsampled_best = DecisionTreeClassifier(max_depth = 5, random_state = 11111)\n",
    "model_dectree_upsampled_best.fit(features_upsampled, target_upsampled)\n",
    "\n",
    "models_list_test.append(\"model_dectree_upsampled_best\")"
   ]
  },
  {
   "cell_type": "code",
   "execution_count": 70,
   "metadata": {},
   "outputs": [
    {
     "data": {
      "text/html": [
       "<div>\n",
       "<style scoped>\n",
       "    .dataframe tbody tr th:only-of-type {\n",
       "        vertical-align: middle;\n",
       "    }\n",
       "\n",
       "    .dataframe tbody tr th {\n",
       "        vertical-align: top;\n",
       "    }\n",
       "\n",
       "    .dataframe thead th {\n",
       "        text-align: right;\n",
       "    }\n",
       "</style>\n",
       "<table border=\"1\" class=\"dataframe\">\n",
       "  <thead>\n",
       "    <tr style=\"text-align: right;\">\n",
       "      <th></th>\n",
       "      <th>model_type</th>\n",
       "      <th>max_depth</th>\n",
       "      <th>n_estimators</th>\n",
       "      <th>balance_type</th>\n",
       "      <th>f1_score</th>\n",
       "      <th>auc_roc_score</th>\n",
       "    </tr>\n",
       "  </thead>\n",
       "  <tbody>\n",
       "    <tr>\n",
       "      <td>0</td>\n",
       "      <td>Logistic regression</td>\n",
       "      <td>NaN</td>\n",
       "      <td>NaN</td>\n",
       "      <td>NaN</td>\n",
       "      <td>0.32967</td>\n",
       "      <td>0.756852</td>\n",
       "    </tr>\n",
       "    <tr>\n",
       "      <td>1</td>\n",
       "      <td>Decision Tree</td>\n",
       "      <td>10</td>\n",
       "      <td>NaN</td>\n",
       "      <td>NaN</td>\n",
       "      <td>0.535774</td>\n",
       "      <td>0.752397</td>\n",
       "    </tr>\n",
       "    <tr>\n",
       "      <td>2</td>\n",
       "      <td>Random Forest</td>\n",
       "      <td>25</td>\n",
       "      <td>15</td>\n",
       "      <td>NaN</td>\n",
       "      <td>0.578182</td>\n",
       "      <td>0.793588</td>\n",
       "    </tr>\n",
       "    <tr>\n",
       "      <td>3</td>\n",
       "      <td>Logistic regression</td>\n",
       "      <td>NaN</td>\n",
       "      <td>NaN</td>\n",
       "      <td>class_weight</td>\n",
       "      <td>0.493363</td>\n",
       "      <td>0.75879</td>\n",
       "    </tr>\n",
       "    <tr>\n",
       "      <td>4</td>\n",
       "      <td>Decision Tree</td>\n",
       "      <td>10</td>\n",
       "      <td>NaN</td>\n",
       "      <td>class_weight</td>\n",
       "      <td>0.545455</td>\n",
       "      <td>0.730038</td>\n",
       "    </tr>\n",
       "    <tr>\n",
       "      <td>5</td>\n",
       "      <td>Random Forest</td>\n",
       "      <td>7</td>\n",
       "      <td>17</td>\n",
       "      <td>class_weight</td>\n",
       "      <td>0.601078</td>\n",
       "      <td>0.830275</td>\n",
       "    </tr>\n",
       "    <tr>\n",
       "      <td>6</td>\n",
       "      <td>Logistic regression</td>\n",
       "      <td>NaN</td>\n",
       "      <td>NaN</td>\n",
       "      <td>Downsampling</td>\n",
       "      <td>0.503834</td>\n",
       "      <td>0.759156</td>\n",
       "    </tr>\n",
       "    <tr>\n",
       "      <td>7</td>\n",
       "      <td>Decision Tree</td>\n",
       "      <td>6</td>\n",
       "      <td>NaN</td>\n",
       "      <td>Downsampling</td>\n",
       "      <td>0.568502</td>\n",
       "      <td>0.803579</td>\n",
       "    </tr>\n",
       "    <tr>\n",
       "      <td>8</td>\n",
       "      <td>Random Forest</td>\n",
       "      <td>9</td>\n",
       "      <td>28</td>\n",
       "      <td>Downsampling</td>\n",
       "      <td>0.596107</td>\n",
       "      <td>0.832392</td>\n",
       "    </tr>\n",
       "    <tr>\n",
       "      <td>9</td>\n",
       "      <td>Logistic regression</td>\n",
       "      <td>NaN</td>\n",
       "      <td>NaN</td>\n",
       "      <td>Upsampling</td>\n",
       "      <td>0.492274</td>\n",
       "      <td>0.75879</td>\n",
       "    </tr>\n",
       "    <tr>\n",
       "      <td>10</td>\n",
       "      <td>Decision Tree</td>\n",
       "      <td>5</td>\n",
       "      <td>NaN</td>\n",
       "      <td>Upsampling</td>\n",
       "      <td>0.538553</td>\n",
       "      <td>0.80922</td>\n",
       "    </tr>\n",
       "  </tbody>\n",
       "</table>\n",
       "</div>"
      ],
      "text/plain": [
       "             model_type max_depth n_estimators  balance_type  f1_score  \\\n",
       "0   Logistic regression       NaN          NaN           NaN   0.32967   \n",
       "1         Decision Tree        10          NaN           NaN  0.535774   \n",
       "2         Random Forest        25           15           NaN  0.578182   \n",
       "3   Logistic regression       NaN          NaN  class_weight  0.493363   \n",
       "4         Decision Tree        10          NaN  class_weight  0.545455   \n",
       "5         Random Forest         7           17  class_weight  0.601078   \n",
       "6   Logistic regression       NaN          NaN  Downsampling  0.503834   \n",
       "7         Decision Tree         6          NaN  Downsampling  0.568502   \n",
       "8         Random Forest         9           28  Downsampling  0.596107   \n",
       "9   Logistic regression       NaN          NaN    Upsampling  0.492274   \n",
       "10        Decision Tree         5          NaN    Upsampling  0.538553   \n",
       "\n",
       "   auc_roc_score  \n",
       "0       0.756852  \n",
       "1       0.752397  \n",
       "2       0.793588  \n",
       "3        0.75879  \n",
       "4       0.730038  \n",
       "5       0.830275  \n",
       "6       0.759156  \n",
       "7       0.803579  \n",
       "8       0.832392  \n",
       "9        0.75879  \n",
       "10       0.80922  "
      ]
     },
     "execution_count": 70,
     "metadata": {},
     "output_type": "execute_result"
    }
   ],
   "source": [
    "models_comparison.loc[10, \"max_depth\"] = 5\n",
    "models_comparison.loc[10, \"balance_type\"] = \"Upsampling\"\n",
    "table_filler(model_dectree_upsampled_best, \"Decision Tree\", 10)"
   ]
  },
  {
   "cell_type": "markdown",
   "metadata": {},
   "source": [
    "### Случайный лес"
   ]
  },
  {
   "cell_type": "code",
   "execution_count": 71,
   "metadata": {},
   "outputs": [
    {
     "data": {
      "text/plain": [
       "(0.5935483870967742, 17)"
      ]
     },
     "execution_count": 71,
     "metadata": {},
     "output_type": "execute_result"
    }
   ],
   "source": [
    "def rndforest_nodepth_est_upsampled_finder(min_est, max_est, step):\n",
    "    f1_score_max = 0\n",
    "    auc_roc_max = 0\n",
    "    est_target = 0\n",
    "    for est in range(min_est, max_est+1, step):\n",
    "        \n",
    "#         обучаем\n",
    "        model_rndforest = RandomForestClassifier(n_estimators = est, random_state = 11111)\n",
    "        model_rndforest.fit(features_upsampled, target_upsampled)\n",
    "        \n",
    "#         ищем число \"решателей\" с максимальным значением f1\n",
    "        predict_rndforest = model_rndforest.predict(features_valid)\n",
    "        f1_score_rndforest = f1_score(target_valid, predict_rndforest)\n",
    "        if f1_score_rndforest > f1_score_max:\n",
    "            f1_score_max = f1_score_rndforest\n",
    "            est_target = est\n",
    "    return f1_score_max, est_target\n",
    "\n",
    "rndforest_nodepth_est_upsampled_finder(2, 22, 5)"
   ]
  },
  {
   "cell_type": "code",
   "execution_count": 72,
   "metadata": {},
   "outputs": [
    {
     "data": {
      "text/plain": [
       "(0.5935483870967742, 17)"
      ]
     },
     "execution_count": 72,
     "metadata": {},
     "output_type": "execute_result"
    }
   ],
   "source": [
    "rndforest_nodepth_est_upsampled_finder(12,22,1)"
   ]
  },
  {
   "cell_type": "markdown",
   "metadata": {},
   "source": [
    "17 решателей мы уже встречали прежде."
   ]
  },
  {
   "cell_type": "code",
   "execution_count": 73,
   "metadata": {},
   "outputs": [
    {
     "data": {
      "text/plain": [
       "(0.6072607260726073, 22)"
      ]
     },
     "execution_count": 73,
     "metadata": {},
     "output_type": "execute_result"
    }
   ],
   "source": [
    "def rndforest_upsampled_depth_finder(min_depth, max_depth, step):\n",
    "    f1_score_max = 0\n",
    "    auc_roc_max = 0\n",
    "    depth_target = 0\n",
    "    for depth in range(min_depth, max_depth+1, step):\n",
    "        \n",
    "#         обучаем\n",
    "        model_rndforest = RandomForestClassifier(max_depth = depth,\n",
    "                                                 n_estimators = 17, random_state = 11111)\n",
    "        model_rndforest.fit(features_upsampled, target_upsampled)\n",
    "        \n",
    "#         ищем глубину с максимальным значением f1\n",
    "        predict_rndforest = model_rndforest.predict(features_valid)\n",
    "        f1_score_rndforest = f1_score(target_valid, predict_rndforest)\n",
    "        if f1_score_rndforest > f1_score_max:\n",
    "            f1_score_max = f1_score_rndforest\n",
    "            depth_target = depth\n",
    "    return f1_score_max, depth_target\n",
    "\n",
    "rndforest_upsampled_depth_finder(2, 52, 5)"
   ]
  },
  {
   "cell_type": "code",
   "execution_count": 74,
   "metadata": {},
   "outputs": [
    {
     "data": {
      "text/plain": [
       "(0.6072607260726073, 22)"
      ]
     },
     "execution_count": 74,
     "metadata": {},
     "output_type": "execute_result"
    }
   ],
   "source": [
    "rndforest_upsampled_depth_finder(17,27,1)"
   ]
  },
  {
   "cell_type": "markdown",
   "metadata": {},
   "source": [
    "Перед нами максимальное значение F1-меры в этом проекте."
   ]
  },
  {
   "cell_type": "code",
   "execution_count": 75,
   "metadata": {},
   "outputs": [],
   "source": [
    "model_rndforest_upsampled_best = RandomForestClassifier(max_depth = 22, n_estimators = 17, random_state = 11111)\n",
    "model_rndforest_upsampled_best.fit(features_upsampled, target_upsampled)\n",
    "\n",
    "models_list_test.append(\"model_rndforest_upsampled_best\")"
   ]
  },
  {
   "cell_type": "code",
   "execution_count": 76,
   "metadata": {},
   "outputs": [
    {
     "data": {
      "text/html": [
       "<div>\n",
       "<style scoped>\n",
       "    .dataframe tbody tr th:only-of-type {\n",
       "        vertical-align: middle;\n",
       "    }\n",
       "\n",
       "    .dataframe tbody tr th {\n",
       "        vertical-align: top;\n",
       "    }\n",
       "\n",
       "    .dataframe thead th {\n",
       "        text-align: right;\n",
       "    }\n",
       "</style>\n",
       "<table border=\"1\" class=\"dataframe\">\n",
       "  <thead>\n",
       "    <tr style=\"text-align: right;\">\n",
       "      <th></th>\n",
       "      <th>model_type</th>\n",
       "      <th>max_depth</th>\n",
       "      <th>n_estimators</th>\n",
       "      <th>balance_type</th>\n",
       "      <th>f1_score</th>\n",
       "      <th>auc_roc_score</th>\n",
       "    </tr>\n",
       "  </thead>\n",
       "  <tbody>\n",
       "    <tr>\n",
       "      <td>0</td>\n",
       "      <td>Logistic regression</td>\n",
       "      <td>-</td>\n",
       "      <td>-</td>\n",
       "      <td>-</td>\n",
       "      <td>0.329670</td>\n",
       "      <td>0.756852</td>\n",
       "    </tr>\n",
       "    <tr>\n",
       "      <td>1</td>\n",
       "      <td>Decision Tree</td>\n",
       "      <td>10</td>\n",
       "      <td>-</td>\n",
       "      <td>-</td>\n",
       "      <td>0.535774</td>\n",
       "      <td>0.752397</td>\n",
       "    </tr>\n",
       "    <tr>\n",
       "      <td>2</td>\n",
       "      <td>Random Forest</td>\n",
       "      <td>25</td>\n",
       "      <td>15</td>\n",
       "      <td>-</td>\n",
       "      <td>0.578182</td>\n",
       "      <td>0.793588</td>\n",
       "    </tr>\n",
       "    <tr>\n",
       "      <td>3</td>\n",
       "      <td>Logistic regression</td>\n",
       "      <td>-</td>\n",
       "      <td>-</td>\n",
       "      <td>class_weight</td>\n",
       "      <td>0.493363</td>\n",
       "      <td>0.758790</td>\n",
       "    </tr>\n",
       "    <tr>\n",
       "      <td>4</td>\n",
       "      <td>Decision Tree</td>\n",
       "      <td>10</td>\n",
       "      <td>-</td>\n",
       "      <td>class_weight</td>\n",
       "      <td>0.545455</td>\n",
       "      <td>0.730038</td>\n",
       "    </tr>\n",
       "    <tr>\n",
       "      <td>5</td>\n",
       "      <td>Random Forest</td>\n",
       "      <td>7</td>\n",
       "      <td>17</td>\n",
       "      <td>class_weight</td>\n",
       "      <td>0.601078</td>\n",
       "      <td>0.830275</td>\n",
       "    </tr>\n",
       "    <tr>\n",
       "      <td>6</td>\n",
       "      <td>Logistic regression</td>\n",
       "      <td>-</td>\n",
       "      <td>-</td>\n",
       "      <td>Downsampling</td>\n",
       "      <td>0.503834</td>\n",
       "      <td>0.759156</td>\n",
       "    </tr>\n",
       "    <tr>\n",
       "      <td>7</td>\n",
       "      <td>Decision Tree</td>\n",
       "      <td>6</td>\n",
       "      <td>-</td>\n",
       "      <td>Downsampling</td>\n",
       "      <td>0.568502</td>\n",
       "      <td>0.803579</td>\n",
       "    </tr>\n",
       "    <tr>\n",
       "      <td>8</td>\n",
       "      <td>Random Forest</td>\n",
       "      <td>9</td>\n",
       "      <td>28</td>\n",
       "      <td>Downsampling</td>\n",
       "      <td>0.596107</td>\n",
       "      <td>0.832392</td>\n",
       "    </tr>\n",
       "    <tr>\n",
       "      <td>9</td>\n",
       "      <td>Logistic regression</td>\n",
       "      <td>-</td>\n",
       "      <td>-</td>\n",
       "      <td>Upsampling</td>\n",
       "      <td>0.492274</td>\n",
       "      <td>0.758790</td>\n",
       "    </tr>\n",
       "    <tr>\n",
       "      <td>10</td>\n",
       "      <td>Decision Tree</td>\n",
       "      <td>5</td>\n",
       "      <td>-</td>\n",
       "      <td>Upsampling</td>\n",
       "      <td>0.538553</td>\n",
       "      <td>0.809220</td>\n",
       "    </tr>\n",
       "    <tr>\n",
       "      <td>11</td>\n",
       "      <td>Random Forest</td>\n",
       "      <td>22</td>\n",
       "      <td>17</td>\n",
       "      <td>Upsampling</td>\n",
       "      <td>0.607261</td>\n",
       "      <td>0.810793</td>\n",
       "    </tr>\n",
       "  </tbody>\n",
       "</table>\n",
       "</div>"
      ],
      "text/plain": [
       "             model_type max_depth n_estimators  balance_type  f1_score  \\\n",
       "0   Logistic regression         -            -             -  0.329670   \n",
       "1         Decision Tree        10            -             -  0.535774   \n",
       "2         Random Forest        25           15             -  0.578182   \n",
       "3   Logistic regression         -            -  class_weight  0.493363   \n",
       "4         Decision Tree        10            -  class_weight  0.545455   \n",
       "5         Random Forest         7           17  class_weight  0.601078   \n",
       "6   Logistic regression         -            -  Downsampling  0.503834   \n",
       "7         Decision Tree         6            -  Downsampling  0.568502   \n",
       "8         Random Forest         9           28  Downsampling  0.596107   \n",
       "9   Logistic regression         -            -    Upsampling  0.492274   \n",
       "10        Decision Tree         5            -    Upsampling  0.538553   \n",
       "11        Random Forest        22           17    Upsampling  0.607261   \n",
       "\n",
       "    auc_roc_score  \n",
       "0        0.756852  \n",
       "1        0.752397  \n",
       "2        0.793588  \n",
       "3        0.758790  \n",
       "4        0.730038  \n",
       "5        0.830275  \n",
       "6        0.759156  \n",
       "7        0.803579  \n",
       "8        0.832392  \n",
       "9        0.758790  \n",
       "10       0.809220  \n",
       "11       0.810793  "
      ]
     },
     "execution_count": 76,
     "metadata": {},
     "output_type": "execute_result"
    }
   ],
   "source": [
    "models_comparison.loc[11, \"max_depth\"] = 22\n",
    "models_comparison.loc[11, \"n_estimators\"] = 17\n",
    "\n",
    "models_comparison.loc[11, \"balance_type\"] = \"Upsampling\"\n",
    "table_filler(model_rndforest_upsampled_best, \"Random Forest\", 11)\n",
    "\n",
    "models_comparison = models_comparison.fillna(\"-\")\n",
    "models_comparison"
   ]
  },
  {
   "cell_type": "markdown",
   "metadata": {},
   "source": [
    "Перед нами итоговая таблица. 12 строк, 3 метода, 3 способа балансировки. Проверим полученные результаты на тестовой выборке, добавим соответствующие столбцы и подведем итоги нашего эксперимента."
   ]
  },
  {
   "cell_type": "markdown",
   "metadata": {},
   "source": [
    "### Выводы по разделу 3"
   ]
  },
  {
   "cell_type": "markdown",
   "metadata": {},
   "source": [
    "Вынесем собранную таблицу в графический вид и оценим проделанную работу."
   ]
  },
  {
   "cell_type": "code",
   "execution_count": 77,
   "metadata": {},
   "outputs": [
    {
     "data": {
      "text/plain": [
       "<matplotlib.collections.LineCollection at 0x7f38ac92bf90>"
      ]
     },
     "execution_count": 77,
     "metadata": {},
     "output_type": "execute_result"
    },
    {
     "data": {
      "image/png": "[encoded data removed]",
      "text/plain": [
       "<Figure size 720x432 with 1 Axes>"
      ]
     },
     "metadata": {
      "needs_background": "light"
     },
     "output_type": "display_data"
    }
   ],
   "source": [
    "categories = np.unique(models_comparison['model_type'])\n",
    "\n",
    "plt.figure(figsize=(10, 6))\n",
    "colors = ['yellow', 'green', 'blue']\n",
    "\n",
    "for i, model_type in enumerate(categories):\n",
    "    plt.scatter(\"auc_roc_score\", \"f1_score\",\n",
    "                data=models_comparison.loc[models_comparison.model_type==model_type, :],\n",
    "                color = colors[i], s = 50)\n",
    "    \n",
    "plt.gca().set(xlim=(0.7, 0.9), ylim=(0.3, 0.7), xlabel='AUC_ROC_score', ylabel='F1_score')\n",
    "plt.legend(('Decision Tree', 'Logistic regression', 'Random Forest'))\n",
    "plt.hlines(0.59, 0.7, 0.9, color=\"red\", linewidth=1)"
   ]
  },
  {
   "cell_type": "markdown",
   "metadata": {},
   "source": [
    "1. Исходя из результатов, полученных на валидационной выборке, заданному условию соответствует модели типа \"случайный лес\". Модели других типов \"не дотягивают\" по значению F1-меры, несмотря на относительно близкие значения AUC-ROC.\n",
    "2. Балансировка классов практически не влияет на показатель AUC-ROC модели логистической регрессии. При этом прирост показателя F1-меры существенен по сравнению с \"несбалансированными\" обучающими данными и практически не зависит от способам балансировки.\n",
    "3. Напротив, балансировка классов модели случайного дерева сопровождается изменением показателя AUC-ROC как в меньшую (class-weight), так и большую сторону (UP- и DOWN-) по сравнению с \"несбалансированным набором). Прирост значений F1-меры при это также присутствует, однако, он существенно меньше разницы, полученной для лог.рег. Также налицо \"высокий\" разброс полученных значений в зависимости от способа балансировки.\n",
    "4. Для модели типа \"случайный лес\" получены наибольшие сочетаний значений F1-меры и AUC-ROC. Вне зависимости от типа балансировки, она сопровождается приростом обоих показателей качества модели. Вероятно, преимущества использования данной модели отчасти компенсируются МНОГО большим временем обучения, а также риском переобучения. \n",
    "5. Так или иначе, \"жизнеспособность\" разработанных моделей будет проверена на тестовой выборке данных.\n"
   ]
  },
  {
   "cell_type": "markdown",
   "metadata": {},
   "source": [
    "# 4. Тестирование модели"
   ]
  },
  {
   "cell_type": "markdown",
   "metadata": {},
   "source": [
    "Для тестирования моделей у нас давным-давно лежит тестовый набор данных на 1500 объектов.\n",
    "Добавим в таблицу 2 столбца - \"F1_score_test\" и \"auc_roc_score_test\". \n",
    "Найдем \"тестовые\" значения показателей качества для тестовых данных и внесем их в сводную таблицу."
   ]
  },
  {
   "cell_type": "code",
   "execution_count": 78,
   "metadata": {},
   "outputs": [
    {
     "data": {
      "text/plain": [
       "['model_logreg',\n",
       " 'model_dectree_best',\n",
       " 'model_rndforest_best',\n",
       " 'model_logreg_balanced',\n",
       " 'model_dectree_balanced_best',\n",
       " 'model_rndforest_balanced_best',\n",
       " 'model_logreg_downsampled',\n",
       " 'model_dectree_downsampled_best',\n",
       " 'model_rndforest_downsampled_best',\n",
       " 'model_logreg_upsampled',\n",
       " 'model_dectree_upsampled_best',\n",
       " 'model_rndforest_upsampled_best']"
      ]
     },
     "execution_count": 78,
     "metadata": {},
     "output_type": "execute_result"
    }
   ],
   "source": [
    "models_comparison[\"f1_score_test\"] = \"\"\n",
    "models_comparison[\"auc_roc_score_test\"] = \"\"\n",
    "models_list_test"
   ]
  },
  {
   "cell_type": "markdown",
   "metadata": {},
   "source": [
    "Сделаем функцию, для внесения данных в таблицу. Перечень моделей, которые мы будем тестировать мы собирали параллельно с заполнение таблицы в отдельный список \"models_list_test\""
   ]
  },
  {
   "cell_type": "code",
   "execution_count": 79,
   "metadata": {
    "scrolled": true
   },
   "outputs": [
    {
     "data": {
      "text/html": [
       "<div>\n",
       "<style scoped>\n",
       "    .dataframe tbody tr th:only-of-type {\n",
       "        vertical-align: middle;\n",
       "    }\n",
       "\n",
       "    .dataframe tbody tr th {\n",
       "        vertical-align: top;\n",
       "    }\n",
       "\n",
       "    .dataframe thead th {\n",
       "        text-align: right;\n",
       "    }\n",
       "</style>\n",
       "<table border=\"1\" class=\"dataframe\">\n",
       "  <thead>\n",
       "    <tr style=\"text-align: right;\">\n",
       "      <th></th>\n",
       "      <th>model_type</th>\n",
       "      <th>max_depth</th>\n",
       "      <th>n_estimators</th>\n",
       "      <th>balance_type</th>\n",
       "      <th>f1_score</th>\n",
       "      <th>auc_roc_score</th>\n",
       "      <th>f1_score_test</th>\n",
       "      <th>auc_roc_score_test</th>\n",
       "    </tr>\n",
       "  </thead>\n",
       "  <tbody>\n",
       "    <tr>\n",
       "      <td>0</td>\n",
       "      <td>Logistic regression</td>\n",
       "      <td>-</td>\n",
       "      <td>-</td>\n",
       "      <td>-</td>\n",
       "      <td>0.329670</td>\n",
       "      <td>0.756852</td>\n",
       "      <td>0.267352</td>\n",
       "      <td>0.758294</td>\n",
       "    </tr>\n",
       "    <tr>\n",
       "      <td>1</td>\n",
       "      <td>Decision Tree</td>\n",
       "      <td>10</td>\n",
       "      <td>-</td>\n",
       "      <td>-</td>\n",
       "      <td>0.535774</td>\n",
       "      <td>0.752397</td>\n",
       "      <td>0.537037</td>\n",
       "      <td>0.795462</td>\n",
       "    </tr>\n",
       "    <tr>\n",
       "      <td>2</td>\n",
       "      <td>Random Forest</td>\n",
       "      <td>25</td>\n",
       "      <td>15</td>\n",
       "      <td>-</td>\n",
       "      <td>0.578182</td>\n",
       "      <td>0.793588</td>\n",
       "      <td>0.566735</td>\n",
       "      <td>0.824064</td>\n",
       "    </tr>\n",
       "    <tr>\n",
       "      <td>3</td>\n",
       "      <td>Logistic regression</td>\n",
       "      <td>-</td>\n",
       "      <td>-</td>\n",
       "      <td>class_weight</td>\n",
       "      <td>0.493363</td>\n",
       "      <td>0.758790</td>\n",
       "      <td>0.489647</td>\n",
       "      <td>0.765686</td>\n",
       "    </tr>\n",
       "    <tr>\n",
       "      <td>4</td>\n",
       "      <td>Decision Tree</td>\n",
       "      <td>10</td>\n",
       "      <td>-</td>\n",
       "      <td>class_weight</td>\n",
       "      <td>0.545455</td>\n",
       "      <td>0.730038</td>\n",
       "      <td>0.548341</td>\n",
       "      <td>0.770015</td>\n",
       "    </tr>\n",
       "    <tr>\n",
       "      <td>5</td>\n",
       "      <td>Random Forest</td>\n",
       "      <td>7</td>\n",
       "      <td>17</td>\n",
       "      <td>class_weight</td>\n",
       "      <td>0.601078</td>\n",
       "      <td>0.830275</td>\n",
       "      <td>0.597285</td>\n",
       "      <td>0.85558</td>\n",
       "    </tr>\n",
       "    <tr>\n",
       "      <td>6</td>\n",
       "      <td>Logistic regression</td>\n",
       "      <td>-</td>\n",
       "      <td>-</td>\n",
       "      <td>Downsampling</td>\n",
       "      <td>0.503834</td>\n",
       "      <td>0.759156</td>\n",
       "      <td>0.480287</td>\n",
       "      <td>0.763</td>\n",
       "    </tr>\n",
       "    <tr>\n",
       "      <td>7</td>\n",
       "      <td>Decision Tree</td>\n",
       "      <td>6</td>\n",
       "      <td>-</td>\n",
       "      <td>Downsampling</td>\n",
       "      <td>0.568502</td>\n",
       "      <td>0.803579</td>\n",
       "      <td>0.539326</td>\n",
       "      <td>0.818743</td>\n",
       "    </tr>\n",
       "    <tr>\n",
       "      <td>8</td>\n",
       "      <td>Random Forest</td>\n",
       "      <td>9</td>\n",
       "      <td>28</td>\n",
       "      <td>Downsampling</td>\n",
       "      <td>0.596107</td>\n",
       "      <td>0.832392</td>\n",
       "      <td>0.580027</td>\n",
       "      <td>0.851971</td>\n",
       "    </tr>\n",
       "    <tr>\n",
       "      <td>9</td>\n",
       "      <td>Logistic regression</td>\n",
       "      <td>-</td>\n",
       "      <td>-</td>\n",
       "      <td>Upsampling</td>\n",
       "      <td>0.492274</td>\n",
       "      <td>0.758790</td>\n",
       "      <td>0.491525</td>\n",
       "      <td>0.765717</td>\n",
       "    </tr>\n",
       "    <tr>\n",
       "      <td>10</td>\n",
       "      <td>Decision Tree</td>\n",
       "      <td>5</td>\n",
       "      <td>-</td>\n",
       "      <td>Upsampling</td>\n",
       "      <td>0.538553</td>\n",
       "      <td>0.809220</td>\n",
       "      <td>0.553191</td>\n",
       "      <td>0.832747</td>\n",
       "    </tr>\n",
       "    <tr>\n",
       "      <td>11</td>\n",
       "      <td>Random Forest</td>\n",
       "      <td>22</td>\n",
       "      <td>17</td>\n",
       "      <td>Upsampling</td>\n",
       "      <td>0.607261</td>\n",
       "      <td>0.810793</td>\n",
       "      <td>0.5878</td>\n",
       "      <td>0.843872</td>\n",
       "    </tr>\n",
       "  </tbody>\n",
       "</table>\n",
       "</div>"
      ],
      "text/plain": [
       "             model_type max_depth n_estimators  balance_type  f1_score  \\\n",
       "0   Logistic regression         -            -             -  0.329670   \n",
       "1         Decision Tree        10            -             -  0.535774   \n",
       "2         Random Forest        25           15             -  0.578182   \n",
       "3   Logistic regression         -            -  class_weight  0.493363   \n",
       "4         Decision Tree        10            -  class_weight  0.545455   \n",
       "5         Random Forest         7           17  class_weight  0.601078   \n",
       "6   Logistic regression         -            -  Downsampling  0.503834   \n",
       "7         Decision Tree         6            -  Downsampling  0.568502   \n",
       "8         Random Forest         9           28  Downsampling  0.596107   \n",
       "9   Logistic regression         -            -    Upsampling  0.492274   \n",
       "10        Decision Tree         5            -    Upsampling  0.538553   \n",
       "11        Random Forest        22           17    Upsampling  0.607261   \n",
       "\n",
       "    auc_roc_score f1_score_test auc_roc_score_test  \n",
       "0        0.756852      0.267352           0.758294  \n",
       "1        0.752397      0.537037           0.795462  \n",
       "2        0.793588      0.566735           0.824064  \n",
       "3        0.758790      0.489647           0.765686  \n",
       "4        0.730038      0.548341           0.770015  \n",
       "5        0.830275      0.597285            0.85558  \n",
       "6        0.759156      0.480287              0.763  \n",
       "7        0.803579      0.539326           0.818743  \n",
       "8        0.832392      0.580027           0.851971  \n",
       "9        0.758790      0.491525           0.765717  \n",
       "10       0.809220      0.553191           0.832747  \n",
       "11       0.810793        0.5878           0.843872  "
      ]
     },
     "execution_count": 79,
     "metadata": {},
     "output_type": "execute_result"
    }
   ],
   "source": [
    "def table_filler_test(model_name, row_number):\n",
    "    predicted_test = model_name.predict(features_test)\n",
    "    f1_score_model_test = f1_score(target_test, predicted_test)\n",
    "        \n",
    "    probabilities_test = model_name.predict_proba(features_test)\n",
    "    probabilities_one_test = probabilities_test[:, 1]\n",
    "    auc_roc_model_test = roc_auc_score(target_test, probabilities_one_test)\n",
    "        \n",
    "    models_comparison.loc[row_number, \"f1_score_test\"] = f1_score_model_test\n",
    "    models_comparison.loc[row_number, \"auc_roc_score_test\"] = auc_roc_model_test\n",
    "    \n",
    "    return models_comparison\n",
    "\n",
    "table_filler_test(model_logreg, 0)\n",
    "table_filler_test(model_dectree_best, 1)\n",
    "table_filler_test(model_rndforest_best, 2)\n",
    "table_filler_test(model_logreg_balanced, 3)\n",
    "table_filler_test(model_dectree_balanced_best, 4)\n",
    "table_filler_test(model_rndforest_balanced_best, 5)\n",
    "table_filler_test(model_logreg_downsampled, 6)\n",
    "table_filler_test(model_dectree_downsampled_best, 7)\n",
    "table_filler_test(model_rndforest_downsampled_best, 8)\n",
    "table_filler_test(model_logreg_upsampled, 9)\n",
    "table_filler_test(model_dectree_upsampled_best, 10)\n",
    "table_filler_test(model_rndforest_upsampled_best, 11)"
   ]
  },
  {
   "cell_type": "markdown",
   "metadata": {},
   "source": [
    "Изменения в показателях для тестовой и валидационной выборки налицо. Составим \"итоговую таблицу\", в которую включим все модели, соответствующие условиям задачи."
   ]
  },
  {
   "cell_type": "code",
   "execution_count": 80,
   "metadata": {},
   "outputs": [
    {
     "data": {
      "text/html": [
       "<div>\n",
       "<style scoped>\n",
       "    .dataframe tbody tr th:only-of-type {\n",
       "        vertical-align: middle;\n",
       "    }\n",
       "\n",
       "    .dataframe tbody tr th {\n",
       "        vertical-align: top;\n",
       "    }\n",
       "\n",
       "    .dataframe thead th {\n",
       "        text-align: right;\n",
       "    }\n",
       "</style>\n",
       "<table border=\"1\" class=\"dataframe\">\n",
       "  <thead>\n",
       "    <tr style=\"text-align: right;\">\n",
       "      <th></th>\n",
       "      <th>model_type</th>\n",
       "      <th>max_depth</th>\n",
       "      <th>n_estimators</th>\n",
       "      <th>balance_type</th>\n",
       "      <th>f1_score</th>\n",
       "      <th>auc_roc_score</th>\n",
       "      <th>f1_score_test</th>\n",
       "      <th>auc_roc_score_test</th>\n",
       "    </tr>\n",
       "  </thead>\n",
       "  <tbody>\n",
       "    <tr>\n",
       "      <td>5</td>\n",
       "      <td>Random Forest</td>\n",
       "      <td>7</td>\n",
       "      <td>17</td>\n",
       "      <td>class_weight</td>\n",
       "      <td>0.601078</td>\n",
       "      <td>0.830275</td>\n",
       "      <td>0.597285</td>\n",
       "      <td>0.85558</td>\n",
       "    </tr>\n",
       "  </tbody>\n",
       "</table>\n",
       "</div>"
      ],
      "text/plain": [
       "      model_type max_depth n_estimators  balance_type  f1_score  \\\n",
       "5  Random Forest         7           17  class_weight  0.601078   \n",
       "\n",
       "   auc_roc_score f1_score_test auc_roc_score_test  \n",
       "5       0.830275      0.597285            0.85558  "
      ]
     },
     "execution_count": 80,
     "metadata": {},
     "output_type": "execute_result"
    }
   ],
   "source": [
    "models_comparison[models_comparison['f1_score_test'] > 0.59]"
   ]
  },
  {
   "cell_type": "markdown",
   "metadata": {},
   "source": [
    "Победитель - модель типа \"случайный лес\" и стандратной балансировкой \"class_weight\" - изменением веса классов.\n",
    "\n",
    "Однако, поскольку мы здесь в первую очередь исследователи, посмотрим на то, как изменились значения показателей качества после тестирования."
   ]
  },
  {
   "cell_type": "markdown",
   "metadata": {},
   "source": [
    "### Сравнение валидационной и тестовой точности моделей"
   ]
  },
  {
   "cell_type": "code",
   "execution_count": 81,
   "metadata": {},
   "outputs": [
    {
     "data": {
      "text/html": [
       "<div>\n",
       "<style scoped>\n",
       "    .dataframe tbody tr th:only-of-type {\n",
       "        vertical-align: middle;\n",
       "    }\n",
       "\n",
       "    .dataframe tbody tr th {\n",
       "        vertical-align: top;\n",
       "    }\n",
       "\n",
       "    .dataframe thead th {\n",
       "        text-align: right;\n",
       "    }\n",
       "</style>\n",
       "<table border=\"1\" class=\"dataframe\">\n",
       "  <thead>\n",
       "    <tr style=\"text-align: right;\">\n",
       "      <th></th>\n",
       "      <th>model_name_balance_type</th>\n",
       "      <th>f1_score</th>\n",
       "      <th>auc_roc_score</th>\n",
       "      <th>f1_delta</th>\n",
       "      <th>auc_roc_delta</th>\n",
       "    </tr>\n",
       "  </thead>\n",
       "  <tbody>\n",
       "    <tr>\n",
       "      <td>0</td>\n",
       "      <td>Logistic regression (-)</td>\n",
       "      <td>0.329670</td>\n",
       "      <td>0.756852</td>\n",
       "      <td>-0.0623181</td>\n",
       "      <td>0.0014422</td>\n",
       "    </tr>\n",
       "    <tr>\n",
       "      <td>1</td>\n",
       "      <td>Decision Tree (-)</td>\n",
       "      <td>0.535774</td>\n",
       "      <td>0.752397</td>\n",
       "      <td>0.00126333</td>\n",
       "      <td>0.0430654</td>\n",
       "    </tr>\n",
       "    <tr>\n",
       "      <td>2</td>\n",
       "      <td>Random Forest (-)</td>\n",
       "      <td>0.578182</td>\n",
       "      <td>0.793588</td>\n",
       "      <td>-0.0114467</td>\n",
       "      <td>0.0304759</td>\n",
       "    </tr>\n",
       "    <tr>\n",
       "      <td>3</td>\n",
       "      <td>Logistic regression (class_weight)</td>\n",
       "      <td>0.493363</td>\n",
       "      <td>0.758790</td>\n",
       "      <td>-0.00371606</td>\n",
       "      <td>0.00689546</td>\n",
       "    </tr>\n",
       "    <tr>\n",
       "      <td>4</td>\n",
       "      <td>Decision Tree (class_weight)</td>\n",
       "      <td>0.545455</td>\n",
       "      <td>0.730038</td>\n",
       "      <td>0.002886</td>\n",
       "      <td>0.0399771</td>\n",
       "    </tr>\n",
       "    <tr>\n",
       "      <td>5</td>\n",
       "      <td>Random Forest (class_weight)</td>\n",
       "      <td>0.601078</td>\n",
       "      <td>0.830275</td>\n",
       "      <td>-0.0037931</td>\n",
       "      <td>0.0253044</td>\n",
       "    </tr>\n",
       "    <tr>\n",
       "      <td>6</td>\n",
       "      <td>Logistic regression (Downsampling)</td>\n",
       "      <td>0.503834</td>\n",
       "      <td>0.759156</td>\n",
       "      <td>-0.0235468</td>\n",
       "      <td>0.00384371</td>\n",
       "    </tr>\n",
       "    <tr>\n",
       "      <td>7</td>\n",
       "      <td>Decision Tree (Downsampling)</td>\n",
       "      <td>0.568502</td>\n",
       "      <td>0.803579</td>\n",
       "      <td>-0.0291761</td>\n",
       "      <td>0.015164</td>\n",
       "    </tr>\n",
       "    <tr>\n",
       "      <td>8</td>\n",
       "      <td>Random Forest (Downsampling)</td>\n",
       "      <td>0.596107</td>\n",
       "      <td>0.832392</td>\n",
       "      <td>-0.0160797</td>\n",
       "      <td>0.0195791</td>\n",
       "    </tr>\n",
       "    <tr>\n",
       "      <td>9</td>\n",
       "      <td>Logistic regression (Upsampling)</td>\n",
       "      <td>0.492274</td>\n",
       "      <td>0.758790</td>\n",
       "      <td>-0.000748307</td>\n",
       "      <td>0.00692689</td>\n",
       "    </tr>\n",
       "    <tr>\n",
       "      <td>10</td>\n",
       "      <td>Decision Tree (Upsampling)</td>\n",
       "      <td>0.538553</td>\n",
       "      <td>0.809220</td>\n",
       "      <td>0.0146387</td>\n",
       "      <td>0.0235271</td>\n",
       "    </tr>\n",
       "    <tr>\n",
       "      <td>11</td>\n",
       "      <td>Random Forest (Upsampling)</td>\n",
       "      <td>0.607261</td>\n",
       "      <td>0.810793</td>\n",
       "      <td>-0.0194604</td>\n",
       "      <td>0.0330793</td>\n",
       "    </tr>\n",
       "  </tbody>\n",
       "</table>\n",
       "</div>"
      ],
      "text/plain": [
       "               model_name_balance_type  f1_score  auc_roc_score     f1_delta  \\\n",
       "0              Logistic regression (-)  0.329670       0.756852   -0.0623181   \n",
       "1                    Decision Tree (-)  0.535774       0.752397   0.00126333   \n",
       "2                    Random Forest (-)  0.578182       0.793588   -0.0114467   \n",
       "3   Logistic regression (class_weight)  0.493363       0.758790  -0.00371606   \n",
       "4         Decision Tree (class_weight)  0.545455       0.730038     0.002886   \n",
       "5         Random Forest (class_weight)  0.601078       0.830275   -0.0037931   \n",
       "6   Logistic regression (Downsampling)  0.503834       0.759156   -0.0235468   \n",
       "7         Decision Tree (Downsampling)  0.568502       0.803579   -0.0291761   \n",
       "8         Random Forest (Downsampling)  0.596107       0.832392   -0.0160797   \n",
       "9     Logistic regression (Upsampling)  0.492274       0.758790 -0.000748307   \n",
       "10          Decision Tree (Upsampling)  0.538553       0.809220    0.0146387   \n",
       "11          Random Forest (Upsampling)  0.607261       0.810793   -0.0194604   \n",
       "\n",
       "   auc_roc_delta  \n",
       "0      0.0014422  \n",
       "1      0.0430654  \n",
       "2      0.0304759  \n",
       "3     0.00689546  \n",
       "4      0.0399771  \n",
       "5      0.0253044  \n",
       "6     0.00384371  \n",
       "7       0.015164  \n",
       "8      0.0195791  \n",
       "9     0.00692689  \n",
       "10     0.0235271  \n",
       "11     0.0330793  "
      ]
     },
     "execution_count": 81,
     "metadata": {},
     "output_type": "execute_result"
    }
   ],
   "source": [
    "models_comparison_test = pd.DataFrame()\n",
    "models_comparison_test['model_name_balance_type'] = (models_comparison['model_type'] \n",
    "                                                     + \" (\" + models_comparison['balance_type'] + \")\")\n",
    "\n",
    "models_comparison_test['f1_score'] = models_comparison['f1_score']\n",
    "models_comparison_test['auc_roc_score'] = models_comparison['auc_roc_score']\n",
    "\n",
    "models_comparison_test['f1_delta'] = models_comparison['f1_score_test'] - models_comparison['f1_score']\n",
    "models_comparison_test['auc_roc_delta'] = models_comparison['auc_roc_score_test'] - models_comparison['auc_roc_score'] \n",
    "\n",
    "models_comparison_test"
   ]
  },
  {
   "cell_type": "code",
   "execution_count": 82,
   "metadata": {},
   "outputs": [
    {
     "data": {
      "text/plain": [
       "([0, 1, 2, 3, 4, 5, 6, 7, 8, 9, 10, 11],\n",
       " <a list of 12 Text xticklabel objects>)"
      ]
     },
     "execution_count": 82,
     "metadata": {},
     "output_type": "execute_result"
    },
    {
     "data": {
      "image/png": "[encoded data removed]",
      "text/plain": [
       "<Figure size 720x432 with 1 Axes>"
      ]
     },
     "metadata": {
      "needs_background": "light"
     },
     "output_type": "display_data"
    }
   ],
   "source": [
    "plt.figure(figsize=(10, 6))\n",
    "plt.bar(models_comparison_test['model_name_balance_type'], models_comparison_test['f1_delta'],color = \"green\")\n",
    "plt.xticks(rotation=90)"
   ]
  },
  {
   "cell_type": "markdown",
   "metadata": {},
   "source": [
    "На тестовой выборке, практически повсеместно наблюдается падение показателя F1-меры. История с решающим деревом + АПсамплингом - скорее исключение, чем правило."
   ]
  },
  {
   "cell_type": "code",
   "execution_count": 83,
   "metadata": {},
   "outputs": [
    {
     "data": {
      "text/plain": [
       "([0, 1, 2, 3, 4, 5, 6, 7, 8, 9, 10, 11],\n",
       " <a list of 12 Text xticklabel objects>)"
      ]
     },
     "execution_count": 83,
     "metadata": {},
     "output_type": "execute_result"
    },
    {
     "data": {
      "image/png": "[encoded data removed]",
      "text/plain": [
       "<Figure size 720x432 with 1 Axes>"
      ]
     },
     "metadata": {
      "needs_background": "light"
     },
     "output_type": "display_data"
    }
   ],
   "source": [
    "plt.figure(figsize=(10, 6))\n",
    "plt.bar(models_comparison_test['model_name_balance_type'], models_comparison_test['auc_roc_delta'],color = \"yellow\")\n",
    "plt.xticks(rotation=90)"
   ]
  },
  {
   "cell_type": "markdown",
   "metadata": {},
   "source": [
    "Напротив, для показателя AUC-ROC наблюдается прирост во всех без исключения случаях."
   ]
  },
  {
   "cell_type": "markdown",
   "metadata": {},
   "source": [
    "## 5. Выводы\n",
    "\n",
    "1. Наибольшее значение F1-меры (на тестовой выборке) получено для модели \"случайного леса\" из 17 \"деревьев\" глубиной 7 и балансировкой целевых признаков по весу. Этой модели также соответствует наибольшее значение AUC-ROC (на тестовой выборке).\n",
    "2. В целом, наилучшие значения по показателям качества получены для моделей \"случайного леса\". Наихудшие - для моделей логистической регрессии. Это не значит, что модели лог.рег. \"не работают\". Просто в нашем случае они \"не подошли\". Наверняка, они могут использоваться для не менее эффективного решения других задач.\n",
    "3. В большинстве случаев, балансировка классов позволяет повысить значения целевых показателей качества. Тем не менее, в ряде случаев (особенно при относительно небольшом объеме обучающих данных), некоторые способы (например, даунсамплинг) могут приводить к снижению рассматриваемых показателей."
   ]
  },
  {
   "cell_type": "code",
   "execution_count": 84,
   "metadata": {},
   "outputs": [
    {
     "data": {
      "text/html": [
       "<div>\n",
       "<style scoped>\n",
       "    .dataframe tbody tr th:only-of-type {\n",
       "        vertical-align: middle;\n",
       "    }\n",
       "\n",
       "    .dataframe tbody tr th {\n",
       "        vertical-align: top;\n",
       "    }\n",
       "\n",
       "    .dataframe thead th {\n",
       "        text-align: right;\n",
       "    }\n",
       "</style>\n",
       "<table border=\"1\" class=\"dataframe\">\n",
       "  <thead>\n",
       "    <tr style=\"text-align: right;\">\n",
       "      <th></th>\n",
       "      <th>model_type</th>\n",
       "      <th>max_depth</th>\n",
       "      <th>n_estimators</th>\n",
       "      <th>balance_type</th>\n",
       "      <th>f1_score</th>\n",
       "      <th>auc_roc_score</th>\n",
       "      <th>f1_score_test</th>\n",
       "      <th>auc_roc_score_test</th>\n",
       "    </tr>\n",
       "  </thead>\n",
       "  <tbody>\n",
       "    <tr>\n",
       "      <td>5</td>\n",
       "      <td>Random Forest</td>\n",
       "      <td>7</td>\n",
       "      <td>17</td>\n",
       "      <td>class_weight</td>\n",
       "      <td>0.601078</td>\n",
       "      <td>0.830275</td>\n",
       "      <td>0.597285</td>\n",
       "      <td>0.85558</td>\n",
       "    </tr>\n",
       "  </tbody>\n",
       "</table>\n",
       "</div>"
      ],
      "text/plain": [
       "      model_type max_depth n_estimators  balance_type  f1_score  \\\n",
       "5  Random Forest         7           17  class_weight  0.601078   \n",
       "\n",
       "   auc_roc_score f1_score_test auc_roc_score_test  \n",
       "5       0.830275      0.597285            0.85558  "
      ]
     },
     "execution_count": 84,
     "metadata": {},
     "output_type": "execute_result"
    }
   ],
   "source": [
    "models_comparison[models_comparison['f1_score_test'] > 0.59]"
   ]
  },
  {
   "cell_type": "code",
   "execution_count": null,
   "metadata": {},
   "outputs": [],
   "source": []
  }
 ],
 "metadata": {
  "kernelspec": {
   "display_name": "Python 3",
   "language": "python",
   "name": "python3"
  },
  "language_info": {
   "codemirror_mode": {
    "name": "ipython",
    "version": 3
   },
   "file_extension": ".py",
   "mimetype": "text/x-python",
   "name": "python",
   "nbconvert_exporter": "python",
   "pygments_lexer": "ipython3",
   "version": "3.8.3"
  }
 },
 "nbformat": 4,
 "nbformat_minor": 2
}
