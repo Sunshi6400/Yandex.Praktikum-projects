{
 "cells": [
  {
   "cell_type": "markdown",
   "metadata": {},
   "source": [
    "# Оценка перспективности региона разработки нефтяных месторождений"
   ]
  },
  {
   "cell_type": "markdown",
   "metadata": {},
   "source": [
    "## Цель проекта:\n",
    "\n",
    "Оценить перспективность разработки месторождений в одном из 3 представленных регионов, основываясь на показателях средней прибыли и вероятности возникновения убытков.\n",
    "\n",
    "Импортируем библиотеки и посмотрим на имеющиеся у нас данные."
   ]
  },
  {
   "cell_type": "markdown",
   "metadata": {},
   "source": [
    "### Библиотеки"
   ]
  },
  {
   "cell_type": "code",
   "execution_count": 1,
   "metadata": {},
   "outputs": [],
   "source": [
    "import pandas as pd\n",
    "import math\n",
    "import numpy as np\n",
    "from matplotlib import pyplot as plt\n",
    "from scipy import stats as st\n",
    "\n",
    "from sklearn.model_selection import train_test_split\n",
    "from sklearn.metrics import mean_squared_error\n",
    "\n",
    "from sklearn.linear_model import LinearRegression"
   ]
  },
  {
   "cell_type": "markdown",
   "metadata": {},
   "source": [
    "# 1. Загрузка и подготовка данных"
   ]
  },
  {
   "cell_type": "markdown",
   "metadata": {},
   "source": [
    "Несмотря на знакомые (и даже близкие сердцу показатели - прибыль, модель машинного обучение, бюджет и т.д.), пути решения задачи для меня не очевидны. Поэтому, в первую очередь, посмотрим на имеющиеся данные и подумаем, как и какими способами мы можем с ними справиться."
   ]
  },
  {
   "cell_type": "code",
   "execution_count": 2,
   "metadata": {},
   "outputs": [
    {
     "data": {
      "text/html": [
       "<div>\n",
       "<style scoped>\n",
       "    .dataframe tbody tr th:only-of-type {\n",
       "        vertical-align: middle;\n",
       "    }\n",
       "\n",
       "    .dataframe tbody tr th {\n",
       "        vertical-align: top;\n",
       "    }\n",
       "\n",
       "    .dataframe thead th {\n",
       "        text-align: right;\n",
       "    }\n",
       "</style>\n",
       "<table border=\"1\" class=\"dataframe\">\n",
       "  <thead>\n",
       "    <tr style=\"text-align: right;\">\n",
       "      <th></th>\n",
       "      <th>id</th>\n",
       "      <th>f0</th>\n",
       "      <th>f1</th>\n",
       "      <th>f2</th>\n",
       "      <th>product</th>\n",
       "    </tr>\n",
       "  </thead>\n",
       "  <tbody>\n",
       "    <tr>\n",
       "      <td>0</td>\n",
       "      <td>txEyH</td>\n",
       "      <td>0.705745</td>\n",
       "      <td>-0.497823</td>\n",
       "      <td>1.221170</td>\n",
       "      <td>105.280062</td>\n",
       "    </tr>\n",
       "    <tr>\n",
       "      <td>1</td>\n",
       "      <td>2acmU</td>\n",
       "      <td>1.334711</td>\n",
       "      <td>-0.340164</td>\n",
       "      <td>4.365080</td>\n",
       "      <td>73.037750</td>\n",
       "    </tr>\n",
       "    <tr>\n",
       "      <td>2</td>\n",
       "      <td>409Wp</td>\n",
       "      <td>1.022732</td>\n",
       "      <td>0.151990</td>\n",
       "      <td>1.419926</td>\n",
       "      <td>85.265647</td>\n",
       "    </tr>\n",
       "    <tr>\n",
       "      <td>3</td>\n",
       "      <td>iJLyR</td>\n",
       "      <td>-0.032172</td>\n",
       "      <td>0.139033</td>\n",
       "      <td>2.978566</td>\n",
       "      <td>168.620776</td>\n",
       "    </tr>\n",
       "    <tr>\n",
       "      <td>4</td>\n",
       "      <td>Xdl7t</td>\n",
       "      <td>1.988431</td>\n",
       "      <td>0.155413</td>\n",
       "      <td>4.751769</td>\n",
       "      <td>154.036647</td>\n",
       "    </tr>\n",
       "  </tbody>\n",
       "</table>\n",
       "</div>"
      ],
      "text/plain": [
       "      id        f0        f1        f2     product\n",
       "0  txEyH  0.705745 -0.497823  1.221170  105.280062\n",
       "1  2acmU  1.334711 -0.340164  4.365080   73.037750\n",
       "2  409Wp  1.022732  0.151990  1.419926   85.265647\n",
       "3  iJLyR -0.032172  0.139033  2.978566  168.620776\n",
       "4  Xdl7t  1.988431  0.155413  4.751769  154.036647"
      ]
     },
     "execution_count": 2,
     "metadata": {},
     "output_type": "execute_result"
    }
   ],
   "source": [
    "oil_field_0 = pd.read_csv('/datasets/geo_data_0.csv')\n",
    "oil_field_0.head()"
   ]
  },
  {
   "cell_type": "code",
   "execution_count": 3,
   "metadata": {},
   "outputs": [
    {
     "data": {
      "text/html": [
       "<div>\n",
       "<style scoped>\n",
       "    .dataframe tbody tr th:only-of-type {\n",
       "        vertical-align: middle;\n",
       "    }\n",
       "\n",
       "    .dataframe tbody tr th {\n",
       "        vertical-align: top;\n",
       "    }\n",
       "\n",
       "    .dataframe thead th {\n",
       "        text-align: right;\n",
       "    }\n",
       "</style>\n",
       "<table border=\"1\" class=\"dataframe\">\n",
       "  <thead>\n",
       "    <tr style=\"text-align: right;\">\n",
       "      <th></th>\n",
       "      <th>id</th>\n",
       "      <th>f0</th>\n",
       "      <th>f1</th>\n",
       "      <th>f2</th>\n",
       "      <th>product</th>\n",
       "    </tr>\n",
       "  </thead>\n",
       "  <tbody>\n",
       "    <tr>\n",
       "      <td>0</td>\n",
       "      <td>kBEdx</td>\n",
       "      <td>-15.001348</td>\n",
       "      <td>-8.276000</td>\n",
       "      <td>-0.005876</td>\n",
       "      <td>3.179103</td>\n",
       "    </tr>\n",
       "    <tr>\n",
       "      <td>1</td>\n",
       "      <td>62mP7</td>\n",
       "      <td>14.272088</td>\n",
       "      <td>-3.475083</td>\n",
       "      <td>0.999183</td>\n",
       "      <td>26.953261</td>\n",
       "    </tr>\n",
       "    <tr>\n",
       "      <td>2</td>\n",
       "      <td>vyE1P</td>\n",
       "      <td>6.263187</td>\n",
       "      <td>-5.948386</td>\n",
       "      <td>5.001160</td>\n",
       "      <td>134.766305</td>\n",
       "    </tr>\n",
       "    <tr>\n",
       "      <td>3</td>\n",
       "      <td>KcrkZ</td>\n",
       "      <td>-13.081196</td>\n",
       "      <td>-11.506057</td>\n",
       "      <td>4.999415</td>\n",
       "      <td>137.945408</td>\n",
       "    </tr>\n",
       "    <tr>\n",
       "      <td>4</td>\n",
       "      <td>AHL4O</td>\n",
       "      <td>12.702195</td>\n",
       "      <td>-8.147433</td>\n",
       "      <td>5.004363</td>\n",
       "      <td>134.766305</td>\n",
       "    </tr>\n",
       "  </tbody>\n",
       "</table>\n",
       "</div>"
      ],
      "text/plain": [
       "      id         f0         f1        f2     product\n",
       "0  kBEdx -15.001348  -8.276000 -0.005876    3.179103\n",
       "1  62mP7  14.272088  -3.475083  0.999183   26.953261\n",
       "2  vyE1P   6.263187  -5.948386  5.001160  134.766305\n",
       "3  KcrkZ -13.081196 -11.506057  4.999415  137.945408\n",
       "4  AHL4O  12.702195  -8.147433  5.004363  134.766305"
      ]
     },
     "execution_count": 3,
     "metadata": {},
     "output_type": "execute_result"
    }
   ],
   "source": [
    "oil_field_1 = pd.read_csv('/datasets/geo_data_1.csv')\n",
    "oil_field_1.head()"
   ]
  },
  {
   "cell_type": "code",
   "execution_count": 4,
   "metadata": {},
   "outputs": [
    {
     "data": {
      "text/html": [
       "<div>\n",
       "<style scoped>\n",
       "    .dataframe tbody tr th:only-of-type {\n",
       "        vertical-align: middle;\n",
       "    }\n",
       "\n",
       "    .dataframe tbody tr th {\n",
       "        vertical-align: top;\n",
       "    }\n",
       "\n",
       "    .dataframe thead th {\n",
       "        text-align: right;\n",
       "    }\n",
       "</style>\n",
       "<table border=\"1\" class=\"dataframe\">\n",
       "  <thead>\n",
       "    <tr style=\"text-align: right;\">\n",
       "      <th></th>\n",
       "      <th>id</th>\n",
       "      <th>f0</th>\n",
       "      <th>f1</th>\n",
       "      <th>f2</th>\n",
       "      <th>product</th>\n",
       "    </tr>\n",
       "  </thead>\n",
       "  <tbody>\n",
       "    <tr>\n",
       "      <td>0</td>\n",
       "      <td>fwXo0</td>\n",
       "      <td>-1.146987</td>\n",
       "      <td>0.963328</td>\n",
       "      <td>-0.828965</td>\n",
       "      <td>27.758673</td>\n",
       "    </tr>\n",
       "    <tr>\n",
       "      <td>1</td>\n",
       "      <td>WJtFt</td>\n",
       "      <td>0.262778</td>\n",
       "      <td>0.269839</td>\n",
       "      <td>-2.530187</td>\n",
       "      <td>56.069697</td>\n",
       "    </tr>\n",
       "    <tr>\n",
       "      <td>2</td>\n",
       "      <td>ovLUW</td>\n",
       "      <td>0.194587</td>\n",
       "      <td>0.289035</td>\n",
       "      <td>-5.586433</td>\n",
       "      <td>62.871910</td>\n",
       "    </tr>\n",
       "    <tr>\n",
       "      <td>3</td>\n",
       "      <td>q6cA6</td>\n",
       "      <td>2.236060</td>\n",
       "      <td>-0.553760</td>\n",
       "      <td>0.930038</td>\n",
       "      <td>114.572842</td>\n",
       "    </tr>\n",
       "    <tr>\n",
       "      <td>4</td>\n",
       "      <td>WPMUX</td>\n",
       "      <td>-0.515993</td>\n",
       "      <td>1.716266</td>\n",
       "      <td>5.899011</td>\n",
       "      <td>149.600746</td>\n",
       "    </tr>\n",
       "  </tbody>\n",
       "</table>\n",
       "</div>"
      ],
      "text/plain": [
       "      id        f0        f1        f2     product\n",
       "0  fwXo0 -1.146987  0.963328 -0.828965   27.758673\n",
       "1  WJtFt  0.262778  0.269839 -2.530187   56.069697\n",
       "2  ovLUW  0.194587  0.289035 -5.586433   62.871910\n",
       "3  q6cA6  2.236060 -0.553760  0.930038  114.572842\n",
       "4  WPMUX -0.515993  1.716266  5.899011  149.600746"
      ]
     },
     "execution_count": 4,
     "metadata": {},
     "output_type": "execute_result"
    }
   ],
   "source": [
    "oil_field_2 = pd.read_csv('/datasets/geo_data_2.csv')\n",
    "oil_field_2.head()"
   ]
  },
  {
   "cell_type": "markdown",
   "metadata": {},
   "source": [
    "Первое, на что стоит обратить внимание - столбец с ID-наименованием скважины. В нашем проекте данный столбец не имеет смысла, т.к. нам необходимо осуществить именно СТАТИСТИЧЕСКОЕ определение лучшего региона для \"развития\". Поэтому \"точное название\" месторождений нас не особо интересует. Удалим данный столбец из всех имеющихся датасетов."
   ]
  },
  {
   "cell_type": "code",
   "execution_count": 5,
   "metadata": {},
   "outputs": [
    {
     "name": "stdout",
     "output_type": "stream",
     "text": [
      "(100000, 4)\n",
      "(100000, 4)\n",
      "(100000, 4)\n"
     ]
    }
   ],
   "source": [
    "oil_field_0_clean = oil_field_0.drop(['id'], axis = 1)\n",
    "oil_field_1_clean = oil_field_1.drop(['id'], axis = 1)\n",
    "oil_field_2_clean = oil_field_2.drop(['id'], axis = 1)\n",
    "\n",
    "print(oil_field_0_clean.shape)\n",
    "print(oil_field_1_clean.shape)\n",
    "print(oil_field_2_clean.shape)"
   ]
  },
  {
   "cell_type": "markdown",
   "metadata": {},
   "source": [
    "Столбца больше нет нигде, продолжаем. Также проверим данные на наличие пропусков и характер распределения имеющихся значений."
   ]
  },
  {
   "cell_type": "code",
   "execution_count": 6,
   "metadata": {},
   "outputs": [
    {
     "name": "stdout",
     "output_type": "stream",
     "text": [
      "<class 'pandas.core.frame.DataFrame'>\n",
      "RangeIndex: 100000 entries, 0 to 99999\n",
      "Data columns (total 4 columns):\n",
      "f0         100000 non-null float64\n",
      "f1         100000 non-null float64\n",
      "f2         100000 non-null float64\n",
      "product    100000 non-null float64\n",
      "dtypes: float64(4)\n",
      "memory usage: 3.1 MB\n"
     ]
    }
   ],
   "source": [
    "oil_field_0_clean.info()"
   ]
  },
  {
   "cell_type": "code",
   "execution_count": 7,
   "metadata": {},
   "outputs": [
    {
     "name": "stdout",
     "output_type": "stream",
     "text": [
      "<class 'pandas.core.frame.DataFrame'>\n",
      "RangeIndex: 100000 entries, 0 to 99999\n",
      "Data columns (total 4 columns):\n",
      "f0         100000 non-null float64\n",
      "f1         100000 non-null float64\n",
      "f2         100000 non-null float64\n",
      "product    100000 non-null float64\n",
      "dtypes: float64(4)\n",
      "memory usage: 3.1 MB\n"
     ]
    }
   ],
   "source": [
    "oil_field_1_clean.info()"
   ]
  },
  {
   "cell_type": "code",
   "execution_count": 8,
   "metadata": {},
   "outputs": [
    {
     "name": "stdout",
     "output_type": "stream",
     "text": [
      "<class 'pandas.core.frame.DataFrame'>\n",
      "RangeIndex: 100000 entries, 0 to 99999\n",
      "Data columns (total 4 columns):\n",
      "f0         100000 non-null float64\n",
      "f1         100000 non-null float64\n",
      "f2         100000 non-null float64\n",
      "product    100000 non-null float64\n",
      "dtypes: float64(4)\n",
      "memory usage: 3.1 MB\n"
     ]
    }
   ],
   "source": [
    "oil_field_2_clean.info()"
   ]
  },
  {
   "cell_type": "markdown",
   "metadata": {},
   "source": [
    "Пропусков в объектах нет. Строим кривую распределения для различных параметров."
   ]
  },
  {
   "cell_type": "code",
   "execution_count": 9,
   "metadata": {},
   "outputs": [
    {
     "name": "stdout",
     "output_type": "stream",
     "text": [
      "-1.4086053060269959 2.3623308108542243\n",
      "-31.60957601916769 29.42175461390372\n",
      "-8.760003624213763 7.23826247979405\n"
     ]
    }
   ],
   "source": [
    "def stat_values(data):\n",
    "    print(data.min(), data.max())\n",
    "\n",
    "stat_values(oil_field_0_clean['f0'])\n",
    "stat_values(oil_field_1_clean['f0'])\n",
    "stat_values(oil_field_2_clean['f0'])"
   ]
  },
  {
   "cell_type": "code",
   "execution_count": 10,
   "metadata": {},
   "outputs": [
    {
     "data": {
      "text/plain": [
       "<matplotlib.legend.Legend at 0x7f8ef187b5d0>"
      ]
     },
     "execution_count": 10,
     "metadata": {},
     "output_type": "execute_result"
    },
    {
     "data": {
      "image/png": "[encoded data removed]",
      "text/plain": [
       "<Figure size 1152x576 with 1 Axes>"
      ]
     },
     "metadata": {
      "needs_background": "light"
     },
     "output_type": "display_data"
    }
   ],
   "source": [
    "plt.figure(figsize=(16, 8))\n",
    "plt.hist(oil_field_0_clean['f0'], bins = 62, range = (-32,30), alpha = 0.5, log = True)\n",
    "plt.hist(oil_field_1_clean['f0'], bins = 62, range = (-32,30), alpha = 0.5, log = True)\n",
    "plt.hist(oil_field_2_clean['f0'], bins = 62, range = (-32,30), alpha = 0.5, log = True)\n",
    "plt.legend(['Месторождение №0', 'Месторождение №1', 'Месторождение №2'])"
   ]
  },
  {
   "cell_type": "markdown",
   "metadata": {},
   "source": [
    "Диапазон варьирования параметра №0 существенно различается в зависимости от номера месторождения. Посмотрим на распределения других базовых параметров."
   ]
  },
  {
   "cell_type": "code",
   "execution_count": 11,
   "metadata": {},
   "outputs": [
    {
     "data": {
      "text/plain": [
       "<matplotlib.legend.Legend at 0x7f8ef195f510>"
      ]
     },
     "execution_count": 11,
     "metadata": {},
     "output_type": "execute_result"
    },
    {
     "data": {
      "image/png": "[encoded data removed]",
      "text/plain": [
       "<Figure size 1152x576 with 1 Axes>"
      ]
     },
     "metadata": {
      "needs_background": "light"
     },
     "output_type": "display_data"
    }
   ],
   "source": [
    "plt.figure(figsize=(16, 8))\n",
    "plt.hist(oil_field_0_clean['f1'], bins = 50, range = (-30,20), alpha = 0.5, log = True)\n",
    "plt.hist(oil_field_1_clean['f1'], bins = 50, range = (-30,20), alpha = 0.5, log = True)\n",
    "plt.hist(oil_field_2_clean['f1'], bins = 50, range = (-30,20), alpha = 0.5, log = True)\n",
    "plt.legend(['Месторождение №0', 'Месторождение №1', 'Месторождение №2'])"
   ]
  },
  {
   "cell_type": "code",
   "execution_count": 12,
   "metadata": {},
   "outputs": [
    {
     "data": {
      "text/plain": [
       "<matplotlib.legend.Legend at 0x7f8eedd03ed0>"
      ]
     },
     "execution_count": 12,
     "metadata": {},
     "output_type": "execute_result"
    },
    {
     "data": {
      "image/png": "[encoded data removed]",
      "text/plain": [
       "<Figure size 1152x576 with 1 Axes>"
      ]
     },
     "metadata": {
      "needs_background": "light"
     },
     "output_type": "display_data"
    }
   ],
   "source": [
    "plt.figure(figsize=(16, 8))\n",
    "plt.hist(oil_field_0_clean['f2'], bins = 35, range = (-15,20), alpha = 0.5, log = True)\n",
    "plt.hist(oil_field_1_clean['f2'], bins = 35, range = (-15,20), alpha = 0.5, log = True)\n",
    "plt.hist(oil_field_2_clean['f2'], bins = 35, range = (-15,20), alpha = 0.5, log = True)\n",
    "plt.legend(['Месторождение №0', 'Месторождение №1', 'Месторождение №2'])"
   ]
  },
  {
   "cell_type": "markdown",
   "metadata": {},
   "source": [
    "Очевидно, что даже на основе \"входных\" признаков, местоположения \"существенно\" отличаются. Проверим распределение целового признака - запасов."
   ]
  },
  {
   "cell_type": "code",
   "execution_count": 13,
   "metadata": {},
   "outputs": [
    {
     "data": {
      "text/plain": [
       "<matplotlib.legend.Legend at 0x7f8eed590bd0>"
      ]
     },
     "execution_count": 13,
     "metadata": {},
     "output_type": "execute_result"
    },
    {
     "data": {
      "image/png": "[encoded data removed]",
      "text/plain": [
       "<Figure size 1152x576 with 1 Axes>"
      ]
     },
     "metadata": {
      "needs_background": "light"
     },
     "output_type": "display_data"
    }
   ],
   "source": [
    "plt.figure(figsize=(16, 8))\n",
    "plt.hist(oil_field_0_clean['product'], bins = 200, range = (0,200), alpha = 0.5)\n",
    "plt.hist(oil_field_1_clean['product'], bins = 200, range = (0,200), alpha = 0.5)\n",
    "plt.hist(oil_field_2_clean['product'], bins = 200, range = (0,200), alpha = 0.5)\n",
    "plt.legend(['Месторождение №0', 'Месторождение №1', 'Месторождение №2'])"
   ]
  },
  {
   "cell_type": "markdown",
   "metadata": {},
   "source": [
    "Распределение значений целевого признака в месторождениях №0 и №2 примерно одинаково - как по максимальному значению, так и по \"групповому\" распределению. На гистограмме можно выделить 6 \"пиковых\" значений, вокруг которых значения \"емкости месторождения\" распредлены нормально. Вероятно, человек разбирающийся в отрасли, даже сможет их как-то \"назвать\" и сделать некоторые выводы УЖЕ  на основании имеющихся данных.\n",
    "\n",
    "Значения целевого признака месторождения №1 выглядят \"нестандратно\". 12 групп - (0,1), ... (134,135) и (137,138). Вероятно, причины такого распределения связаны с различными способами расчета (получения) информации относительно запасов. Также, возможна ошибка при сборе данных. На данном этапе у нас нет возможности уточнить этот вопрос, поэтому - работаем с тем, что есть.\n",
    "\n",
    "\"Разрежем\" выборку на датасеты с признаками и целевым признаком. "
   ]
  },
  {
   "cell_type": "code",
   "execution_count": 14,
   "metadata": {},
   "outputs": [
    {
     "name": "stdout",
     "output_type": "stream",
     "text": [
      "(100000, 3)\n",
      "(100000,)\n"
     ]
    }
   ],
   "source": [
    "field_0_features = oil_field_0_clean.drop(['product'], axis = 1)\n",
    "field_1_features = oil_field_1_clean.drop(['product'], axis = 1)\n",
    "field_2_features = oil_field_2_clean.drop(['product'], axis = 1)\n",
    "\n",
    "field_0_target = oil_field_0_clean['product']\n",
    "field_1_target = oil_field_1_clean['product']\n",
    "field_2_target = oil_field_2_clean['product']\n",
    "\n",
    "print(field_0_features.shape)\n",
    "print(field_0_target.shape)"
   ]
  },
  {
   "cell_type": "markdown",
   "metadata": {},
   "source": [
    "# 2. Обучение и проверка модели\n",
    "\n",
    "Регионов 3, они одинаковы (в том смысле, что нет исходных причин для того, чтобы \"обучать\" по их данным различные модели ML). \n",
    "Нам потребуется функция, которая будет:\n",
    "1. Делить выборку на обучающую и валидационную\n",
    "2. Обучать модель\n",
    "3. Находить прогнозируемые значения целевого признака\n",
    "4. Найти расчетные значения - средний запас по месторождениям в регионе и rmse\n",
    "5. Добавить строчку с расчетными значениями и номером региона в таблицу\n",
    "\n",
    "В качестве входных данных функция будет получать 2 датасета, содержащих значения входных и целевого признаков, + наименование региона."
   ]
  },
  {
   "cell_type": "code",
   "execution_count": 15,
   "metadata": {},
   "outputs": [],
   "source": [
    "def oil_field_model_predict(features, target, field_name):\n",
    "    features_train, features_valid, target_train, target_valid = train_test_split(features, target,\n",
    "                                                                test_size = 0.25, random_state = 11111)\n",
    "    model_linreg = LinearRegression()\n",
    "    model_linreg.fit(features_train, target_train)\n",
    "    \n",
    "    predicted_valid = model_linreg.predict(features_valid)\n",
    "    rmse = mean_squared_error(target_valid, predicted_valid) ** 0.5\n",
    "    \n",
    "    mean_reserve = predicted_valid.mean()\n",
    "    \n",
    "    compar_table.loc[field_name ,'rmse'] = rmse\n",
    "    compar_table.loc[field_name ,'mean_reserve'] = mean_reserve\n",
    "    \n",
    "    return predicted_valid"
   ]
  },
  {
   "cell_type": "markdown",
   "metadata": {},
   "source": [
    "Создадим таблицу, в которую мы планируем добавлять интересующие нас расчетные параметры. И \"раскрутим\" нашу функцию трижды. "
   ]
  },
  {
   "cell_type": "code",
   "execution_count": 16,
   "metadata": {
    "scrolled": true
   },
   "outputs": [
    {
     "data": {
      "text/html": [
       "<div>\n",
       "<style scoped>\n",
       "    .dataframe tbody tr th:only-of-type {\n",
       "        vertical-align: middle;\n",
       "    }\n",
       "\n",
       "    .dataframe tbody tr th {\n",
       "        vertical-align: top;\n",
       "    }\n",
       "\n",
       "    .dataframe thead th {\n",
       "        text-align: right;\n",
       "    }\n",
       "</style>\n",
       "<table border=\"1\" class=\"dataframe\">\n",
       "  <thead>\n",
       "    <tr style=\"text-align: right;\">\n",
       "      <th></th>\n",
       "      <th>rmse</th>\n",
       "      <th>mean_reserve</th>\n",
       "    </tr>\n",
       "  </thead>\n",
       "  <tbody>\n",
       "    <tr>\n",
       "      <td>field_0</td>\n",
       "      <td>37.8013</td>\n",
       "      <td>92.6022</td>\n",
       "    </tr>\n",
       "    <tr>\n",
       "      <td>field_1</td>\n",
       "      <td>0.892881</td>\n",
       "      <td>69.4202</td>\n",
       "    </tr>\n",
       "    <tr>\n",
       "      <td>field_2</td>\n",
       "      <td>40.2343</td>\n",
       "      <td>94.935</td>\n",
       "    </tr>\n",
       "  </tbody>\n",
       "</table>\n",
       "</div>"
      ],
      "text/plain": [
       "             rmse mean_reserve\n",
       "field_0   37.8013      92.6022\n",
       "field_1  0.892881      69.4202\n",
       "field_2   40.2343       94.935"
      ]
     },
     "execution_count": 16,
     "metadata": {},
     "output_type": "execute_result"
    }
   ],
   "source": [
    "column = [\"rmse\", \"mean_reserve\"]\n",
    "compar_table = pd.DataFrame(columns = column)\n",
    "\n",
    "predicted_valid_0 = oil_field_model_predict(field_0_features, field_0_target, \"field_0\")\n",
    "predicted_valid_1 = oil_field_model_predict(field_1_features, field_1_target, \"field_1\")\n",
    "predicted_valid_2 = oil_field_model_predict(field_2_features, field_2_target, \"field_2\")\n",
    "compar_table"
   ]
  },
  {
   "cell_type": "markdown",
   "metadata": {},
   "source": [
    "Что мы получили?\n",
    "\n",
    "1. С точки зрения наибольших средних запасов, первое место с небольшим перевесом занимает регион №2, на втором месте - регион №0. Регион №1 \"не стоит и рядом\" - среднее значение запаса там гораздо ниже - почти на треть, по сравнению с \"лидерами\".\n",
    "2. А вот с точки зрения значений корня из среднеквадратической ошибки, наивысшая точность прогнозирования, напротив, у месторождений региона №1. Что мы и наблюдали ранее, когда анализировали распределение значений. В случае региона №1 это 12 групп, с диапазоном варьирования 1 тыс. баррелей, что существенно отличается от логики распределения запасов для регионов №0 и 2. Таким образом, различие в rmse, скорее указывает на расхождение и, возможно, ошибку в исходных данных, нежели на высокую точность прогнозирования. "
   ]
  },
  {
   "cell_type": "markdown",
   "metadata": {},
   "source": [
    "# 3. Подготовка к расчёту прибыли\n",
    "\n",
    "Что нам нужно знать для расчета прибыли?\n",
    "1. Цену бурения - 50 миллионов;\n",
    "2. Цена \"выбуренного\" барреля нефти - 4500 рублей;\n",
    "3. Число точек \"пробного\" бурения региона - 500 шт;\n",
    "4. Количество повторения - 1000 раз;\n",
    "5. Общий бюджет на разработку месторождений - 10 000 000 000 рублей (10 в 10й степени рублей)"
   ]
  },
  {
   "cell_type": "code",
   "execution_count": 17,
   "metadata": {},
   "outputs": [],
   "source": [
    "barrel_profit = 4500\n",
    "drill_price = 50000000\n",
    "bootstrap_size = 500\n",
    "bootstrap_number = 1000\n",
    "field_drill_budget = 10000000000\n",
    "max_drill_number = int(field_drill_budget / drill_price)"
   ]
  },
  {
   "cell_type": "markdown",
   "metadata": {},
   "source": [
    "Теперь нам необходимо подсчитать минимальный средний объём сырья в месторождениях региона, достаточный для его разработки. Поскольку разницы в стоимости барреля, цене разработки 1 месторождения и других параметров нет, данное значение будет общим для всех регионов. Эдакий, порог входа в регион. \n",
    "\n",
    "Минимальный средний объем сырья в месторождениях - тот, при котором мы не получаем ни выгоды, ни убытка - т.е. доход от месторождения должен полностью покрывать цену бурения в данной точке."
   ]
  },
  {
   "cell_type": "code",
   "execution_count": 18,
   "metadata": {},
   "outputs": [
    {
     "name": "stdout",
     "output_type": "stream",
     "text": [
      "Минимальный средний объем сырья в месторождения региона, достаточный для его разработки, составляет 11.112 тысяч баррелей.\n"
     ]
    }
   ],
   "source": [
    "min_mean_reserve = math.ceil(drill_price / barrel_profit)\n",
    "print(\"Минимальный средний объем сырья в месторождения региона, достаточный для его разработки, составляет\",\n",
    "      min_mean_reserve / 1000, \"тысяч баррелей.\")"
   ]
  },
  {
   "cell_type": "markdown",
   "metadata": {},
   "source": [
    "Пороговое значение \"выгодных\" месторождений есть, теперь напишем функцию для расчета прибыли.\n",
    "\n",
    "В условиях задачи есть дополнение \"по набору отобранных месторождений и предсказаний модели\", однако, я не совсем понимаю, как это сделать - поэтому функция просто будет рассчитывать прибыль. В дальнейшем, в качестве \"материала для работы\" воспользуемся датасетом предсказаний \"запасов\" по валидационным данным."
   ]
  },
  {
   "cell_type": "markdown",
   "metadata": {},
   "source": [
    "Итак, теперь всё стало предельно ясно. Помня про то, что у нас есть бюджет в 10 млрд. рублей (которого хватит на разработку 200 месторождений), мы может наконец нормально посчитать прибыль от разработки месторождений.\n",
    "1. Исследовали 500 точек (получили соотв. выборку)\n",
    "2. Из них выбираем 200 точек с наибольшим ПРОГНОЗНЫМ значением\n",
    "3. Прибыль рассчитываем же по РЕАЛЬНЫМ значениям запасов. Если по прогнозу запас равен 100 единицам, а в реальности - 10, то прибыль будет рассчитываться от 10 единиц, а не от 100. \n",
    "4. Добавляем полученное значение в массив и повторем это 1000 раз.\n",
    "\n",
    "Итого - массив на 1000 значений СУММАРНОЙ прибыли от 200 НАИЛУЧШИХ ПРОГНОЗНЫХ точек, рассчитанной по значениям РЕАЛЬНЫХ запасов."
   ]
  },
  {
   "cell_type": "code",
   "execution_count": 19,
   "metadata": {},
   "outputs": [],
   "source": [
    "def profit_calc(predicted_reserve_sample, target_reserve_sample):\n",
    "    probs = predicted_reserve_sample.sort_values(ascending = False)\n",
    "    probs_200 = probs[:200]\n",
    "    target_200 = target_reserve_sample[probs_200.index]\n",
    "    profit = target_200.sum() * barrel_profit * 1000 - field_drill_budget\n",
    "    \n",
    "    return profit"
   ]
  },
  {
   "cell_type": "markdown",
   "metadata": {},
   "source": [
    "Переходим к расчету распределения прибыли в каждом из представленных регионов. "
   ]
  },
  {
   "cell_type": "markdown",
   "metadata": {},
   "source": [
    "# 4. Расчёт прибыли и рисков "
   ]
  },
  {
   "cell_type": "code",
   "execution_count": 20,
   "metadata": {},
   "outputs": [],
   "source": [
    "state = np.random.RandomState(11111)\n",
    "\n",
    "def region_finder(reserve_data, target_data):\n",
    "    profit = []\n",
    "    \n",
    "    for i in range(bootstrap_number):\n",
    "        \n",
    "#         здесь определяем среднюю сумму заработка\n",
    "        probs = reserve_data.sample(n = bootstrap_size, replace = True, random_state = state)\n",
    "        profit.append(profit_calc(probs, target_data))\n",
    "             \n",
    "    return profit"
   ]
  },
  {
   "cell_type": "markdown",
   "metadata": {},
   "source": [
    "Функция готова. Реализуем её на примере имеющихся датасетов для 3 регионов и занесем полученные значения в итоговую таблицу."
   ]
  },
  {
   "cell_type": "code",
   "execution_count": 21,
   "metadata": {},
   "outputs": [],
   "source": [
    "final_table = pd.DataFrame(columns = ['mean_profit', 'loss_risk', 'q_2.5', 'q_97.5'])\n",
    "\n",
    "def final_table_fill(predicted_dataset, target_data, i):\n",
    "    \n",
    "    predicted_df = pd.Series(predicted_dataset)\n",
    "    profit_region = region_finder(predicted_df, target_data)\n",
    "    \n",
    "    profit_region_series = pd.Series(profit_region)\n",
    "    final_table.loc[i,'mean_profit'] = profit_region_series.mean()\n",
    "    \n",
    "    final_table.loc[i,'loss_risk'] = profit_region_series[profit_region_series < 0].count() * 100 / profit_region_series.count()\n",
    "    final_table.loc[i,'q_2.5'] = profit_region_series.quantile(0.025)\n",
    "    final_table.loc[i,'q_97.5'] = profit_region_series.quantile(0.975)\n",
    " \n",
    "        \n",
    "    return final_table"
   ]
  },
  {
   "cell_type": "code",
   "execution_count": 22,
   "metadata": {},
   "outputs": [
    {
     "name": "stdout",
     "output_type": "stream",
     "text": [
      "CPU times: user 6.73 s, sys: 0 ns, total: 6.73 s\n",
      "Wall time: 6.78 s\n"
     ]
    },
    {
     "data": {
      "text/html": [
       "<div>\n",
       "<style scoped>\n",
       "    .dataframe tbody tr th:only-of-type {\n",
       "        vertical-align: middle;\n",
       "    }\n",
       "\n",
       "    .dataframe tbody tr th {\n",
       "        vertical-align: top;\n",
       "    }\n",
       "\n",
       "    .dataframe thead th {\n",
       "        text-align: right;\n",
       "    }\n",
       "</style>\n",
       "<table border=\"1\" class=\"dataframe\">\n",
       "  <thead>\n",
       "    <tr style=\"text-align: right;\">\n",
       "      <th></th>\n",
       "      <th>mean_profit</th>\n",
       "      <th>loss_risk</th>\n",
       "      <th>q_2.5</th>\n",
       "      <th>q_97.5</th>\n",
       "    </tr>\n",
       "  </thead>\n",
       "  <tbody>\n",
       "    <tr>\n",
       "      <td>0</td>\n",
       "      <td>7.36674e+10</td>\n",
       "      <td>0</td>\n",
       "      <td>6.7795e+10</td>\n",
       "      <td>7.91447e+10</td>\n",
       "    </tr>\n",
       "    <tr>\n",
       "      <td>1</td>\n",
       "      <td>5.07918e+10</td>\n",
       "      <td>0</td>\n",
       "      <td>4.48833e+10</td>\n",
       "      <td>5.65077e+10</td>\n",
       "    </tr>\n",
       "    <tr>\n",
       "      <td>2</td>\n",
       "      <td>7.54449e+10</td>\n",
       "      <td>0</td>\n",
       "      <td>7.01555e+10</td>\n",
       "      <td>8.10501e+10</td>\n",
       "    </tr>\n",
       "  </tbody>\n",
       "</table>\n",
       "</div>"
      ],
      "text/plain": [
       "   mean_profit loss_risk        q_2.5       q_97.5\n",
       "0  7.36674e+10         0   6.7795e+10  7.91447e+10\n",
       "1  5.07918e+10         0  4.48833e+10  5.65077e+10\n",
       "2  7.54449e+10         0  7.01555e+10  8.10501e+10"
      ]
     },
     "execution_count": 22,
     "metadata": {},
     "output_type": "execute_result"
    }
   ],
   "source": [
    "%%time\n",
    "final_table_fill(predicted_valid_0, field_0_target, 0)\n",
    "final_table_fill(predicted_valid_1, field_1_target, 1)\n",
    "final_table_fill(predicted_valid_2, field_2_target, 2)"
   ]
  },
  {
   "cell_type": "markdown",
   "metadata": {},
   "source": [
    "## Выводы\n",
    "\n",
    "Согласно полученным значениям целевых показателей, дальнейшую разработку рекомендуется проводить в регионе №2. \n",
    "\n",
    "Это обусловлено большей средней выручкой на 200 разрабатываемых точек по сравнению со значениями, полученными для регионов 0 и 1. \n",
    "\n",
    "Риска возникновения убытков (статистически) для всех исследованных регионов нет."
   ]
  }
 ],
 "metadata": {
  "kernelspec": {
   "display_name": "Python 3",
   "language": "python",
   "name": "python3"
  },
  "language_info": {
   "codemirror_mode": {
    "name": "ipython",
    "version": 3
   },
   "file_extension": ".py",
   "mimetype": "text/x-python",
   "name": "python",
   "nbconvert_exporter": "python",
   "pygments_lexer": "ipython3",
   "version": "3.8.3"
  }
 },
 "nbformat": 4,
 "nbformat_minor": 2
}
